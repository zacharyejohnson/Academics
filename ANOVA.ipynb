{
 "cells": [
  {
   "cell_type": "code",
   "execution_count": 1,
   "id": "e5f74cde",
   "metadata": {},
   "outputs": [],
   "source": [
    "from scipy.stats import f as f_dist\n",
    "import numpy as np\n"
   ]
  },
  {
   "cell_type": "markdown",
   "id": "7a891447",
   "metadata": {},
   "source": [
    "# Funtions to get sum squares between and within. ANOVA relies on this "
   ]
  },
  {
   "cell_type": "code",
   "execution_count": 15,
   "id": "ae29a7a8",
   "metadata": {},
   "outputs": [],
   "source": [
    "def SSW(*args):\n",
    "    args = [arg for arg in args]\n",
    "    ssw = 0\n",
    "    for arg in args: \n",
    "        group_mean = np.mean(arg)\n",
    "        val = np.sum((arg - group_mean)**2)\n",
    "        ssw += val\n",
    "    return ssw\n",
    "\n",
    "def SSB(args):\n",
    "    args = [arg for arg in args]\n",
    "    ssb = 0\n",
    "    alldata = np.concatenate(args)\n",
    "    grand_mean = np.mean(alldata)\n",
    "    for arg in args: \n",
    "        group_mean = np.mean(arg)\n",
    "        n = len(arg)\n",
    "        val = n*((group_mean - grand_mean)**2)\n",
    "        ssb += val\n",
    "\n",
    "    return ssb"
   ]
  },
  {
   "cell_type": "markdown",
   "id": "89f27673",
   "metadata": {},
   "source": [
    "# SSB FUNTION NOT WORKING; NOT SURE WHY "
   ]
  },
  {
   "cell_type": "code",
   "execution_count": 3,
   "id": "4c28b139",
   "metadata": {},
   "outputs": [],
   "source": [
    "# test runs - same means\n",
    "data1 = np.random.normal(size=20)\n",
    "data2 = np.random.normal(size=20)\n",
    "data3 = np.random.normal(size=20)"
   ]
  },
  {
   "cell_type": "code",
   "execution_count": 4,
   "id": "37abc6f7",
   "metadata": {},
   "outputs": [],
   "source": [
    "# different means\n",
    "d1 = np.random.normal(loc = 10, size=100)\n",
    "d2 = np.random.normal(loc = 3, size=100)\n",
    "d3 = np.random.normal(loc = 2, size=100)"
   ]
  },
  {
   "cell_type": "code",
   "execution_count": 17,
   "id": "00513dbe",
   "metadata": {},
   "outputs": [
    {
     "ename": "TypeError",
     "evalue": "SSB() takes 1 positional argument but 3 were given",
     "output_type": "error",
     "traceback": [
      "\u001b[1;31m---------------------------------------------------------------------------\u001b[0m",
      "\u001b[1;31mTypeError\u001b[0m                                 Traceback (most recent call last)",
      "\u001b[1;32m<ipython-input-17-c02f06999ec6>\u001b[0m in \u001b[0;36m<module>\u001b[1;34m\u001b[0m\n\u001b[1;32m----> 1\u001b[1;33m \u001b[0mSSB\u001b[0m\u001b[1;33m(\u001b[0m\u001b[0mdata1\u001b[0m\u001b[1;33m,\u001b[0m \u001b[0mdata2\u001b[0m\u001b[1;33m,\u001b[0m \u001b[0mdata3\u001b[0m\u001b[1;33m)\u001b[0m\u001b[1;33m\u001b[0m\u001b[1;33m\u001b[0m\u001b[0m\n\u001b[0m",
      "\u001b[1;31mTypeError\u001b[0m: SSB() takes 1 positional argument but 3 were given"
     ]
    }
   ],
   "source": [
    "SSB(data1, data2, data3)"
   ]
  },
  {
   "cell_type": "code",
   "execution_count": 6,
   "id": "5b7effad",
   "metadata": {},
   "outputs": [
    {
     "data": {
      "text/plain": [
       "3959.4356179585384"
      ]
     },
     "execution_count": 6,
     "metadata": {},
     "output_type": "execute_result"
    }
   ],
   "source": [
    "SSB(d1, d2, d3)"
   ]
  },
  {
   "cell_type": "markdown",
   "id": "0a520765",
   "metadata": {},
   "source": [
    "## When args are passed as an array(as in anova funtion), SSB is not working. But SSW is. "
   ]
  },
  {
   "cell_type": "code",
   "execution_count": 20,
   "id": "2fea2e54",
   "metadata": {},
   "outputs": [
    {
     "data": {
      "text/plain": [
       "2.8318547473545017"
      ]
     },
     "execution_count": 20,
     "metadata": {},
     "output_type": "execute_result"
    }
   ],
   "source": [
    "args = [data1, data2, data3]\n",
    "args2 = [d1, d2, d3]\n",
    "SSB(args)"
   ]
  },
  {
   "cell_type": "markdown",
   "id": "591e3584",
   "metadata": {},
   "source": [
    "Why is is returning 0? "
   ]
  },
  {
   "cell_type": "code",
   "execution_count": 8,
   "id": "07d215c7",
   "metadata": {},
   "outputs": [
    {
     "data": {
      "text/plain": [
       "0.0"
      ]
     },
     "execution_count": 8,
     "metadata": {},
     "output_type": "execute_result"
    }
   ],
   "source": [
    "SSB(args2)"
   ]
  },
  {
   "cell_type": "code",
   "execution_count": 9,
   "id": "63a289a5",
   "metadata": {},
   "outputs": [
    {
     "data": {
      "text/plain": [
       "71.1333679385674"
      ]
     },
     "execution_count": 9,
     "metadata": {},
     "output_type": "execute_result"
    }
   ],
   "source": [
    "SSW(args)"
   ]
  },
  {
   "cell_type": "code",
   "execution_count": 10,
   "id": "db008c15",
   "metadata": {},
   "outputs": [
    {
     "data": {
      "text/plain": [
       "4272.397359957094"
      ]
     },
     "execution_count": 10,
     "metadata": {},
     "output_type": "execute_result"
    }
   ],
   "source": [
    "SSW(args2)"
   ]
  },
  {
   "cell_type": "code",
   "execution_count": 11,
   "id": "eb5f4f31",
   "metadata": {},
   "outputs": [],
   "source": [
    "def get_sum_square_stats(*args): \n",
    "    \"\"\"\n",
    "    Parameters\n",
    "    ----------------------\n",
    "    args: array-like\n",
    "        list of groups to be analyzed. \n",
    "        \n",
    "    Returns\n",
    "    ------------------\n",
    "    ssw: float\n",
    "        Sum-of-squares within the arguments. Tells us how much of the variation\n",
    "        is due to within-argument variation. \n",
    "    \n",
    "    ssb: Sum-of-squares between arguments. Tells us how much of the variation \n",
    "        of the groups is from between-group variation. \n",
    "    \n",
    "    sst: Total sum of squares variation for the list of groups. Tells us how much \n",
    "        the samples vary in total. \n",
    "        sst = ssw + ssb\n",
    "    \"\"\"\n",
    "    ssw = SSW(args)\n",
    "    ssb = SSB(args)\n",
    "    sst = ssb + ssw\n",
    "    return ssw, ssb, sst\n",
    "\n",
    "def get_anova_counts(args): \n",
    "    \"\"\"\n",
    "    Parameters\n",
    "    ----------------------\n",
    "    args: array-like\n",
    "        list of groups to be counted. \n",
    "        \n",
    "    Returns\n",
    "    ------------------\n",
    "    k: int\n",
    "        number of groups \n",
    "    N: int\n",
    "        total number of observations across all groups\n",
    "    dfbn: int\n",
    "        degrees of freedom between arguments; k - 1\n",
    "    dfwn: int\n",
    "        degrees of freedom within arguments; n - 1\n",
    "    \"\"\"\n",
    "    k = len(args)\n",
    "    N = 0\n",
    "    for i in range(k):\n",
    "        N += len(args[i])\n",
    "    dfbn = k - 1\n",
    "    dfwn = N - k\n",
    "    \n",
    "    return k, N, dfbn, dfwn\n",
    "\n",
    "def finish_anova(f, dfbn, dfwn): \n",
    "     \"\"\"\n",
    "    Parameters\n",
    "    ----------------------\n",
    "    f: float\n",
    "         calculated f-value. \n",
    "         f = mean-square-between groups / mean-square-within groups\n",
    "         The f-value is the ratio of how much variation is between versus within groups. \n",
    "         If the groups means were the same, the between group variation would be zero. \n",
    "         As the f-value grows, the more dissimilar the groups means are. \n",
    "    dfbn: int\n",
    "        Degrees of freedom between groups passed to ANOVA funtion. \n",
    "    dfwn: int\n",
    "        Degrees of freedom within groups. \n",
    "        \n",
    "    Returns\n",
    "    ------------------\n",
    "    p: float\n",
    "        p-value calculated from passing gotten f-value and df's into the f-density funtion from scipy. \n",
    "        could attempt to manually implement, i.e\n",
    "        [f(x, df_1, df_2) = (df_2^{df_2/2} df_1^{df_1/2} x^{df_1 / 2-1} / \n",
    "        [{(df_2+df_1 x)^{(df_1+df_2)/2}*sc.beta(df_1/2, df_2/2)}\\]\n",
    "        \n",
    "    return_string: String\n",
    "        Specifies whether gotten p value implies rejecting or failing to reject the null hypothesis. \n",
    "    \n",
    "    \"\"\"\n",
    "    # use scipy to plug f-value into f distribution to return p-value\n",
    "     p_value = f_dist.sf(dfbn, dfwn, f)\n",
    "    \n",
    "     if p_value > .05:\n",
    "        return_string = \"F-value: \" + str(f) + \", P-value: \" + str(\n",
    "            p_value) + \", Fail to reject null hypothesis.\"\n",
    "     else:\n",
    "        return_string = \"F-value: \" + str(f) + \", P-value: \" + str(\n",
    "            round(p_value, 5)) + \", Reject null hypothesis.\"\n",
    "\n",
    "     return return_string"
   ]
  },
  {
   "cell_type": "code",
   "execution_count": 21,
   "id": "74090115",
   "metadata": {},
   "outputs": [],
   "source": [
    "# use *args command to accept variable number of arguments\n",
    "def anova(*args):\n",
    "    \n",
    "    k, N, dfbn, dfwn  = get_anova_counts(args)\n",
    "    print(k, N, dfbn, dfwn)\n",
    "    print(len(args))\n",
    "    \n",
    "    ssw, ssb, sst = get_sum_square_stats(args)\n",
    "    print(ssw, ssb, sst)\n",
    "\n",
    "    msb = ssb / float(dfbn)\n",
    "    msw = ssw / float(dfwn)\n",
    "    f = msb / msw\n",
    "    \n",
    "    return finish_anova(f, dfbn, dfwn)\n",
    "    \n",
    "\n",
    "   "
   ]
  },
  {
   "cell_type": "code",
   "execution_count": 22,
   "id": "1b2806aa",
   "metadata": {},
   "outputs": [
    {
     "name": "stdout",
     "output_type": "stream",
     "text": [
      "3 60 2 57\n",
      "3\n",
      "71.1333679385674 0.0 71.1333679385674\n"
     ]
    },
    {
     "data": {
      "text/plain": [
       "'F-value: 0.0, P-value: nan, Reject null hypothesis.'"
      ]
     },
     "execution_count": 22,
     "metadata": {},
     "output_type": "execute_result"
    }
   ],
   "source": [
    "anova(data1, data2, data3)\n"
   ]
  },
  {
   "cell_type": "markdown",
   "id": "3281a4be",
   "metadata": {},
   "source": [
    "# Big issue right now: SSB, from earlier, is not working and is frustrating me. "
   ]
  },
  {
   "cell_type": "code",
   "execution_count": 14,
   "id": "df345114",
   "metadata": {},
   "outputs": [
    {
     "data": {
      "text/plain": [
       "0.0"
      ]
     },
     "execution_count": 14,
     "metadata": {},
     "output_type": "execute_result"
    }
   ],
   "source": [
    "argss = data1, data2, data3\n",
    "SSB(argss)"
   ]
  }
 ],
 "metadata": {
  "kernelspec": {
   "display_name": "Python 3",
   "language": "python",
   "name": "python3"
  },
  "language_info": {
   "codemirror_mode": {
    "name": "ipython",
    "version": 3
   },
   "file_extension": ".py",
   "mimetype": "text/x-python",
   "name": "python",
   "nbconvert_exporter": "python",
   "pygments_lexer": "ipython3",
   "version": "3.8.8"
  }
 },
 "nbformat": 4,
 "nbformat_minor": 5
}
