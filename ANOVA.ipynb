{
 "cells": [
  {
   "cell_type": "code",
   "execution_count": 1,
   "id": "e5f74cde",
   "metadata": {},
   "outputs": [],
   "source": [
    "from scipy.stats import f as f_dist\n",
    "import numpy as np\n"
   ]
  },
  {
   "cell_type": "code",
   "execution_count": 2,
   "id": "a418934d",
   "metadata": {},
   "outputs": [],
   "source": [
    "# create function to quickly sum squares within ANOVA test\n",
    "def sum_squares(a):\n",
    "    s = 0\n",
    "    for i in range(len(a) - 1): \n",
    "        s += a[i]**2\n",
    "    return s\n",
    "\n",
    "# and one to square sums\n",
    "def square_sums(a):\n",
    "    s = 0\n",
    "    for i in range(len(a) - 1): \n",
    "        s += a[i]\n",
    "    return s * s\n",
    "\n",
    "# finds value of f-distribution for given f and df1, df2\n",
    "def f_prob(f, df1, df2):\n",
    "    # use scipy to plug f-value into f distribution to return p-value\n",
    "    p_value = f_dist.sf(df1, df2, f)\n",
    "    # could attempt to manually implement, i.e\n",
    "    # [f(x, df_1, df_2) = (df_2^{df_2/2} df_1^{df_1/2} x^{df_1 / 2-1} / \n",
    "    #                   {(df_2+df_1 x)^{(df_1+df_2)/2}*sc.beta(df_1/2, df_2/2)}\\]\n",
    "    return p_value"
   ]
  },
  {
   "cell_type": "code",
   "execution_count": 3,
   "id": "bf19df2b",
   "metadata": {},
   "outputs": [],
   "source": [
    "# use *args command to accept variable number of arguments\n",
    "def ANOVA(*args):\n",
    "    # Create array of arguments using generator function\n",
    "    args = [np.asarray(arg) for arg in args]\n",
    "    # ANOVA on N groups, each in its own array\n",
    "    k = len(args)\n",
    "    print(\"k: \", k)\n",
    "    alldata = np.concatenate(args)\n",
    "    bign = 0\n",
    "    for i in range(k):\n",
    "        bign += len(args[i])\n",
    "    \n",
    "    print(\"n: \", bign)\n",
    "\n",
    "    # Determine the grand mean of the data, and subtract that from all inputs\n",
    "    grand_mean = alldata.mean()\n",
    "    print(\"grand mean: \", grand_mean)\n",
    "\n",
    "    sstot = 0\n",
    "    for i in range(bign):\n",
    "        sstot += (alldata[i] - grand_mean)**2\n",
    "    print(\"sstot: \", sstot)\n",
    "    \n",
    "    # find sum of squares within data by adding together the square of the difference between each datapoint in \n",
    "    # the kth group minus the mean of the kth group \n",
    "    sswn = 0\n",
    "    for i in range(k):\n",
    "        #for j in range(len(args[i])):\n",
    "            sswn += sum_squares(args[i] - args[i].mean())\n",
    "    print(\"sswn: \", sswn)\n",
    "    \n",
    "    # find sum of squares between data by adding together the square of the difference between the kth group mean\n",
    "    # and the grand mean\n",
    "    ssbn = 0\n",
    "    for i in range(k):  \n",
    "        ssbn += (args[i].mean() - grand_mean)**2\n",
    "    print(\"ssbn: \",ssbn)\n",
    "\n",
    "    # variables ending in bn/b are for \"between treatments\", wn/w are\n",
    "    # for \"within treatments\"\n",
    "    dfbn = k - 1\n",
    "    dfwn = bign - k\n",
    "    print(\"k: \", k, \"n: \", bign)\n",
    "    print(\"DFbn, DFwn: \", dfbn,\",\", dfwn)\n",
    "    msb = ssbn / float(dfbn)\n",
    "    print(\"msb: \", msb)\n",
    "    msw = sswn / float(dfwn)\n",
    "    print(\"msw: \", msw)\n",
    "    f = msb / msw\n",
    "\n",
    "    p_value = float(f_prob(f, dfbn, dfwn))\n",
    "\n",
    "    if p_value > .05:\n",
    "        return_string = \"F-value: \" + str(f) + \", P-value: \" + str(\n",
    "            p_value) + \", Fail to reject null hypothesis.\"\n",
    "    else:\n",
    "        return_string = \"F-value: \" + str(f) + \", P-value: \" + str(\n",
    "            round(p_value, 5)) + \", Reject null hypothesis.\"\n",
    "\n",
    "    return return_string"
   ]
  },
  {
   "cell_type": "code",
   "execution_count": 4,
   "id": "21d6601a",
   "metadata": {},
   "outputs": [
    {
     "name": "stdout",
     "output_type": "stream",
     "text": [
      "k:  3\n",
      "n:  60\n",
      "grand mean:  -0.19154522862059895\n",
      "sstot:  44.57599800129165\n",
      "sswn:  42.933693073281056\n",
      "ssbn:  0.012601218968706217\n",
      "k:  3 n:  60\n",
      "DFbn, DFwn:  2 , 57\n",
      "msb:  0.006300609484353108\n",
      "msw:  0.7532226854961589\n"
     ]
    },
    {
     "data": {
      "text/plain": [
       "'F-value: 0.00836486952089448, P-value: 0.9767856470350209, Fail to reject null hypothesis.'"
      ]
     },
     "execution_count": 4,
     "metadata": {},
     "output_type": "execute_result"
    }
   ],
   "source": [
    "# test runs\n",
    "data1 = np.random.normal(size=20)\n",
    "data2 = np.random.normal(size=20)\n",
    "data3 = np.random.normal(size=20)\n",
    "\n",
    "ANOVA(data1, data2, data3)"
   ]
  },
  {
   "cell_type": "code",
   "execution_count": 9,
   "id": "a22a8f88",
   "metadata": {},
   "outputs": [
    {
     "name": "stdout",
     "output_type": "stream",
     "text": [
      "k:  3\n",
      "n:  300\n",
      "grand mean:  5.037572836392548\n",
      "sstot:  4150.079585712167\n",
      "sswn:  326.93313152887333\n",
      "ssbn:  38.17735620761645\n",
      "k:  3 n:  300\n",
      "DFbn, DFwn:  2 , 297\n",
      "msb:  19.088678103808224\n",
      "msw:  1.1007849546426711\n"
     ]
    },
    {
     "data": {
      "text/plain": [
       "'F-value: 17.340969299498333, P-value: 0.04597, Reject null hypothesis.'"
      ]
     },
     "execution_count": 9,
     "metadata": {},
     "output_type": "execute_result"
    }
   ],
   "source": [
    "d1 = np.random.normal(loc = 10, size=100)\n",
    "d2 = np.random.normal(loc = 3, size=100)\n",
    "d3 = np.random.normal(loc = 2, size=100)\n",
    "\n",
    "ANOVA(d1, d2, d3)"
   ]
  },
  {
   "cell_type": "code",
   "execution_count": 10,
   "id": "03ef3cda",
   "metadata": {},
   "outputs": [
    {
     "data": {
      "text/plain": [
       "F_onewayResult(statistic=1705.8644039692633, pvalue=1.494199824158835e-163)"
      ]
     },
     "execution_count": 10,
     "metadata": {},
     "output_type": "execute_result"
    }
   ],
   "source": [
    "import scipy.stats as st \n",
    "st.f_oneway(d1, d2, d3)\n"
   ]
  }
 ],
 "metadata": {
  "kernelspec": {
   "display_name": "Python 3",
   "language": "python",
   "name": "python3"
  },
  "language_info": {
   "codemirror_mode": {
    "name": "ipython",
    "version": 3
   },
   "file_extension": ".py",
   "mimetype": "text/x-python",
   "name": "python",
   "nbconvert_exporter": "python",
   "pygments_lexer": "ipython3",
   "version": "3.8.8"
  }
 },
 "nbformat": 4,
 "nbformat_minor": 5
}
