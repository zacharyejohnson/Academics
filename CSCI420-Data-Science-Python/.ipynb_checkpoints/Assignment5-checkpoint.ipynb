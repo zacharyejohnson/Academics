{
 "cells": [
  {
   "cell_type": "code",
   "execution_count": null,
   "id": "482d389f",
   "metadata": {},
   "outputs": [],
   "source": [
    "import pandas as pd\n",
    "\n",
    "#Add codes to load tips.csv into a DataFrame named df \n",
    "#each row of the file show some information about a table\n",
    "# (5 points)\n"
   ]
  },
  {
   "cell_type": "code",
   "execution_count": null,
   "id": "c5561c01",
   "metadata": {},
   "outputs": [],
   "source": [
    "#To display the first part of df using DataFrame.head() function\n",
    "#expected output\n",
    "'''\t\n",
    "total_bill\ttip\tsmoker\tday\ttime\tsize\n",
    "0\t16.99\t1.01\tNo\tSun\tDinner\t2\n",
    "1\t10.34\t1.66\tNo\tSun\tDinner\t3\n",
    "2\t21.01\t3.50\tNo\tSun\tDinner\t3\n",
    "3\t23.68\t3.31\tNo\tSun\tDinner\t2\n",
    "4\t24.59\t3.61\tNo\tSun\tDinner\t4\n",
    "'''\n",
    "\n",
    "\n",
    "df.head()"
   ]
  },
  {
   "cell_type": "code",
   "execution_count": null,
   "id": "fd72b9de",
   "metadata": {},
   "outputs": [],
   "source": [
    "#Add codes to find out how many rows and columns does df have\n",
    "#Hint: Look into the shape attribute of df\n",
    "#Expected output\n",
    "#(244, 6)\n",
    "# (5 points)"
   ]
  },
  {
   "cell_type": "code",
   "execution_count": null,
   "id": "a63e5117",
   "metadata": {},
   "outputs": [],
   "source": [
    "# There are four waitresses and they take turn to wait the tables in this order : 'Sam','Alice','Britney','Lauren'\n",
    "# Add codes to add a column to df with 'waitress' as the column name, and the values of the column repeat'Sam','Alice','Britney','Lauren'\n",
    "# (10 points)"
   ]
  },
  {
   "cell_type": "code",
   "execution_count": null,
   "id": "e4efb266",
   "metadata": {},
   "outputs": [],
   "source": [
    "#To display df\n",
    "#Expected output\n",
    "\n",
    "'''\n",
    "total_bill\ttip\tsmoker\tday\ttime\tsize\twaitress\n",
    "0\t16.99\t1.01\tNo\tSun\tDinner\t2\tSam\n",
    "1\t10.34\t1.66\tNo\tSun\tDinner\t3\tAlice\n",
    "2\t21.01\t3.50\tNo\tSun\tDinner\t3\tBritney\n",
    "3\t23.68\t3.31\tNo\tSun\tDinner\t2\tLauren\n",
    "4\t24.59\t3.61\tNo\tSun\tDinner\t4\tSam\n",
    "...\t...\t...\t...\t...\t...\t...\t...\n",
    "239\t29.03\t5.92\tNo\tSat\tDinner\t3\tLauren\n",
    "240\t27.18\t2.00\tYes\tSat\tDinner\t2\tSam\n",
    "241\t22.67\t2.00\tYes\tSat\tDinner\t2\tAlice\n",
    "242\t17.82\t1.75\tNo\tSat\tDinner\t2\tBritney\n",
    "243\t18.78\t3.00\tNo\tThur\tDinner\t2\tLauren\n",
    "'''\n",
    "\n",
    "df"
   ]
  },
  {
   "cell_type": "code",
   "execution_count": null,
   "id": "16a7fe4b",
   "metadata": {},
   "outputs": [],
   "source": [
    "#Add codes to change df so that column 'waitress' become index\n",
    "#Hint: (1) explore the DataFrame.set_index() function\n",
    "#      (2) make the change inplace\n",
    "# (5 points)"
   ]
  },
  {
   "cell_type": "code",
   "execution_count": null,
   "id": "5e90b73c",
   "metadata": {},
   "outputs": [],
   "source": [
    "# To display df after set_index\n",
    "#Expected outcome \n",
    "'''\n",
    "total_bill\ttip\tsmoker\tday\ttime\tsize\n",
    "waitress\t\t\t\t\t\t\n",
    "Sam\t16.99\t1.01\tNo\tSun\tDinner\t2\n",
    "Alice\t10.34\t1.66\tNo\tSun\tDinner\t3\n",
    "Britney\t21.01\t3.50\tNo\tSun\tDinner\t3\n",
    "Lauren\t23.68\t3.31\tNo\tSun\tDinner\t2\n",
    "Sam\t24.59\t3.61\tNo\tSun\tDinner\t4\n",
    "...\t...\t...\t...\t...\t...\t...\n",
    "Lauren\t29.03\t5.92\tNo\tSat\tDinner\t3\n",
    "Sam\t27.18\t2.00\tYes\tSat\tDinner\t2\n",
    "Alice\t22.67\t2.00\tYes\tSat\tDinner\t2\n",
    "Britney\t17.82\t1.75\tNo\tSat\tDinner\t2\n",
    "Lauren\t18.78\t3.00\tNo\tThur\tDinner\t2\n",
    "'''\n",
    "\n",
    "df"
   ]
  },
  {
   "cell_type": "code",
   "execution_count": null,
   "id": "9743c440",
   "metadata": {},
   "outputs": [],
   "source": [
    "#Add codes to remove rows with 'Britney' as index label and remove cloumns 'smoker' and 'time'\n",
    "#Hint: make the changes inplace\n",
    "# (5 points)"
   ]
  },
  {
   "cell_type": "code",
   "execution_count": null,
   "id": "b1d2252e",
   "metadata": {},
   "outputs": [],
   "source": [
    "# To display df after removing row and columns\n",
    "#Expected outcome \n",
    "'''\n",
    "\ttotal_bill\ttip\tday\tsize\n",
    "waitress\t\t\t\t\n",
    "Sam\t16.99\t1.01\tSun\t2\n",
    "Alice\t10.34\t1.66\tSun\t3\n",
    "Lauren\t23.68\t3.31\tSun\t2\n",
    "Sam\t24.59\t3.61\tSun\t4\n",
    "Alice\t25.29\t4.71\tSun\t4\n",
    "...\t...\t...\t...\t...\n",
    "Alice\t32.83\t1.17\tSat\t2\n",
    "Lauren\t29.03\t5.92\tSat\t3\n",
    "Sam\t27.18\t2.00\tSat\t2\n",
    "Alice\t22.67\t2.00\tSat\t2\n",
    "Lauren\t18.78\t3.00\tThur\t2\n",
    "\n",
    "'''\n",
    "df"
   ]
  },
  {
   "cell_type": "code",
   "execution_count": null,
   "id": "2954fde3",
   "metadata": {},
   "outputs": [],
   "source": [
    "#Add codes to extract rows with 'Sam' as waitress and assign them to a new DataFrame named df_Sam\n",
    "# (10 points)"
   ]
  },
  {
   "cell_type": "code",
   "execution_count": null,
   "id": "74ab3e22",
   "metadata": {},
   "outputs": [],
   "source": [
    "#To display df_Sam\n",
    "#Expected outcome\n",
    "'''\n",
    "\ttotal_bill\ttip\tday\tsize\n",
    "waitress\t\t\t\t\n",
    "Sam\t16.99\t1.01\tSun\t2\n",
    "Sam\t24.59\t3.61\tSun\t4\n",
    "Sam\t15.04\t1.96\tSun\t2\n",
    "Sam\t15.42\t1.57\tSun\t2\n",
    "Sam\t10.33\t1.67\tSun\t3\n",
    "...\t...\t...\t...\t...\n",
    "Sam\t13.42\t1.58\tFri\t2\n",
    "Sam\t13.28\t2.72\tSat\t2\n",
    "Sam\t11.61\t3.39\tSat\t2\n",
    "Sam\t12.60\t1.00\tSat\t2\n",
    "Sam\t27.18\t2.00\tSat\t2\n",
    "'''\n",
    "\n",
    "df_Sam\n"
   ]
  },
  {
   "cell_type": "code",
   "execution_count": null,
   "id": "33ceb9d3",
   "metadata": {},
   "outputs": [],
   "source": [
    "#Add codes to find out how many tables in total did Sam serve on Sunday and print out the result\n",
    "#Expected outcome 19\n",
    "# (10 points)"
   ]
  },
  {
   "cell_type": "code",
   "execution_count": null,
   "id": "3b9f47c1",
   "metadata": {},
   "outputs": [],
   "source": [
    "#Add codes to find out the average tip that Sam received from a table on Sunday and print out the result\n",
    "#Expected outcome 3.332105263157895\n",
    "# (10 points)"
   ]
  },
  {
   "cell_type": "code",
   "execution_count": null,
   "id": "1655e314",
   "metadata": {},
   "outputs": [],
   "source": [
    "#Add codes to sort df_Sam in descending order by the amount of tip\n",
    "#Hint: make the change inplace (You may see a warning. You can just ignore it)\n",
    "# (10 points)"
   ]
  },
  {
   "cell_type": "code",
   "execution_count": null,
   "id": "5274c78e",
   "metadata": {},
   "outputs": [],
   "source": [
    "#To display df_Sam after sorting\n",
    "#expected outcome\n",
    "'''\n",
    "total_bill\ttip\tday\tsize\n",
    "waitress\t\t\t\t\n",
    "Sam\t48.33\t9.00\tSat\t4\n",
    "Sam\t24.71\t5.85\tThur\t2\n",
    "Sam\t30.40\t5.60\tSun\t4\n",
    "Sam\t34.81\t5.20\tSun\t4\n",
    "Sam\t7.25\t5.15\tSun\t2\n",
    "...\t...\t...\t...\t...\n",
    "Sam\t15.42\t1.57\tSun\t2\n",
    "Sam\t11.17\t1.50\tThur\t2\n",
    "Sam\t16.99\t1.01\tSun\t2\n",
    "Sam\t5.75\t1.00\tFri\t2\n",
    "Sam\t12.60\t1.00\tSat\t2\n",
    "'''\n",
    "df_Sam"
   ]
  },
  {
   "cell_type": "code",
   "execution_count": null,
   "id": "db345508",
   "metadata": {},
   "outputs": [],
   "source": [
    "#Add codes to find out the unique values in the 'day' column of df, and print out the unique values\n",
    "#Hint: you can use set to find out unique values. \n",
    "#      you should look into df, not df_Sam\n",
    "#Expected output\n",
    "#{'Fri', 'Sat', 'Sun', 'Thur'}\n",
    "# (10 points)"
   ]
  },
  {
   "cell_type": "code",
   "execution_count": null,
   "id": "690a8aef",
   "metadata": {},
   "outputs": [],
   "source": [
    "#Add codes to calculate the average tip by day of the week\n",
    "#This is the average tip a waitress received from a table on a given day of the week\n",
    "       #e.g. how much tip did a waitress receive from a table on Sunday\n",
    "#Save the results into a Series named ave_tip, so that ave_tip has day of the week as index and average tip as values.\n",
    "#Expected output when display ave_tip\n",
    "\n",
    "'''\n",
    "Thur    2.877292\n",
    "Sun     3.337679\n",
    "Sat     2.991231\n",
    "Fri     2.770714\n",
    "'''\n",
    "# (10 points)"
   ]
  },
  {
   "cell_type": "code",
   "execution_count": null,
   "id": "c1c60a5e",
   "metadata": {},
   "outputs": [],
   "source": [
    "#To display ave_tip\n",
    "\n",
    "ave_tip"
   ]
  },
  {
   "cell_type": "code",
   "execution_count": null,
   "id": "5a3a9aee",
   "metadata": {},
   "outputs": [],
   "source": [
    "#Add codes to find out on which day of the week did the waitresses received the highest average tip\n",
    "#Print out the result\n",
    "#You can use Series.idxmas function\n",
    "#Expected outcome Sun\n",
    "# (10 points)"
   ]
  }
 ],
 "metadata": {
  "kernelspec": {
   "display_name": "Python 3 (ipykernel)",
   "language": "python",
   "name": "python3"
  },
  "language_info": {
   "codemirror_mode": {
    "name": "ipython",
    "version": 3
   },
   "file_extension": ".py",
   "mimetype": "text/x-python",
   "name": "python",
   "nbconvert_exporter": "python",
   "pygments_lexer": "ipython3",
   "version": "3.10.4"
  }
 },
 "nbformat": 4,
 "nbformat_minor": 5
}
