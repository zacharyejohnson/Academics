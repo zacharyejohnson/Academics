{
 "cells": [
  {
   "cell_type": "code",
   "execution_count": null,
   "id": "3a5d03ed",
   "metadata": {},
   "outputs": [],
   "source": [
    "import numpy as np\n",
    "import pandas as pd\n",
    "ser1 = pd.Series(list('abcedfghijklmnopqrstuvwxyz'))\n",
    "ser2 = pd.Series(np.arange(26))"
   ]
  },
  {
   "cell_type": "code",
   "execution_count": null,
   "id": "1d87068d",
   "metadata": {},
   "outputs": [],
   "source": [
    "# (10 pionts)\n",
    "#insert codes to combine ser1 and ser2 into a dataframe named df\n",
    "#expected output of df.head() \n",
    "'''\t0\t1\n",
    "0\ta\t0\n",
    "1\tb\t1\n",
    "2\tc\t2\n",
    "3\te\t3\n",
    "4\td\t4\n",
    "'''"
   ]
  },
  {
   "cell_type": "code",
   "execution_count": null,
   "id": "8510e608",
   "metadata": {},
   "outputs": [],
   "source": [
    "arr=[0.91121574, 0.11754551, 0.74347616, 0.87961463, 0.91649443,\n",
    "       0.4558163 , 0.55720709, 0.64900363, 0.51744904, 0.24769539,\n",
    "       0.29823968, 0.83304972, 0.23577746, 0.86462958, 0.42355621,\n",
    "       0.26114975, 0.03946726, 0.83429182, 0.60897802, 0.87554919]\n",
    "ser=pd.Series(arr)"
   ]
  },
  {
   "cell_type": "code",
   "execution_count": null,
   "id": "a2c720b5",
   "metadata": {},
   "outputs": [],
   "source": [
    "# (10 pionts)\n",
    "#Discretize ser into 10 equal-sized bins using qcut, \n",
    "#change bin's labels to '1st', '2nd', '3rd', '4th', '5th', '6th', '7th', '8th', '9th', '10th'\n",
    "#Desired output\n",
    "'''\n",
    "0     10th\n",
    "1      1st\n",
    "2      7th\n",
    "3      9th\n",
    "4     10th\n",
    "5      4th\n",
    "6      5th\n",
    "7      6th\n",
    "8      5th\n",
    "9      2nd\n",
    "10     3rd\n",
    "11     7th\n",
    "12     2nd\n",
    "13     8th\n",
    "14     4th\n",
    "15     3rd\n",
    "16     1st\n",
    "17     8th\n",
    "18     6th\n",
    "19     9th\n",
    "'''"
   ]
  },
  {
   "cell_type": "code",
   "execution_count": null,
   "id": "c124f456",
   "metadata": {},
   "outputs": [],
   "source": [
    "df = pd.read_csv('https://raw.githubusercontent.com/selva86/datasets/master/BostonHousing.csv', usecols=['crim', 'medv'])\n",
    "df.head()"
   ]
  },
  {
   "cell_type": "code",
   "execution_count": null,
   "id": "e0a2bfff",
   "metadata": {},
   "outputs": [],
   "source": [
    "# (10 pionts)\n",
    "# insert codes to change the ‘medv’ column to 'low' if values < 25  and ‘High' if values >25\n",
    "# expected output of df.head()\n",
    "'''\n",
    "    crim\tmedv\n",
    "0\t0.00632\tlow\n",
    "1\t0.02731\tlow\n",
    "2\t0.02729\thigh\n",
    "3\t0.03237\thigh\n",
    "4\t0.06905\thigh\n",
    "'''"
   ]
  },
  {
   "cell_type": "code",
   "execution_count": null,
   "id": "d6dc56eb",
   "metadata": {},
   "outputs": [],
   "source": [
    "# (10 pionts)\n",
    "#insert code to rename column 'medv' to 'class'\n",
    "#Expected output of df.head() \n",
    "'''\n",
    "\tcrim\tclass\n",
    "0\t0.00632\tlow\n",
    "1\t0.02731\tlow\n",
    "2\t0.02729\thigh\n",
    "3\t0.03237\thigh\n",
    "4\t0.06905\thigh\n",
    "'''\n"
   ]
  },
  {
   "cell_type": "code",
   "execution_count": null,
   "id": "76d18ecb",
   "metadata": {},
   "outputs": [],
   "source": [
    "df = pd.read_csv('https://raw.githubusercontent.com/selva86/datasets/master/Cars93_miss.csv')\n"
   ]
  },
  {
   "cell_type": "code",
   "execution_count": null,
   "id": "5c03c900",
   "metadata": {},
   "outputs": [],
   "source": [
    "# (10 pionts)\n",
    "#Insert codes to Count the number of missing values in each column of df. \n",
    "#print out the numbers of missing values for the columns\n",
    "#expected outcome\n",
    "'''\n",
    "Manufacturer           4\n",
    "Model                  1\n",
    "Type                   3\n",
    "Min.Price              7\n",
    "Price                  2\n",
    "Max.Price              5\n",
    "MPG.city               9\n",
    "MPG.highway            2\n",
    "AirBags                6\n",
    "DriveTrain             7\n",
    "Cylinders              5\n",
    "EngineSize             2\n",
    "Horsepower             7\n",
    "RPM                    3\n",
    "Rev.per.mile           6\n",
    "Man.trans.avail        5\n",
    "Fuel.tank.capacity     8\n",
    "Passengers             2\n",
    "Length                 4\n",
    "Wheelbase              1\n",
    "Width                  6\n",
    "Turn.circle            5\n",
    "Rear.seat.room         4\n",
    "Luggage.room          19\n",
    "Weight                 7\n",
    "Origin                 5\n",
    "Make                   3\n",
    "'''"
   ]
  },
  {
   "cell_type": "code",
   "execution_count": null,
   "id": "75479eb1",
   "metadata": {},
   "outputs": [],
   "source": [
    "# (10 pionts)\n",
    "#print out the name of the column that has the maximum number of missing values?\n",
    "#expected output\n",
    "# 'Luggage.room'"
   ]
  },
  {
   "cell_type": "code",
   "execution_count": null,
   "id": "bd6ed25b",
   "metadata": {},
   "outputs": [],
   "source": [
    "# (10 pionts)\n",
    "# insert codes to replace missing values in Luggage.room,  Min.Price and Max.Price columns with their respective mean.\n",
    "# expected outcome for  df[['Luggage.room', 'Min.Price', 'Max.Price']].head()\n",
    "'''\n",
    "\tLuggage.room\tMin.Price\tMax.Price\n",
    "0\t13.986486\t12.900000\t18.800000\n",
    "1\t15.000000\t29.200000\t38.700000\n",
    "2\t14.000000\t25.900000\t32.300000\n",
    "3\t17.000000\t17.118605\t44.600000\n",
    "4\t13.000000\t17.118605\t21.459091\n",
    "'''\n",
    "\n"
   ]
  },
  {
   "cell_type": "code",
   "execution_count": null,
   "id": "01a9afe1",
   "metadata": {},
   "outputs": [],
   "source": [
    "# (10 pionts)\n",
    "#Get one-hot encodings for column 'Type' of df, and save it as a dataframe named one_hot \n",
    "#expected outcome of one_hot.head()\n",
    "'''\n",
    "\tCompact\tLarge\tMidsize\tSmall\tSporty\tVan\n",
    "0\t0\t0\t0\t1\t0\t0\n",
    "1\t0\t0\t1\t0\t0\t0\n",
    "2\t1\t0\t0\t0\t0\t0\n",
    "3\t0\t0\t1\t0\t0\t0\n",
    "4\t0\t0\t1\t0\t0\t0\n",
    "\n",
    "'''\n"
   ]
  },
  {
   "cell_type": "code",
   "execution_count": null,
   "id": "0b45dd07",
   "metadata": {},
   "outputs": [],
   "source": [
    "# (10 pionts)\n",
    "# Combine df with one_hot, save the result as df_one_hot\n",
    "# expected output of df_one_hot.head()\n",
    "'''\n",
    "    Manufacturer\tModel\tType\tMin.Price\tPrice\tMax.Price\tMPG.city\tMPG.highway\tAirBags\tDriveTrain\t...\tLuggage.room\tWeight\tOrigin\tMake\tCompact\tLarge\tMidsize\tSmall\tSporty\tVan\n",
    "0\tAcura\tIntegra\tSmall\t12.900000\t15.9\t18.800000\t25.0\t31.0\tNone\tFront\t...\t13.986486\t2705.0\tnon-USA\tAcura Integra\t0\t0\t0\t1\t0\t0\n",
    "1\tNaN\tLegend\tMidsize\t29.200000\t33.9\t38.700000\t18.0\t25.0\tDriver & Passenger\tFront\t...\t15.000000\t3560.0\tnon-USA\tAcura Legend\t0\t0\t1\t0\t0\t0\n",
    "2\tAudi\t90\tCompact\t25.900000\t29.1\t32.300000\t20.0\t26.0\tDriver only\tFront\t...\t14.000000\t3375.0\tnon-USA\tAudi 90\t1\t0\t0\t0\t0\t0\n",
    "3\tAudi\t100\tMidsize\t17.118605\t37.7\t44.600000\t19.0\t26.0\tDriver & Passenger\tNaN\t...\t17.000000\t3405.0\tnon-USA\tAudi 100\t0\t0\t1\t0\t0\t0\n",
    "4\tBMW\t535i\tMidsize\t17.118605\t30.0\t21.459091\t22.0\t30.0\tNaN\tRear\t...\t13.000000\t3640.0\tnon-USA\tBMW 535i\t0\t0\t1\t0\t0\t0\n",
    "'''"
   ]
  },
  {
   "cell_type": "code",
   "execution_count": null,
   "id": "ebbd254c",
   "metadata": {},
   "outputs": [],
   "source": [
    "df1 = pd.DataFrame({'fruit': ['apple', 'banana', 'orange'] * 3,\n",
    "                    'weight': ['high', 'medium', 'low'] * 3,\n",
    "                    'price': np.random.randint(0, 15, 9)})\n",
    "\n",
    "df2 = pd.DataFrame({'pazham': ['apple', 'orange', 'pine'] * 2,\n",
    "                    'kilo': ['high', 'low'] * 3,\n",
    "                    'price': np.random.randint(0, 15, 6)})"
   ]
  },
  {
   "cell_type": "code",
   "execution_count": null,
   "id": "94f3fe0d",
   "metadata": {},
   "outputs": [],
   "source": [
    "# (10 pionts)\n",
    "#Join dataframes df1 and df2 using ['fruit', 'weight'] from df1 and ['pazham', 'kilo'] from df2 as keys.\n",
    "#requirement #1 'fruit' matching with pazham', 'weight' matching with 'kilo'\n",
    "#requirement #2 only keep rows common in df1 and df2 \n",
    "#Expected output\n",
    "'''\n",
    "fruit\tweight\tprice_x\tpazham\tkilo\tprice_y\n",
    "0\tapple\thigh\t2\tapple\thigh\t8\n",
    "1\tapple\thigh\t1\tapple\thigh\t8\n",
    "2\tapple\thigh\t11\tapple\thigh\t8\n",
    "3\torange\tlow\t14\torange\tlow\t1\n",
    "4\torange\tlow\t10\torange\tlow\t1\n",
    "5\torange\tlow\t3\torange\tlow\t1\n",
    "'''"
   ]
  }
 ],
 "metadata": {
  "kernelspec": {
   "display_name": "Python 3 (ipykernel)",
   "language": "python",
   "name": "python3"
  },
  "language_info": {
   "codemirror_mode": {
    "name": "ipython",
    "version": 3
   },
   "file_extension": ".py",
   "mimetype": "text/x-python",
   "name": "python",
   "nbconvert_exporter": "python",
   "pygments_lexer": "ipython3",
   "version": "3.10.4"
  }
 },
 "nbformat": 4,
 "nbformat_minor": 5
}
