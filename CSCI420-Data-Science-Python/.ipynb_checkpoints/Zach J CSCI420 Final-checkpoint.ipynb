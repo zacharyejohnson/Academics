{
 "cells": [
  {
   "cell_type": "code",
   "execution_count": 3,
   "id": "ebdf4870",
   "metadata": {},
   "outputs": [],
   "source": [
    "# (10 points)  load \"final_array1.npy\" into a numpy array named array1\n",
    "import numpy as np \n",
    "array1 = np.load(\"final_array1(1).npy\")"
   ]
  },
  {
   "cell_type": "code",
   "execution_count": 5,
   "id": "df9207ef",
   "metadata": {},
   "outputs": [],
   "source": [
    "#(10 points) convert array1 into a Dataframe called df, with the names of the rows being \"Sample1\",\"Sample2\",.... and the name of the columns being \"Column 1\", \"Column 2\"....\n",
    "import pandas as pd \n",
    "df = pd.DataFrame(array1)"
   ]
  },
  {
   "cell_type": "code",
   "execution_count": null,
   "id": "05e803d1",
   "metadata": {},
   "outputs": [],
   "source": [
    "# (10 points) change the name of \"Column 11\" to \"Target\""
   ]
  },
  {
   "cell_type": "code",
   "execution_count": null,
   "id": "d9e70316",
   "metadata": {},
   "outputs": [],
   "source": [
    "#(10 points) print out the mean of each column in the following format:\n",
    "#column name: mean\n",
    "#with one row for one column"
   ]
  },
  {
   "cell_type": "code",
   "execution_count": null,
   "id": "c288c167",
   "metadata": {},
   "outputs": [],
   "source": [
    "#(10 points) replace missing values with the means of the corresponding columns\n",
    "# e.g. a NaN in Column 5 will be replaced by the mean of Column 5"
   ]
  },
  {
   "cell_type": "code",
   "execution_count": null,
   "id": "8d82af04",
   "metadata": {},
   "outputs": [],
   "source": [
    "# (20 points)calcualte the standard correlation coefficient (also called Pearson’s r) between \"Target\" and every other columns\n",
    "#print out the column names with corresponding correlation coefficients \n",
    "#in descending order of the correlation coefficient\n",
    "#with one row for one column\n",
    "# e.g. \n",
    "#Column X: highest correlation oefficient \n",
    "#Column y: second highest correlation oefficient \n",
    "#...\n",
    "\n"
   ]
  },
  {
   "cell_type": "code",
   "execution_count": null,
   "id": "da126427",
   "metadata": {},
   "outputs": [],
   "source": [
    "#(10 points)Show the scatter plot betwtween Target and the most-correlated column"
   ]
  },
  {
   "cell_type": "code",
   "execution_count": null,
   "id": "8be69f9a",
   "metadata": {},
   "outputs": [],
   "source": [
    "#(20 points)divide \"Target\" into 10 equal-sized bins using qcut, and show the histogram of that column"
   ]
  }
 ],
 "metadata": {
  "kernelspec": {
   "display_name": "Python 3",
   "language": "python",
   "name": "python3"
  },
  "language_info": {
   "codemirror_mode": {
    "name": "ipython",
    "version": 3
   },
   "file_extension": ".py",
   "mimetype": "text/x-python",
   "name": "python",
   "nbconvert_exporter": "python",
   "pygments_lexer": "ipython3",
   "version": "3.8.8"
  }
 },
 "nbformat": 4,
 "nbformat_minor": 5
}
