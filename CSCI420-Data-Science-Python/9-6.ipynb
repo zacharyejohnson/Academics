{
 "cells": [
  {
   "cell_type": "markdown",
   "id": "ac6585f5",
   "metadata": {},
   "source": [
    "## Mutable vs Immutable"
   ]
  },
  {
   "cell_type": "markdown",
   "id": "048beb43",
   "metadata": {},
   "source": [
    "List is mutable and tuple is immutable"
   ]
  },
  {
   "cell_type": "code",
   "execution_count": 2,
   "id": "3cd8abc3",
   "metadata": {},
   "outputs": [
    {
     "name": "stdout",
     "output_type": "stream",
     "text": [
      "<class 'list'> <class 'tuple'>\n"
     ]
    }
   ],
   "source": [
    "a_list = [1,2,3,4]\n",
    "a_tuple = (1,2,3,4)\n",
    "print(type(a_list), type(a_tuple))"
   ]
  },
  {
   "cell_type": "markdown",
   "id": "64426acd",
   "metadata": {},
   "source": [
    "list index values can be reassigned, not true for tuples"
   ]
  },
  {
   "cell_type": "code",
   "execution_count": 3,
   "id": "91c12d21",
   "metadata": {},
   "outputs": [
    {
     "data": {
      "text/plain": [
       "3"
      ]
     },
     "execution_count": 3,
     "metadata": {},
     "output_type": "execute_result"
    }
   ],
   "source": [
    "a_list[2]"
   ]
  },
  {
   "cell_type": "code",
   "execution_count": 4,
   "id": "a11a6e7c",
   "metadata": {},
   "outputs": [
    {
     "data": {
      "text/plain": [
       "4"
      ]
     },
     "execution_count": 4,
     "metadata": {},
     "output_type": "execute_result"
    }
   ],
   "source": [
    "a_list[2] = 4\n",
    "a_list[2]"
   ]
  },
  {
   "cell_type": "code",
   "execution_count": 5,
   "id": "804c3502",
   "metadata": {},
   "outputs": [
    {
     "data": {
      "text/plain": [
       "3"
      ]
     },
     "execution_count": 5,
     "metadata": {},
     "output_type": "execute_result"
    }
   ],
   "source": [
    "a_tuple[2]"
   ]
  },
  {
   "cell_type": "markdown",
   "id": "7fa84923",
   "metadata": {},
   "source": [
    "Cannot reassign values in tuple"
   ]
  },
  {
   "cell_type": "code",
   "execution_count": 6,
   "id": "0e11fb7d",
   "metadata": {},
   "outputs": [
    {
     "ename": "TypeError",
     "evalue": "'tuple' object does not support item assignment",
     "output_type": "error",
     "traceback": [
      "\u001b[1;31m---------------------------------------------------------------------------\u001b[0m",
      "\u001b[1;31mTypeError\u001b[0m                                 Traceback (most recent call last)",
      "\u001b[1;32m<ipython-input-6-537bf130daec>\u001b[0m in \u001b[0;36m<module>\u001b[1;34m\u001b[0m\n\u001b[1;32m----> 1\u001b[1;33m \u001b[0ma_tuple\u001b[0m\u001b[1;33m[\u001b[0m\u001b[1;36m2\u001b[0m\u001b[1;33m]\u001b[0m \u001b[1;33m=\u001b[0m \u001b[1;36m4\u001b[0m\u001b[1;33m\u001b[0m\u001b[1;33m\u001b[0m\u001b[0m\n\u001b[0m",
      "\u001b[1;31mTypeError\u001b[0m: 'tuple' object does not support item assignment"
     ]
    }
   ],
   "source": [
    "a_tuple[2] = 4"
   ]
  },
  {
   "cell_type": "markdown",
   "id": "33fdb332",
   "metadata": {},
   "source": [
    "# String methods\n",
    "\n",
    "str.replace(a, b)"
   ]
  },
  {
   "cell_type": "code",
   "execution_count": 11,
   "id": "219826e7",
   "metadata": {},
   "outputs": [
    {
     "name": "stdout",
     "output_type": "stream",
     "text": [
      "\n",
      "this is a long, multi-lined string\n",
      "\n"
     ]
    }
   ],
   "source": [
    "c = '''\n",
    "this is a long, multi-lined string\n",
    "'''\n",
    "print(c)"
   ]
  },
  {
   "cell_type": "markdown",
   "id": "b3fe4c50",
   "metadata": {},
   "source": [
    "Strings are immutabl;e and so a new object must be defined for the replace method to work"
   ]
  },
  {
   "cell_type": "code",
   "execution_count": 13,
   "id": "6f9bd2bc",
   "metadata": {},
   "outputs": [
    {
     "name": "stdout",
     "output_type": "stream",
     "text": [
      "\n",
      "this is the longest string of all time, multi-lined string\n",
      "\n"
     ]
    }
   ],
   "source": [
    "b = c.replace(\"a long\", \"the longest string of all time\")\n",
    "print(b)"
   ]
  }
 ],
 "metadata": {
  "kernelspec": {
   "display_name": "Python 3",
   "language": "python",
   "name": "python3"
  },
  "language_info": {
   "codemirror_mode": {
    "name": "ipython",
    "version": 3
   },
   "file_extension": ".py",
   "mimetype": "text/x-python",
   "name": "python",
   "nbconvert_exporter": "python",
   "pygments_lexer": "ipython3",
   "version": "3.8.8"
  }
 },
 "nbformat": 4,
 "nbformat_minor": 5
}
