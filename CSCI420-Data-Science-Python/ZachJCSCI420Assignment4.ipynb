{
 "cells": [
  {
   "cell_type": "code",
   "execution_count": 1,
   "id": "d52ba2f9",
   "metadata": {},
   "outputs": [],
   "source": [
    "import numpy as np"
   ]
  },
  {
   "cell_type": "code",
   "execution_count": 2,
   "id": "4fa2911b",
   "metadata": {},
   "outputs": [],
   "source": [
    "#add codes to this cell to \n",
    "#1. load arrays from file \"arrays.npz\", which should be download to the same directory as this notebook \n",
    "arrays = np.load(\"arrays.npz\")\n",
    "#2. assign the first array from the file to arr_ids, the second one to arr_scores, and the third one to arr_names\n",
    "#so that, \n",
    "arr_ids = arrays['ids']\n",
    "arr_scores = arrays['scores']\n",
    "arr_names = arrays['names']\n",
    "#arr_names contain names of the students\n",
    "#arr_ids contain ids of the tests that students took\n",
    "#arr_scores contains scores that students earned on the corresponding tests."
   ]
  },
  {
   "cell_type": "code",
   "execution_count": 3,
   "id": "b4b51f4a",
   "metadata": {},
   "outputs": [
    {
     "name": "stdout",
     "output_type": "stream",
     "text": [
      "arr_ids:\n",
      " [[ 0  1  2]\n",
      " [ 3  4  5]\n",
      " [ 6  7  8]\n",
      " [ 9 10 11]]\n",
      "arr_scores:\n",
      " [[78 87 72]\n",
      " [96 67 63]\n",
      " [68 89 87]\n",
      " [73 89 53]]\n",
      "arr_names:\n",
      " [['Bob' 'Joe' 'Bob']\n",
      " ['Alex' 'Charles' 'Bob']\n",
      " ['Will' 'Bob' 'Alex']\n",
      " ['Bob' 'Will' 'John']]\n"
     ]
    },
    {
     "data": {
      "text/plain": [
       "\"\\n(20 points)\\nexpected outputs from this cell are\\narr_ids:\\n [[ 0  1  2]\\n [ 3  4  5]\\n [ 6  7  8]\\n [ 9 10 11]]\\narr_scores:\\n [[78 87 72]\\n [96 67 63]\\n [68 89 87]\\n [73 89 53]]\\narr_names:\\n [['Bob' 'Joe' 'Bob']\\n ['Alex' 'Charles' 'Bob']\\n ['Will' 'Bob' 'Alex']\\n ['Bob' 'Will' 'John']]\\n\\n\""
      ]
     },
     "execution_count": 3,
     "metadata": {},
     "output_type": "execute_result"
    }
   ],
   "source": [
    "print (\"arr_ids:\\n\",arr_ids)\n",
    "print (\"arr_scores:\\n\",arr_scores)\n",
    "print (\"arr_names:\\n\",arr_names)\n",
    "\n",
    "\n",
    "'''\n",
    "(20 points)\n",
    "expected outputs from this cell are\n",
    "arr_ids:\n",
    " [[ 0  1  2]\n",
    " [ 3  4  5]\n",
    " [ 6  7  8]\n",
    " [ 9 10 11]]\n",
    "arr_scores:\n",
    " [[78 87 72]\n",
    " [96 67 63]\n",
    " [68 89 87]\n",
    " [73 89 53]]\n",
    "arr_names:\n",
    " [['Bob' 'Joe' 'Bob']\n",
    " ['Alex' 'Charles' 'Bob']\n",
    " ['Will' 'Bob' 'Alex']\n",
    " ['Bob' 'Will' 'John']]\n",
    "\n",
    "'''"
   ]
  },
  {
   "cell_type": "code",
   "execution_count": 4,
   "id": "c5f59c0f",
   "metadata": {},
   "outputs": [
    {
     "data": {
      "text/plain": [
       "89"
      ]
     },
     "execution_count": 4,
     "metadata": {},
     "output_type": "execute_result"
    }
   ],
   "source": [
    "#add codes to this cell to print out the highest scores that Bob earned among all the tests he took\n",
    "#expected output is 89\n",
    "#(10 points)\n",
    "\n",
    "#boolean indexing is incredibly useful\n",
    "bob_indeces = arr_names == 'Bob'\n",
    "bob_scores = arr_scores[bob_indeces]\n",
    "max_bob_score = np.max(bob_scores)\n",
    "max_bob_score"
   ]
  },
  {
   "cell_type": "code",
   "execution_count": 5,
   "id": "0004c94c",
   "metadata": {},
   "outputs": [],
   "source": [
    "#arr_scores contains scores in the range of [0,100]\n",
    "#add codes to this cell to normlize the scores to the range of [0,1]\n",
    "arr_scores = arr_scores / 100\n"
   ]
  },
  {
   "cell_type": "code",
   "execution_count": 6,
   "id": "84c1ae2b",
   "metadata": {},
   "outputs": [
    {
     "name": "stdout",
     "output_type": "stream",
     "text": [
      "arr_scores :\n",
      " [[0.78 0.87 0.72]\n",
      " [0.96 0.67 0.63]\n",
      " [0.68 0.89 0.87]\n",
      " [0.73 0.89 0.53]]\n"
     ]
    },
    {
     "data": {
      "text/plain": [
       "'\\n(10 points)\\nExpected outputs are\\narr_scores :\\n [[0.78 0.87 0.72]\\n [0.96 0.67 0.63]\\n [0.68 0.89 0.87]\\n [0.73 0.89 0.53]]\\n '"
      ]
     },
     "execution_count": 6,
     "metadata": {},
     "output_type": "execute_result"
    }
   ],
   "source": [
    "print (\"arr_scores :\\n\", arr_scores)\n",
    "\n",
    "\n",
    "'''\n",
    "(10 points)\n",
    "Expected outputs are\n",
    "arr_scores :\n",
    " [[0.78 0.87 0.72]\n",
    " [0.96 0.67 0.63]\n",
    " [0.68 0.89 0.87]\n",
    " [0.73 0.89 0.53]]\n",
    " '''"
   ]
  },
  {
   "cell_type": "code",
   "execution_count": 7,
   "id": "8471a90d",
   "metadata": {},
   "outputs": [],
   "source": [
    "# add codes to this cell \n",
    "#use slicing operations to change the scores of tests 3, 4, 6, 7 to 1.0\n",
    "arr_scores[1][0:2] = 1\n",
    "arr_scores[2][0:2] = 1"
   ]
  },
  {
   "cell_type": "code",
   "execution_count": 8,
   "id": "095b854c",
   "metadata": {},
   "outputs": [
    {
     "name": "stdout",
     "output_type": "stream",
     "text": [
      "arr_scores :\n",
      " [[0.78 0.87 0.72]\n",
      " [1.   1.   0.63]\n",
      " [1.   1.   0.87]\n",
      " [0.73 0.89 0.53]]\n"
     ]
    },
    {
     "data": {
      "text/plain": [
       "'\\n(10 points)\\nExpected outputs are\\narr_scores :\\n [[0.78 0.87 0.72]\\n [1.   1.   0.63]\\n [1.   1.   0.87]\\n [0.73 0.89 0.53]]\\n\\n'"
      ]
     },
     "execution_count": 8,
     "metadata": {},
     "output_type": "execute_result"
    }
   ],
   "source": [
    "print  (\"arr_scores :\\n\", arr_scores)\n",
    "\n",
    "\n",
    "'''\n",
    "(10 points)\n",
    "Expected outputs are\n",
    "arr_scores :\n",
    " [[0.78 0.87 0.72]\n",
    " [1.   1.   0.63]\n",
    " [1.   1.   0.87]\n",
    " [0.73 0.89 0.53]]\n",
    "\n",
    "'''"
   ]
  },
  {
   "cell_type": "code",
   "execution_count": 15,
   "id": "b60befe4",
   "metadata": {},
   "outputs": [
    {
     "name": "stdout",
     "output_type": "stream",
     "text": [
      "2.8\n"
     ]
    }
   ],
   "source": [
    "'''\n",
    "(50 points)\n",
    "The following rules are used to assign GPA for each test based on the normalized scores\n",
    "\n",
    "if normalized score >0.9, then GPA is 4.0\n",
    "else if normalized score >0.7, then GPA is 3.0\n",
    "else if normalized score >0.5, then GPA is 2.0\n",
    "else if normalized score >0.3, then GPA is 1.0\n",
    "else GPA is 0\n",
    "\n",
    "Add codes to this cell to print out the average GPA for Bob.\n",
    "\n",
    "'''\n",
    "bob_gpa_points = 0\n",
    "for score in bob_scores: \n",
    "    if score > 90: \n",
    "        bob_gpa_points += 4\n",
    "    elif score > 70: \n",
    "        bob_gpa_points += 3\n",
    "    elif score > 50: \n",
    "        bob_gpa_points += 2\n",
    "    elif score > 30: \n",
    "        bob_gpa_points += 1\n",
    "    else: \n",
    "        bob_gpa_points += 0\n",
    "bob_gpa = bob_gpa_points / len(bob_scores)\n",
    "print(bob_gpa)\n",
    "    \n"
   ]
  }
 ],
 "metadata": {
  "kernelspec": {
   "display_name": "Python 3",
   "language": "python",
   "name": "python3"
  },
  "language_info": {
   "codemirror_mode": {
    "name": "ipython",
    "version": 3
   },
   "file_extension": ".py",
   "mimetype": "text/x-python",
   "name": "python",
   "nbconvert_exporter": "python",
   "pygments_lexer": "ipython3",
   "version": "3.8.8"
  }
 },
 "nbformat": 4,
 "nbformat_minor": 5
}
