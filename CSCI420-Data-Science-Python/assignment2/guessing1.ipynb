{
 "cells": [
  {
   "cell_type": "code",
   "execution_count": null,
   "metadata": {},
   "outputs": [],
   "source": [
    "import random\n",
    "\n",
    "rand_num = random.randint(1, 10)\n",
    "\n",
    "for i in range(5): \n",
    "    num = int (input(\"please enter your integer guess: \"))\n",
    "    if num == rand_num: \n",
    "        print(f\"Congratulations! You guessed the number in {i+1} attempts\")\n",
    "        break\n",
    "    elif num > rand_num:\n",
    "        print(\"Your number is too high. Try again.\") \n",
    "    elif num < rand_num:\n",
    "        print(\"Your number is too low.  Try again.\")\n",
    "    elif i == 4: \n",
    "        print(\"Sorry you failed\")"
   ]
  }
 ],
 "metadata": {
  "language_info": {
   "name": "python"
  },
  "orig_nbformat": 4
 },
 "nbformat": 4,
 "nbformat_minor": 2
}
