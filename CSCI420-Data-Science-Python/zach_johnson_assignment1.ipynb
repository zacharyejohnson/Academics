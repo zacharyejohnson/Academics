{
 "cells": [
  {
   "cell_type": "code",
   "execution_count": 8,
   "id": "48c09c2f",
   "metadata": {},
   "outputs": [],
   "source": [
    "def add_or_concatenate(a,b):\n",
    "    a_type = type(a)\n",
    "    b_type = type(b)\n",
    "    \n",
    "    if(a_type == int and b_type == int): \n",
    "        print( a + b)\n",
    "    \n",
    "    if(a_type == str and b_type == str): \n",
    "        print(a + \" \" + b)\n",
    "    \n",
    "    if(a_type != b_type or (b_type != str and b_type != int) or (a_type != str and a_type != int) ): \n",
    "        print(\"a and b must be either two integers or two strings\")"
   ]
  },
  {
   "cell_type": "code",
   "execution_count": 9,
   "id": "0d85b0b4",
   "metadata": {},
   "outputs": [
    {
     "name": "stdout",
     "output_type": "stream",
     "text": [
      "9\n"
     ]
    }
   ],
   "source": [
    "add_or_concatenate(4,5)"
   ]
  },
  {
   "cell_type": "code",
   "execution_count": 10,
   "id": "f7a14e3f",
   "metadata": {},
   "outputs": [
    {
     "name": "stdout",
     "output_type": "stream",
     "text": [
      "first second\n"
     ]
    }
   ],
   "source": [
    "add_or_concatenate('first', 'second')"
   ]
  },
  {
   "cell_type": "code",
   "execution_count": 11,
   "id": "859a2418",
   "metadata": {},
   "outputs": [
    {
     "name": "stdout",
     "output_type": "stream",
     "text": [
      "a and b must be either two integers or two strings\n"
     ]
    }
   ],
   "source": [
    "add_or_concatenate('potato', 4)"
   ]
  },
  {
   "cell_type": "code",
   "execution_count": 12,
   "id": "d72ba2d6",
   "metadata": {},
   "outputs": [
    {
     "name": "stdout",
     "output_type": "stream",
     "text": [
      "a and b must be either two integers or two strings\n"
     ]
    }
   ],
   "source": [
    "add_or_concatenate(4.5, 5)\n",
    "#this does not work because 4.5 is a float"
   ]
  }
 ],
 "metadata": {
  "kernelspec": {
   "display_name": "Python 3",
   "language": "python",
   "name": "python3"
  },
  "language_info": {
   "codemirror_mode": {
    "name": "ipython",
    "version": 3
   },
   "file_extension": ".py",
   "mimetype": "text/x-python",
   "name": "python",
   "nbconvert_exporter": "python",
   "pygments_lexer": "ipython3",
   "version": "3.8.8"
  }
 },
 "nbformat": 4,
 "nbformat_minor": 5
}
