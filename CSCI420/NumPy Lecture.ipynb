{
 "cells": [
  {
   "cell_type": "markdown",
   "id": "e7cd6c72",
   "metadata": {},
   "source": [
    "# NumPy: Designed for Efficiency Across Large Datasets"
   ]
  },
  {
   "cell_type": "code",
   "execution_count": 4,
   "id": "42ef7ef0",
   "metadata": {},
   "outputs": [],
   "source": [
    "import numpy as np "
   ]
  },
  {
   "cell_type": "code",
   "execution_count": 2,
   "id": "a92d4acd",
   "metadata": {},
   "outputs": [
    {
     "name": "stdout",
     "output_type": "stream",
     "text": [
      "877 ms ± 45.7 ms per loop (mean ± std. dev. of 7 runs, 1 loop each)\n"
     ]
    }
   ],
   "source": [
    "my_list = list(range(1000000))\n",
    "%timeit for _ in range(10): my_list2 = [2*x for x in my_list]"
   ]
  },
  {
   "cell_type": "code",
   "execution_count": 3,
   "id": "8b5fa489",
   "metadata": {},
   "outputs": [
    {
     "name": "stdout",
     "output_type": "stream",
     "text": [
      "15.1 ms ± 242 µs per loop (mean ± std. dev. of 7 runs, 100 loops each)\n"
     ]
    }
   ],
   "source": [
    "my_arr = np.arange(1000000)\n",
    "%timeit for _ in range(10): my_arr2 = my_arr * 2"
   ]
  },
  {
   "cell_type": "markdown",
   "id": "09edbb8d",
   "metadata": {},
   "source": [
    "NumPy performs orders of maginitude better across large datasets"
   ]
  },
  {
   "cell_type": "markdown",
   "id": "6768fcaf",
   "metadata": {},
   "source": [
    "### ndarray: N-Dimensional Array\n",
    "\n",
    "* Enables eficient computations in batch \n",
    "* All elements much be same type"
   ]
  },
  {
   "cell_type": "code",
   "execution_count": 10,
   "id": "7978f53b",
   "metadata": {},
   "outputs": [],
   "source": [
    "data = np.random.randn(2,3)"
   ]
  },
  {
   "cell_type": "code",
   "execution_count": 11,
   "id": "364496d7",
   "metadata": {},
   "outputs": [
    {
     "data": {
      "text/plain": [
       "array([[ 0.46843711, -0.23867673, -0.07654609],\n",
       "       [ 1.94541469,  1.27081633,  0.0345795 ]])"
      ]
     },
     "execution_count": 11,
     "metadata": {},
     "output_type": "execute_result"
    }
   ],
   "source": [
    "data"
   ]
  },
  {
   "cell_type": "code",
   "execution_count": 12,
   "id": "00da02fb",
   "metadata": {},
   "outputs": [
    {
     "data": {
      "text/plain": [
       "array([[ 4.68437108, -2.3867673 , -0.76546095],\n",
       "       [19.45414693, 12.70816328,  0.34579495]])"
      ]
     },
     "execution_count": 12,
     "metadata": {},
     "output_type": "execute_result"
    }
   ],
   "source": [
    "data * 10"
   ]
  },
  {
   "cell_type": "code",
   "execution_count": 13,
   "id": "4ab75073",
   "metadata": {},
   "outputs": [
    {
     "data": {
      "text/plain": [
       "(2, 3)"
      ]
     },
     "execution_count": 13,
     "metadata": {},
     "output_type": "execute_result"
    }
   ],
   "source": [
    "data.shape"
   ]
  },
  {
   "cell_type": "code",
   "execution_count": 14,
   "id": "eb90c173",
   "metadata": {},
   "outputs": [
    {
     "data": {
      "text/plain": [
       "2"
      ]
     },
     "execution_count": 14,
     "metadata": {},
     "output_type": "execute_result"
    }
   ],
   "source": [
    "data.ndim"
   ]
  },
  {
   "cell_type": "code",
   "execution_count": 15,
   "id": "c91d436f",
   "metadata": {},
   "outputs": [
    {
     "data": {
      "text/plain": [
       "6"
      ]
     },
     "execution_count": 15,
     "metadata": {},
     "output_type": "execute_result"
    }
   ],
   "source": [
    "data.size"
   ]
  },
  {
   "cell_type": "markdown",
   "id": "d630b16c",
   "metadata": {},
   "source": [
    "#### Creating np arrays from python arrays: "
   ]
  },
  {
   "cell_type": "code",
   "execution_count": 24,
   "id": "0d6028cb",
   "metadata": {},
   "outputs": [],
   "source": [
    "data1 = [1,2,3,4,5,6,7,8,9]; data2 = [[1,2,3,4], [5,6,7,8]]"
   ]
  },
  {
   "cell_type": "code",
   "execution_count": 26,
   "id": "e5724243",
   "metadata": {},
   "outputs": [
    {
     "data": {
      "text/plain": [
       "(list, list)"
      ]
     },
     "execution_count": 26,
     "metadata": {},
     "output_type": "execute_result"
    }
   ],
   "source": [
    "type(data1), type(data2)"
   ]
  },
  {
   "cell_type": "code",
   "execution_count": 27,
   "id": "efab6bc4",
   "metadata": {},
   "outputs": [],
   "source": [
    "arr, arr2 = np.array(data1), np.array(data2)"
   ]
  },
  {
   "cell_type": "code",
   "execution_count": 28,
   "id": "a54fe961",
   "metadata": {},
   "outputs": [
    {
     "data": {
      "text/plain": [
       "(array([1, 2, 3, 4, 5, 6, 7, 8, 9]),\n",
       " array([[1, 2, 3, 4],\n",
       "        [5, 6, 7, 8]]))"
      ]
     },
     "execution_count": 28,
     "metadata": {},
     "output_type": "execute_result"
    }
   ],
   "source": [
    "arr, arr2"
   ]
  },
  {
   "cell_type": "code",
   "execution_count": 29,
   "id": "8d2eb8b9",
   "metadata": {},
   "outputs": [
    {
     "data": {
      "text/plain": [
       "(numpy.ndarray, numpy.ndarray)"
      ]
     },
     "execution_count": 29,
     "metadata": {},
     "output_type": "execute_result"
    }
   ],
   "source": [
    "type(arr), type(arr2)"
   ]
  },
  {
   "cell_type": "markdown",
   "id": "99f4de9b",
   "metadata": {},
   "source": [
    "npArrays do not copy, they are views of the existing array"
   ]
  }
 ],
 "metadata": {
  "kernelspec": {
   "display_name": "Python 3",
   "language": "python",
   "name": "python3"
  },
  "language_info": {
   "codemirror_mode": {
    "name": "ipython",
    "version": 3
   },
   "file_extension": ".py",
   "mimetype": "text/x-python",
   "name": "python",
   "nbconvert_exporter": "python",
   "pygments_lexer": "ipython3",
   "version": "3.8.8"
  }
 },
 "nbformat": 4,
 "nbformat_minor": 5
}
