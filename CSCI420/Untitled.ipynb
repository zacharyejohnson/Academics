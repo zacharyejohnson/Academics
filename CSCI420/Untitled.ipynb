{
 "cells": [
  {
   "cell_type": "markdown",
   "id": "dd3a1fb0",
   "metadata": {},
   "source": [
    "# Python Language Basics"
   ]
  },
  {
   "cell_type": "markdown",
   "id": "77490976",
   "metadata": {},
   "source": [
    " - Semicolon can be used to separate multiple commands in same line "
   ]
  },
  {
   "cell_type": "code",
   "execution_count": 2,
   "id": "d51e1c3c",
   "metadata": {},
   "outputs": [
    {
     "name": "stdout",
     "output_type": "stream",
     "text": [
      "5 6 7\n"
     ]
    }
   ],
   "source": [
    "a = 5; b = 6; c = 7; \n",
    "print(a,b,c)"
   ]
  },
  {
   "cell_type": "markdown",
   "id": "f473e01f",
   "metadata": {},
   "source": [
    "### Reference or Copy\n",
    "\n",
    "- Assignment crates a reference, not a copy. When we say b = a, this makes b point to the same object. There is only one copy of the object. Hence, if one is changed, they will both be changed since they point to the same spot in memory. "
   ]
  },
  {
   "cell_type": "code",
   "execution_count": 4,
   "id": "09907c36",
   "metadata": {},
   "outputs": [
    {
     "data": {
      "text/plain": [
       "([1, 2, 3], [1, 2, 3])"
      ]
     },
     "execution_count": 4,
     "metadata": {},
     "output_type": "execute_result"
    }
   ],
   "source": [
    "a = [1,2,3]\n",
    "b = a\n",
    "b, a"
   ]
  },
  {
   "cell_type": "code",
   "execution_count": 5,
   "id": "8d0d0d2c",
   "metadata": {},
   "outputs": [
    {
     "data": {
      "text/plain": [
       "[1, 2, 3, 5]"
      ]
     },
     "execution_count": 5,
     "metadata": {},
     "output_type": "execute_result"
    }
   ],
   "source": [
    "# b has created a reference to the same object not a new object\n",
    "b.append(5)\n",
    "b"
   ]
  },
  {
   "cell_type": "code",
   "execution_count": 6,
   "id": "4867bff2",
   "metadata": {},
   "outputs": [
    {
     "data": {
      "text/plain": [
       "[1, 2, 3, 5]"
      ]
     },
     "execution_count": 6,
     "metadata": {},
     "output_type": "execute_result"
    }
   ],
   "source": [
    "a"
   ]
  },
  {
   "cell_type": "markdown",
   "id": "5322f71d",
   "metadata": {},
   "source": [
    "### With integer"
   ]
  },
  {
   "cell_type": "code",
   "execution_count": 7,
   "id": "985b125b",
   "metadata": {},
   "outputs": [],
   "source": [
    "c = 1"
   ]
  },
  {
   "cell_type": "code",
   "execution_count": 8,
   "id": "7e6caba8",
   "metadata": {},
   "outputs": [],
   "source": [
    "d = c"
   ]
  },
  {
   "cell_type": "code",
   "execution_count": 9,
   "id": "06c863b0",
   "metadata": {},
   "outputs": [],
   "source": [
    "d = 2"
   ]
  },
  {
   "cell_type": "code",
   "execution_count": 10,
   "id": "13b893a8",
   "metadata": {},
   "outputs": [
    {
     "name": "stdout",
     "output_type": "stream",
     "text": [
      "1 2\n"
     ]
    }
   ],
   "source": [
    "print(c,d)"
   ]
  },
  {
   "cell_type": "markdown",
   "id": "f947eaf0",
   "metadata": {},
   "source": [
    "the assignment of d = 2 has changed the reference of d to the integer 2, it was previosly 1. "
   ]
  },
  {
   "cell_type": "markdown",
   "id": "175f0cc6",
   "metadata": {},
   "source": [
    "Operations on the object that a reference points to (object methods) do not change the object reference and hence .append causes both a and b to change but new assignment d = 2 causes c and d to be different. "
   ]
  },
  {
   "cell_type": "markdown",
   "id": "1ae81150",
   "metadata": {},
   "source": [
    "Test"
   ]
  },
  {
   "cell_type": "code",
   "execution_count": 11,
   "id": "34e1dae8",
   "metadata": {},
   "outputs": [
    {
     "data": {
      "text/plain": [
       "True"
      ]
     },
     "execution_count": 11,
     "metadata": {},
     "output_type": "execute_result"
    }
   ],
   "source": [
    "e = 4\n",
    "f = e\n",
    "e is f"
   ]
  },
  {
   "cell_type": "code",
   "execution_count": 12,
   "id": "c0a33979",
   "metadata": {},
   "outputs": [
    {
     "data": {
      "text/plain": [
       "True"
      ]
     },
     "execution_count": 12,
     "metadata": {},
     "output_type": "execute_result"
    }
   ],
   "source": [
    "a is b"
   ]
  },
  {
   "cell_type": "code",
   "execution_count": 13,
   "id": "4c326d86",
   "metadata": {},
   "outputs": [
    {
     "data": {
      "text/plain": [
       "False"
      ]
     },
     "execution_count": 13,
     "metadata": {},
     "output_type": "execute_result"
    }
   ],
   "source": [
    "c is d "
   ]
  },
  {
   "cell_type": "markdown",
   "id": "11689f34",
   "metadata": {},
   "source": [
    "# Functions"
   ]
  },
  {
   "cell_type": "code",
   "execution_count": 23,
   "id": "1b073edd",
   "metadata": {},
   "outputs": [],
   "source": [
    "def append_element(list_arg, element): \n",
    "    \"\"\" adds element to end of list\"\"\"\n",
    "    list_arg.append(element)\n",
    "    new_list = list_arg\n",
    "    new_list.append(5)\n",
    "    return None "
   ]
  },
  {
   "cell_type": "code",
   "execution_count": 24,
   "id": "90ac072f",
   "metadata": {},
   "outputs": [],
   "source": [
    "data = [1,2,3]\n",
    "append_element(data, 4)"
   ]
  },
  {
   "cell_type": "code",
   "execution_count": 25,
   "id": "7eb18f44",
   "metadata": {},
   "outputs": [
    {
     "data": {
      "text/plain": [
       "[1, 2, 3, 4, 5]"
      ]
     },
     "execution_count": 25,
     "metadata": {},
     "output_type": "execute_result"
    }
   ],
   "source": [
    "data"
   ]
  },
  {
   "cell_type": "markdown",
   "id": "0c0c17ca",
   "metadata": {},
   "source": [
    "the value of variables outside the function can be changed within the function - not encapsulated"
   ]
  },
  {
   "cell_type": "code",
   "execution_count": 47,
   "id": "565b63e0",
   "metadata": {},
   "outputs": [],
   "source": [
    "b = 2\n",
    "data = [1,2,3]"
   ]
  },
  {
   "cell_type": "code",
   "execution_count": 48,
   "id": "f41ea1a0",
   "metadata": {},
   "outputs": [],
   "source": [
    "def append_element2(list_arg, element): \n",
    "    \"\"\" adds element to end of list\"\"\"\n",
    "    list_arg.append(element)\n",
    "    new_list = list_arg\n",
    "    new_list.append(5)\n",
    "    #randomly assign b new value\n",
    "    b = 5\n",
    "    return None "
   ]
  },
  {
   "cell_type": "code",
   "execution_count": 49,
   "id": "32ca8eda",
   "metadata": {},
   "outputs": [],
   "source": [
    "append_element2(data, 4)"
   ]
  },
  {
   "cell_type": "code",
   "execution_count": 50,
   "id": "8776f69f",
   "metadata": {},
   "outputs": [
    {
     "name": "stdout",
     "output_type": "stream",
     "text": [
      "[1, 2, 3, 4, 5] 2\n"
     ]
    }
   ],
   "source": [
    "print(data, b)"
   ]
  },
  {
   "cell_type": "markdown",
   "id": "9027a6af",
   "metadata": {},
   "source": [
    "the b = 5 in the append_element2 function does not enter the main function's mainspace. Functions and the program's main function has different namespaces that hold their own variables. Only the main functions variables passed to the function will be changed by it. "
   ]
  },
  {
   "cell_type": "markdown",
   "id": "36f8faab",
   "metadata": {},
   "source": [
    "### == versus is"
   ]
  },
  {
   "cell_type": "code",
   "execution_count": 66,
   "id": "0c753cf5",
   "metadata": {},
   "outputs": [],
   "source": [
    "e = [1,2]\n",
    "f = [1,2]"
   ]
  },
  {
   "cell_type": "markdown",
   "id": "7963690c",
   "metadata": {},
   "source": [
    "is tells if references point to same object memory"
   ]
  },
  {
   "cell_type": "code",
   "execution_count": 67,
   "id": "de2d7c45",
   "metadata": {},
   "outputs": [
    {
     "data": {
      "text/plain": [
       "False"
      ]
     },
     "execution_count": 67,
     "metadata": {},
     "output_type": "execute_result"
    }
   ],
   "source": [
    "e is f"
   ]
  },
  {
   "cell_type": "markdown",
   "id": "31a335d7",
   "metadata": {},
   "source": [
    "== tells if content is equal"
   ]
  },
  {
   "cell_type": "code",
   "execution_count": 68,
   "id": "0c61c678",
   "metadata": {},
   "outputs": [
    {
     "data": {
      "text/plain": [
       "True"
      ]
     },
     "execution_count": 68,
     "metadata": {},
     "output_type": "execute_result"
    }
   ],
   "source": [
    "e == f"
   ]
  },
  {
   "cell_type": "code",
   "execution_count": 76,
   "id": "ab0a63de",
   "metadata": {},
   "outputs": [
    {
     "data": {
      "text/plain": [
       "13.0"
      ]
     },
     "execution_count": 76,
     "metadata": {},
     "output_type": "execute_result"
    }
   ],
   "source": [
    ".27*-10+.12*0+.26*20+.35*30"
   ]
  },
  {
   "cell_type": "code",
   "execution_count": 70,
   "id": "5f935bdd",
   "metadata": {},
   "outputs": [
    {
     "data": {
      "text/plain": [
       "34.7"
      ]
     },
     "execution_count": 70,
     "metadata": {},
     "output_type": "execute_result"
    }
   ],
   "source": [
    ".51*20+.49*50"
   ]
  },
  {
   "cell_type": "code",
   "execution_count": 71,
   "id": "c227b8ba",
   "metadata": {},
   "outputs": [
    {
     "data": {
      "text/plain": [
       "5.2"
      ]
     },
     "execution_count": 71,
     "metadata": {},
     "output_type": "execute_result"
    }
   ],
   "source": [
    ".26*20"
   ]
  },
  {
   "cell_type": "code",
   "execution_count": 72,
   "id": "40ba88ab",
   "metadata": {},
   "outputs": [
    {
     "data": {
      "text/plain": [
       "10.5"
      ]
     },
     "execution_count": 72,
     "metadata": {},
     "output_type": "execute_result"
    }
   ],
   "source": [
    ".35*30"
   ]
  },
  {
   "cell_type": "code",
   "execution_count": 82,
   "id": "30207425",
   "metadata": {},
   "outputs": [
    {
     "data": {
      "text/plain": [
       "277.0"
      ]
     },
     "execution_count": 82,
     "metadata": {},
     "output_type": "execute_result"
    }
   ],
   "source": [
    "(-10)**2*.27+(0)**2+(20)**2*.26+(30)**2*.35 -(13**2)"
   ]
  },
  {
   "cell_type": "code",
   "execution_count": 83,
   "id": "8b916c42",
   "metadata": {},
   "outputs": [
    {
     "data": {
      "text/plain": [
       "224.90999999999985"
      ]
     },
     "execution_count": 83,
     "metadata": {},
     "output_type": "execute_result"
    }
   ],
   "source": [
    ".51*(20**2) + .49*(50)**2 - 34.7**2"
   ]
  },
  {
   "cell_type": "code",
   "execution_count": 84,
   "id": "f16c8ff0",
   "metadata": {},
   "outputs": [],
   "source": [
    "import numpy as np "
   ]
  },
  {
   "cell_type": "code",
   "execution_count": 86,
   "id": "ac2d371a",
   "metadata": {},
   "outputs": [
    {
     "data": {
      "text/plain": [
       "14.996999699939986"
      ]
     },
     "execution_count": 86,
     "metadata": {},
     "output_type": "execute_result"
    }
   ],
   "source": [
    "np.sqrt(224.91)"
   ]
  }
 ],
 "metadata": {
  "kernelspec": {
   "display_name": "Python 3",
   "language": "python",
   "name": "python3"
  },
  "language_info": {
   "codemirror_mode": {
    "name": "ipython",
    "version": 3
   },
   "file_extension": ".py",
   "mimetype": "text/x-python",
   "name": "python",
   "nbconvert_exporter": "python",
   "pygments_lexer": "ipython3",
   "version": "3.8.8"
  }
 },
 "nbformat": 4,
 "nbformat_minor": 5
}
