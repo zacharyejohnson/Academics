{
 "cells": [
  {
   "cell_type": "markdown",
   "id": "9f1da541",
   "metadata": {},
   "source": [
    "# \"Learning to code\" "
   ]
  },
  {
   "cell_type": "markdown",
   "id": "34984bcf",
   "metadata": {},
   "source": [
    "#### a few new concepts to warm up: \n",
    "###### Strings are a data type that interperets letters and numbers as text, not numbers \n",
    "###### print() is Uber important becuase it allows us to dislay output on a clients screen \n",
    "###### running script in jupyter notebook is accomplished by pressing control + enter or the run button \n"
   ]
  },
  {
   "cell_type": "code",
   "execution_count": 1,
   "id": "0528b2d3",
   "metadata": {},
   "outputs": [
    {
     "name": "stdout",
     "output_type": "stream",
     "text": [
      "This is my first program\n"
     ]
    }
   ],
   "source": [
    "# Lets practice: \n",
    "s = \"This is my first program\"  # creation of a string object \n",
    "print(s)                        # calling the string and printing "
   ]
  },
  {
   "cell_type": "markdown",
   "id": "00c013fa",
   "metadata": {},
   "source": [
    "the print method can also directly call strings of text that arent variables "
   ]
  },
  {
   "cell_type": "code",
   "execution_count": 2,
   "id": "16693223",
   "metadata": {},
   "outputs": [
    {
     "name": "stdout",
     "output_type": "stream",
     "text": [
      "Hello\n"
     ]
    }
   ],
   "source": [
    "print(\"Hello\")"
   ]
  },
  {
   "cell_type": "markdown",
   "id": "07176198",
   "metadata": {},
   "source": [
    "### Some string methods: "
   ]
  },
  {
   "cell_type": "markdown",
   "id": "cdfb25ef",
   "metadata": {},
   "source": [
    "it is important to mention that methods are called using \"dot notation\". I can call a method that 'does something' on a variable, i.e. 'X', by this \"dot notation\": X.methodName()"
   ]
  },
  {
   "cell_type": "code",
   "execution_count": 3,
   "id": "0a61a8a2",
   "metadata": {},
   "outputs": [
    {
     "name": "stdout",
     "output_type": "stream",
     "text": [
      "econ411 is going to be such a sweet class\n"
     ]
    }
   ],
   "source": [
    "# string to be used for manipulation: \n",
    "str0 = \"econ411 is going to be such a sweet class\"\n",
    "print(str0)"
   ]
  },
  {
   "cell_type": "code",
   "execution_count": 4,
   "id": "7b404df3",
   "metadata": {},
   "outputs": [
    {
     "name": "stdout",
     "output_type": "stream",
     "text": [
      "ECON411 IS GOING TO BE SUCH A SWEET CLASS\n"
     ]
    },
    {
     "data": {
      "text/plain": [
       "'Econ411 Is Going To Be Such A Sweet Class'"
      ]
     },
     "execution_count": 4,
     "metadata": {},
     "output_type": "execute_result"
    }
   ],
   "source": [
    "# the .upper() method capitalizes the string: \n",
    "print(str0.upper())\n",
    "# the .title() method capitalizes the first letter of each word: \n",
    "str0.title()"
   ]
  },
  {
   "cell_type": "code",
   "execution_count": 5,
   "id": "fbb74f0c",
   "metadata": {},
   "outputs": [
    {
     "name": "stdout",
     "output_type": "stream",
     "text": [
      "econ411 is going to be such a sweet class as long as I can successfully learn Python.\n"
     ]
    }
   ],
   "source": [
    "# strings can be \"concatenated\"-- combined into one using the +\n",
    "str1 = \" as long as I can successfully learn Python.\"\n",
    "str2 = str0 + str1\n",
    "print(str2)"
   ]
  },
  {
   "cell_type": "code",
   "execution_count": 6,
   "id": "0a81649a",
   "metadata": {},
   "outputs": [
    {
     "name": "stdout",
     "output_type": "stream",
     "text": [
      "econ411 is going to be such a sweet class  as long as I can successfully learn Python.\n"
     ]
    }
   ],
   "source": [
    "# the print function can take multiple arguments, separated by a comma\n",
    "# and it will print them both out without changing them: \n",
    "print(str0, str1)\n"
   ]
  },
  {
   "cell_type": "code",
   "execution_count": 7,
   "id": "ff84fd8b",
   "metadata": {},
   "outputs": [
    {
     "name": "stdout",
     "output_type": "stream",
     "text": [
      " this string needs a \n",
      " new line\n"
     ]
    }
   ],
   "source": [
    "# escape sequences are not printed in the string but signal the string \n",
    "# format to do something-- \\n starts a new line in the string, \n",
    "#                          \\\" adds quotes to the string \n",
    "print(\" this string needs a \\n new line\")\n"
   ]
  },
  {
   "cell_type": "code",
   "execution_count": 8,
   "id": "a7c0aa52",
   "metadata": {},
   "outputs": [
    {
     "name": "stdout",
     "output_type": "stream",
     "text": [
      "this string needs some \"Quotes\"\n"
     ]
    }
   ],
   "source": [
    "print(\"this string needs some \\\"Quotes\\\"\")"
   ]
  },
  {
   "cell_type": "code",
   "execution_count": 9,
   "id": "7e0b97a3",
   "metadata": {},
   "outputs": [
    {
     "name": "stdout",
     "output_type": "stream",
     "text": [
      "econ411 is going to be such a sweet class\n",
      " as long as I can successfully learn Python.\n",
      "econ411 is going to be such a sweet class as long as I can successfully learn Python.\n"
     ]
    }
   ],
   "source": [
    "# the print method lets us specify the separator it willl insert between\n",
    "# arguments that we pass it: \n",
    "\n",
    "print(str0, str1, str2, sep = \"\\n\")"
   ]
  },
  {
   "cell_type": "markdown",
   "id": "12811123",
   "metadata": {},
   "source": [
    "### Other escape sequences: \n",
    "###### \"\\\\\"\tBackslash\n",
    "###### '\\\\''\tSingle Quote\n",
    "###### \"\\\\\"\"\tDouble Quote\n",
    "###### \"\\t\"\tHorizontal Tab\n",
    "###### \"\\n\"\tNew Line\n"
   ]
  },
  {
   "cell_type": "markdown",
   "id": "1051ca93",
   "metadata": {},
   "source": [
    "### Other string functions: \n",
    " ##### String Methods (more) i.e., str.lstrip(), str.rstrip(), str.strip(), str.replace()\tstr.lstrip(): remove spaces on the far left; str.rstrip(): remove spaces on the far right; str.strip(): remove spaces on the left and right of text object; str.replace(target, replace): replace instances of target string with replace string"
   ]
  },
  {
   "cell_type": "markdown",
   "id": "280416e4",
   "metadata": {},
   "source": [
    "# WORKING WITH NUMBERS: "
   ]
  },
  {
   "cell_type": "markdown",
   "id": "36a914ec",
   "metadata": {},
   "source": [
    "### There are a couple different datatypes that deal with numbers: \n",
    "#### Integers: Whole numbers\n",
    "#### Floats: numbers with decimal places\n",
    "\n",
    "### Other concepts that will pop up: \n",
    "#### Errors: occur when a script is unable to be executed\n",
    "#### Typecasting: specifying manually which datatype you want a variable to be \n",
    "#### Modules: allow user to use programs that have already been created. Need to be imported at beginning of script. Popular python modules include 'Pandas', 'NumPy', 'Matplotlib', and more. \n",
    "#### Overflow error: a type of error thatr occurs when you tell the computer to use one data type but actually call on one that uses more memory. "
   ]
  },
  {
   "cell_type": "markdown",
   "id": "72afdd8f",
   "metadata": {},
   "source": [
    "#### in python, you do not need to explitly declare variable types \n"
   ]
  },
  {
   "cell_type": "code",
   "execution_count": 10,
   "id": "18fb1573",
   "metadata": {},
   "outputs": [
    {
     "name": "stdout",
     "output_type": "stream",
     "text": [
      "num1: 12 \n",
      "num1s: 48\n"
     ]
    }
   ],
   "source": [
    "# This exercise illustrates the difference between strings and integers:\n",
    "#integersVsStrings.py\n",
    "\n",
    "num1 = 4 + 8\n",
    "num1s = \"4\" + \"8\"\n",
    "\n",
    "print(\"num1:\", num1,\"\\nnum1s:\", num1s)"
   ]
  },
  {
   "cell_type": "markdown",
   "id": "030fe2c6",
   "metadata": {},
   "source": [
    "as you can see, the integers have numerical operations perfomed on them but the strings are left as-is and treated as plain text with no numerical value."
   ]
  },
  {
   "cell_type": "code",
   "execution_count": 11,
   "id": "e998901c",
   "metadata": {},
   "outputs": [
    {
     "name": "stdout",
     "output_type": "stream",
     "text": [
      "num1: 1.6666666666666667 \n",
      "num2: 1.25 \n",
      "num3: 1.3333333333333333\n"
     ]
    }
   ],
   "source": [
    "# Floats demo: \n",
    "#floats.py\n",
    "num1 = 5 / 3\n",
    "num2 = 5 / 4\n",
    "num3 = 4 / 3\n",
    "\n",
    "print(\"num1:\", num1, \"\\nnum2:\", num2, \"\\nnum3:\", num3)"
   ]
  },
  {
   "cell_type": "code",
   "execution_count": 12,
   "id": "7ecd785a",
   "metadata": {},
   "outputs": [
    {
     "ename": "TypeError",
     "evalue": "can only concatenate str (not \"float\") to str",
     "output_type": "error",
     "traceback": [
      "\u001b[1;31m---------------------------------------------------------------------------\u001b[0m",
      "\u001b[1;31mTypeError\u001b[0m                                 Traceback (most recent call last)",
      "\u001b[1;32m<ipython-input-12-42d592ebb1e9>\u001b[0m in \u001b[0;36m<module>\u001b[1;34m\u001b[0m\n\u001b[0;32m      6\u001b[0m \u001b[0msum_nums\u001b[0m \u001b[1;33m=\u001b[0m \u001b[0mnum1\u001b[0m \u001b[1;33m+\u001b[0m \u001b[0mnum2\u001b[0m \u001b[1;33m+\u001b[0m \u001b[0mnum3\u001b[0m\u001b[1;33m\u001b[0m\u001b[1;33m\u001b[0m\u001b[0m\n\u001b[0;32m      7\u001b[0m \u001b[1;33m\u001b[0m\u001b[0m\n\u001b[1;32m----> 8\u001b[1;33m \u001b[0mprint\u001b[0m\u001b[1;33m(\u001b[0m\u001b[1;34m\"num1 + num2 + num3: \"\u001b[0m \u001b[1;33m+\u001b[0m \u001b[0msum_nums\u001b[0m\u001b[1;33m)\u001b[0m\u001b[1;33m\u001b[0m\u001b[1;33m\u001b[0m\u001b[0m\n\u001b[0m",
      "\u001b[1;31mTypeError\u001b[0m: can only concatenate str (not \"float\") to str"
     ]
    }
   ],
   "source": [
    "# Errors demo: \n",
    "#printError.py\n",
    "num1 = 5 / 3\n",
    "num2 = 5 / 4\n",
    "num3 = 4 / 3\n",
    "sum_nums = num1 + num2 + num3\n",
    "\n",
    "print(\"num1 + num2 + num3: \" + sum_nums)"
   ]
  },
  {
   "cell_type": "markdown",
   "id": "a8d1403d",
   "metadata": {},
   "source": [
    "Above, we tried to concatenate a string variable and a float variable. This is not allowed, as python has no idea how to combine those two datatypes. This causes an error. We can fix this by castinf sumNums as a string: "
   ]
  },
  {
   "cell_type": "code",
   "execution_count": 13,
   "id": "1ba184f1",
   "metadata": {},
   "outputs": [
    {
     "name": "stdout",
     "output_type": "stream",
     "text": [
      "num1 + num2 + num3: 4.25\n"
     ]
    }
   ],
   "source": [
    "#castString.py\n",
    "num1 = 5 / 3\n",
    "num2 = 5 / 4\n",
    "num3 = 4 / 3\n",
    "sum_nums = num1 + num2 + num3\n",
    "\n",
    "print(\"num1 + num2 + num3: \" + str(sum_nums))"
   ]
  }
 ],
 "metadata": {
  "kernelspec": {
   "display_name": "Python 3",
   "language": "python",
   "name": "python3"
  },
  "language_info": {
   "codemirror_mode": {
    "name": "ipython",
    "version": 3
   },
   "file_extension": ".py",
   "mimetype": "text/x-python",
   "name": "python",
   "nbconvert_exporter": "python",
   "pygments_lexer": "ipython3",
   "version": "3.8.8"
  }
 },
 "nbformat": 4,
 "nbformat_minor": 5
}
