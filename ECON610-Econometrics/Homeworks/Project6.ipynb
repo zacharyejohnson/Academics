{
 "cells": [
  {
   "cell_type": "code",
   "execution_count": 20,
   "id": "03d53ea2",
   "metadata": {},
   "outputs": [],
   "source": [
    "import pandas as pd \n",
    "import statsmodels.api as sm \n",
    "import numpy as np \n",
    "import statsmodels.stats.diagnostic as sms"
   ]
  },
  {
   "cell_type": "code",
   "execution_count": 2,
   "id": "9eacbc97",
   "metadata": {},
   "outputs": [],
   "source": [
    "data = pd.read_stata(\"Project6a.dta\")"
   ]
  },
  {
   "cell_type": "code",
   "execution_count": 3,
   "id": "6004d6f2",
   "metadata": {},
   "outputs": [
    {
     "data": {
      "text/html": [
       "<div>\n",
       "<style scoped>\n",
       "    .dataframe tbody tr th:only-of-type {\n",
       "        vertical-align: middle;\n",
       "    }\n",
       "\n",
       "    .dataframe tbody tr th {\n",
       "        vertical-align: top;\n",
       "    }\n",
       "\n",
       "    .dataframe thead th {\n",
       "        text-align: right;\n",
       "    }\n",
       "</style>\n",
       "<table border=\"1\" class=\"dataframe\">\n",
       "  <thead>\n",
       "    <tr style=\"text-align: right;\">\n",
       "      <th></th>\n",
       "      <th>state</th>\n",
       "      <th>district</th>\n",
       "      <th>democA</th>\n",
       "      <th>voteA</th>\n",
       "      <th>expendA</th>\n",
       "      <th>expendB</th>\n",
       "      <th>prtystrA</th>\n",
       "      <th>lexpendA</th>\n",
       "      <th>lexpendB</th>\n",
       "      <th>shareA</th>\n",
       "    </tr>\n",
       "  </thead>\n",
       "  <tbody>\n",
       "    <tr>\n",
       "      <th>0</th>\n",
       "      <td>AL</td>\n",
       "      <td>7</td>\n",
       "      <td>1</td>\n",
       "      <td>68</td>\n",
       "      <td>328.295990</td>\n",
       "      <td>8.737000</td>\n",
       "      <td>41</td>\n",
       "      <td>5.793916</td>\n",
       "      <td>2.167567</td>\n",
       "      <td>97.407669</td>\n",
       "    </tr>\n",
       "    <tr>\n",
       "      <th>1</th>\n",
       "      <td>AK</td>\n",
       "      <td>1</td>\n",
       "      <td>0</td>\n",
       "      <td>62</td>\n",
       "      <td>626.377014</td>\n",
       "      <td>402.476990</td>\n",
       "      <td>60</td>\n",
       "      <td>6.439952</td>\n",
       "      <td>5.997638</td>\n",
       "      <td>60.881039</td>\n",
       "    </tr>\n",
       "    <tr>\n",
       "      <th>2</th>\n",
       "      <td>AZ</td>\n",
       "      <td>2</td>\n",
       "      <td>1</td>\n",
       "      <td>73</td>\n",
       "      <td>99.607002</td>\n",
       "      <td>3.065000</td>\n",
       "      <td>55</td>\n",
       "      <td>4.601233</td>\n",
       "      <td>1.120048</td>\n",
       "      <td>97.014763</td>\n",
       "    </tr>\n",
       "    <tr>\n",
       "      <th>3</th>\n",
       "      <td>AZ</td>\n",
       "      <td>3</td>\n",
       "      <td>0</td>\n",
       "      <td>69</td>\n",
       "      <td>319.690002</td>\n",
       "      <td>26.281000</td>\n",
       "      <td>64</td>\n",
       "      <td>5.767352</td>\n",
       "      <td>3.268846</td>\n",
       "      <td>92.403702</td>\n",
       "    </tr>\n",
       "    <tr>\n",
       "      <th>4</th>\n",
       "      <td>AR</td>\n",
       "      <td>3</td>\n",
       "      <td>0</td>\n",
       "      <td>75</td>\n",
       "      <td>159.220993</td>\n",
       "      <td>60.054001</td>\n",
       "      <td>66</td>\n",
       "      <td>5.070293</td>\n",
       "      <td>4.095244</td>\n",
       "      <td>72.612473</td>\n",
       "    </tr>\n",
       "    <tr>\n",
       "      <th>...</th>\n",
       "      <td>...</td>\n",
       "      <td>...</td>\n",
       "      <td>...</td>\n",
       "      <td>...</td>\n",
       "      <td>...</td>\n",
       "      <td>...</td>\n",
       "      <td>...</td>\n",
       "      <td>...</td>\n",
       "      <td>...</td>\n",
       "      <td>...</td>\n",
       "    </tr>\n",
       "    <tr>\n",
       "      <th>168</th>\n",
       "      <td>WV</td>\n",
       "      <td>4</td>\n",
       "      <td>0</td>\n",
       "      <td>39</td>\n",
       "      <td>32.039001</td>\n",
       "      <td>152.270996</td>\n",
       "      <td>42</td>\n",
       "      <td>3.466954</td>\n",
       "      <td>5.025662</td>\n",
       "      <td>17.383217</td>\n",
       "    </tr>\n",
       "    <tr>\n",
       "      <th>169</th>\n",
       "      <td>WI</td>\n",
       "      <td>3</td>\n",
       "      <td>1</td>\n",
       "      <td>32</td>\n",
       "      <td>22.625999</td>\n",
       "      <td>359.800995</td>\n",
       "      <td>53</td>\n",
       "      <td>3.119100</td>\n",
       "      <td>5.885551</td>\n",
       "      <td>5.916420</td>\n",
       "    </tr>\n",
       "    <tr>\n",
       "      <th>170</th>\n",
       "      <td>WI</td>\n",
       "      <td>5</td>\n",
       "      <td>0</td>\n",
       "      <td>36</td>\n",
       "      <td>197.460007</td>\n",
       "      <td>1278.526001</td>\n",
       "      <td>36</td>\n",
       "      <td>5.285536</td>\n",
       "      <td>7.153463</td>\n",
       "      <td>13.378174</td>\n",
       "    </tr>\n",
       "    <tr>\n",
       "      <th>171</th>\n",
       "      <td>WI</td>\n",
       "      <td>7</td>\n",
       "      <td>0</td>\n",
       "      <td>38</td>\n",
       "      <td>202.591003</td>\n",
       "      <td>450.716003</td>\n",
       "      <td>46</td>\n",
       "      <td>5.311189</td>\n",
       "      <td>6.110837</td>\n",
       "      <td>31.010078</td>\n",
       "    </tr>\n",
       "    <tr>\n",
       "      <th>172</th>\n",
       "      <td>WI</td>\n",
       "      <td>8</td>\n",
       "      <td>1</td>\n",
       "      <td>30</td>\n",
       "      <td>14.421000</td>\n",
       "      <td>227.822998</td>\n",
       "      <td>47</td>\n",
       "      <td>2.668685</td>\n",
       "      <td>5.428569</td>\n",
       "      <td>5.953087</td>\n",
       "    </tr>\n",
       "  </tbody>\n",
       "</table>\n",
       "<p>173 rows × 10 columns</p>\n",
       "</div>"
      ],
      "text/plain": [
       "    state  district  democA  voteA     expendA      expendB  prtystrA  \\\n",
       "0      AL         7       1     68  328.295990     8.737000        41   \n",
       "1      AK         1       0     62  626.377014   402.476990        60   \n",
       "2      AZ         2       1     73   99.607002     3.065000        55   \n",
       "3      AZ         3       0     69  319.690002    26.281000        64   \n",
       "4      AR         3       0     75  159.220993    60.054001        66   \n",
       "..    ...       ...     ...    ...         ...          ...       ...   \n",
       "168    WV         4       0     39   32.039001   152.270996        42   \n",
       "169    WI         3       1     32   22.625999   359.800995        53   \n",
       "170    WI         5       0     36  197.460007  1278.526001        36   \n",
       "171    WI         7       0     38  202.591003   450.716003        46   \n",
       "172    WI         8       1     30   14.421000   227.822998        47   \n",
       "\n",
       "     lexpendA  lexpendB     shareA  \n",
       "0    5.793916  2.167567  97.407669  \n",
       "1    6.439952  5.997638  60.881039  \n",
       "2    4.601233  1.120048  97.014763  \n",
       "3    5.767352  3.268846  92.403702  \n",
       "4    5.070293  4.095244  72.612473  \n",
       "..        ...       ...        ...  \n",
       "168  3.466954  5.025662  17.383217  \n",
       "169  3.119100  5.885551   5.916420  \n",
       "170  5.285536  7.153463  13.378174  \n",
       "171  5.311189  6.110837  31.010078  \n",
       "172  2.668685  5.428569   5.953087  \n",
       "\n",
       "[173 rows x 10 columns]"
      ]
     },
     "execution_count": 3,
     "metadata": {},
     "output_type": "execute_result"
    }
   ],
   "source": [
    "data"
   ]
  },
  {
   "cell_type": "code",
   "execution_count": 5,
   "id": "e6f2e6a5",
   "metadata": {},
   "outputs": [],
   "source": [
    "reg_data = data[[\"voteA\", \"prtystrA\", \"democA\", \"expendA\", \"expendB\"]].dropna()"
   ]
  },
  {
   "cell_type": "code",
   "execution_count": 8,
   "id": "c7505ce3",
   "metadata": {},
   "outputs": [],
   "source": [
    "reg_data[\"ln(expendA)\"] = np.log(reg_data[\"expendA\"])\n",
    "reg_data[\"ln(expendB)\"] = np.log(reg_data[\"expendB\"])"
   ]
  },
  {
   "cell_type": "code",
   "execution_count": 9,
   "id": "e99dd14b",
   "metadata": {},
   "outputs": [],
   "source": [
    "Y = reg_data[\"voteA\"]\n",
    "X = reg_data[[\"prtystrA\", \"democA\", \"ln(expendA)\", \"ln(expendB)\"]]\n",
    "X = sm.add_constant(X)\n",
    "model1 = sm.OLS(Y, X).fit()"
   ]
  },
  {
   "cell_type": "code",
   "execution_count": 11,
   "id": "2c7124eb",
   "metadata": {},
   "outputs": [
    {
     "name": "stdout",
     "output_type": "stream",
     "text": [
      "                            OLS Regression Results                            \n",
      "==============================================================================\n",
      "Dep. Variable:                  voteA   R-squared:                       0.801\n",
      "Model:                            OLS   Adj. R-squared:                  0.796\n",
      "Method:                 Least Squares   F-statistic:                     169.2\n",
      "Date:                Tue, 15 Nov 2022   Prob (F-statistic):           8.09e-58\n",
      "Time:                        19:42:20   Log-Likelihood:                -593.20\n",
      "No. Observations:                 173   AIC:                             1196.\n",
      "Df Residuals:                     168   BIC:                             1212.\n",
      "Df Model:                           4                                         \n",
      "Covariance Type:            nonrobust                                         \n",
      "===============================================================================\n",
      "                  coef    std err          t      P>|t|      [0.025      0.975]\n",
      "-------------------------------------------------------------------------------\n",
      "const          37.6614      4.736      7.952      0.000      28.312      47.011\n",
      "prtystrA        0.2519      0.071      3.534      0.001       0.111       0.393\n",
      "democA          3.7929      1.407      2.697      0.008       1.016       6.570\n",
      "ln(expendA)     5.7793      0.392     14.750      0.000       5.006       6.553\n",
      "ln(expendB)    -6.2378      0.397    -15.694      0.000      -7.022      -5.453\n",
      "==============================================================================\n",
      "Omnibus:                        6.304   Durbin-Watson:                   1.525\n",
      "Prob(Omnibus):                  0.043   Jarque-Bera (JB):                6.030\n",
      "Skew:                           0.448   Prob(JB):                       0.0491\n",
      "Kurtosis:                       3.182   Cond. No.                         429.\n",
      "==============================================================================\n",
      "\n",
      "Notes:\n",
      "[1] Standard Errors assume that the covariance matrix of the errors is correctly specified.\n"
     ]
    }
   ],
   "source": [
    "print(model1.summary())"
   ]
  },
  {
   "cell_type": "code",
   "execution_count": 13,
   "id": "a89d9a89",
   "metadata": {},
   "outputs": [
    {
     "data": {
      "text/plain": [
       "<AxesSubplot:xlabel='ln(expendA)', ylabel='model1_resid'>"
      ]
     },
     "execution_count": 13,
     "metadata": {},
     "output_type": "execute_result"
    },
    {
     "data": {
      "image/png": "[encoded data removed]",
      "text/plain": [
       "<Figure size 432x288 with 1 Axes>"
      ]
     },
     "metadata": {
      "needs_background": "light"
     },
     "output_type": "display_data"
    }
   ],
   "source": [
    "reg_data[\"model1_resid\"] = model1.resid\n",
    "reg_data.plot.scatter(\"ln(expendA)\", \"model1_resid\")"
   ]
  },
  {
   "cell_type": "code",
   "execution_count": 14,
   "id": "5b6e385f",
   "metadata": {},
   "outputs": [
    {
     "data": {
      "text/plain": [
       "<AxesSubplot:xlabel='ln(expendB)', ylabel='model1_resid'>"
      ]
     },
     "execution_count": 14,
     "metadata": {},
     "output_type": "execute_result"
    },
    {
     "data": {
      "image/png": "[encoded data removed]",
      "text/plain": [
       "<Figure size 432x288 with 1 Axes>"
      ]
     },
     "metadata": {
      "needs_background": "light"
     },
     "output_type": "display_data"
    }
   ],
   "source": [
    "reg_data.plot.scatter(\"ln(expendB)\", \"model1_resid\")"
   ]
  },
  {
   "cell_type": "code",
   "execution_count": 16,
   "id": "55d9cb11",
   "metadata": {},
   "outputs": [],
   "source": [
    "reg_data[\"uhat2\"] = reg_data[\"model1_resid\"] ** 2 \n",
    "Y = reg_data[\"uhat2\"]\n",
    "X = reg_data[[\"prtystrA\", \"democA\", \"ln(expendA)\", \"ln(expendB)\"]]\n",
    "X = sm.add_constant(X)\n",
    "model2 = sm.OLS(Y, X).fit()"
   ]
  },
  {
   "cell_type": "code",
   "execution_count": 17,
   "id": "22b215ce",
   "metadata": {},
   "outputs": [
    {
     "name": "stdout",
     "output_type": "stream",
     "text": [
      "                            OLS Regression Results                            \n",
      "==============================================================================\n",
      "Dep. Variable:                  uhat2   R-squared:                       0.053\n",
      "Model:                            OLS   Adj. R-squared:                  0.030\n",
      "Method:                 Least Squares   F-statistic:                     2.330\n",
      "Date:                Tue, 15 Nov 2022   Prob (F-statistic):             0.0581\n",
      "Time:                        19:52:11   Log-Likelihood:                -1003.7\n",
      "No. Observations:                 173   AIC:                             2017.\n",
      "Df Residuals:                     168   BIC:                             2033.\n",
      "Df Model:                           4                                         \n",
      "Covariance Type:            nonrobust                                         \n",
      "===============================================================================\n",
      "                  coef    std err          t      P>|t|      [0.025      0.975]\n",
      "-------------------------------------------------------------------------------\n",
      "const         113.9635     50.815      2.243      0.026      13.645     214.282\n",
      "prtystrA       -0.2993      0.765     -0.391      0.696      -1.809       1.211\n",
      "democA         15.6192     15.091      1.035      0.302     -14.174      45.412\n",
      "ln(expendA)   -10.3057      4.204     -2.451      0.015     -18.605      -2.006\n",
      "ln(expendB)    -0.0514      4.265     -0.012      0.990      -8.470       8.368\n",
      "==============================================================================\n",
      "Omnibus:                      127.443   Durbin-Watson:                   1.913\n",
      "Prob(Omnibus):                  0.000   Jarque-Bera (JB):             1080.188\n",
      "Skew:                           2.761   Prob(JB):                    2.76e-235\n",
      "Kurtosis:                      13.925   Cond. No.                         429.\n",
      "==============================================================================\n",
      "\n",
      "Notes:\n",
      "[1] Standard Errors assume that the covariance matrix of the errors is correctly specified.\n"
     ]
    }
   ],
   "source": [
    "print(model2.summary())"
   ]
  },
  {
   "cell_type": "code",
   "execution_count": 34,
   "id": "f21d6f5d",
   "metadata": {},
   "outputs": [
    {
     "name": "stdout",
     "output_type": "stream",
     "text": [
      "Lagrange multiplier statistic : 9.09335648663182\n",
      "p-value : 0.05880790411089945\n",
      "f-value : 2.330112826740832\n",
      "f p-value : 0.058057501107011425\n"
     ]
    }
   ],
   "source": [
    "results = sms.het_breuschpagan(reg_data[\"model1_resid\"], X)\n",
    "names = names = ['Lagrange multiplier statistic', 'p-value',\n",
    "        'f-value', 'f p-value']\n",
    "for name, result in zip(names, results): \n",
    "    print(name + \" : \" +str(result))"
   ]
  },
  {
   "cell_type": "code",
   "execution_count": 28,
   "id": "f8db097e",
   "metadata": {},
   "outputs": [
    {
     "data": {
      "text/plain": [
       "9.09335648663182"
      ]
     },
     "execution_count": 28,
     "metadata": {},
     "output_type": "execute_result"
    }
   ],
   "source": [
    "model2.nobs * model2.rsquared"
   ]
  },
  {
   "cell_type": "code",
   "execution_count": 37,
   "id": "f59be8e5",
   "metadata": {},
   "outputs": [
    {
     "name": "stdout",
     "output_type": "stream",
     "text": [
      "Lagrange multiplier statistic : 31.101514031882367\n",
      "p-value : 0.003258263798817313\n",
      "f-value : 2.680757572966306\n",
      "f p-value : 0.0019733265701193724\n"
     ]
    }
   ],
   "source": [
    "vals = sms.het_white(reg_data[\"model1_resid\"], X)\n",
    "for name, val in zip(names, vals): \n",
    "    print(name + \" : \" + str(val))"
   ]
  },
  {
   "cell_type": "code",
   "execution_count": 42,
   "id": "8a499fe4",
   "metadata": {},
   "outputs": [],
   "source": [
    "reg_data[\"yhat\"] = model1.predict()"
   ]
  },
  {
   "cell_type": "code",
   "execution_count": 43,
   "id": "f25f0fba",
   "metadata": {},
   "outputs": [
    {
     "data": {
      "text/html": [
       "<div>\n",
       "<style scoped>\n",
       "    .dataframe tbody tr th:only-of-type {\n",
       "        vertical-align: middle;\n",
       "    }\n",
       "\n",
       "    .dataframe tbody tr th {\n",
       "        vertical-align: top;\n",
       "    }\n",
       "\n",
       "    .dataframe thead th {\n",
       "        text-align: right;\n",
       "    }\n",
       "</style>\n",
       "<table border=\"1\" class=\"dataframe\">\n",
       "  <thead>\n",
       "    <tr style=\"text-align: right;\">\n",
       "      <th></th>\n",
       "      <th>voteA</th>\n",
       "      <th>prtystrA</th>\n",
       "      <th>democA</th>\n",
       "      <th>expendA</th>\n",
       "      <th>expendB</th>\n",
       "      <th>ln(expendA)</th>\n",
       "      <th>ln(expendB)</th>\n",
       "      <th>model1_resid</th>\n",
       "      <th>uhat2</th>\n",
       "      <th>yhat</th>\n",
       "    </tr>\n",
       "  </thead>\n",
       "  <tbody>\n",
       "    <tr>\n",
       "      <th>0</th>\n",
       "      <td>68</td>\n",
       "      <td>41</td>\n",
       "      <td>1</td>\n",
       "      <td>328.295990</td>\n",
       "      <td>8.737000</td>\n",
       "      <td>5.793916</td>\n",
       "      <td>2.167567</td>\n",
       "      <td>-3.746794</td>\n",
       "      <td>14.038468</td>\n",
       "      <td>71.746794</td>\n",
       "    </tr>\n",
       "    <tr>\n",
       "      <th>1</th>\n",
       "      <td>62</td>\n",
       "      <td>60</td>\n",
       "      <td>0</td>\n",
       "      <td>626.377014</td>\n",
       "      <td>402.476990</td>\n",
       "      <td>6.439952</td>\n",
       "      <td>5.997638</td>\n",
       "      <td>9.417434</td>\n",
       "      <td>88.688062</td>\n",
       "      <td>52.582566</td>\n",
       "    </tr>\n",
       "    <tr>\n",
       "      <th>2</th>\n",
       "      <td>73</td>\n",
       "      <td>55</td>\n",
       "      <td>1</td>\n",
       "      <td>99.607002</td>\n",
       "      <td>3.065000</td>\n",
       "      <td>4.601233</td>\n",
       "      <td>1.120048</td>\n",
       "      <td>-1.915028</td>\n",
       "      <td>3.667331</td>\n",
       "      <td>74.915028</td>\n",
       "    </tr>\n",
       "    <tr>\n",
       "      <th>3</th>\n",
       "      <td>69</td>\n",
       "      <td>64</td>\n",
       "      <td>0</td>\n",
       "      <td>319.690002</td>\n",
       "      <td>26.281000</td>\n",
       "      <td>5.767352</td>\n",
       "      <td>3.268846</td>\n",
       "      <td>2.275167</td>\n",
       "      <td>5.176383</td>\n",
       "      <td>66.724833</td>\n",
       "    </tr>\n",
       "    <tr>\n",
       "      <th>4</th>\n",
       "      <td>75</td>\n",
       "      <td>66</td>\n",
       "      <td>0</td>\n",
       "      <td>159.220993</td>\n",
       "      <td>60.054001</td>\n",
       "      <td>5.070293</td>\n",
       "      <td>4.095244</td>\n",
       "      <td>16.954775</td>\n",
       "      <td>287.464399</td>\n",
       "      <td>58.045225</td>\n",
       "    </tr>\n",
       "    <tr>\n",
       "      <th>...</th>\n",
       "      <td>...</td>\n",
       "      <td>...</td>\n",
       "      <td>...</td>\n",
       "      <td>...</td>\n",
       "      <td>...</td>\n",
       "      <td>...</td>\n",
       "      <td>...</td>\n",
       "      <td>...</td>\n",
       "      <td>...</td>\n",
       "      <td>...</td>\n",
       "    </tr>\n",
       "    <tr>\n",
       "      <th>168</th>\n",
       "      <td>39</td>\n",
       "      <td>42</td>\n",
       "      <td>0</td>\n",
       "      <td>32.039001</td>\n",
       "      <td>152.270996</td>\n",
       "      <td>3.466954</td>\n",
       "      <td>5.025662</td>\n",
       "      <td>2.070757</td>\n",
       "      <td>4.288033</td>\n",
       "      <td>36.929243</td>\n",
       "    </tr>\n",
       "    <tr>\n",
       "      <th>169</th>\n",
       "      <td>32</td>\n",
       "      <td>53</td>\n",
       "      <td>1</td>\n",
       "      <td>22.625999</td>\n",
       "      <td>359.800995</td>\n",
       "      <td>3.119100</td>\n",
       "      <td>5.885551</td>\n",
       "      <td>-4.119080</td>\n",
       "      <td>16.966819</td>\n",
       "      <td>36.119080</td>\n",
       "    </tr>\n",
       "    <tr>\n",
       "      <th>170</th>\n",
       "      <td>36</td>\n",
       "      <td>36</td>\n",
       "      <td>0</td>\n",
       "      <td>197.460007</td>\n",
       "      <td>1278.526001</td>\n",
       "      <td>5.285536</td>\n",
       "      <td>7.153463</td>\n",
       "      <td>3.345017</td>\n",
       "      <td>11.189138</td>\n",
       "      <td>32.654983</td>\n",
       "    </tr>\n",
       "    <tr>\n",
       "      <th>171</th>\n",
       "      <td>38</td>\n",
       "      <td>46</td>\n",
       "      <td>0</td>\n",
       "      <td>202.591003</td>\n",
       "      <td>450.716003</td>\n",
       "      <td>5.311189</td>\n",
       "      <td>6.110837</td>\n",
       "      <td>-3.826144</td>\n",
       "      <td>14.639379</td>\n",
       "      <td>41.826144</td>\n",
       "    </tr>\n",
       "    <tr>\n",
       "      <th>172</th>\n",
       "      <td>30</td>\n",
       "      <td>47</td>\n",
       "      <td>1</td>\n",
       "      <td>14.421000</td>\n",
       "      <td>227.822998</td>\n",
       "      <td>2.668685</td>\n",
       "      <td>5.428569</td>\n",
       "      <td>-4.855078</td>\n",
       "      <td>23.571784</td>\n",
       "      <td>34.855078</td>\n",
       "    </tr>\n",
       "  </tbody>\n",
       "</table>\n",
       "<p>173 rows × 10 columns</p>\n",
       "</div>"
      ],
      "text/plain": [
       "     voteA  prtystrA  democA     expendA      expendB  ln(expendA)  \\\n",
       "0       68        41       1  328.295990     8.737000     5.793916   \n",
       "1       62        60       0  626.377014   402.476990     6.439952   \n",
       "2       73        55       1   99.607002     3.065000     4.601233   \n",
       "3       69        64       0  319.690002    26.281000     5.767352   \n",
       "4       75        66       0  159.220993    60.054001     5.070293   \n",
       "..     ...       ...     ...         ...          ...          ...   \n",
       "168     39        42       0   32.039001   152.270996     3.466954   \n",
       "169     32        53       1   22.625999   359.800995     3.119100   \n",
       "170     36        36       0  197.460007  1278.526001     5.285536   \n",
       "171     38        46       0  202.591003   450.716003     5.311189   \n",
       "172     30        47       1   14.421000   227.822998     2.668685   \n",
       "\n",
       "     ln(expendB)  model1_resid       uhat2       yhat  \n",
       "0       2.167567     -3.746794   14.038468  71.746794  \n",
       "1       5.997638      9.417434   88.688062  52.582566  \n",
       "2       1.120048     -1.915028    3.667331  74.915028  \n",
       "3       3.268846      2.275167    5.176383  66.724833  \n",
       "4       4.095244     16.954775  287.464399  58.045225  \n",
       "..           ...           ...         ...        ...  \n",
       "168     5.025662      2.070757    4.288033  36.929243  \n",
       "169     5.885551     -4.119080   16.966819  36.119080  \n",
       "170     7.153463      3.345017   11.189138  32.654983  \n",
       "171     6.110837     -3.826144   14.639379  41.826144  \n",
       "172     5.428569     -4.855078   23.571784  34.855078  \n",
       "\n",
       "[173 rows x 10 columns]"
      ]
     },
     "execution_count": 43,
     "metadata": {},
     "output_type": "execute_result"
    }
   ],
   "source": [
    "reg_data"
   ]
  },
  {
   "cell_type": "code",
   "execution_count": 44,
   "id": "8758238d",
   "metadata": {},
   "outputs": [],
   "source": [
    "reg_data[\"yhat2\"] = reg_data[\"yhat\"] ** 2"
   ]
  },
  {
   "cell_type": "code",
   "execution_count": 45,
   "id": "2516f0cc",
   "metadata": {},
   "outputs": [],
   "source": [
    "Y = reg_data[\"uhat2\"]\n",
    "X = reg_data[[\"yhat\", \"yhat2\"]]\n",
    "X = sm.add_constant(X)\n",
    "model3 = sm.OLS(Y, X).fit()"
   ]
  },
  {
   "cell_type": "code",
   "execution_count": 46,
   "id": "eb91b6c6",
   "metadata": {},
   "outputs": [
    {
     "name": "stdout",
     "output_type": "stream",
     "text": [
      "Lagrange multiplier statistic : 26.51121913099395\n",
      "p-value : 2.4954432842136108e-05\n",
      "f-value : 7.601068128879028\n",
      "f p-value : 1.1853556822939143e-05\n"
     ]
    }
   ],
   "source": [
    "vals = sms.het_white(reg_data[\"model1_resid\"], X)\n",
    "for name, val in zip(names, vals): \n",
    "    print(name + \" : \" + str(val))"
   ]
  },
  {
   "cell_type": "code",
   "execution_count": null,
   "id": "2c058b84",
   "metadata": {},
   "outputs": [],
   "source": []
  }
 ],
 "metadata": {
  "kernelspec": {
   "display_name": "Python 3",
   "language": "python",
   "name": "python3"
  },
  "language_info": {
   "codemirror_mode": {
    "name": "ipython",
    "version": 3
   },
   "file_extension": ".py",
   "mimetype": "text/x-python",
   "name": "python",
   "nbconvert_exporter": "python",
   "pygments_lexer": "ipython3",
   "version": "3.8.8"
  }
 },
 "nbformat": 4,
 "nbformat_minor": 5
}
