{
 "cells": [
  {
   "cell_type": "code",
   "execution_count": 2,
   "id": "18f0c6b4",
   "metadata": {},
   "outputs": [],
   "source": [
    "import pandas as pd \n",
    "import numpy as np\n",
    "import statsmodels.api as sm"
   ]
  },
  {
   "cell_type": "code",
   "execution_count": 6,
   "id": "c5b98fe2",
   "metadata": {},
   "outputs": [],
   "source": [
    "data = pd.read_excel(\"Project6b.xlsx\", index_col = 0)"
   ]
  },
  {
   "cell_type": "code",
   "execution_count": 7,
   "id": "e4718d24",
   "metadata": {},
   "outputs": [
    {
     "data": {
      "text/html": [
       "<div>\n",
       "<style scoped>\n",
       "    .dataframe tbody tr th:only-of-type {\n",
       "        vertical-align: middle;\n",
       "    }\n",
       "\n",
       "    .dataframe tbody tr th {\n",
       "        vertical-align: top;\n",
       "    }\n",
       "\n",
       "    .dataframe thead th {\n",
       "        text-align: right;\n",
       "    }\n",
       "</style>\n",
       "<table border=\"1\" class=\"dataframe\">\n",
       "  <thead>\n",
       "    <tr style=\"text-align: right;\">\n",
       "      <th></th>\n",
       "      <th>cpi</th>\n",
       "      <th>unr</th>\n",
       "    </tr>\n",
       "    <tr>\n",
       "      <th>time</th>\n",
       "      <th></th>\n",
       "      <th></th>\n",
       "    </tr>\n",
       "  </thead>\n",
       "  <tbody>\n",
       "    <tr>\n",
       "      <th>1948-01-01</th>\n",
       "      <td>23.680</td>\n",
       "      <td>3.4</td>\n",
       "    </tr>\n",
       "    <tr>\n",
       "      <th>1948-02-01</th>\n",
       "      <td>23.670</td>\n",
       "      <td>3.8</td>\n",
       "    </tr>\n",
       "    <tr>\n",
       "      <th>1948-03-01</th>\n",
       "      <td>23.500</td>\n",
       "      <td>4.0</td>\n",
       "    </tr>\n",
       "    <tr>\n",
       "      <th>1948-04-01</th>\n",
       "      <td>23.820</td>\n",
       "      <td>3.9</td>\n",
       "    </tr>\n",
       "    <tr>\n",
       "      <th>1948-05-01</th>\n",
       "      <td>24.010</td>\n",
       "      <td>3.5</td>\n",
       "    </tr>\n",
       "    <tr>\n",
       "      <th>...</th>\n",
       "      <td>...</td>\n",
       "      <td>...</td>\n",
       "    </tr>\n",
       "    <tr>\n",
       "      <th>2022-06-01</th>\n",
       "      <td>295.328</td>\n",
       "      <td>3.6</td>\n",
       "    </tr>\n",
       "    <tr>\n",
       "      <th>2022-07-01</th>\n",
       "      <td>295.271</td>\n",
       "      <td>3.5</td>\n",
       "    </tr>\n",
       "    <tr>\n",
       "      <th>2022-08-01</th>\n",
       "      <td>295.620</td>\n",
       "      <td>3.7</td>\n",
       "    </tr>\n",
       "    <tr>\n",
       "      <th>2022-09-01</th>\n",
       "      <td>296.761</td>\n",
       "      <td>3.5</td>\n",
       "    </tr>\n",
       "    <tr>\n",
       "      <th>NaT</th>\n",
       "      <td>NaN</td>\n",
       "      <td>3.7</td>\n",
       "    </tr>\n",
       "  </tbody>\n",
       "</table>\n",
       "<p>898 rows × 2 columns</p>\n",
       "</div>"
      ],
      "text/plain": [
       "                cpi  unr\n",
       "time                    \n",
       "1948-01-01   23.680  3.4\n",
       "1948-02-01   23.670  3.8\n",
       "1948-03-01   23.500  4.0\n",
       "1948-04-01   23.820  3.9\n",
       "1948-05-01   24.010  3.5\n",
       "...             ...  ...\n",
       "2022-06-01  295.328  3.6\n",
       "2022-07-01  295.271  3.5\n",
       "2022-08-01  295.620  3.7\n",
       "2022-09-01  296.761  3.5\n",
       "NaT             NaN  3.7\n",
       "\n",
       "[898 rows x 2 columns]"
      ]
     },
     "execution_count": 7,
     "metadata": {},
     "output_type": "execute_result"
    }
   ],
   "source": [
    "data"
   ]
  },
  {
   "cell_type": "code",
   "execution_count": 10,
   "id": "25f82c7b",
   "metadata": {},
   "outputs": [],
   "source": [
    "data[\"dCPI\"] = data[\"cpi\"].diff(1)\n",
    "data[\"dCPI_lag\"] = data[\"dCPI\"].shift(1)"
   ]
  },
  {
   "cell_type": "code",
   "execution_count": 13,
   "id": "7627a8b6",
   "metadata": {},
   "outputs": [
    {
     "data": {
      "text/html": [
       "<div>\n",
       "<style scoped>\n",
       "    .dataframe tbody tr th:only-of-type {\n",
       "        vertical-align: middle;\n",
       "    }\n",
       "\n",
       "    .dataframe tbody tr th {\n",
       "        vertical-align: top;\n",
       "    }\n",
       "\n",
       "    .dataframe thead th {\n",
       "        text-align: right;\n",
       "    }\n",
       "</style>\n",
       "<table border=\"1\" class=\"dataframe\">\n",
       "  <thead>\n",
       "    <tr style=\"text-align: right;\">\n",
       "      <th></th>\n",
       "      <th>cpi</th>\n",
       "      <th>unr</th>\n",
       "      <th>dCPI</th>\n",
       "      <th>dCPI_lag</th>\n",
       "    </tr>\n",
       "    <tr>\n",
       "      <th>time</th>\n",
       "      <th></th>\n",
       "      <th></th>\n",
       "      <th></th>\n",
       "      <th></th>\n",
       "    </tr>\n",
       "  </thead>\n",
       "  <tbody>\n",
       "    <tr>\n",
       "      <th>1948-03-01</th>\n",
       "      <td>23.500</td>\n",
       "      <td>4.0</td>\n",
       "      <td>-0.170</td>\n",
       "      <td>-0.010</td>\n",
       "    </tr>\n",
       "    <tr>\n",
       "      <th>1948-04-01</th>\n",
       "      <td>23.820</td>\n",
       "      <td>3.9</td>\n",
       "      <td>0.320</td>\n",
       "      <td>-0.170</td>\n",
       "    </tr>\n",
       "    <tr>\n",
       "      <th>1948-05-01</th>\n",
       "      <td>24.010</td>\n",
       "      <td>3.5</td>\n",
       "      <td>0.190</td>\n",
       "      <td>0.320</td>\n",
       "    </tr>\n",
       "    <tr>\n",
       "      <th>1948-06-01</th>\n",
       "      <td>24.150</td>\n",
       "      <td>3.6</td>\n",
       "      <td>0.140</td>\n",
       "      <td>0.190</td>\n",
       "    </tr>\n",
       "    <tr>\n",
       "      <th>1948-07-01</th>\n",
       "      <td>24.400</td>\n",
       "      <td>3.6</td>\n",
       "      <td>0.250</td>\n",
       "      <td>0.140</td>\n",
       "    </tr>\n",
       "    <tr>\n",
       "      <th>...</th>\n",
       "      <td>...</td>\n",
       "      <td>...</td>\n",
       "      <td>...</td>\n",
       "      <td>...</td>\n",
       "    </tr>\n",
       "    <tr>\n",
       "      <th>2022-05-01</th>\n",
       "      <td>291.474</td>\n",
       "      <td>3.6</td>\n",
       "      <td>2.811</td>\n",
       "      <td>0.955</td>\n",
       "    </tr>\n",
       "    <tr>\n",
       "      <th>2022-06-01</th>\n",
       "      <td>295.328</td>\n",
       "      <td>3.6</td>\n",
       "      <td>3.854</td>\n",
       "      <td>2.811</td>\n",
       "    </tr>\n",
       "    <tr>\n",
       "      <th>2022-07-01</th>\n",
       "      <td>295.271</td>\n",
       "      <td>3.5</td>\n",
       "      <td>-0.057</td>\n",
       "      <td>3.854</td>\n",
       "    </tr>\n",
       "    <tr>\n",
       "      <th>2022-08-01</th>\n",
       "      <td>295.620</td>\n",
       "      <td>3.7</td>\n",
       "      <td>0.349</td>\n",
       "      <td>-0.057</td>\n",
       "    </tr>\n",
       "    <tr>\n",
       "      <th>2022-09-01</th>\n",
       "      <td>296.761</td>\n",
       "      <td>3.5</td>\n",
       "      <td>1.141</td>\n",
       "      <td>0.349</td>\n",
       "    </tr>\n",
       "  </tbody>\n",
       "</table>\n",
       "<p>895 rows × 4 columns</p>\n",
       "</div>"
      ],
      "text/plain": [
       "                cpi  unr   dCPI  dCPI_lag\n",
       "time                                     \n",
       "1948-03-01   23.500  4.0 -0.170    -0.010\n",
       "1948-04-01   23.820  3.9  0.320    -0.170\n",
       "1948-05-01   24.010  3.5  0.190     0.320\n",
       "1948-06-01   24.150  3.6  0.140     0.190\n",
       "1948-07-01   24.400  3.6  0.250     0.140\n",
       "...             ...  ...    ...       ...\n",
       "2022-05-01  291.474  3.6  2.811     0.955\n",
       "2022-06-01  295.328  3.6  3.854     2.811\n",
       "2022-07-01  295.271  3.5 -0.057     3.854\n",
       "2022-08-01  295.620  3.7  0.349    -0.057\n",
       "2022-09-01  296.761  3.5  1.141     0.349\n",
       "\n",
       "[895 rows x 4 columns]"
      ]
     },
     "execution_count": 13,
     "metadata": {},
     "output_type": "execute_result"
    }
   ],
   "source": [
    "data = data.dropna()\n",
    "data"
   ]
  },
  {
   "cell_type": "code",
   "execution_count": 14,
   "id": "af8ddc60",
   "metadata": {},
   "outputs": [],
   "source": [
    "Y = data[\"dCPI\"]\n",
    "X = data[[\"dCPI_lag\"]]\n",
    "X = sm.add_constant(X)\n",
    "model1 = sm.OLS(Y, X).fit()"
   ]
  },
  {
   "cell_type": "code",
   "execution_count": 15,
   "id": "de1ba383",
   "metadata": {},
   "outputs": [
    {
     "name": "stdout",
     "output_type": "stream",
     "text": [
      "                            OLS Regression Results                            \n",
      "==============================================================================\n",
      "Dep. Variable:                   dCPI   R-squared:                       0.344\n",
      "Model:                            OLS   Adj. R-squared:                  0.343\n",
      "Method:                 Least Squares   F-statistic:                     467.6\n",
      "Date:                Tue, 15 Nov 2022   Prob (F-statistic):           9.97e-84\n",
      "Time:                        20:38:34   Log-Likelihood:                -410.96\n",
      "No. Observations:                 895   AIC:                             825.9\n",
      "Df Residuals:                     893   BIC:                             835.5\n",
      "Df Model:                           1                                         \n",
      "Covariance Type:            nonrobust                                         \n",
      "==============================================================================\n",
      "                 coef    std err          t      P>|t|      [0.025      0.975]\n",
      "------------------------------------------------------------------------------\n",
      "const          0.1267      0.015      8.315      0.000       0.097       0.157\n",
      "dCPI_lag       0.5871      0.027     21.625      0.000       0.534       0.640\n",
      "==============================================================================\n",
      "Omnibus:                      190.161   Durbin-Watson:                   1.943\n",
      "Prob(Omnibus):                  0.000   Jarque-Bera (JB):             5261.183\n",
      "Skew:                          -0.194   Prob(JB):                         0.00\n",
      "Kurtosis:                      14.871   Cond. No.                         2.36\n",
      "==============================================================================\n",
      "\n",
      "Notes:\n",
      "[1] Standard Errors assume that the covariance matrix of the errors is correctly specified.\n"
     ]
    }
   ],
   "source": [
    "print(model1.summary())"
   ]
  },
  {
   "cell_type": "code",
   "execution_count": 28,
   "id": "a945ef3a",
   "metadata": {},
   "outputs": [
    {
     "data": {
      "text/plain": [
       "const       0.126735\n",
       "dCPI_lag    0.587127\n",
       "dtype: float64"
      ]
     },
     "execution_count": 28,
     "metadata": {},
     "output_type": "execute_result"
    }
   ],
   "source": [
    "model1.params"
   ]
  },
  {
   "cell_type": "code",
   "execution_count": 34,
   "id": "f7249964",
   "metadata": {},
   "outputs": [
    {
     "data": {
      "text/plain": [
       "0.7966464639145225"
      ]
     },
     "execution_count": 34,
     "metadata": {},
     "output_type": "execute_result"
    }
   ],
   "source": [
    "october = model1.params.values[0] + model1.params.values[1] * data[\"dCPI\"].loc[\"2022-09-01\"]\n",
    "october"
   ]
  },
  {
   "cell_type": "code",
   "execution_count": 35,
   "id": "c22752a2",
   "metadata": {},
   "outputs": [
    {
     "data": {
      "text/plain": [
       "0.5944673226132927"
      ]
     },
     "execution_count": 35,
     "metadata": {},
     "output_type": "execute_result"
    }
   ],
   "source": [
    "november = model1.params.values[0] + model1.params.values[1] * october\n",
    "november"
   ]
  },
  {
   "cell_type": "code",
   "execution_count": 29,
   "id": "e2f902e6",
   "metadata": {},
   "outputs": [
    {
     "name": "stderr",
     "output_type": "stream",
     "text": [
      "<ipython-input-29-661221b0aebb>:1: SettingWithCopyWarning: \n",
      "A value is trying to be set on a copy of a slice from a DataFrame.\n",
      "Try using .loc[row_indexer,col_indexer] = value instead\n",
      "\n",
      "See the caveats in the documentation: https://pandas.pydata.org/pandas-docs/stable/user_guide/indexing.html#returning-a-view-versus-a-copy\n",
      "  data[\"dCPI_lag2\"] = data[\"dCPI_lag\"].shift(1)\n",
      "<ipython-input-29-661221b0aebb>:2: SettingWithCopyWarning: \n",
      "A value is trying to be set on a copy of a slice from a DataFrame.\n",
      "Try using .loc[row_indexer,col_indexer] = value instead\n",
      "\n",
      "See the caveats in the documentation: https://pandas.pydata.org/pandas-docs/stable/user_guide/indexing.html#returning-a-view-versus-a-copy\n",
      "  data[\"dCPI_lag3\"] = data[\"dCPI_lag2\"].shift(1)\n",
      "<ipython-input-29-661221b0aebb>:3: SettingWithCopyWarning: \n",
      "A value is trying to be set on a copy of a slice from a DataFrame.\n",
      "Try using .loc[row_indexer,col_indexer] = value instead\n",
      "\n",
      "See the caveats in the documentation: https://pandas.pydata.org/pandas-docs/stable/user_guide/indexing.html#returning-a-view-versus-a-copy\n",
      "  data[\"dCPI_lag4\"] = data[\"dCPI_lag3\"].shift(1)\n"
     ]
    }
   ],
   "source": [
    "data[\"dCPI_lag2\"] = data[\"dCPI_lag\"].shift(1)\n",
    "data[\"dCPI_lag3\"] = data[\"dCPI_lag2\"].shift(1)\n",
    "data[\"dCPI_lag4\"] = data[\"dCPI_lag3\"].shift(1)"
   ]
  },
  {
   "cell_type": "code",
   "execution_count": 30,
   "id": "d1ee9f0d",
   "metadata": {},
   "outputs": [
    {
     "name": "stdout",
     "output_type": "stream",
     "text": [
      "                            OLS Regression Results                            \n",
      "==============================================================================\n",
      "Dep. Variable:                   dCPI   R-squared:                       0.374\n",
      "Model:                            OLS   Adj. R-squared:                  0.371\n",
      "Method:                 Least Squares   F-statistic:                     132.6\n",
      "Date:                Tue, 15 Nov 2022   Prob (F-statistic):           8.96e-89\n",
      "Time:                        20:54:10   Log-Likelihood:                -389.33\n",
      "No. Observations:                 892   AIC:                             788.7\n",
      "Df Residuals:                     887   BIC:                             812.6\n",
      "Df Model:                           4                                         \n",
      "Covariance Type:            nonrobust                                         \n",
      "==============================================================================\n",
      "                 coef    std err          t      P>|t|      [0.025      0.975]\n",
      "------------------------------------------------------------------------------\n",
      "const          0.0985      0.017      5.967      0.000       0.066       0.131\n",
      "dCPI_lag       0.6086      0.033     18.176      0.000       0.543       0.674\n",
      "dCPI_lag2     -0.1541      0.039     -3.958      0.000      -0.231      -0.078\n",
      "dCPI_lag3      0.1489      0.040      3.742      0.000       0.071       0.227\n",
      "dCPI_lag4      0.0780      0.035      2.200      0.028       0.008       0.148\n",
      "==============================================================================\n",
      "Omnibus:                      233.429   Durbin-Watson:                   2.008\n",
      "Prob(Omnibus):                  0.000   Jarque-Bera (JB):             6661.107\n",
      "Skew:                          -0.534   Prob(JB):                         0.00\n",
      "Kurtosis:                      16.345   Cond. No.                         5.36\n",
      "==============================================================================\n",
      "\n",
      "Notes:\n",
      "[1] Standard Errors assume that the covariance matrix of the errors is correctly specified.\n"
     ]
    }
   ],
   "source": [
    "data = data.dropna()\n",
    "Y = data[\"dCPI\"]\n",
    "X = data[[\"dCPI_lag\", \"dCPI_lag2\", \"dCPI_lag3\", \"dCPI_lag4\"]]\n",
    "X = sm.add_constant(X)\n",
    "model2 = sm.OLS(Y, X).fit()\n",
    "print(model2.summary())"
   ]
  },
  {
   "cell_type": "code",
   "execution_count": 38,
   "id": "df98e84f",
   "metadata": {},
   "outputs": [
    {
     "data": {
      "text/plain": [
       "const        0.098530\n",
       "dCPI_lag     0.608587\n",
       "dCPI_lag2   -0.154139\n",
       "dCPI_lag3    0.148856\n",
       "dCPI_lag4    0.078050\n",
       "dtype: float64"
      ]
     },
     "execution_count": 38,
     "metadata": {},
     "output_type": "execute_result"
    }
   ],
   "source": [
    "model2.params"
   ]
  },
  {
   "cell_type": "code",
   "execution_count": 40,
   "id": "33af0352",
   "metadata": {},
   "outputs": [
    {
     "data": {
      "text/html": [
       "<div>\n",
       "<style scoped>\n",
       "    .dataframe tbody tr th:only-of-type {\n",
       "        vertical-align: middle;\n",
       "    }\n",
       "\n",
       "    .dataframe tbody tr th {\n",
       "        vertical-align: top;\n",
       "    }\n",
       "\n",
       "    .dataframe thead th {\n",
       "        text-align: right;\n",
       "    }\n",
       "</style>\n",
       "<table border=\"1\" class=\"dataframe\">\n",
       "  <thead>\n",
       "    <tr style=\"text-align: right;\">\n",
       "      <th></th>\n",
       "      <th>cpi</th>\n",
       "      <th>unr</th>\n",
       "      <th>dCPI</th>\n",
       "      <th>dCPI_lag</th>\n",
       "      <th>dCPI_lag2</th>\n",
       "      <th>dCPI_lag3</th>\n",
       "      <th>dCPI_lag4</th>\n",
       "    </tr>\n",
       "    <tr>\n",
       "      <th>time</th>\n",
       "      <th></th>\n",
       "      <th></th>\n",
       "      <th></th>\n",
       "      <th></th>\n",
       "      <th></th>\n",
       "      <th></th>\n",
       "      <th></th>\n",
       "    </tr>\n",
       "  </thead>\n",
       "  <tbody>\n",
       "    <tr>\n",
       "      <th>1948-06-01</th>\n",
       "      <td>24.150</td>\n",
       "      <td>3.6</td>\n",
       "      <td>0.140</td>\n",
       "      <td>0.190</td>\n",
       "      <td>0.320</td>\n",
       "      <td>-0.170</td>\n",
       "      <td>-0.010</td>\n",
       "    </tr>\n",
       "    <tr>\n",
       "      <th>1948-07-01</th>\n",
       "      <td>24.400</td>\n",
       "      <td>3.6</td>\n",
       "      <td>0.250</td>\n",
       "      <td>0.140</td>\n",
       "      <td>0.190</td>\n",
       "      <td>0.320</td>\n",
       "      <td>-0.170</td>\n",
       "    </tr>\n",
       "    <tr>\n",
       "      <th>1948-08-01</th>\n",
       "      <td>24.430</td>\n",
       "      <td>3.9</td>\n",
       "      <td>0.030</td>\n",
       "      <td>0.250</td>\n",
       "      <td>0.140</td>\n",
       "      <td>0.190</td>\n",
       "      <td>0.320</td>\n",
       "    </tr>\n",
       "    <tr>\n",
       "      <th>1948-09-01</th>\n",
       "      <td>24.360</td>\n",
       "      <td>3.8</td>\n",
       "      <td>-0.070</td>\n",
       "      <td>0.030</td>\n",
       "      <td>0.250</td>\n",
       "      <td>0.140</td>\n",
       "      <td>0.190</td>\n",
       "    </tr>\n",
       "    <tr>\n",
       "      <th>1948-10-01</th>\n",
       "      <td>24.310</td>\n",
       "      <td>3.7</td>\n",
       "      <td>-0.050</td>\n",
       "      <td>-0.070</td>\n",
       "      <td>0.030</td>\n",
       "      <td>0.250</td>\n",
       "      <td>0.140</td>\n",
       "    </tr>\n",
       "    <tr>\n",
       "      <th>...</th>\n",
       "      <td>...</td>\n",
       "      <td>...</td>\n",
       "      <td>...</td>\n",
       "      <td>...</td>\n",
       "      <td>...</td>\n",
       "      <td>...</td>\n",
       "      <td>...</td>\n",
       "    </tr>\n",
       "    <tr>\n",
       "      <th>2022-05-01</th>\n",
       "      <td>291.474</td>\n",
       "      <td>3.6</td>\n",
       "      <td>2.811</td>\n",
       "      <td>0.955</td>\n",
       "      <td>3.526</td>\n",
       "      <td>2.249</td>\n",
       "      <td>1.807</td>\n",
       "    </tr>\n",
       "    <tr>\n",
       "      <th>2022-06-01</th>\n",
       "      <td>295.328</td>\n",
       "      <td>3.6</td>\n",
       "      <td>3.854</td>\n",
       "      <td>2.811</td>\n",
       "      <td>0.955</td>\n",
       "      <td>3.526</td>\n",
       "      <td>2.249</td>\n",
       "    </tr>\n",
       "    <tr>\n",
       "      <th>2022-07-01</th>\n",
       "      <td>295.271</td>\n",
       "      <td>3.5</td>\n",
       "      <td>-0.057</td>\n",
       "      <td>3.854</td>\n",
       "      <td>2.811</td>\n",
       "      <td>0.955</td>\n",
       "      <td>3.526</td>\n",
       "    </tr>\n",
       "    <tr>\n",
       "      <th>2022-08-01</th>\n",
       "      <td>295.620</td>\n",
       "      <td>3.7</td>\n",
       "      <td>0.349</td>\n",
       "      <td>-0.057</td>\n",
       "      <td>3.854</td>\n",
       "      <td>2.811</td>\n",
       "      <td>0.955</td>\n",
       "    </tr>\n",
       "    <tr>\n",
       "      <th>2022-09-01</th>\n",
       "      <td>296.761</td>\n",
       "      <td>3.5</td>\n",
       "      <td>1.141</td>\n",
       "      <td>0.349</td>\n",
       "      <td>-0.057</td>\n",
       "      <td>3.854</td>\n",
       "      <td>2.811</td>\n",
       "    </tr>\n",
       "  </tbody>\n",
       "</table>\n",
       "<p>892 rows × 7 columns</p>\n",
       "</div>"
      ],
      "text/plain": [
       "                cpi  unr   dCPI  dCPI_lag  dCPI_lag2  dCPI_lag3  dCPI_lag4\n",
       "time                                                                      \n",
       "1948-06-01   24.150  3.6  0.140     0.190      0.320     -0.170     -0.010\n",
       "1948-07-01   24.400  3.6  0.250     0.140      0.190      0.320     -0.170\n",
       "1948-08-01   24.430  3.9  0.030     0.250      0.140      0.190      0.320\n",
       "1948-09-01   24.360  3.8 -0.070     0.030      0.250      0.140      0.190\n",
       "1948-10-01   24.310  3.7 -0.050    -0.070      0.030      0.250      0.140\n",
       "...             ...  ...    ...       ...        ...        ...        ...\n",
       "2022-05-01  291.474  3.6  2.811     0.955      3.526      2.249      1.807\n",
       "2022-06-01  295.328  3.6  3.854     2.811      0.955      3.526      2.249\n",
       "2022-07-01  295.271  3.5 -0.057     3.854      2.811      0.955      3.526\n",
       "2022-08-01  295.620  3.7  0.349    -0.057      3.854      2.811      0.955\n",
       "2022-09-01  296.761  3.5  1.141     0.349     -0.057      3.854      2.811\n",
       "\n",
       "[892 rows x 7 columns]"
      ]
     },
     "execution_count": 40,
     "metadata": {},
     "output_type": "execute_result"
    }
   ],
   "source": [
    "data"
   ]
  },
  {
   "cell_type": "code",
   "execution_count": 41,
   "id": "8dc2fece",
   "metadata": {},
   "outputs": [
    {
     "data": {
      "text/plain": [
       "1.0314522123178702"
      ]
     },
     "execution_count": 41,
     "metadata": {},
     "output_type": "execute_result"
    }
   ],
   "source": [
    "october = model2.params.values[0] + (model2.params.values[1] * data[\"dCPI\"].loc[\"2022-09-01\"]) + (model2.params.values[2] * data[\"dCPI\"].loc[\"2022-08-01\"]) + (model2.params.values[3] * data[\"dCPI\"].loc[\"2022-07-01\"]) + (model2.params.values[4] * data[\"dCPI\"].loc[\"2022-06-01\"])\n",
    "october"
   ]
  },
  {
   "cell_type": "code",
   "execution_count": 43,
   "id": "800d65fc",
   "metadata": {},
   "outputs": [
    {
     "data": {
      "text/plain": [
       "0.597887029827869"
      ]
     },
     "execution_count": 43,
     "metadata": {},
     "output_type": "execute_result"
    }
   ],
   "source": [
    "november = model2.params.values[0] + model2.params.values[1] *october + (model2.params.values[2] * data[\"dCPI\"].loc[\"2022-09-01\"]) + (model2.params.values[3] * data[\"dCPI\"].loc[\"2022-08-01\"]) + (model2.params.values[4] * data[\"dCPI\"].loc[\"2022-07-01\"]) \n",
    "november"
   ]
  },
  {
   "cell_type": "code",
   "execution_count": 45,
   "id": "803a4c82",
   "metadata": {},
   "outputs": [
    {
     "name": "stderr",
     "output_type": "stream",
     "text": [
      "<ipython-input-45-8551fea7d444>:1: SettingWithCopyWarning: \n",
      "A value is trying to be set on a copy of a slice from a DataFrame.\n",
      "Try using .loc[row_indexer,col_indexer] = value instead\n",
      "\n",
      "See the caveats in the documentation: https://pandas.pydata.org/pandas-docs/stable/user_guide/indexing.html#returning-a-view-versus-a-copy\n",
      "  data[\"unr_lag\"] = data[\"unr\"].shift(1)\n"
     ]
    }
   ],
   "source": [
    "data[\"unr_lag\"] = data[\"unr\"].shift(1)"
   ]
  },
  {
   "cell_type": "code",
   "execution_count": 46,
   "id": "3e8669af",
   "metadata": {},
   "outputs": [
    {
     "name": "stdout",
     "output_type": "stream",
     "text": [
      "                            OLS Regression Results                            \n",
      "==============================================================================\n",
      "Dep. Variable:                   dCPI   R-squared:                       0.397\n",
      "Model:                            OLS   Adj. R-squared:                  0.393\n",
      "Method:                 Least Squares   F-statistic:                     97.16\n",
      "Date:                Tue, 15 Nov 2022   Prob (F-statistic):           9.34e-94\n",
      "Time:                        21:13:39   Log-Likelihood:                -372.49\n",
      "No. Observations:                 891   AIC:                             759.0\n",
      "Df Residuals:                     884   BIC:                             792.5\n",
      "Df Model:                           6                                         \n",
      "Covariance Type:            nonrobust                                         \n",
      "==============================================================================\n",
      "                 coef    std err          t      P>|t|      [0.025      0.975]\n",
      "------------------------------------------------------------------------------\n",
      "const          0.0434      0.045      0.962      0.336      -0.045       0.132\n",
      "dCPI_lag       0.5855      0.033     17.658      0.000       0.520       0.651\n",
      "dCPI_lag2     -0.1404      0.038     -3.659      0.000      -0.216      -0.065\n",
      "dCPI_lag3      0.1439      0.039      3.678      0.000       0.067       0.221\n",
      "dCPI_lag4      0.0871      0.035      2.495      0.013       0.019       0.156\n",
      "unr_lag        0.1737      0.030      5.814      0.000       0.115       0.232\n",
      "unr           -0.1639      0.030     -5.485      0.000      -0.222      -0.105\n",
      "==============================================================================\n",
      "Omnibus:                      223.168   Durbin-Watson:                   2.003\n",
      "Prob(Omnibus):                  0.000   Jarque-Bera (JB):             7106.263\n",
      "Skew:                          -0.421   Prob(JB):                         0.00\n",
      "Kurtosis:                      16.810   Cond. No.                         37.1\n",
      "==============================================================================\n",
      "\n",
      "Notes:\n",
      "[1] Standard Errors assume that the covariance matrix of the errors is correctly specified.\n"
     ]
    }
   ],
   "source": [
    "data = data.dropna()\n",
    "Y = data[\"dCPI\"]\n",
    "X = data[[\"dCPI_lag\", \"dCPI_lag2\", \"dCPI_lag3\", \"dCPI_lag4\", \"unr_lag\", \"unr\"]]\n",
    "X = sm.add_constant(X)\n",
    "model3 = sm.OLS(Y, X).fit()\n",
    "print(model3.summary())"
   ]
  },
  {
   "cell_type": "code",
   "execution_count": 47,
   "id": "1404a8d1",
   "metadata": {},
   "outputs": [
    {
     "data": {
      "text/plain": [
       "const        0.043446\n",
       "dCPI_lag     0.585463\n",
       "dCPI_lag2   -0.140379\n",
       "dCPI_lag3    0.143928\n",
       "dCPI_lag4    0.087101\n",
       "unr_lag      0.173706\n",
       "unr         -0.163851\n",
       "dtype: float64"
      ]
     },
     "execution_count": 47,
     "metadata": {},
     "output_type": "execute_result"
    }
   ],
   "source": [
    "model3.params"
   ]
  },
  {
   "cell_type": "code",
   "execution_count": 48,
   "id": "c2278603",
   "metadata": {},
   "outputs": [
    {
     "data": {
      "text/html": [
       "<div>\n",
       "<style scoped>\n",
       "    .dataframe tbody tr th:only-of-type {\n",
       "        vertical-align: middle;\n",
       "    }\n",
       "\n",
       "    .dataframe tbody tr th {\n",
       "        vertical-align: top;\n",
       "    }\n",
       "\n",
       "    .dataframe thead th {\n",
       "        text-align: right;\n",
       "    }\n",
       "</style>\n",
       "<table border=\"1\" class=\"dataframe\">\n",
       "  <thead>\n",
       "    <tr style=\"text-align: right;\">\n",
       "      <th></th>\n",
       "      <th>cpi</th>\n",
       "      <th>unr</th>\n",
       "      <th>dCPI</th>\n",
       "      <th>dCPI_lag</th>\n",
       "      <th>dCPI_lag2</th>\n",
       "      <th>dCPI_lag3</th>\n",
       "      <th>dCPI_lag4</th>\n",
       "      <th>unr_lag</th>\n",
       "    </tr>\n",
       "    <tr>\n",
       "      <th>time</th>\n",
       "      <th></th>\n",
       "      <th></th>\n",
       "      <th></th>\n",
       "      <th></th>\n",
       "      <th></th>\n",
       "      <th></th>\n",
       "      <th></th>\n",
       "      <th></th>\n",
       "    </tr>\n",
       "  </thead>\n",
       "  <tbody>\n",
       "    <tr>\n",
       "      <th>1948-07-01</th>\n",
       "      <td>24.400</td>\n",
       "      <td>3.6</td>\n",
       "      <td>0.250</td>\n",
       "      <td>0.140</td>\n",
       "      <td>0.190</td>\n",
       "      <td>0.320</td>\n",
       "      <td>-0.170</td>\n",
       "      <td>3.6</td>\n",
       "    </tr>\n",
       "    <tr>\n",
       "      <th>1948-08-01</th>\n",
       "      <td>24.430</td>\n",
       "      <td>3.9</td>\n",
       "      <td>0.030</td>\n",
       "      <td>0.250</td>\n",
       "      <td>0.140</td>\n",
       "      <td>0.190</td>\n",
       "      <td>0.320</td>\n",
       "      <td>3.6</td>\n",
       "    </tr>\n",
       "    <tr>\n",
       "      <th>1948-09-01</th>\n",
       "      <td>24.360</td>\n",
       "      <td>3.8</td>\n",
       "      <td>-0.070</td>\n",
       "      <td>0.030</td>\n",
       "      <td>0.250</td>\n",
       "      <td>0.140</td>\n",
       "      <td>0.190</td>\n",
       "      <td>3.9</td>\n",
       "    </tr>\n",
       "    <tr>\n",
       "      <th>1948-10-01</th>\n",
       "      <td>24.310</td>\n",
       "      <td>3.7</td>\n",
       "      <td>-0.050</td>\n",
       "      <td>-0.070</td>\n",
       "      <td>0.030</td>\n",
       "      <td>0.250</td>\n",
       "      <td>0.140</td>\n",
       "      <td>3.8</td>\n",
       "    </tr>\n",
       "    <tr>\n",
       "      <th>1948-11-01</th>\n",
       "      <td>24.160</td>\n",
       "      <td>3.8</td>\n",
       "      <td>-0.150</td>\n",
       "      <td>-0.050</td>\n",
       "      <td>-0.070</td>\n",
       "      <td>0.030</td>\n",
       "      <td>0.250</td>\n",
       "      <td>3.7</td>\n",
       "    </tr>\n",
       "    <tr>\n",
       "      <th>...</th>\n",
       "      <td>...</td>\n",
       "      <td>...</td>\n",
       "      <td>...</td>\n",
       "      <td>...</td>\n",
       "      <td>...</td>\n",
       "      <td>...</td>\n",
       "      <td>...</td>\n",
       "      <td>...</td>\n",
       "    </tr>\n",
       "    <tr>\n",
       "      <th>2022-05-01</th>\n",
       "      <td>291.474</td>\n",
       "      <td>3.6</td>\n",
       "      <td>2.811</td>\n",
       "      <td>0.955</td>\n",
       "      <td>3.526</td>\n",
       "      <td>2.249</td>\n",
       "      <td>1.807</td>\n",
       "      <td>3.6</td>\n",
       "    </tr>\n",
       "    <tr>\n",
       "      <th>2022-06-01</th>\n",
       "      <td>295.328</td>\n",
       "      <td>3.6</td>\n",
       "      <td>3.854</td>\n",
       "      <td>2.811</td>\n",
       "      <td>0.955</td>\n",
       "      <td>3.526</td>\n",
       "      <td>2.249</td>\n",
       "      <td>3.6</td>\n",
       "    </tr>\n",
       "    <tr>\n",
       "      <th>2022-07-01</th>\n",
       "      <td>295.271</td>\n",
       "      <td>3.5</td>\n",
       "      <td>-0.057</td>\n",
       "      <td>3.854</td>\n",
       "      <td>2.811</td>\n",
       "      <td>0.955</td>\n",
       "      <td>3.526</td>\n",
       "      <td>3.6</td>\n",
       "    </tr>\n",
       "    <tr>\n",
       "      <th>2022-08-01</th>\n",
       "      <td>295.620</td>\n",
       "      <td>3.7</td>\n",
       "      <td>0.349</td>\n",
       "      <td>-0.057</td>\n",
       "      <td>3.854</td>\n",
       "      <td>2.811</td>\n",
       "      <td>0.955</td>\n",
       "      <td>3.5</td>\n",
       "    </tr>\n",
       "    <tr>\n",
       "      <th>2022-09-01</th>\n",
       "      <td>296.761</td>\n",
       "      <td>3.5</td>\n",
       "      <td>1.141</td>\n",
       "      <td>0.349</td>\n",
       "      <td>-0.057</td>\n",
       "      <td>3.854</td>\n",
       "      <td>2.811</td>\n",
       "      <td>3.7</td>\n",
       "    </tr>\n",
       "  </tbody>\n",
       "</table>\n",
       "<p>891 rows × 8 columns</p>\n",
       "</div>"
      ],
      "text/plain": [
       "                cpi  unr   dCPI  dCPI_lag  dCPI_lag2  dCPI_lag3  dCPI_lag4  \\\n",
       "time                                                                         \n",
       "1948-07-01   24.400  3.6  0.250     0.140      0.190      0.320     -0.170   \n",
       "1948-08-01   24.430  3.9  0.030     0.250      0.140      0.190      0.320   \n",
       "1948-09-01   24.360  3.8 -0.070     0.030      0.250      0.140      0.190   \n",
       "1948-10-01   24.310  3.7 -0.050    -0.070      0.030      0.250      0.140   \n",
       "1948-11-01   24.160  3.8 -0.150    -0.050     -0.070      0.030      0.250   \n",
       "...             ...  ...    ...       ...        ...        ...        ...   \n",
       "2022-05-01  291.474  3.6  2.811     0.955      3.526      2.249      1.807   \n",
       "2022-06-01  295.328  3.6  3.854     2.811      0.955      3.526      2.249   \n",
       "2022-07-01  295.271  3.5 -0.057     3.854      2.811      0.955      3.526   \n",
       "2022-08-01  295.620  3.7  0.349    -0.057      3.854      2.811      0.955   \n",
       "2022-09-01  296.761  3.5  1.141     0.349     -0.057      3.854      2.811   \n",
       "\n",
       "            unr_lag  \n",
       "time                 \n",
       "1948-07-01      3.6  \n",
       "1948-08-01      3.6  \n",
       "1948-09-01      3.9  \n",
       "1948-10-01      3.8  \n",
       "1948-11-01      3.7  \n",
       "...             ...  \n",
       "2022-05-01      3.6  \n",
       "2022-06-01      3.6  \n",
       "2022-07-01      3.6  \n",
       "2022-08-01      3.5  \n",
       "2022-09-01      3.7  \n",
       "\n",
       "[891 rows x 8 columns]"
      ]
     },
     "execution_count": 48,
     "metadata": {},
     "output_type": "execute_result"
    }
   ],
   "source": [
    "data"
   ]
  },
  {
   "cell_type": "code",
   "execution_count": 56,
   "id": "b41fdb89",
   "metadata": {},
   "outputs": [
    {
     "data": {
      "text/plain": [
       "0.9916744271736951"
      ]
     },
     "execution_count": 56,
     "metadata": {},
     "output_type": "execute_result"
    }
   ],
   "source": [
    "october = model3.params.values[0] + model3.params.values[1] * data[\"dCPI\"].loc[\"2022-09-01\"] + model3.params.values[2] * data[\"dCPI\"].loc[\"2022-08-01\"] + model3.params.values[3] * data[\"dCPI\"].loc[\"2022-07-01\"] + model3.params.values[4] * data[\"dCPI\"].loc[\"2022-06-01\"] + model3.params.values[6] * 3.7 + model3.params.values[5] * data[\"unr_lag\"].loc[\"2022-08-01\"]\n",
    "october"
   ]
  }
 ],
 "metadata": {
  "kernelspec": {
   "display_name": "Python 3",
   "language": "python",
   "name": "python3"
  },
  "language_info": {
   "codemirror_mode": {
    "name": "ipython",
    "version": 3
   },
   "file_extension": ".py",
   "mimetype": "text/x-python",
   "name": "python",
   "nbconvert_exporter": "python",
   "pygments_lexer": "ipython3",
   "version": "3.8.8"
  }
 },
 "nbformat": 4,
 "nbformat_minor": 5
}
