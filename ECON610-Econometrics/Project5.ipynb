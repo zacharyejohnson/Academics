{
 "cells": [
  {
   "cell_type": "code",
   "execution_count": 12,
   "id": "2a60833d",
   "metadata": {},
   "outputs": [],
   "source": [
    "import pandas as pd \n",
    "import statsmodels.api as sm\n",
    "import scipy.stats as stats"
   ]
  },
  {
   "cell_type": "code",
   "execution_count": null,
   "id": "d7b168c7",
   "metadata": {},
   "outputs": [],
   "source": [
    "data = pd.read_stata(\"project5data.dta\")"
   ]
  },
  {
   "cell_type": "code",
   "execution_count": null,
   "id": "0d59a4e8",
   "metadata": {
    "scrolled": false
   },
   "outputs": [],
   "source": [
    "data"
   ]
  },
  {
   "cell_type": "code",
   "execution_count": null,
   "id": "c637e8ba",
   "metadata": {},
   "outputs": [],
   "source": [
    "data[\"white\"].describe()"
   ]
  },
  {
   "cell_type": "code",
   "execution_count": null,
   "id": "627ed613",
   "metadata": {},
   "outputs": [],
   "source": [
    "data[\"approve\"][data[\"white\"] == 1].describe()\n",
    "data[\"approve\"][data[\"white\"] == 0].describe()"
   ]
  },
  {
   "cell_type": "code",
   "execution_count": null,
   "id": "03790551",
   "metadata": {},
   "outputs": [],
   "source": [
    "Y = data[\"approve\"]\n",
    "X = data[\"white\"]\n",
    "X = sm.add_constant(X)\n",
    "model = sm.OLS(Y, X).fit()\n",
    "print(model.summary())"
   ]
  },
  {
   "cell_type": "code",
   "execution_count": null,
   "id": "177aff6d",
   "metadata": {},
   "outputs": [],
   "source": [
    "data"
   ]
  },
  {
   "cell_type": "code",
   "execution_count": null,
   "id": "3c284c92",
   "metadata": {},
   "outputs": [],
   "source": [
    "\n",
    "reg_data = data[[\"approve\", \"white\", \"hrat\", \"obrat\", \"loanprc\", \"unem\", \"male\", \"married\", \"dep\", \"sch\", \"cosign\", \"chist\", \"pubrec\", \"mortlat1\", \"mortlat2\", \"vr\"]]\n",
    "reg_data = reg_data.dropna()\n",
    "Y = reg_data[\"approve\"]\n",
    "X = reg_data[[\"hrat\", \"obrat\", \"loanprc\", \"unem\", \"male\", \"married\", \"dep\", \"sch\", \"cosign\", \"chist\", \"pubrec\", \"mortlat1\", \"mortlat2\", \"vr\"]]\n",
    "X = sm.add_constant(X)\n",
    "model2 = sm.OLS(Y, X).fit()\n",
    "print(model2.summary())"
   ]
  },
  {
   "cell_type": "code",
   "execution_count": null,
   "id": "adf7159f",
   "metadata": {},
   "outputs": [],
   "source": [
    "model2.ssr"
   ]
  },
  {
   "cell_type": "code",
   "execution_count": null,
   "id": "cb0f2666",
   "metadata": {},
   "outputs": [],
   "source": [
    "white_data = reg_data[reg_data[\"white\"] == 1]\n",
    "Y = white_data[\"approve\"]\n",
    "X = white_data[[\"hrat\", \"obrat\", \"loanprc\", \"unem\", \"male\", \"married\", \"dep\", \"sch\", \"cosign\", \"chist\", \"pubrec\", \"mortlat1\", \"mortlat2\", \"vr\"]]\n",
    "X = sm.add_constant(X)\n",
    "model3 = sm.OLS(Y, X).fit()\n",
    "print(model3.summary())"
   ]
  },
  {
   "cell_type": "code",
   "execution_count": null,
   "id": "5745b1a3",
   "metadata": {},
   "outputs": [],
   "source": [
    "model3.ssr"
   ]
  },
  {
   "cell_type": "code",
   "execution_count": null,
   "id": "3debbf6a",
   "metadata": {},
   "outputs": [],
   "source": [
    "nonwhite_data = reg_data[reg_data[\"white\"] == 0]\n",
    "Y = nonwhite_data[\"approve\"]\n",
    "X = nonwhite_data[[\"hrat\", \"obrat\", \"loanprc\", \"unem\", \"male\", \"married\", \"dep\", \"sch\", \"cosign\", \"chist\", \"pubrec\", \"mortlat1\", \"mortlat2\", \"vr\"]]\n",
    "X = sm.add_constant(X)\n",
    "model4 = sm.OLS(Y, X).fit()\n",
    "print(model4.summary())"
   ]
  },
  {
   "cell_type": "code",
   "execution_count": null,
   "id": "29157b86",
   "metadata": {},
   "outputs": [],
   "source": [
    "model4.ssr"
   ]
  },
  {
   "cell_type": "code",
   "execution_count": null,
   "id": "2f9d584e",
   "metadata": {},
   "outputs": [],
   "source": [
    "interaction_data = reg_data.copy()\n",
    "columns = [\"hrat\", \"obrat\", \"loanprc\", \"unem\", \"male\", \"married\", \"dep\", \"sch\", \"cosign\", \"chist\", \"pubrec\", \"mortlat1\", \"mortlat2\", \"vr\"]\n",
    "for key in columns: \n",
    "    interaction_data[key+\"*white\"] = interaction_data[key] * interaction_data[\"white\"]"
   ]
  },
  {
   "cell_type": "code",
   "execution_count": null,
   "id": "4c299cf5",
   "metadata": {},
   "outputs": [],
   "source": [
    "interaction_data"
   ]
  },
  {
   "cell_type": "code",
   "execution_count": null,
   "id": "e3ec7a71",
   "metadata": {},
   "outputs": [],
   "source": [
    "indep_vars = [\"white\", \"hrat\", \"obrat\", \"loanprc\", \"unem\", \"male\", \"married\", \"dep\", \"sch\", \"cosign\", \"chist\", \"pubrec\", \"mortlat1\", \"mortlat2\", \"vr\", 'hrat*white', 'obrat*white',\n",
    "       'loanprc*white', 'unem*white', 'male*white', 'married*white',\n",
    "       'dep*white', 'sch*white', 'cosign*white', 'chist*white', 'pubrec*white',\n",
    "       'mortlat1*white', 'mortlat2*white', 'vr*white']"
   ]
  },
  {
   "cell_type": "code",
   "execution_count": null,
   "id": "e13d1e5f",
   "metadata": {},
   "outputs": [],
   "source": [
    "Y = interaction_data[\"approve\"]\n",
    "X = interaction_data[indep_vars]\n",
    "X = sm.add_constant(X)\n",
    "model5 = sm.OLS(Y, X).fit()\n",
    "print(model5.summary())"
   ]
  },
  {
   "cell_type": "code",
   "execution_count": null,
   "id": "d19ab393",
   "metadata": {},
   "outputs": [],
   "source": [
    "model5.ssr"
   ]
  },
  {
   "cell_type": "code",
   "execution_count": null,
   "id": "6d690aa0",
   "metadata": {},
   "outputs": [],
   "source": [
    "ssr_r = model2.ssr\n",
    "ssr_0 = model4.ssr\n",
    "ssr_1 = model3.ssr\n",
    "n = model2.nobs\n",
    "k = len(model2.params) - 2"
   ]
  },
  {
   "cell_type": "code",
   "execution_count": null,
   "id": "bb9a35fa",
   "metadata": {},
   "outputs": [],
   "source": [
    "k"
   ]
  },
  {
   "cell_type": "code",
   "execution_count": null,
   "id": "4ae88893",
   "metadata": {},
   "outputs": [],
   "source": [
    "n"
   ]
  },
  {
   "cell_type": "code",
   "execution_count": null,
   "id": "1f3e81cf",
   "metadata": {},
   "outputs": [],
   "source": [
    "print(ssr_r, ssr_0, ssr_1)"
   ]
  },
  {
   "cell_type": "code",
   "execution_count": null,
   "id": "58e6998b",
   "metadata": {},
   "outputs": [],
   "source": [
    "f = ((ssr_r - (ssr_0 + ssr_1)) / (ssr_0 + ssr_1)) * ((n-2*(k+1)) / k)\n",
    "f"
   ]
  },
  {
   "cell_type": "markdown",
   "id": "94f25a1b",
   "metadata": {},
   "source": [
    "f.inv.RT(.01, 14, 1762) = 2.09"
   ]
  },
  {
   "cell_type": "code",
   "execution_count": null,
   "id": "5637bb0b",
   "metadata": {},
   "outputs": [],
   "source": [
    "white_data_w_interactions = interaction_data[interaction_data[\"white\"] == 1]"
   ]
  },
  {
   "cell_type": "code",
   "execution_count": null,
   "id": "9eb08f9c",
   "metadata": {},
   "outputs": [],
   "source": [
    "black_data_w_interactions = interaction_data[interaction_data[\"white\"] == 0]"
   ]
  },
  {
   "cell_type": "code",
   "execution_count": null,
   "id": "601286ff",
   "metadata": {},
   "outputs": [],
   "source": [
    "white_data_w_interactions"
   ]
  },
  {
   "cell_type": "code",
   "execution_count": null,
   "id": "20b8b3f0",
   "metadata": {},
   "outputs": [],
   "source": [
    "\n",
    "Y1 = white_data_w_interactions[\"approve\"]\n",
    "X1 = white_data_w_interactions[indep_vars]\n",
    "X1 = sm.add_constant(X)\n",
    "model6 = sm.OLS(Y1, X1).fit()\n",
    "print(model6.summary())"
   ]
  },
  {
   "cell_type": "code",
   "execution_count": 20,
   "id": "ad8c163e",
   "metadata": {},
   "outputs": [
    {
     "data": {
      "text/plain": [
       "0.3967856392810467"
      ]
     },
     "execution_count": 20,
     "metadata": {},
     "output_type": "execute_result"
    }
   ],
   "source": []
  },
  {
   "cell_type": "code",
   "execution_count": 22,
   "id": "17326d24",
   "metadata": {},
   "outputs": [
    {
     "name": "stdout",
     "output_type": "stream",
     "text": [
      "1.3525 128.69000000000003 49.225658146737686 15.924349280268881\n"
     ]
    }
   ],
   "source": [
    "\n",
    "b_2 = 0.5 ** 2 + 1.05 ** 2+0 ** 2\n",
    "s_2 = 4.6**2 + 10.3**2 + 1.2**2\n",
    "\n",
    "v = (s_2 ** 2) / ((4.6**4 / 14) + (10.3**4/37) + (1.2**4 / 8) )\n",
    "v\n",
    "\n",
    "w = (b_2 + 1.96*s_2 )**(1/2)\n",
    "print(b_2, s_2, v, w)"
   ]
  }
 ],
 "metadata": {
  "kernelspec": {
   "display_name": "Python 3",
   "language": "python",
   "name": "python3"
  },
  "language_info": {
   "codemirror_mode": {
    "name": "ipython",
    "version": 3
   },
   "file_extension": ".py",
   "mimetype": "text/x-python",
   "name": "python",
   "nbconvert_exporter": "python",
   "pygments_lexer": "ipython3",
   "version": "3.8.8"
  }
 },
 "nbformat": 4,
 "nbformat_minor": 5
}
