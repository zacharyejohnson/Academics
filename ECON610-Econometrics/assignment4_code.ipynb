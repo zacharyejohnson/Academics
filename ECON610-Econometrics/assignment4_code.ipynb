{
 "cells": [
  {
   "cell_type": "code",
   "execution_count": 18,
   "metadata": {},
   "outputs": [],
   "source": [
    "import pandas as pd\n",
    "import statsmodels.api as sm"
   ]
  },
  {
   "cell_type": "code",
   "execution_count": 15,
   "metadata": {},
   "outputs": [],
   "source": [
    "data = pd.read_excel(\"Project4Data.xlsx\")"
   ]
  },
  {
   "cell_type": "code",
   "execution_count": 16,
   "metadata": {},
   "outputs": [
    {
     "data": {
      "text/html": [
       "<div>\n",
       "<style scoped>\n",
       "    .dataframe tbody tr th:only-of-type {\n",
       "        vertical-align: middle;\n",
       "    }\n",
       "\n",
       "    .dataframe tbody tr th {\n",
       "        vertical-align: top;\n",
       "    }\n",
       "\n",
       "    .dataframe thead th {\n",
       "        text-align: right;\n",
       "    }\n",
       "</style>\n",
       "<table border=\"1\" class=\"dataframe\">\n",
       "  <thead>\n",
       "    <tr style=\"text-align: right;\">\n",
       "      <th></th>\n",
       "      <th>hseprice</th>\n",
       "      <th>bedrooms</th>\n",
       "      <th>hsesize</th>\n",
       "    </tr>\n",
       "  </thead>\n",
       "  <tbody>\n",
       "    <tr>\n",
       "      <th>0</th>\n",
       "      <td>300.0</td>\n",
       "      <td>4</td>\n",
       "      <td>2438</td>\n",
       "    </tr>\n",
       "    <tr>\n",
       "      <th>1</th>\n",
       "      <td>370.0</td>\n",
       "      <td>3</td>\n",
       "      <td>2076</td>\n",
       "    </tr>\n",
       "    <tr>\n",
       "      <th>2</th>\n",
       "      <td>191.0</td>\n",
       "      <td>3</td>\n",
       "      <td>1374</td>\n",
       "    </tr>\n",
       "    <tr>\n",
       "      <th>3</th>\n",
       "      <td>195.0</td>\n",
       "      <td>3</td>\n",
       "      <td>1448</td>\n",
       "    </tr>\n",
       "    <tr>\n",
       "      <th>4</th>\n",
       "      <td>373.0</td>\n",
       "      <td>4</td>\n",
       "      <td>2514</td>\n",
       "    </tr>\n",
       "    <tr>\n",
       "      <th>...</th>\n",
       "      <td>...</td>\n",
       "      <td>...</td>\n",
       "      <td>...</td>\n",
       "    </tr>\n",
       "    <tr>\n",
       "      <th>83</th>\n",
       "      <td>295.0</td>\n",
       "      <td>3</td>\n",
       "      <td>1837</td>\n",
       "    </tr>\n",
       "    <tr>\n",
       "      <th>84</th>\n",
       "      <td>236.0</td>\n",
       "      <td>3</td>\n",
       "      <td>1715</td>\n",
       "    </tr>\n",
       "    <tr>\n",
       "      <th>85</th>\n",
       "      <td>202.5</td>\n",
       "      <td>3</td>\n",
       "      <td>1574</td>\n",
       "    </tr>\n",
       "    <tr>\n",
       "      <th>86</th>\n",
       "      <td>219.0</td>\n",
       "      <td>2</td>\n",
       "      <td>1185</td>\n",
       "    </tr>\n",
       "    <tr>\n",
       "      <th>87</th>\n",
       "      <td>242.0</td>\n",
       "      <td>4</td>\n",
       "      <td>1774</td>\n",
       "    </tr>\n",
       "  </tbody>\n",
       "</table>\n",
       "<p>88 rows × 3 columns</p>\n",
       "</div>"
      ],
      "text/plain": [
       "    hseprice  bedrooms  hsesize\n",
       "0      300.0         4     2438\n",
       "1      370.0         3     2076\n",
       "2      191.0         3     1374\n",
       "3      195.0         3     1448\n",
       "4      373.0         4     2514\n",
       "..       ...       ...      ...\n",
       "83     295.0         3     1837\n",
       "84     236.0         3     1715\n",
       "85     202.5         3     1574\n",
       "86     219.0         2     1185\n",
       "87     242.0         4     1774\n",
       "\n",
       "[88 rows x 3 columns]"
      ]
     },
     "execution_count": 16,
     "metadata": {},
     "output_type": "execute_result"
    }
   ],
   "source": [
    "data"
   ]
  },
  {
   "cell_type": "code",
   "execution_count": 34,
   "metadata": {},
   "outputs": [],
   "source": [
    "X = data[['bedrooms', 'hsesize']]\n",
    "Y = data[['hseprice']]\n",
    "X = sm.add_constant(X)\n",
    "\n",
    "model = sm.OLS(Y, X).fit()\n"
   ]
  },
  {
   "cell_type": "code",
   "execution_count": null,
   "metadata": {},
   "outputs": [],
   "source": []
  },
  {
   "cell_type": "code",
   "execution_count": 35,
   "metadata": {},
   "outputs": [
    {
     "name": "stdout",
     "output_type": "stream",
     "text": [
      "                            OLS Regression Results                            \n",
      "==============================================================================\n",
      "Dep. Variable:               hseprice   R-squared:                       0.632\n",
      "Model:                            OLS   Adj. R-squared:                  0.623\n",
      "Method:                 Least Squares   F-statistic:                     72.96\n",
      "Date:                Tue, 11 Oct 2022   Prob (F-statistic):           3.57e-19\n",
      "Time:                        20:21:33   Log-Likelihood:                -488.00\n",
      "No. Observations:                  88   AIC:                             982.0\n",
      "Df Residuals:                      85   BIC:                             989.4\n",
      "Df Model:                           2                                         \n",
      "Covariance Type:            nonrobust                                         \n",
      "==============================================================================\n",
      "                 coef    std err          t      P>|t|      [0.025      0.975]\n",
      "------------------------------------------------------------------------------\n",
      "const        -19.3150     31.047     -0.622      0.536     -81.044      42.414\n",
      "bedrooms      15.1982      9.484      1.603      0.113      -3.658      34.054\n",
      "hsesize        0.1284      0.014      9.291      0.000       0.101       0.156\n",
      "==============================================================================\n",
      "Omnibus:                       25.221   Durbin-Watson:                   1.858\n",
      "Prob(Omnibus):                  0.000   Jarque-Bera (JB):               44.973\n",
      "Skew:                           1.122   Prob(JB):                     1.72e-10\n",
      "Kurtosis:                       5.689   Cond. No.                     9.85e+03\n",
      "==============================================================================\n",
      "\n",
      "Notes:\n",
      "[1] Standard Errors assume that the covariance matrix of the errors is correctly specified.\n",
      "[2] The condition number is large, 9.85e+03. This might indicate that there are\n",
      "strong multicollinearity or other numerical problems.\n"
     ]
    }
   ],
   "source": [
    "print(model.summary())"
   ]
  },
  {
   "cell_type": "code",
   "execution_count": 36,
   "metadata": {},
   "outputs": [
    {
     "data": {
      "text/plain": [
       "1.6024884015183467"
      ]
     },
     "execution_count": 36,
     "metadata": {},
     "output_type": "execute_result"
    }
   ],
   "source": [
    "15.198 / 9.484"
   ]
  },
  {
   "cell_type": "code",
   "execution_count": 37,
   "metadata": {},
   "outputs": [],
   "source": [
    "X = data[['bedrooms']]\n",
    "Y = data[['hseprice']]\n",
    "X = sm.add_constant(X)\n",
    "\n",
    "model = sm.OLS(Y, X).fit()"
   ]
  },
  {
   "cell_type": "code",
   "execution_count": 38,
   "metadata": {},
   "outputs": [
    {
     "name": "stdout",
     "output_type": "stream",
     "text": [
      "                            OLS Regression Results                            \n",
      "==============================================================================\n",
      "Dep. Variable:               hseprice   R-squared:                       0.258\n",
      "Model:                            OLS   Adj. R-squared:                  0.250\n",
      "Method:                 Least Squares   F-statistic:                     29.93\n",
      "Date:                Tue, 11 Oct 2022   Prob (F-statistic):           4.34e-07\n",
      "Time:                        20:27:59   Log-Likelihood:                -518.84\n",
      "No. Observations:                  88   AIC:                             1042.\n",
      "Df Residuals:                      86   BIC:                             1047.\n",
      "Df Model:                           1                                         \n",
      "Covariance Type:            nonrobust                                         \n",
      "==============================================================================\n",
      "                 coef    std err          t      P>|t|      [0.025      0.975]\n",
      "------------------------------------------------------------------------------\n",
      "const         72.2311     41.553      1.738      0.086     -10.374     154.836\n",
      "bedrooms      62.0246     11.338      5.470      0.000      39.485      84.564\n",
      "==============================================================================\n",
      "Omnibus:                       30.731   Durbin-Watson:                   2.159\n",
      "Prob(Omnibus):                  0.000   Jarque-Bera (JB):               68.141\n",
      "Skew:                           1.253   Prob(JB):                     1.60e-15\n",
      "Kurtosis:                       6.508   Cond. No.                         17.2\n",
      "==============================================================================\n",
      "\n",
      "Notes:\n",
      "[1] Standard Errors assume that the covariance matrix of the errors is correctly specified.\n"
     ]
    }
   ],
   "source": [
    "print(model.summary())"
   ]
  },
  {
   "cell_type": "code",
   "execution_count": 39,
   "metadata": {},
   "outputs": [],
   "source": [
    "X = data[['bedrooms']]\n",
    "Y = data[['hsesize']]\n",
    "X = sm.add_constant(X)\n",
    "\n",
    "model = sm.OLS(Y, X).fit()"
   ]
  },
  {
   "cell_type": "code",
   "execution_count": 40,
   "metadata": {},
   "outputs": [
    {
     "name": "stdout",
     "output_type": "stream",
     "text": [
      "                            OLS Regression Results                            \n",
      "==============================================================================\n",
      "Dep. Variable:                hsesize   R-squared:                       0.282\n",
      "Model:                            OLS   Adj. R-squared:                  0.274\n",
      "Method:                 Least Squares   F-statistic:                     33.85\n",
      "Date:                Tue, 11 Oct 2022   Prob (F-statistic):           9.94e-08\n",
      "Time:                        20:38:37   Log-Likelihood:                -669.28\n",
      "No. Observations:                  88   AIC:                             1343.\n",
      "Df Residuals:                      86   BIC:                             1348.\n",
      "Df Model:                           1                                         \n",
      "Covariance Type:            nonrobust                                         \n",
      "==============================================================================\n",
      "                 coef    std err          t      P>|t|      [0.025      0.975]\n",
      "------------------------------------------------------------------------------\n",
      "const        712.7749    229.647      3.104      0.003     256.251    1169.299\n",
      "bedrooms     364.5886     62.661      5.818      0.000     240.024     489.154\n",
      "==============================================================================\n",
      "Omnibus:                       18.015   Durbin-Watson:                   1.760\n",
      "Prob(Omnibus):                  0.000   Jarque-Bera (JB):               28.355\n",
      "Skew:                           0.848   Prob(JB):                     6.96e-07\n",
      "Kurtosis:                       5.204   Cond. No.                         17.2\n",
      "==============================================================================\n",
      "\n",
      "Notes:\n",
      "[1] Standard Errors assume that the covariance matrix of the errors is correctly specified.\n"
     ]
    }
   ],
   "source": [
    "print(model.summary())"
   ]
  },
  {
   "cell_type": "code",
   "execution_count": 41,
   "metadata": {},
   "outputs": [],
   "source": [
    "X = data[['hsesize']]\n",
    "Y = data[['hseprice']]\n",
    "X = sm.add_constant(X)\n",
    "\n",
    "model = sm.OLS(Y, X).fit()"
   ]
  },
  {
   "cell_type": "code",
   "execution_count": 44,
   "metadata": {},
   "outputs": [
    {
     "name": "stdout",
     "output_type": "stream",
     "text": [
      "                            OLS Regression Results                            \n",
      "==============================================================================\n",
      "Dep. Variable:               hseprice   R-squared:                       0.621\n",
      "Model:                            OLS   Adj. R-squared:                  0.616\n",
      "Method:                 Least Squares   F-statistic:                     140.8\n",
      "Date:                Tue, 11 Oct 2022   Prob (F-statistic):           8.42e-20\n",
      "Time:                        20:54:52   Log-Likelihood:                -489.31\n",
      "No. Observations:                  88   AIC:                             982.6\n",
      "Df Residuals:                      86   BIC:                             987.6\n",
      "Df Model:                           1                                         \n",
      "Covariance Type:            nonrobust                                         \n",
      "==============================================================================\n",
      "                 coef    std err          t      P>|t|      [0.025      0.975]\n",
      "------------------------------------------------------------------------------\n",
      "const         11.2041     24.743      0.453      0.652     -37.983      60.391\n",
      "hsesize        0.1402      0.012     11.866      0.000       0.117       0.164\n",
      "==============================================================================\n",
      "Omnibus:                       26.343   Durbin-Watson:                   1.729\n",
      "Prob(Omnibus):                  0.000   Jarque-Bera (JB):               46.311\n",
      "Skew:                           1.185   Prob(JB):                     8.79e-11\n",
      "Kurtosis:                       5.649   Cond. No.                     7.64e+03\n",
      "==============================================================================\n",
      "\n",
      "Notes:\n",
      "[1] Standard Errors assume that the covariance matrix of the errors is correctly specified.\n",
      "[2] The condition number is large, 7.64e+03. This might indicate that there are\n",
      "strong multicollinearity or other numerical problems.\n"
     ]
    }
   ],
   "source": [
    "print(model.summary())"
   ]
  }
 ],
 "metadata": {
  "kernelspec": {
   "display_name": "Python 3.8.8 ('base')",
   "language": "python",
   "name": "python3"
  },
  "language_info": {
   "codemirror_mode": {
    "name": "ipython",
    "version": 3
   },
   "file_extension": ".py",
   "mimetype": "text/x-python",
   "name": "python",
   "nbconvert_exporter": "python",
   "pygments_lexer": "ipython3",
   "version": "3.8.8"
  },
  "orig_nbformat": 4,
  "vscode": {
   "interpreter": {
    "hash": "bf8fb7ebe916c093a7ab67136f4802ead0f983889c722d7b26f8abe7aa9b8d4e"
   }
  }
 },
 "nbformat": 4,
 "nbformat_minor": 2
}
