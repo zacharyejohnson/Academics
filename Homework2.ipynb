{
 "cells": [
  {
   "cell_type": "code",
   "execution_count": 97,
   "id": "8cbd748c",
   "metadata": {},
   "outputs": [
    {
     "name": "stdout",
     "output_type": "stream",
     "text": [
      " Problem 1 result:\n",
      "[3, 6, 9, 12, 15, 18, 21, 24, 27, 30, 33, 36, 39, 42, 45, 48, 51, 54, 57, 60, 63, 66, 69, 72, 75, 78, 81, 84, 87, 90, 93, 96, 99, 102, 105, 108, 111, 114, 117, 120, 123, 126, 129, 132, 135, 138, 141, 144, 147, 150, 153, 156, 159, 162, 165, 168, 171, 174, 177, 180, 183, 186, 189, 192, 195, 198, 201, 204, 207, 210, 213, 216, 219, 222, 225, 228, 231, 234, 237, 240, 243, 246, 249, 252, 255, 258, 261, 264, 267, 270, 273, 276, 279, 282, 285, 288, 291, 294, 297]\n",
      "\n",
      " Problem 2 result:\n",
      "['3', '6', '9', '12', '15', '18', '21', '24', '27', '30', '33', '36', '39', '42', '45', '48', '51', '54', '57', '60', '63', '66', '69', '72', '75', '78', '81', '84', '87', '90', '93', '96', '99', '102', '105', '108', '111', '114', '117', '120', '123', '126', '129', '132', '135', '138', '141', '144', '147', '150', '153', '156', '159', '162', '165', '168', '171', '174', '177', '180', '183', '186', '189', '192', '195', '198', '201', '204', '207', '210', '213', '216', '219', '222', '225', '228', '231', '234', '237', '240', '243', '246', '249', '252', '255', '258', '261', '264', '267', '270', '273', '276', '279', '282', '285', '288', '291', '294', '297']\n",
      "\n",
      " Problem 3 result:\n",
      "369121518212427303336394245485154576063666972757881848790939699102105108111114117120123126129132135138141144147150153156159162165168171174177180183186189192195198201204207210213216219222225228231234237240243246249252255258261264267270273276279282285288291294297\n",
      "\n",
      " Problem 4 results:\n",
      "[297, 294, 291, 288, 285, 282, 279, 276, 273, 270, 267, 264, 261, 258, 255, 252, 249, 246, 243, 240, 237, 234, 231, 228, 225, 222, 219, 216, 213, 210, 207, 204, 201, 198, 195, 192, 189, 186, 183, 180, 177, 174, 171, 168, 165, 162, 159, 156, 153, 150, 147, 144, 141, 138, 135, 132, 129, 126, 123, 120, 117, 114, 111, 108, 105, 102, 99, 96, 93, 90, 87, 84, 81, 78, 75, 72, 69, 66, 63, 60, 57, 54, 51, 48, 45, 42, 39, 36, 33, 30, 27, 24, 21, 18, 15, 12, 9, 6, 3]\n",
      "\n",
      " Problem 5 results: \n",
      "[150, 153, 156, 159, 162, 165, 168, 171, 174, 177, 180, 183, 186, 189, 192, 195, 198, 201, 204, 207, 210, 213, 216, 219, 222, 225, 228, 231, 234, 237, 240, 243, 246, 249, 252, 255, 258, 261, 264, 267, 270, 273, 276, 279, 282, 285, 288, 291, 294, 297]\n",
      "\n",
      " Problem 6 results:\n",
      "3925814703692581470369258147036901501111721321931531141751351961561171781381991592102712312922522132742342952552162772372982582192\n",
      "\n",
      " Problem 7 results:\n",
      " A dynamic list in Python is a collection of multiple objects, and each individual list can be changed as a user pleases to include new values or delete old ones. A Tuple, on the other hand, is a list that cannot be modified after it has been created. A lot of the time tuples are stored within lists to represent objects that are decribed with multiple data types and will never change.  \n"
     ]
    }
   ],
   "source": [
    "# 1. Create a list of numbers 100 elements in length that counts by 3s - i.e., [3,6,9,12,...]\n",
    "numbers_list = []\n",
    "for x in range(1,100):\n",
    "    numbers_list.append(3*x)\n",
    "print(\" Problem 1 result:\")\n",
    "print(numbers_list)\n",
    "\n",
    "\n",
    "# 2. Using the list from question 1, create a second list whose elements are the same values converted to strings. \n",
    "# hint: use a for loop and the function str().\n",
    "numbers_list_2 = []\n",
    "for i in range(len(numbers_list)):\n",
    "    numbers_list_2.append(str(numbers_list[i]))\n",
    "print(\"\\n Problem 2 result:\")\n",
    "print(numbers_list_2)\n",
    "    \n",
    "\n",
    "# 3. Using the list from question 2, create a variable that concatenates each of the elements in order of index (Hint: result should be like \"36912...\").\n",
    "concatenated_variable = \"\"\n",
    "for i in range(len(numbers_list_2)):\n",
    "    concatenated_variable += (numbers_list_2[i])\n",
    "print(\"\\n Problem 3 result:\")\n",
    "print(concatenated_variable)\n",
    "    \n",
    "\n",
    "# 4. Using .pop() and .append(), create a list whose values are the same as the list from question 1 but in reverse order. (Hint: .pop() removes the last element from a list. The value can be save, i.e., x = lst.pop().)\n",
    "reverse_numbers_list = []\n",
    "for i in range(len(numbers_list)): \n",
    "    reverse_numbers_list.append(numbers_list.pop())\n",
    "print(\"\\n Problem 4 results:\")\n",
    "print(reverse_numbers_list)\n",
    "\n",
    "\n",
    "# 5. Using len(), calculate the midpoint of the list from question 1. Pass this midpoint to slice the list so that the resultant copy includes only the second half of the list from question 1.\n",
    " \n",
    "# need to reinstantiate the numbers_list since it got popped in the last question\n",
    "for x in range(1,100):\n",
    "    numbers_list.append(3*x)\n",
    "y = int(len(numbers_list))\n",
    "z = int(len(numbers_list)/2)\n",
    "numbers_list_second_half = numbers_list[z:y]\n",
    "print(\"\\n Problem 5 results: \")\n",
    "print(numbers_list_second_half)\n",
    "\n",
    "\n",
    "# 6. Create a string that includes only every other element, starting from the 0th element, from the string in question 3 while maintaining the order of these elements (Hint: this can be done be using a for loop whose values are descending).\n",
    "string = \"\"\n",
    "u = int(len(concatenated_variable)/2)\n",
    "for i in range(0,u):\n",
    "    string += concatenated_variable[2*i]\n",
    "print(\"\\n Problem 6 results:\")\n",
    "print(string)\n",
    "# 7. Explain the difference between a dynamic list in Python (usually referred to as a list) and a tuple.\n",
    "print(\"\\n Problem 7 results:\")\n",
    "print(\" A dynamic list in Python is a collection of multiple objects, and each individual list can be changed as a user pleases to include new values or delete old ones. A Tuple, on the other hand, is a list that cannot be modified after it has been created. A lot of the time tuples are stored within lists to represent objects that are decribed with multiple data types and will never change.  \")\n"
   ]
  },
  {
   "cell_type": "code",
   "execution_count": null,
   "id": "4da8751e",
   "metadata": {},
   "outputs": [],
   "source": []
  },
  {
   "cell_type": "code",
   "execution_count": null,
   "id": "33b14bf5",
   "metadata": {},
   "outputs": [],
   "source": []
  }
 ],
 "metadata": {
  "kernelspec": {
   "display_name": "Python 3",
   "language": "python",
   "name": "python3"
  },
  "language_info": {
   "codemirror_mode": {
    "name": "ipython",
    "version": 3
   },
   "file_extension": ".py",
   "mimetype": "text/x-python",
   "name": "python",
   "nbconvert_exporter": "python",
   "pygments_lexer": "ipython3",
   "version": "3.8.8"
  }
 },
 "nbformat": 4,
 "nbformat_minor": 5
}
