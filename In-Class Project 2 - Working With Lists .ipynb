{
 "cells": [
  {
   "cell_type": "code",
   "execution_count": 5,
   "id": "999402df",
   "metadata": {},
   "outputs": [
    {
     "name": "stdout",
     "output_type": "stream",
     "text": [
      "['the', 'moon']\n"
     ]
    }
   ],
   "source": [
    "#making lists \n",
    "emptyList = []\n",
    "integerList = [1,3,5,7,11]\n",
    "stringList = [\"the\", \"moon\"]\n",
    "mixedDataTypeList = [\"Economics\", 411, 97.50]\n",
    "#printing lists \n",
    "print(stringList)"
   ]
  },
  {
   "cell_type": "code",
   "execution_count": 6,
   "id": "4502df3f",
   "metadata": {},
   "outputs": [
    {
     "name": "stdout",
     "output_type": "stream",
     "text": [
      "97.5\n"
     ]
    }
   ],
   "source": [
    "#accessing elements in a list - starts at index 0 to n \n",
    "studentGrade = mixedDataTypeList[2]\n",
    "print(studentGrade)\n",
    "\n",
    "\n"
   ]
  },
  {
   "cell_type": "code",
   "execution_count": 9,
   "id": "4fc4c6c4",
   "metadata": {},
   "outputs": [
    {
     "data": {
      "text/plain": [
       "list"
      ]
     },
     "execution_count": 9,
     "metadata": {},
     "output_type": "execute_result"
    }
   ],
   "source": [
    " #view list datatype\n",
    "type(stringList)"
   ]
  },
  {
   "cell_type": "code",
   "execution_count": 7,
   "id": "04a36142",
   "metadata": {},
   "outputs": [
    {
     "name": "stdout",
     "output_type": "stream",
     "text": [
      "['the', 'moon', 1, 3, 5, 7, 11]\n"
     ]
    }
   ],
   "source": [
    "#joining lists- concatenation\n",
    "joinedLists = stringList + integerList\n",
    "print(joinedLists)\n"
   ]
  },
  {
   "cell_type": "code",
   "execution_count": 17,
   "id": "f6ecd4cd",
   "metadata": {},
   "outputs": [
    {
     "name": "stdout",
     "output_type": "stream",
     "text": [
      "[1, 3, 5]\n",
      "[1, 3, 5]\n",
      "[1, 3, 5, 7, 11]\n",
      "11\n",
      "[1, 3, 5, 7]\n",
      "['the', 'moon']\n"
     ]
    }
   ],
   "source": [
    "#calling subsets of lists: use command list[start:end]\n",
    "print(integerList[0:3])\n",
    "print(integerList[:3])#implicitly assumes 0 as starting index\n",
    "print(integerList[0:]) #implicitly assumes n-1 as ending index for a list of length n\n",
    "print(integerList[-1]) #calls only the last element\n",
    "print(integerList[:-1])#calls all but the last element\n",
    "print(joinedLists[:-5])#prints all but the last five elements "
   ]
  },
  {
   "cell_type": "code",
   "execution_count": null,
   "id": "b5a236de",
   "metadata": {},
   "outputs": [],
   "source": []
  }
 ],
 "metadata": {
  "kernelspec": {
   "display_name": "Python 3",
   "language": "python",
   "name": "python3"
  },
  "language_info": {
   "codemirror_mode": {
    "name": "ipython",
    "version": 3
   },
   "file_extension": ".py",
   "mimetype": "text/x-python",
   "name": "python",
   "nbconvert_exporter": "python",
   "pygments_lexer": "ipython3",
   "version": "3.8.8"
  }
 },
 "nbformat": 4,
 "nbformat_minor": 5
}
