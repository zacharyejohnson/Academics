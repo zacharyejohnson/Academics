{
 "cells": [
  {
   "cell_type": "markdown",
   "id": "ebecb700",
   "metadata": {},
   "source": [
    "# Dictionaries and Dataframes \n",
    "Today we will build dictionaries. Dictionaries are datastructures that do not assume an index value for the stored data. \n",
    "\n",
    "Dictionaries take the general form: \n",
    ">my_dictionary = {key:obj}\n",
    "\n",
    "To call the object that is linked to the key: \n",
    "\n",
    ">my_dictionary[key] will output the object, obj. \n"
   ]
  },
  {
   "cell_type": "code",
   "execution_count": 1,
   "id": "68bd00e3",
   "metadata": {},
   "outputs": [
    {
     "data": {
      "text/plain": [
       "{}"
      ]
     },
     "execution_count": 1,
     "metadata": {},
     "output_type": "execute_result"
    }
   ],
   "source": [
    "dct = {}\n",
    "dct"
   ]
  },
  {
   "cell_type": "code",
   "execution_count": 2,
   "id": "1f78b40c",
   "metadata": {},
   "outputs": [
    {
     "data": {
      "text/plain": [
       "{'run': {}, 'walk': {}}"
      ]
     },
     "execution_count": 2,
     "metadata": {},
     "output_type": "execute_result"
    }
   ],
   "source": [
    "dct = {\"run\":{}, \n",
    "      \"walk\":{}}\n",
    "dct"
   ]
  },
  {
   "cell_type": "markdown",
   "id": "fad6ab4b",
   "metadata": {},
   "source": [
    "now include defenitions"
   ]
  },
  {
   "cell_type": "code",
   "execution_count": 4,
   "id": "aed85772",
   "metadata": {},
   "outputs": [
    {
     "data": {
      "text/plain": [
       "{'run': 'to move swiftly by foot, while keeping one foot off of the ground at all times',\n",
       " 'walk': 'to move slowly by foot, keeping two feet in contact with the ground at all times'}"
      ]
     },
     "execution_count": 4,
     "metadata": {},
     "output_type": "execute_result"
    }
   ],
   "source": [
    "dct = {\"run\": \"to move swiftly by foot, while keeping one foot off of the ground at all times\", \n",
    "       \"walk\": \"to move slowly by foot, keeping two feet in contact with the ground at all times\"}\n",
    "dct"
   ]
  },
  {
   "cell_type": "markdown",
   "id": "91ad1c16",
   "metadata": {},
   "source": [
    "dictionaries are like classes in object oriented programming "
   ]
  },
  {
   "cell_type": "code",
   "execution_count": 12,
   "id": "583222bd",
   "metadata": {},
   "outputs": [
    {
     "data": {
      "text/plain": [
       "{'run': {'verb': 'to move swiftly by foot, while keeping one foot off of the ground at all times',\n",
       "  'noun': 'refers to a time when one was running'},\n",
       " 'walk': {'verb': 'to move slowly by foot, keeping two feet in contact with the ground at all times',\n",
       "  'noun': 'refers to a state when one was walking'}}"
      ]
     },
     "execution_count": 12,
     "metadata": {},
     "output_type": "execute_result"
    }
   ],
   "source": [
    "mvmt_dct = {\"run\":\n",
    "       {\"verb\": \"to move swiftly by foot, while keeping one foot off of the ground at all times\", \n",
    "        \"noun\": \"refers to a time when one was running\" }, \n",
    "       \"walk\":\n",
    "       {\"verb\": \"to move slowly by foot, keeping two feet in contact with the ground at all times\",\n",
    "        \"noun\": \"refers to a state when one was walking\"}}\n",
    "mvmt_dct"
   ]
  },
  {
   "cell_type": "markdown",
   "id": "79119320",
   "metadata": {},
   "source": [
    "## Introduction to dataframes using Pandas \n"
   ]
  },
  {
   "cell_type": "code",
   "execution_count": 15,
   "id": "0d49c24b",
   "metadata": {},
   "outputs": [
    {
     "data": {
      "text/html": [
       "<div>\n",
       "<style scoped>\n",
       "    .dataframe tbody tr th:only-of-type {\n",
       "        vertical-align: middle;\n",
       "    }\n",
       "\n",
       "    .dataframe tbody tr th {\n",
       "        vertical-align: top;\n",
       "    }\n",
       "\n",
       "    .dataframe thead th {\n",
       "        text-align: right;\n",
       "    }\n",
       "</style>\n",
       "<table border=\"1\" class=\"dataframe\">\n",
       "  <thead>\n",
       "    <tr style=\"text-align: right;\">\n",
       "      <th></th>\n",
       "      <th>run</th>\n",
       "      <th>walk</th>\n",
       "    </tr>\n",
       "  </thead>\n",
       "  <tbody>\n",
       "    <tr>\n",
       "      <th>verb</th>\n",
       "      <td>to move swiftly by foot, while keeping one foo...</td>\n",
       "      <td>to move slowly by foot, keeping two feet in co...</td>\n",
       "    </tr>\n",
       "    <tr>\n",
       "      <th>noun</th>\n",
       "      <td>refers to a time when one was running</td>\n",
       "      <td>refers to a state when one was walking</td>\n",
       "    </tr>\n",
       "  </tbody>\n",
       "</table>\n",
       "</div>"
      ],
      "text/plain": [
       "                                                    run  \\\n",
       "verb  to move swiftly by foot, while keeping one foo...   \n",
       "noun              refers to a time when one was running   \n",
       "\n",
       "                                                   walk  \n",
       "verb  to move slowly by foot, keeping two feet in co...  \n",
       "noun             refers to a state when one was walking  "
      ]
     },
     "execution_count": 15,
     "metadata": {},
     "output_type": "execute_result"
    }
   ],
   "source": [
    "import pandas as pd #needs to be imported to use \n",
    "df = pd.DataFrame(mvmt_dct) #call the dataframe df \n",
    "df"
   ]
  },
  {
   "cell_type": "markdown",
   "id": "513debd0",
   "metadata": {},
   "source": [
    "create dictionary of people in class "
   ]
  },
  {
   "cell_type": "code",
   "execution_count": 16,
   "id": "a2aae4ca",
   "metadata": {},
   "outputs": [
    {
     "data": {
      "text/plain": [
       "{'Caden': {},\n",
       " 'Jacob K': {},\n",
       " 'Finnian': {},\n",
       " 'Genesis': {},\n",
       " 'Sam': {},\n",
       " 'Proma': {},\n",
       " 'Zach': {},\n",
       " 'Jacob R': {},\n",
       " 'Brandon': {},\n",
       " 'Gabe': {},\n",
       " 'Drew': {},\n",
       " 'Isaac': {},\n",
       " 'Kodjo': {}}"
      ]
     },
     "execution_count": 16,
     "metadata": {},
     "output_type": "execute_result"
    }
   ],
   "source": [
    "dct = {\"Caden\":{}, \n",
    "      \"Jacob K\":{}, \n",
    "      \"Finnian\":{}, \n",
    "      \"Genesis\":{}, \n",
    "      \"Sam\":{}, \n",
    "      \"Proma\":{}, \n",
    "      \"Zach\":{},\n",
    "       \"Jacob R\": {}, \n",
    "       \"Brandon\":{}, \n",
    "       \"Gabe\":{},\n",
    "       \"Drew\":{}, \n",
    "       \"Isaac\":{},\n",
    "       \"Kodjo\":{}\n",
    "      }\n",
    "dct"
   ]
  },
  {
   "cell_type": "code",
   "execution_count": 20,
   "id": "a6a59c24",
   "metadata": {},
   "outputs": [
    {
     "data": {
      "text/plain": [
       "{'Caden': {'Age': 19, 'Interesting Fact': 'Played hockey in hs'},\n",
       " 'Jacob K': {'Age': 21,\n",
       "  'Interesting Fact': 'Dr. Caton thought last name was something wrong'},\n",
       " 'Finnian': {'Age': 20, 'Interesting Fact': 'Wrestled in hs'},\n",
       " 'Genesis': {'Age': 20, 'Interesting Fact': 'Tore both ACLs'},\n",
       " 'Sam': {'Age': 23, 'Interesting Fact': 'Favorite color is beige'},\n",
       " 'Proma': {'Age': 24, 'Interesting Fact': 'Learned classical music'},\n",
       " 'Zach': {'Age': 20, 'Interesting Fact': 'On Track team at NDSU'},\n",
       " 'Jacob R': {'Age': 20, 'Interesting Fact': 'Plays classical rock on guitar'},\n",
       " 'Brandon': {'Age': 23, 'Interesting Fact': 'Used to play baseball '},\n",
       " 'Gabe': {'Age': 23,\n",
       "  'Interesting Fact': 'Double major in MIS and accounting for undergrad'},\n",
       " 'Drew': {'Age': 49,\n",
       "  'Interesting Fact': 'Air force veteran, hauled keiko(free willy)'},\n",
       " 'Isaac': {'Age': 21,\n",
       "  'Interesting Fact': 'Travelling to europe in summer 2022'},\n",
       " 'Kodjo': {'Age': 30, 'Interesting Fact': 'Wife is a soldier'}}"
      ]
     },
     "execution_count": 20,
     "metadata": {},
     "output_type": "execute_result"
    }
   ],
   "source": [
    "dct = {\"Caden\":{\"Age\":19,\n",
    "               \"Interesting Fact\":\"Played hockey in hs\"}, \n",
    "      \"Jacob K\":{\"Age\":21,\n",
    "               \"Interesting Fact\":\"Dr. Caton thought last name was something wrong\"}, \n",
    "      \"Finnian\":{\"Age\":20,\n",
    "               \"Interesting Fact\":\"Wrestled in hs\"}, \n",
    "      \"Genesis\":{\"Age\":20,\n",
    "               \"Interesting Fact\":\"Tore both ACLs\"}, \n",
    "      \"Sam\":{\"Age\":23,\n",
    "               \"Interesting Fact\":\"Favorite color is beige\"}, \n",
    "      \"Proma\":{\"Age\":24,\n",
    "               \"Interesting Fact\":\"Learned classical music\"}, \n",
    "      \"Zach\":{\"Age\":20,\n",
    "               \"Interesting Fact\":\"On Track team at NDSU\"},\n",
    "       \"Jacob R\": {\"Age\":20,\n",
    "               \"Interesting Fact\":\"Plays classical rock on guitar\"}, \n",
    "       \"Brandon\":{\"Age\":23,\n",
    "               \"Interesting Fact\":\"Used to play baseball \"}, \n",
    "       \"Gabe\":{\"Age\":23,\n",
    "               \"Interesting Fact\":\"Double major in MIS and accounting for undergrad\"},\n",
    "       \"Drew\":{\"Age\":49,\n",
    "               \"Interesting Fact\":\"Air force veteran, hauled keiko(free willy)\"}, \n",
    "       \"Isaac\":{\"Age\":21,\n",
    "               \"Interesting Fact\":\"Travelling to europe in summer 2022\"},\n",
    "       \"Kodjo\":{\"Age\":30,\n",
    "               \"Interesting Fact\":\"Wife is a soldier\"}\n",
    "      }\n",
    "dct"
   ]
  },
  {
   "cell_type": "code",
   "execution_count": 27,
   "id": "4523dd02",
   "metadata": {},
   "outputs": [
    {
     "data": {
      "text/html": [
       "<div>\n",
       "<style scoped>\n",
       "    .dataframe tbody tr th:only-of-type {\n",
       "        vertical-align: middle;\n",
       "    }\n",
       "\n",
       "    .dataframe tbody tr th {\n",
       "        vertical-align: top;\n",
       "    }\n",
       "\n",
       "    .dataframe thead th {\n",
       "        text-align: right;\n",
       "    }\n",
       "</style>\n",
       "<table border=\"1\" class=\"dataframe\">\n",
       "  <thead>\n",
       "    <tr style=\"text-align: right;\">\n",
       "      <th></th>\n",
       "      <th>Age</th>\n",
       "      <th>Interesting Fact</th>\n",
       "    </tr>\n",
       "  </thead>\n",
       "  <tbody>\n",
       "    <tr>\n",
       "      <th>Caden</th>\n",
       "      <td>19</td>\n",
       "      <td>Played hockey in hs</td>\n",
       "    </tr>\n",
       "    <tr>\n",
       "      <th>Jacob K</th>\n",
       "      <td>21</td>\n",
       "      <td>Dr. Caton thought last name was something wrong</td>\n",
       "    </tr>\n",
       "    <tr>\n",
       "      <th>Finnian</th>\n",
       "      <td>20</td>\n",
       "      <td>Wrestled in hs</td>\n",
       "    </tr>\n",
       "    <tr>\n",
       "      <th>Genesis</th>\n",
       "      <td>20</td>\n",
       "      <td>Tore both ACLs</td>\n",
       "    </tr>\n",
       "    <tr>\n",
       "      <th>Sam</th>\n",
       "      <td>23</td>\n",
       "      <td>Favorite color is beige</td>\n",
       "    </tr>\n",
       "    <tr>\n",
       "      <th>Proma</th>\n",
       "      <td>24</td>\n",
       "      <td>Learned classical music</td>\n",
       "    </tr>\n",
       "    <tr>\n",
       "      <th>Zach</th>\n",
       "      <td>20</td>\n",
       "      <td>On Track team at NDSU</td>\n",
       "    </tr>\n",
       "    <tr>\n",
       "      <th>Jacob R</th>\n",
       "      <td>20</td>\n",
       "      <td>Plays classical rock on guitar</td>\n",
       "    </tr>\n",
       "    <tr>\n",
       "      <th>Brandon</th>\n",
       "      <td>23</td>\n",
       "      <td>Used to play baseball</td>\n",
       "    </tr>\n",
       "    <tr>\n",
       "      <th>Gabe</th>\n",
       "      <td>23</td>\n",
       "      <td>Double major in MIS and accounting for undergrad</td>\n",
       "    </tr>\n",
       "    <tr>\n",
       "      <th>Drew</th>\n",
       "      <td>49</td>\n",
       "      <td>Air force veteran, hauled keiko(free willy)</td>\n",
       "    </tr>\n",
       "    <tr>\n",
       "      <th>Isaac</th>\n",
       "      <td>21</td>\n",
       "      <td>Travelling to europe in summer 2022</td>\n",
       "    </tr>\n",
       "    <tr>\n",
       "      <th>Kodjo</th>\n",
       "      <td>30</td>\n",
       "      <td>Wife is a soldier</td>\n",
       "    </tr>\n",
       "  </tbody>\n",
       "</table>\n",
       "</div>"
      ],
      "text/plain": [
       "        Age                                  Interesting Fact\n",
       "Caden    19                               Played hockey in hs\n",
       "Jacob K  21   Dr. Caton thought last name was something wrong\n",
       "Finnian  20                                    Wrestled in hs\n",
       "Genesis  20                                    Tore both ACLs\n",
       "Sam      23                           Favorite color is beige\n",
       "Proma    24                           Learned classical music\n",
       "Zach     20                             On Track team at NDSU\n",
       "Jacob R  20                    Plays classical rock on guitar\n",
       "Brandon  23                            Used to play baseball \n",
       "Gabe     23  Double major in MIS and accounting for undergrad\n",
       "Drew     49       Air force veteran, hauled keiko(free willy)\n",
       "Isaac    21               Travelling to europe in summer 2022\n",
       "Kodjo    30                                 Wife is a soldier"
      ]
     },
     "execution_count": 27,
     "metadata": {},
     "output_type": "execute_result"
    }
   ],
   "source": [
    "class_info = pd.DataFrame(dct).T\n",
    "class_info"
   ]
  },
  {
   "cell_type": "markdown",
   "id": "c716475e",
   "metadata": {},
   "source": [
    "this is pretty sweet "
   ]
  },
  {
   "cell_type": "code",
   "execution_count": 22,
   "id": "d9e9db18",
   "metadata": {},
   "outputs": [
    {
     "data": {
      "text/plain": [
       "'to move swiftly by foot, while keeping one foot off of the ground at all times'"
      ]
     },
     "execution_count": 22,
     "metadata": {},
     "output_type": "execute_result"
    }
   ],
   "source": [
    "#calling a particular cell \n",
    "df.loc[\"verb\", \"run\"]"
   ]
  },
  {
   "cell_type": "code",
   "execution_count": 28,
   "id": "2780d988",
   "metadata": {},
   "outputs": [
    {
     "data": {
      "text/plain": [
       "19"
      ]
     },
     "execution_count": 28,
     "metadata": {},
     "output_type": "execute_result"
    }
   ],
   "source": [
    "class_info.loc[\"Caden\", \"Age\"]"
   ]
  },
  {
   "cell_type": "code",
   "execution_count": 29,
   "id": "3ebb41b5",
   "metadata": {},
   "outputs": [
    {
     "data": {
      "text/plain": [
       "Caden      19\n",
       "Jacob K    21\n",
       "Finnian    20\n",
       "Genesis    20\n",
       "Sam        23\n",
       "Proma      24\n",
       "Zach       20\n",
       "Jacob R    20\n",
       "Brandon    23\n",
       "Gabe       23\n",
       "Drew       49\n",
       "Isaac      21\n",
       "Kodjo      30\n",
       "Name: Age, dtype: object"
      ]
     },
     "execution_count": 29,
     "metadata": {},
     "output_type": "execute_result"
    }
   ],
   "source": [
    "class_info[\"Age\"]"
   ]
  },
  {
   "cell_type": "code",
   "execution_count": 41,
   "id": "9589f2f1",
   "metadata": {},
   "outputs": [
    {
     "data": {
      "text/html": [
       "<div>\n",
       "<style scoped>\n",
       "    .dataframe tbody tr th:only-of-type {\n",
       "        vertical-align: middle;\n",
       "    }\n",
       "\n",
       "    .dataframe tbody tr th {\n",
       "        vertical-align: top;\n",
       "    }\n",
       "\n",
       "    .dataframe thead th {\n",
       "        text-align: right;\n",
       "    }\n",
       "</style>\n",
       "<table border=\"1\" class=\"dataframe\">\n",
       "  <thead>\n",
       "    <tr style=\"text-align: right;\">\n",
       "      <th></th>\n",
       "      <th>Age</th>\n",
       "      <th>Interesting Fact</th>\n",
       "    </tr>\n",
       "  </thead>\n",
       "  <tbody>\n",
       "    <tr>\n",
       "      <th>Caden</th>\n",
       "      <td>19</td>\n",
       "      <td>Played hockey in hs</td>\n",
       "    </tr>\n",
       "    <tr>\n",
       "      <th>Jacob K</th>\n",
       "      <td>21</td>\n",
       "      <td>Dr. Caton thought last name was something wrong</td>\n",
       "    </tr>\n",
       "    <tr>\n",
       "      <th>Finnian</th>\n",
       "      <td>20</td>\n",
       "      <td>Wrestled in hs</td>\n",
       "    </tr>\n",
       "    <tr>\n",
       "      <th>Genesis</th>\n",
       "      <td>20</td>\n",
       "      <td>Tore both ACLs</td>\n",
       "    </tr>\n",
       "    <tr>\n",
       "      <th>Sam</th>\n",
       "      <td>23</td>\n",
       "      <td>Favorite color is beige</td>\n",
       "    </tr>\n",
       "    <tr>\n",
       "      <th>Proma</th>\n",
       "      <td>24</td>\n",
       "      <td>Learned classical music</td>\n",
       "    </tr>\n",
       "    <tr>\n",
       "      <th>Zach</th>\n",
       "      <td>20</td>\n",
       "      <td>On Track team at NDSU</td>\n",
       "    </tr>\n",
       "    <tr>\n",
       "      <th>Jacob R</th>\n",
       "      <td>20</td>\n",
       "      <td>Plays classical rock on guitar</td>\n",
       "    </tr>\n",
       "    <tr>\n",
       "      <th>Brandon</th>\n",
       "      <td>23</td>\n",
       "      <td>Used to play baseball</td>\n",
       "    </tr>\n",
       "    <tr>\n",
       "      <th>Gabe</th>\n",
       "      <td>23</td>\n",
       "      <td>Double major in MIS and accounting for undergrad</td>\n",
       "    </tr>\n",
       "    <tr>\n",
       "      <th>Drew</th>\n",
       "      <td>49</td>\n",
       "      <td>Air force veteran, hauled keiko(free willy)</td>\n",
       "    </tr>\n",
       "    <tr>\n",
       "      <th>Isaac</th>\n",
       "      <td>21</td>\n",
       "      <td>Travelling to europe in summer 2022</td>\n",
       "    </tr>\n",
       "    <tr>\n",
       "      <th>Kodjo</th>\n",
       "      <td>30</td>\n",
       "      <td>Wife is a soldier</td>\n",
       "    </tr>\n",
       "    <tr>\n",
       "      <th>Dr.Caton</th>\n",
       "      <td>38</td>\n",
       "      <td>Rode dirtbike</td>\n",
       "    </tr>\n",
       "    <tr>\n",
       "      <th>Joe Biden</th>\n",
       "      <td>78</td>\n",
       "      <td>His favorite ice cream is chocolate chocolate ...</td>\n",
       "    </tr>\n",
       "  </tbody>\n",
       "</table>\n",
       "</div>"
      ],
      "text/plain": [
       "          Age                                   Interesting Fact\n",
       "Caden      19                                Played hockey in hs\n",
       "Jacob K    21    Dr. Caton thought last name was something wrong\n",
       "Finnian    20                                     Wrestled in hs\n",
       "Genesis    20                                     Tore both ACLs\n",
       "Sam        23                            Favorite color is beige\n",
       "Proma      24                            Learned classical music\n",
       "Zach       20                              On Track team at NDSU\n",
       "Jacob R    20                     Plays classical rock on guitar\n",
       "Brandon    23                             Used to play baseball \n",
       "Gabe       23   Double major in MIS and accounting for undergrad\n",
       "Drew       49        Air force veteran, hauled keiko(free willy)\n",
       "Isaac      21                Travelling to europe in summer 2022\n",
       "Kodjo      30                                  Wife is a soldier\n",
       "Dr.Caton   38                                      Rode dirtbike\n",
       "Joe Biden  78  His favorite ice cream is chocolate chocolate ..."
      ]
     },
     "execution_count": 41,
     "metadata": {},
     "output_type": "execute_result"
    }
   ],
   "source": [
    "#time to add Dr.Caton\n",
    "dct[\"Dr.Caton\"]={\"Age\" : 38, \n",
    "                \"Interesting Fact\": \"Rode dirtbike\"}\n",
    "pd.DataFrame(dct).T\n",
    "\n",
    "# and of course joe biden needs to be included \n",
    "dct[\"Joe Biden\"]={\"Age\": 78, \"Interesting Fact\": \"His favorite ice cream is chocolate chocolate chip\"}\n",
    "class_df = pd.DataFrame(dct).T\n",
    "class_df"
   ]
  }
 ],
 "metadata": {
  "kernelspec": {
   "display_name": "Python 3",
   "language": "python",
   "name": "python3"
  },
  "language_info": {
   "codemirror_mode": {
    "name": "ipython",
    "version": 3
   },
   "file_extension": ".py",
   "mimetype": "text/x-python",
   "name": "python",
   "nbconvert_exporter": "python",
   "pygments_lexer": "ipython3",
   "version": "3.8.8"
  }
 },
 "nbformat": 4,
 "nbformat_minor": 5
}
