{
 "cells": [
  {
   "cell_type": "markdown",
   "id": "4f9d86c1",
   "metadata": {},
   "source": [
    "# Incomplete Data \n",
    "\n",
    "Creating accurate predictions is one of the most valuable skills in the job market today. Statisticians, economists, and data scientists use data gathered from specific populations in order to make predictions about what behaviors are likely to occur in the future, or what the truth is about what has already occured. Through computational and statistical techniques, we can make _statistical inferences_ to draw conclusions from data that are often incomplete.\n",
    "\n",
    "As far as estimations of parameters that already exist, having full population data would mean that our questions about that population are answered. But because the cost of gathering full population would, usually, outweigh the benefit of having perfectly accurate data, we are okay with using incomplete samples to make inferences. "
   ]
  },
  {
   "cell_type": "markdown",
   "id": "a61913fb",
   "metadata": {},
   "source": [
    "## Are Mutual Funds better than Broad-market index funds? "
   ]
  },
  {
   "cell_type": "markdown",
   "id": "00a3f826",
   "metadata": {},
   "source": [
    "The term “index fund” refers to the investment approach of a fund. Specifically, it is a fund that that aims to match the performance of a particular market index, such as the S&P 500 or Russell 2,000. The index fund simply tries to match the market. This differs from a more actively managed fund, in which investments are picked by a fund manager in an attempt to beat the market. The age old question is: are the fees payed to an actively-managed mutual fund worth it? \n",
    "\n",
    "We could simply compare the mean return from a given date range for a mutual fund and compare it to the S&P500s mean return from the same time interval, and see which is higher. But the fact that mutual funds have a finite number of time intervals which we can sample means we cannnot rule out the possibility that higher or lower returns from the fund were a result of random variation, and not an indicator of the true quality of the fund. The S&P500 is , essentially, the market. We know all of the information we need about it, because it isnt a sample. The mutual fund data, on the other hand, is incomplete. So, we need to analyze the two funds using statistical techniques which account for random variation that is possible from incomplete data. \n",
    "\n",
    "We would like to ananlyze which(if any) mutual funds have out-performed the market, fees included. To start, we read the CSV downloaded from [Stock Market MBA](https://stockmarketmba.com/listoftop100activelymanagedusstockmutualfunds.php), which shows the 100 largest actively-managed mutual funds in the US. "
   ]
  },
  {
   "cell_type": "code",
   "execution_count": 1,
   "id": "53de08b9",
   "metadata": {},
   "outputs": [],
   "source": [
    "import numpy as np\n",
    "import pandas as pd\n",
    "\n",
    "mutual_fund_data = pd.read_csv(\"Top100MutualFunds.csv\")\n",
    "to_drop = [\"Category2\", \"Category1\",\"Category3\", \"Morningstar Category\", \"Morningstar Rating\",\"Current yield\", \"Action\"]\n",
    "mutual_fund_data = mutual_fund_data.drop(columns=to_drop)"
   ]
  },
  {
   "cell_type": "code",
   "execution_count": 2,
   "id": "bcf09e74",
   "metadata": {},
   "outputs": [
    {
     "data": {
      "text/html": [
       "<div>\n",
       "<style scoped>\n",
       "    .dataframe tbody tr th:only-of-type {\n",
       "        vertical-align: middle;\n",
       "    }\n",
       "\n",
       "    .dataframe tbody tr th {\n",
       "        vertical-align: top;\n",
       "    }\n",
       "\n",
       "    .dataframe thead th {\n",
       "        text-align: right;\n",
       "    }\n",
       "</style>\n",
       "<table border=\"1\" class=\"dataframe\">\n",
       "  <thead>\n",
       "    <tr style=\"text-align: right;\">\n",
       "      <th></th>\n",
       "      <th>Symbol</th>\n",
       "      <th>Name</th>\n",
       "      <th>Market cap</th>\n",
       "      <th>Fees</th>\n",
       "    </tr>\n",
       "  </thead>\n",
       "  <tbody>\n",
       "    <tr>\n",
       "      <th>0</th>\n",
       "      <td>AGTHX</td>\n",
       "      <td>American Funds The Growth Fund of America Class A</td>\n",
       "      <td>$138,592,080,000</td>\n",
       "      <td>0.62%</td>\n",
       "    </tr>\n",
       "    <tr>\n",
       "      <th>1</th>\n",
       "      <td>FCNTX</td>\n",
       "      <td>Fidelity Contrafund Fund</td>\n",
       "      <td>$121,762,870,000</td>\n",
       "      <td>0.74%</td>\n",
       "    </tr>\n",
       "    <tr>\n",
       "      <th>2</th>\n",
       "      <td>CWMAX</td>\n",
       "      <td>American Funds Washington Mutual Investors Fun...</td>\n",
       "      <td>$113,300,000,000</td>\n",
       "      <td>0.63%</td>\n",
       "    </tr>\n",
       "    <tr>\n",
       "      <th>3</th>\n",
       "      <td>CWMCX</td>\n",
       "      <td>American Funds Washington Mutual Investors Fun...</td>\n",
       "      <td>$113,300,000,000</td>\n",
       "      <td>1.40%</td>\n",
       "    </tr>\n",
       "    <tr>\n",
       "      <th>4</th>\n",
       "      <td>CWMEX</td>\n",
       "      <td>American Funds Washington Mutual Investors Fun...</td>\n",
       "      <td>$113,300,000,000</td>\n",
       "      <td>0.87%</td>\n",
       "    </tr>\n",
       "    <tr>\n",
       "      <th>...</th>\n",
       "      <td>...</td>\n",
       "      <td>...</td>\n",
       "      <td>...</td>\n",
       "      <td>...</td>\n",
       "    </tr>\n",
       "    <tr>\n",
       "      <th>95</th>\n",
       "      <td>FDTRX</td>\n",
       "      <td>Franklin DynaTech Fund Class R6</td>\n",
       "      <td>$9,600,000,000</td>\n",
       "      <td>0.51%</td>\n",
       "    </tr>\n",
       "    <tr>\n",
       "      <th>96</th>\n",
       "      <td>FDYZX</td>\n",
       "      <td>Franklin DynaTech Fund Advisor Class</td>\n",
       "      <td>$9,600,000,000</td>\n",
       "      <td>0.62%</td>\n",
       "    </tr>\n",
       "    <tr>\n",
       "      <th>97</th>\n",
       "      <td>BBVLX</td>\n",
       "      <td>Bridge Builder Large Cap Value Fund</td>\n",
       "      <td>$9,500,000,000</td>\n",
       "      <td>0.25%</td>\n",
       "    </tr>\n",
       "    <tr>\n",
       "      <th>98</th>\n",
       "      <td>PEYAX</td>\n",
       "      <td>Putnam Large Cap Value Fund Class A</td>\n",
       "      <td>$9,393,340,000</td>\n",
       "      <td>0.91%</td>\n",
       "    </tr>\n",
       "    <tr>\n",
       "      <th>99</th>\n",
       "      <td>TWCGX</td>\n",
       "      <td>American Century Growth Fund Investor Class</td>\n",
       "      <td>$9,354,900,000</td>\n",
       "      <td>0.98%</td>\n",
       "    </tr>\n",
       "  </tbody>\n",
       "</table>\n",
       "<p>100 rows × 4 columns</p>\n",
       "</div>"
      ],
      "text/plain": [
       "   Symbol                                               Name  \\\n",
       "0   AGTHX  American Funds The Growth Fund of America Class A   \n",
       "1   FCNTX                           Fidelity Contrafund Fund   \n",
       "2   CWMAX  American Funds Washington Mutual Investors Fun...   \n",
       "3   CWMCX  American Funds Washington Mutual Investors Fun...   \n",
       "4   CWMEX  American Funds Washington Mutual Investors Fun...   \n",
       "..    ...                                                ...   \n",
       "95  FDTRX                    Franklin DynaTech Fund Class R6   \n",
       "96  FDYZX               Franklin DynaTech Fund Advisor Class   \n",
       "97  BBVLX                Bridge Builder Large Cap Value Fund   \n",
       "98  PEYAX                Putnam Large Cap Value Fund Class A   \n",
       "99  TWCGX        American Century Growth Fund Investor Class   \n",
       "\n",
       "          Market cap   Fees  \n",
       "0   $138,592,080,000  0.62%  \n",
       "1   $121,762,870,000  0.74%  \n",
       "2   $113,300,000,000  0.63%  \n",
       "3   $113,300,000,000  1.40%  \n",
       "4   $113,300,000,000  0.87%  \n",
       "..               ...    ...  \n",
       "95    $9,600,000,000  0.51%  \n",
       "96    $9,600,000,000  0.62%  \n",
       "97    $9,500,000,000  0.25%  \n",
       "98    $9,393,340,000  0.91%  \n",
       "99    $9,354,900,000  0.98%  \n",
       "\n",
       "[100 rows x 4 columns]"
      ]
     },
     "execution_count": 2,
     "metadata": {},
     "output_type": "execute_result"
    }
   ],
   "source": [
    "mutual_fund_data"
   ]
  },
  {
   "cell_type": "code",
   "execution_count": 3,
   "id": "ced80df2",
   "metadata": {},
   "outputs": [],
   "source": [
    "import pandas_datareader as web\n",
    "import datetime as dt\n",
    "\n",
    "mutual_fund_dict = {}\n",
    "symbols = mutual_fund_data[\"Symbol\"].iloc[0:10]\n",
    "# will only analyze the first 25 funds for now, but this should illustrate how to do it for any fund \n",
    "start= dt.datetime(1970, 1, 1)\n",
    "end = dt.datetime.today()\n",
    "for symbol in symbols: \n",
    "    #pull mutual fund data for the longest timeframe avaliable, and cpnvert to monthly percent change data \n",
    "    fund_data = web.DataReader(symbol, 'yahoo', start, end)#[\"Adj Close\"].resample('M').first().pct_change()\n",
    "    mutual_fund_dict[symbol] = fund_data\n",
    "    "
   ]
  },
  {
   "cell_type": "code",
   "execution_count": 4,
   "id": "fbcdf147",
   "metadata": {},
   "outputs": [
    {
     "data": {
      "text/plain": [
       "{'AGTHX':                  High        Low       Open      Close  Volume  Adj Close\n",
       " Date                                                                     \n",
       " 1980-01-02   3.440000   3.440000   3.440000   3.440000     0.0   0.669569\n",
       " 1980-01-03   3.500000   3.500000   3.500000   3.500000     0.0   0.681248\n",
       " 1980-01-04   3.500000   3.500000   3.500000   3.500000     0.0   0.681248\n",
       " 1980-01-07   3.590000   3.590000   3.590000   3.590000     0.0   0.698766\n",
       " 1980-01-08   3.630000   3.630000   3.630000   3.630000     0.0   0.706551\n",
       " ...               ...        ...        ...        ...     ...        ...\n",
       " 2022-01-14  70.470001  70.470001  70.470001  70.470001     0.0  70.470001\n",
       " 2022-01-18  68.800003  68.800003  68.800003  68.800003     0.0  68.800003\n",
       " 2022-01-19  68.169998  68.169998  68.169998  68.169998     0.0  68.169998\n",
       " 2022-01-20  67.519997  67.519997  67.519997  67.519997     0.0  67.519997\n",
       " 2022-01-21  65.180000  65.180000  65.180000  65.180000     0.0  65.180000\n",
       " \n",
       " [10606 rows x 6 columns],\n",
       " 'FCNTX':                  High        Low       Open      Close  Volume  Adj Close\n",
       " Date                                                                     \n",
       " 1980-01-02   1.137000   1.137000   1.137000   1.137000     0.0   0.135872\n",
       " 1980-01-03   1.122000   1.122000   1.122000   1.122000     0.0   0.134079\n",
       " 1980-01-04   1.139000   1.139000   1.139000   1.139000     0.0   0.136111\n",
       " 1980-01-07   1.135000   1.135000   1.135000   1.135000     0.0   0.135633\n",
       " 1980-01-08   1.167000   1.167000   1.167000   1.167000     0.0   0.139457\n",
       " ...               ...        ...        ...        ...     ...        ...\n",
       " 2022-01-14  17.879999  17.879999  17.879999  17.879999     0.0  17.879999\n",
       " 2022-01-18  17.469999  17.469999  17.469999  17.469999     0.0  17.469999\n",
       " 2022-01-19  17.340000  17.340000  17.340000  17.340000     0.0  17.340000\n",
       " 2022-01-20  17.120001  17.120001  17.120001  17.120001     0.0  17.120001\n",
       " 2022-01-21  16.650000  16.650000  16.650000  16.650000     0.0  16.650000\n",
       " \n",
       " [10606 rows x 6 columns],\n",
       " 'CWMAX':                  High        Low       Open      Close  Volume  Adj Close\n",
       " Date                                                                     \n",
       " 2002-02-15  27.709999  27.709999  27.709999  27.709999     0.0  11.182373\n",
       " 2002-02-19  27.250000  27.250000  27.250000  27.250000     0.0  10.996739\n",
       " 2002-02-20  27.570000  27.570000  27.570000  27.570000     0.0  11.125877\n",
       " 2002-02-21  27.299999  27.299999  27.299999  27.299999     0.0  11.016917\n",
       " 2002-02-22  27.530001  27.530001  27.530001  27.530001     0.0  11.109732\n",
       " ...               ...        ...        ...        ...     ...        ...\n",
       " 2022-01-14  59.480000  59.480000  59.480000  59.480000     0.0  59.480000\n",
       " 2022-01-18  58.580002  58.580002  58.580002  58.580002     0.0  58.580002\n",
       " 2022-01-19  58.130001  58.130001  58.130001  58.130001     0.0  58.130001\n",
       " 2022-01-20  57.610001  57.610001  57.610001  57.610001     0.0  57.610001\n",
       " 2022-01-21  56.840000  56.840000  56.840000  56.840000     0.0  56.840000\n",
       " \n",
       " [5019 rows x 6 columns],\n",
       " 'CWMCX':                  High        Low       Open      Close  Volume  Adj Close\n",
       " Date                                                                     \n",
       " 2002-02-15  27.709999  27.709999  27.709999  27.709999     0.0  12.935844\n",
       " 2002-02-19  27.250000  27.250000  27.250000  27.250000     0.0  12.721105\n",
       " 2002-02-20  27.570000  27.570000  27.570000  27.570000     0.0  12.870483\n",
       " 2002-02-21  27.299999  27.299999  27.299999  27.299999     0.0  12.744446\n",
       " 2002-02-22  27.520000  27.520000  27.520000  27.520000     0.0  12.847146\n",
       " ...               ...        ...        ...        ...     ...        ...\n",
       " 2022-01-14  59.099998  59.099998  59.099998  59.099998     0.0  59.099998\n",
       " 2022-01-18  58.200001  58.200001  58.200001  58.200001     0.0  58.200001\n",
       " 2022-01-19  57.750000  57.750000  57.750000  57.750000     0.0  57.750000\n",
       " 2022-01-20  57.240002  57.240002  57.240002  57.240002     0.0  57.240002\n",
       " 2022-01-21  56.470001  56.470001  56.470001  56.470001     0.0  56.470001\n",
       " \n",
       " [5019 rows x 6 columns],\n",
       " 'CWMEX':                  High        Low       Open      Close  Volume  Adj Close\n",
       " Date                                                                     \n",
       " 2002-02-28  28.590000  28.590000  28.590000  28.590000     0.0  12.090487\n",
       " 2002-03-01  28.590000  28.590000  28.590000  28.590000     0.0  12.090487\n",
       " 2002-03-04  29.110001  29.110001  29.110001  29.110001     0.0  12.310394\n",
       " 2002-03-05  28.860001  28.860001  28.860001  28.860001     0.0  12.204670\n",
       " 2002-03-06  29.350000  29.350000  29.350000  29.350000     0.0  12.411884\n",
       " ...               ...        ...        ...        ...     ...        ...\n",
       " 2022-01-14  59.060001  59.060001  59.060001  59.060001     0.0  59.060001\n",
       " 2022-01-18  58.169998  58.169998  58.169998  58.169998     0.0  58.169998\n",
       " 2022-01-19  57.720001  57.720001  57.720001  57.720001     0.0  57.720001\n",
       " 2022-01-20  57.200001  57.200001  57.200001  57.200001     0.0  57.200001\n",
       " 2022-01-21  56.439999  56.439999  56.439999  56.439999     0.0  56.439999\n",
       " \n",
       " [5011 rows x 6 columns],\n",
       " 'CWMFX':                  High        Low       Open      Close  Volume  Adj Close\n",
       " Date                                                                     \n",
       " 2002-03-14  29.309999  29.309999  29.309999  29.309999     0.0  11.407866\n",
       " 2002-03-15  29.650000  29.650000  29.650000  29.650000     0.0  11.540193\n",
       " 2002-03-18  29.610001  29.610001  29.610001  29.610001     0.0  11.524626\n",
       " 2002-03-19  29.730000  29.730000  29.730000  29.730000     0.0  11.571331\n",
       " 2002-03-20  29.320000  29.320000  29.320000  29.320000     0.0  11.411752\n",
       " ...               ...        ...        ...        ...     ...        ...\n",
       " 2022-01-14  59.270000  59.270000  59.270000  59.270000     0.0  59.270000\n",
       " 2022-01-18  58.380001  58.380001  58.380001  58.380001     0.0  58.380001\n",
       " 2022-01-19  57.930000  57.930000  57.930000  57.930000     0.0  57.930000\n",
       " 2022-01-20  57.410000  57.410000  57.410000  57.410000     0.0  57.410000\n",
       " 2022-01-21  56.650002  56.650002  56.650002  56.650002     0.0  56.650002\n",
       " \n",
       " [5001 rows x 6 columns],\n",
       " 'AIVSX':                  High        Low       Open      Close  Volume  Adj Close\n",
       " Date                                                                     \n",
       " 1986-01-02  13.430000  13.430000  13.430000  13.430000     0.0   1.953787\n",
       " 1986-01-03  13.470000  13.470000  13.470000  13.470000     0.0   1.959606\n",
       " 1986-01-06  13.470000  13.470000  13.470000  13.470000     0.0   1.959606\n",
       " 1986-01-07  12.150000  12.150000  12.150000  12.150000     0.0   1.767573\n",
       " 1986-01-08  11.890000  11.890000  11.890000  11.890000     0.0   1.729750\n",
       " ...               ...        ...        ...        ...     ...        ...\n",
       " 2022-01-14  50.840000  50.840000  50.840000  50.840000     0.0  50.840000\n",
       " 2022-01-18  49.959999  49.959999  49.959999  49.959999     0.0  49.959999\n",
       " 2022-01-19  49.619999  49.619999  49.619999  49.619999     0.0  49.619999\n",
       " 2022-01-20  49.160000  49.160000  49.160000  49.160000     0.0  49.160000\n",
       " 2022-01-21  48.139999  48.139999  48.139999  48.139999     0.0  48.139999\n",
       " \n",
       " [9089 rows x 6 columns],\n",
       " 'AWSHX':                  High        Low       Open      Close  Volume  Adj Close\n",
       " Date                                                                     \n",
       " 1980-01-02   6.720000   6.720000   6.720000   6.720000     0.0   0.715599\n",
       " 1980-01-03   6.680000   6.680000   6.680000   6.680000     0.0   0.711339\n",
       " 1980-01-04   6.780000   6.780000   6.780000   6.780000     0.0   0.721988\n",
       " 1980-01-07   6.830000   6.830000   6.830000   6.830000     0.0   0.727312\n",
       " 1980-01-08   6.960000   6.960000   6.960000   6.960000     0.0   0.741155\n",
       " ...               ...        ...        ...        ...     ...        ...\n",
       " 2022-01-14  59.650002  59.650002  59.650002  59.650002     0.0  59.650002\n",
       " 2022-01-18  58.750000  58.750000  58.750000  58.750000     0.0  58.750000\n",
       " 2022-01-19  58.299999  58.299999  58.299999  58.299999     0.0  58.299999\n",
       " 2022-01-20  57.770000  57.770000  57.770000  57.770000     0.0  57.770000\n",
       " 2022-01-21  57.000000  57.000000  57.000000  57.000000     0.0  57.000000\n",
       " \n",
       " [10606 rows x 6 columns],\n",
       " 'ANCFX':                  High        Low       Open      Close  Volume  Adj Close\n",
       " Date                                                                     \n",
       " 1980-01-02   7.170000   7.170000   7.170000   7.170000     0.0   0.762283\n",
       " 1980-01-03   7.130000   7.130000   7.130000   7.130000     0.0   0.758030\n",
       " 1980-01-04   7.240000   7.240000   7.240000   7.240000     0.0   0.769725\n",
       " 1980-01-07   7.270000   7.270000   7.270000   7.270000     0.0   0.772914\n",
       " 1980-01-08   7.450000   7.450000   7.450000   7.450000     0.0   0.792051\n",
       " ...               ...        ...        ...        ...     ...        ...\n",
       " 2022-01-14  74.110001  74.110001  74.110001  74.110001     0.0  74.110001\n",
       " 2022-01-18  72.669998  72.669998  72.669998  72.669998     0.0  72.669998\n",
       " 2022-01-19  72.250000  72.250000  72.250000  72.250000     0.0  72.250000\n",
       " 2022-01-20  71.610001  71.610001  71.610001  71.610001     0.0  71.610001\n",
       " 2022-01-21  70.110001  70.110001  70.110001  70.110001     0.0  70.110001\n",
       " \n",
       " [10606 rows x 6 columns],\n",
       " 'AMCFX':                  High        Low       Open      Close  Volume  Adj Close\n",
       " Date                                                                     \n",
       " 2008-08-01  16.520000  16.520000  16.520000  16.520000     0.0   8.657185\n",
       " 2008-08-04  16.490000  16.490000  16.490000  16.490000     0.0   8.641464\n",
       " 2008-08-05  17.000000  17.000000  17.000000  17.000000     0.0   8.908726\n",
       " 2008-08-06  17.010000  17.010000  17.010000  17.010000     0.0   8.913966\n",
       " 2008-08-07  16.700001  16.700001  16.700001  16.700001     0.0   8.751513\n",
       " ...               ...        ...        ...        ...     ...        ...\n",
       " 2022-01-14  42.860001  42.860001  42.860001  42.860001     0.0  42.860001\n",
       " 2022-01-18  41.849998  41.849998  41.849998  41.849998     0.0  41.849998\n",
       " 2022-01-19  41.540001  41.540001  41.540001  41.540001     0.0  41.540001\n",
       " 2022-01-20  41.110001  41.110001  41.110001  41.110001     0.0  41.110001\n",
       " 2022-01-21  39.869999  39.869999  39.869999  39.869999     0.0  39.869999\n",
       " \n",
       " [3393 rows x 6 columns]}"
      ]
     },
     "execution_count": 4,
     "metadata": {},
     "output_type": "execute_result"
    }
   ],
   "source": [
    "mutual_fund_dict"
   ]
  },
  {
   "cell_type": "markdown",
   "id": "d546cb57",
   "metadata": {},
   "source": [
    "To start, you formulate your __hypotheses__. These are mutually exclusive, falsifiable statements. Only one can be true, and one of them will be true. We create these two hypotheses: \n",
    "\n",
    "- The _null_ hypothesis $H_o$: The true means of the the sample populations do not differ.\n",
    "- The _alternate_ hypothesis $H_a$: The true means of the sample populations do differ.\n",
    "\n",
    "### 4 Steps of Hypothesis Testing\n",
    "\n",
    "All hypotheses are tested using a four-step process:\n",
    "\n",
    "1. State the two hypotheses so that only one can be right. \n",
    "2. Formulate an analysis plan, which outlines how the data will be evaluated.\n",
    "3. Carry out the plan and physically analyze the sample data.\n",
    "4. Analyze the results and either reject the null hypothesis, or state that the null hypothesis is plausible, given the data.\n",
    "\n",
    "Hypothesis testing can be done mentally. It would be burdensome to have to state your _null_ and _alternate_ hypotheses, and run through these four steps explicitly every time you made a predictive computer model. The point is that in means testing, there is a clear process and result that deliniates \"Yes, the true means of these samples are different\" and \"No, they're not significantly different\"\n",
    "\n",
    "In the case of us determining the efficacy of our company's marketing campaign, these are our hypotheses: \n",
    "\n",
    "- $H_o$: There is no difference between the mutual fund's and S&P500's average monthly return. \n",
    "- $H_a$: The mutual funds have a higher mean gain than the S&P500. "
   ]
  },
  {
   "cell_type": "code",
   "execution_count": 5,
   "id": "6c1a5f00",
   "metadata": {},
   "outputs": [
    {
     "data": {
      "text/plain": [
       "dict_keys(['AGTHX', 'FCNTX', 'CWMAX', 'CWMCX', 'CWMEX', 'CWMFX', 'AIVSX', 'AWSHX', 'ANCFX', 'AMCFX'])"
      ]
     },
     "execution_count": 5,
     "metadata": {},
     "output_type": "execute_result"
    }
   ],
   "source": [
    "keys = mutual_fund_dict.keys()\n",
    "keys"
   ]
  },
  {
   "cell_type": "code",
   "execution_count": 6,
   "id": "1eedcf89",
   "metadata": {},
   "outputs": [
    {
     "data": {
      "text/plain": [
       "{'AGTHX': 0.13260424187248807,\n",
       " 'FCNTX': 0.13973353738301508,\n",
       " 'CWMAX': 0.09801665636286207,\n",
       " 'CWMCX': 0.08965915343709488,\n",
       " 'CWMEX': 0.09372478061430924,\n",
       " 'CWMFX': 0.09744697723534032,\n",
       " 'AIVSX': 0.10438840511061878,\n",
       " 'AWSHX': 0.12001905057033443,\n",
       " 'ANCFX': 0.12702927432893812,\n",
       " 'AMCFX': 0.13831084759315557}"
      ]
     },
     "execution_count": 6,
     "metadata": {},
     "output_type": "execute_result"
    }
   ],
   "source": [
    "# create empty dictionary to hold average yearly gain for each mutual fund \n",
    "monthly_returns_dict = {}\n",
    "keys = mutual_fund_dict.keys()\n",
    "for key in keys:\n",
    "    # for each mutual fund, find average yearly gain\n",
    "    monthly_returns_dict[key] = mutual_fund_dict[key][\"Adj Close\"].resample(\"Y\").first().pct_change().mean()\n",
    "monthly_returns_dict"
   ]
  },
  {
   "cell_type": "markdown",
   "id": "fbe99eee",
   "metadata": {},
   "source": [
    "These values will be compared to the monthly returns of the stock market: "
   ]
  },
  {
   "cell_type": "code",
   "execution_count": 9,
   "id": "a271a1f2",
   "metadata": {},
   "outputs": [
    {
     "data": {
      "text/plain": [
       "0.09179442431292621"
      ]
     },
     "execution_count": 9,
     "metadata": {},
     "output_type": "execute_result"
    }
   ],
   "source": [
    "from datlib.stats import *\n",
    "\n",
    "sp500 = web.DataReader('^GSPC', 'yahoo', start, end)['Adj Close'].resample('Y').first().pct_change().dropna()\n",
    "mean_sp500_gain = mean(sp500)\n",
    "\n",
    "mean_sp500_gain"
   ]
  },
  {
   "cell_type": "markdown",
   "id": "1d9962c2",
   "metadata": {},
   "source": [
    "##### T Distributions\n",
    "All of the t-distributions below are normal distributions. As the degrees of freedom increases past 30 or so, the distribution becomes the _standard normal distribution_(see Central Limit Theorem below), which has a standard deviation of 1 and mean of 0, and we use z-scores to analyze this. \n",
    "\n",
    "__The $t$ value tells us how many standard deviations away from the mean our sample sits on a $t$ distribution of the _differences_ of these two means, where the mean of the distribution is zero.__\n",
    "The t-distribution changes based on sample size, as increased sample size allows for higher _degrees of freedom_, which are defined for two samples as: \n",
    "\n",
    "- $df = (N_1 + N_2)  – 2$\n",
    "\n",
    "And for a single sample as: \n",
    "\n",
    "- $df = N - 1$"
   ]
  },
  {
   "cell_type": "markdown",
   "id": "c6dd2156",
   "metadata": {},
   "source": [
    "\n"
   ]
  },
  {
   "cell_type": "markdown",
   "id": "aab9e8b8",
   "metadata": {},
   "source": [
    "# Comparisons of Means\n",
    "\n",
    "When dealing with a population of known parameters $\\mu$ and $\\sigma^2$, we can take any mean $\\bar{X}$ gotten from a sample and determine the likelihood that the sample came from out known population, or a population with same mean as our known population. We do this using a z-score: \n",
    "<h3 align=\"center\">\n",
    "    <font size=\"5\">\n",
    "        $ z = \\frac{\\bar{X} - \\mu}{\\sigma}$\n",
    "    </font>\n",
    "</h3>\n",
    "\n",
    "### Central Limit Theorem:\n",
    "\n",
    "\n",
    "If $\\bar{X}$ is the mean of a random sample of size $n$ taken\n",
    "from a population with mean $\\mu$ and finite variance $\\sigma^2$, then the limiting form of\n",
    "the distribution of\n",
    "<h3 align=\"center\">\n",
    "    <font size=\"5\">\n",
    "        $ z = \\frac{\\bar{X} - \\mu}{\\frac{\\sigma}{\\sqrt{n}}}$\n",
    "    </font>\n",
    "</h3>\n",
    "\n",
    " as $\\lim_{n \\to \\infty}$, is the *standard normal distribution* \n",
    " \n",
    " The power of the CLT is that this holds no matter the type of distribution we are sampling from. So, for instance, if we took 30 random samples from a lognormal distribution, the means of the samples would be normally distributed. \n",
    " \n",
    " The Z-value tells us: what is the probability that a given sample mean would occur given the sample size and population mean? As n gets larger, the mean is expected to get more accurate if it does follow the population mean $\\mu$\n",
    " \n",
    "The gotten _z-score_ tells us how many standard deviations our sample mean $\\bar{X}$ is from our population mean $\\mu$.\n",
    " \n",
    " The normal approximation for $\\bar{X}$ will generally be good if $n$ ≥ 30, provided the population distribution is not terribly skewed. If $n$ < 30, the approximation is good only if the population is not too different from a normal distribution and, as stated above, if the population is known to be normal, the sampling distribution of $\\bar{X}$ will follow a normal distribution exactly, no matter how small the size of the samples."
   ]
  },
  {
   "cell_type": "code",
   "execution_count": 31,
   "id": "74af1b4d",
   "metadata": {},
   "outputs": [
    {
     "ename": "ValueError",
     "evalue": "lam < 0 or lam is NaN",
     "output_type": "error",
     "traceback": [
      "\u001b[1;31m---------------------------------------------------------------------------\u001b[0m",
      "\u001b[1;31mValueError\u001b[0m                                Traceback (most recent call last)",
      "\u001b[1;32m<ipython-input-31-1128f917c8db>\u001b[0m in \u001b[0;36m<module>\u001b[1;34m\u001b[0m\n\u001b[0;32m     17\u001b[0m         \u001b[1;31m# every time the loop is run...\u001b[0m\u001b[1;33m\u001b[0m\u001b[1;33m\u001b[0m\u001b[1;33m\u001b[0m\u001b[0m\n\u001b[0;32m     18\u001b[0m         \u001b[0mnp\u001b[0m\u001b[1;33m.\u001b[0m\u001b[0mrandom\u001b[0m\u001b[1;33m.\u001b[0m\u001b[0mseed\u001b[0m\u001b[1;33m(\u001b[0m\u001b[1;36m1\u001b[0m\u001b[1;33m)\u001b[0m\u001b[1;33m\u001b[0m\u001b[1;33m\u001b[0m\u001b[0m\n\u001b[1;32m---> 19\u001b[1;33m         x = [np.mean(\n\u001b[0m\u001b[0;32m     20\u001b[0m             val(-40, 40)) for _i in range(1000)]\n\u001b[0;32m     21\u001b[0m         \u001b[0mmeans\u001b[0m\u001b[1;33m.\u001b[0m\u001b[0mappend\u001b[0m\u001b[1;33m(\u001b[0m\u001b[0mx\u001b[0m\u001b[1;33m)\u001b[0m\u001b[1;33m\u001b[0m\u001b[1;33m\u001b[0m\u001b[0m\n",
      "\u001b[1;32m<ipython-input-31-1128f917c8db>\u001b[0m in \u001b[0;36m<listcomp>\u001b[1;34m(.0)\u001b[0m\n\u001b[0;32m     18\u001b[0m         \u001b[0mnp\u001b[0m\u001b[1;33m.\u001b[0m\u001b[0mrandom\u001b[0m\u001b[1;33m.\u001b[0m\u001b[0mseed\u001b[0m\u001b[1;33m(\u001b[0m\u001b[1;36m1\u001b[0m\u001b[1;33m)\u001b[0m\u001b[1;33m\u001b[0m\u001b[1;33m\u001b[0m\u001b[0m\n\u001b[0;32m     19\u001b[0m         x = [np.mean(\n\u001b[1;32m---> 20\u001b[1;33m             val(-40, 40)) for _i in range(1000)]\n\u001b[0m\u001b[0;32m     21\u001b[0m         \u001b[0mmeans\u001b[0m\u001b[1;33m.\u001b[0m\u001b[0mappend\u001b[0m\u001b[1;33m(\u001b[0m\u001b[0mx\u001b[0m\u001b[1;33m)\u001b[0m\u001b[1;33m\u001b[0m\u001b[1;33m\u001b[0m\u001b[0m\n\u001b[0;32m     22\u001b[0m \u001b[0mk\u001b[0m \u001b[1;33m=\u001b[0m \u001b[1;36m0\u001b[0m\u001b[1;33m\u001b[0m\u001b[1;33m\u001b[0m\u001b[0m\n",
      "\u001b[1;32mmtrand.pyx\u001b[0m in \u001b[0;36mnumpy.random.mtrand.RandomState.poisson\u001b[1;34m()\u001b[0m\n",
      "\u001b[1;32m_common.pyx\u001b[0m in \u001b[0;36mnumpy.random._common.disc\u001b[1;34m()\u001b[0m\n",
      "\u001b[1;32m_common.pyx\u001b[0m in \u001b[0;36mnumpy.random._common.check_constraint\u001b[1;34m()\u001b[0m\n",
      "\u001b[1;31mValueError\u001b[0m: lam < 0 or lam is NaN"
     ]
    }
   ],
   "source": [
    "import matplotlib.pyplot as plt\n",
    "import numpy as np\n",
    "\n",
    "# number of sample\n",
    "num = [1, 10, 50, 100] \n",
    "# list of sample means\n",
    "means = [] \n",
    "# list of distributions \n",
    "distributions_dict = {\"Normal Distribution\" : np.random.normal,\n",
    "                      \"Lognormal\" : np.random.lognormal, \"Poisson\" : np.random.poisson, \"Binomial\" : np.random.binomial}\n",
    " \n",
    "# Generating 1, 10, 30, 100 random numbers from -40 to 40\n",
    "# taking their mean and appending it to list means.\n",
    "for key, val in distributions_dict.items(): \n",
    "    for j in num:\n",
    "        # Generating seed so that we can get same result\n",
    "        # every time the loop is run...\n",
    "        np.random.seed(1)\n",
    "        x = [np.mean(\n",
    "            val(-40, 40)) for _i in range(1000)]\n",
    "        means.append(x)\n",
    "k = 0\n",
    " \n",
    "# plotting all the means in one figure\n",
    "fig, ax = plt.subplots(2, 2, figsize =(8, 8))\n",
    "for key, val in distributions_dict: \n",
    "    for i in range(0, 2):\n",
    "        # Histogram for each x stored in means\n",
    "        ax[0, i].hist(means[k], 10, density = True)\n",
    "        ax[0, i].set_title(label = val)\n",
    "        k = k + 1\n",
    "plt.show()"
   ]
  },
  {
   "cell_type": "markdown",
   "id": "5a32d941",
   "metadata": {},
   "source": [
    "So, for any sample with $n$ > 30, $\\bar{x}$ can be substituted for $\\mu$ and $s$ can be substituted for $\\sigma$\n",
    " \n",
    "This Z-test asunes that we have access to the population standard deviation and mean _or_ that $n$ is large enough (>30) for $s^2$ and $\\bar{x}$ to be used as a reliable estimate for $\\sigma^2$ and $\\mu$. When these conditions do not hold, and we do not have a large enough sample or sufficient population data, we need another estimator.  \n",
    " \n",
    "\n",
    "The __T-test__ is used when we are dealing with a population of unknown distribution, and would like to compare a given sample mean to one of three options: \n",
    "\n",
    "- **One Sample T-test:** The one sample t test compares the mean of your sample data to a known value. For example, you might want to know how your sample mean compares to the population mean, like our value of 120,000 for average mothly store revenue\n",
    "<h3 align=\"center\">\n",
    "    <font size=\"7\">\n",
    "        $ t = \\frac{\\bar{X} - \\mu}{\\frac{s}{\\sqrt{n}}}$\n",
    "    </font>\n",
    "    </h3> \n",
    "\n",
    "- **Independent Samples T-test:** The The independent samples t test (also called the unpaired samples t test) is the most common form of the T test. It helps you to compare the means of two sets of data. This would be useful if we wanted to compare revenues with a sample from a different store franchise than our own. \n",
    "<h3 align=\"center\">\n",
    "    <font size=\"7\">\n",
    "        $ t = \\frac{(\\bar{x_1}-\\bar{x_2})-(\\mu_1 - \\mu_2)}{\\sqrt{(s^2)_p[(1/n_1)+(1/n_2)]}}$\n",
    "    </font>\n",
    "    </h3> \n",
    "- **Paired Samples T-test:** A paired t test (also called a correlated pairs t-test, a paired samples t test or dependent samples t test) is where you run a t test on dependent samples. Dependent samples are essentially connected — they are tests on the same person or thing. This would be useful if we chose a random sample of stores and measured their mean revenues before and after implementation of the new marketing campaign as our two means. For ths test, new terms are used, $\\bar{d}$,  $\\delta$, and $s_d$. $\\bar{d}$ represents the average difference between $x_i1$ and $x_i2$, $s_d$ is the standard error of $\\bar{d}$, and  $\\delta$ is the hypothesized difference value being tested between the two means. It is usually 0.  \n",
    "<h3 align=\"center\">\n",
    "    <font size=\"10\">\n",
    "        $ t = \\frac{\\bar{d} - \\delta}{\\frac{s_d}{\\sqrt{n}}}$\n",
    "    </font>\n",
    "    </h3> \n",
    "    \n",
    "Where...\n",
    "<h3 align=\"center\">\n",
    "    <font size=\"3\">\n",
    "        $ \\bar{d} = \\sum_{i=1}^{n} d_i$\n",
    "    </font>\n",
    "    </h3> \n",
    "And...\n",
    "<h3 align=\"center\">\n",
    "    <font size=\"3\">\n",
    "        $ s_d = \\sqrt{\\frac{\\sum_{i=1}^{n} (d_i-\\bar{d})^2}{n-1}}$\n",
    "    </font>\n",
    "    </h3> \n",
    "    \n",
    "The t-value we obtain will lie on the horizontal axis of our t-distribution, representing the number of standard deviations the difference between our sample mean and theoretical mean lies from zero, with a corresponding p-value on the y-axis that tells us how likely our result would be if the population our sample was drawn from had the same mean as our theorized or population mean. This t-distribution takes the form: \n",
    "<h3 align=\"center\">\n",
    "    <font size=\"6\">\n",
    "        $ f(x) = \\frac{(1 + \\frac{x^2}{\\nu})^{\\frac{-(\\nu+1)}{2}}}{B(0.5,0.5\\nu)\\sqrt(\\nu)}$\n",
    "    </font>\n",
    "    </h3> \n",
    "    \n",
    "    \n",
    "- Where $\\nu$ is the degrees of freedom of the distribution and B is the beta function, which is beyond the scope of this book. \n",
    "\n",
    "We now implement the theory into code: \n",
    "\n",
    "First, we create a funtion that uses a flat np.linspace array from -10 to 10(very extreme t vaues) and transform it according to the t-distributions density function:"
   ]
  },
  {
   "cell_type": "code",
   "execution_count": 63,
   "id": "922c12d3",
   "metadata": {},
   "outputs": [],
   "source": [
    "import datlib.stats\n",
    "import scipy.special as sc\n",
    "\n",
    "# define a function to create the actual distribution from which we can analyze our t value from the t test\n",
    "def create_t_distribution(df):\n",
    "    x = np.linspace(-5, 5, 1000) # large number of points will ensure accuracy\n",
    "    # transform flat array of x values into t distribution\n",
    "    t_distribution = ((1+x**2/df)**(-(df+1)/2))/(sc.beta(.5, .5*df)*np.sqrt(df))\n",
    "    return t_distribution"
   ]
  },
  {
   "cell_type": "markdown",
   "id": "fcb41738",
   "metadata": {},
   "source": [
    "Next, we create a function that will calculate a t value from a given sample set and $\\mu$ value and output the t value and its corresponding p-value from the distribution we created. "
   ]
  },
  {
   "cell_type": "code",
   "execution_count": 100,
   "id": "bafebec6",
   "metadata": {},
   "outputs": [],
   "source": [
    "def ttest_one_sample(data, mu):\n",
    "    x_bar = mean(data)\n",
    "    s = SD(data, sample=True)\n",
    "    n = len(data)\n",
    "    df = n - 1\n",
    "    t = (x_bar - mu) / (s / np.sqrt(n))\n",
    "    p_value = ((1 + t**2 / df)**(-(df + 1) / 2)) / (sc.beta(.5, .5 * df) * np.sqrt(df))\n",
    "    if p_value > .05:\n",
    "        return_string = \"T-value: \" + str(t) + \", P-value: \" + str(\n",
    "            p_value) + \", Fail to reject null hypothesis.\"\n",
    "    else:\n",
    "        return_string = \"T-value: \" + str(t) + \", P-value: \" + str(\n",
    "            round(p_value, 5)) + \", Reject null hypothesis.\"\n",
    "\n",
    "    return return_string"
   ]
  },
  {
   "cell_type": "markdown",
   "id": "e1b73124",
   "metadata": {},
   "source": [
    "To show the utility of the single-sample t-test, we can check to see if the S&P500's average yearly return was significantly different from some arbitrary value, like 10%. Can we confidently say that the S&P500's return was different from 10%, or could the observed difference have been due to random variation? "
   ]
  },
  {
   "cell_type": "code",
   "execution_count": 108,
   "id": "44156786",
   "metadata": {},
   "outputs": [
    {
     "data": {
      "text/plain": [
       "'T-value: -0.36401676860591037, P-value: 0.371091811233833, Fail to reject null hypothesis.'"
      ]
     },
     "execution_count": 108,
     "metadata": {},
     "output_type": "execute_result"
    }
   ],
   "source": [
    "ttest_one_sample(sp500, .10)"
   ]
  },
  {
   "cell_type": "markdown",
   "id": "4c8c3e02",
   "metadata": {},
   "source": [
    "From the test, we fail to reject our null hypothesis that the average yearly S&P500 gain was not significantly different from 10%. "
   ]
  },
  {
   "cell_type": "code",
   "execution_count": 106,
   "id": "539efb64",
   "metadata": {},
   "outputs": [
    {
     "data": {
      "text/plain": [
       "<matplotlib.legend.Legend at 0x12cf0f27a00>"
      ]
     },
     "execution_count": 106,
     "metadata": {},
     "output_type": "execute_result"
    },
    {
     "data": {
      "image/png": "[encoded data removed]",
      "text/plain": [
       "<Figure size 1080x576 with 1 Axes>"
      ]
     },
     "metadata": {
      "needs_background": "light"
     },
     "output_type": "display_data"
    }
   ],
   "source": [
    "import numpy as np\n",
    "import matplotlib.pyplot as plt\n",
    "\n",
    "fig, ax = plt.subplots(figsize=(15, 8))\n",
    "cauchy = create_t_distribution(1)\n",
    "ax.plot(cauchy, '-', lw=3, alpha=1,  label = \"Cauchy\", color='b')\n",
    "t_df = [2, 3, 4, 5, 10, 20]\n",
    "for df in t_df:\n",
    "    dist = create_t_distribution(df)\n",
    "    ax.plot(dist, '-', lw=1, alpha=df/20,  label = \"df: \"+ str(df), color='k')\n",
    "gaussian = create_t_distribution(30)\n",
    "ax.plot(gaussian, lw=3, alpha=1, color = 'r',  label='Standard Normal Distribution')\n",
    "plt.rcParams.update({\"font.size\": 15})\n",
    "ax.set_ylabel(\"Probability of t-score\")\n",
    "ax.set_xlabel(\"Standard Deviations away from mean( this varies as the distributions have different SD's)\")\n",
    "plt.title(\"T-distribution with varying degrees of freedom\")\n",
    "ax.set_xticklabels(labels = \"\")\n",
    "plt.legend()"
   ]
  },
  {
   "cell_type": "markdown",
   "id": "54ce4403",
   "metadata": {},
   "source": [
    "### T-distribution p-value\n",
    "\n",
    "As we can see, a lower sample size, and hence a lower degrees of freedom, leads to a lower probaility that our t-score is near 0 when our population means are the same, because more random variation is likely when the sample size is so low. The point of a t-score is to determine if the difference in the two means of the samples is too drastic for the true population means to be the same. As we approacch 30 with our degrees of freedom, the graph doesnt change much, and this is a standard normal distribution, which the z-score uses. That is why we use z-score for large sample sizes. \n",
    "\n",
    "Once we get our t-score based on the t-distribution, shown on the x-axis of the above graph, we get a corresponding __p-value__, shown on the y-axis. This value is the probability of our gotten t-value if the true means were the same. \n",
    "\n",
    "- If the corresponding p-value from our t-value is too low, we choose to __reject the null hypothesis $H_o$__, and say that our samples come from different populations who's means are different. This is a \"statistically significant\" result. \n",
    "\n",
    "\n",
    "- If the p-value is sufficiently high, we __fail to reject the null hypothesis $H_o$__, and say that there is a high enough chance that the samples came from populations with the same means. This is a \"statistically insignificant\" result. \n",
    "\n",
    "\n",
    "- The value at which a non-significant result becomes a significant one is called the __*critical value*__, denoted $\\alpha$, and is most commonly 0.05. For a two-tailed t-test, where we want to know if one sample is either significantly higher or lower than the other, we will choose to reject $H_o$ if our t-value falls within the outer 2.5% of our distribution(.025*2 = .05), which would result in a p-value of less thanm .05 for a two-tailed t-test. \n",
    "\n",
    "Let's return to our example of company starting salary to see if we can make an educated inference about whether or not one company actually has a higher starting salary than the other. "
   ]
  },
  {
   "cell_type": "markdown",
   "id": "5f36cea4",
   "metadata": {},
   "source": [
    "# ANOVA "
   ]
  },
  {
   "cell_type": "code",
   "execution_count": null,
   "id": "4a8da99d",
   "metadata": {},
   "outputs": [],
   "source": []
  },
  {
   "cell_type": "code",
   "execution_count": null,
   "id": "c1a4fb65",
   "metadata": {},
   "outputs": [],
   "source": []
  },
  {
   "cell_type": "code",
   "execution_count": null,
   "id": "2b24bc48",
   "metadata": {},
   "outputs": [],
   "source": []
  },
  {
   "cell_type": "code",
   "execution_count": null,
   "id": "90e2121f",
   "metadata": {},
   "outputs": [],
   "source": []
  },
  {
   "cell_type": "code",
   "execution_count": null,
   "id": "13beed18",
   "metadata": {},
   "outputs": [],
   "source": []
  }
 ],
 "metadata": {
  "kernelspec": {
   "display_name": "Python 3",
   "language": "python",
   "name": "python3"
  },
  "language_info": {
   "codemirror_mode": {
    "name": "ipython",
    "version": 3
   },
   "file_extension": ".py",
   "mimetype": "text/x-python",
   "name": "python",
   "nbconvert_exporter": "python",
   "pygments_lexer": "ipython3",
   "version": "3.8.8"
  }
 },
 "nbformat": 4,
 "nbformat_minor": 5
}
