{
 "cells": [
  {
   "cell_type": "markdown",
   "id": "49480bf1",
   "metadata": {},
   "source": [
    "## This document serves as a place to list, organize, and track the progress of new/ongoing ideas and fixes for Zach's chapters of LPFSAE \n",
    "\n",
    "It should allow for keeping on track with a single idea at a time, and then moving on to the next instead of attempting multiple new ideas at once and getting overloaded. The chapter numbers are not solidified, just using them for reference"
   ]
  },
  {
   "cell_type": "markdown",
   "id": "bd40c98c",
   "metadata": {},
   "source": [
    "### Zachs Fixes: "
   ]
  },
  {
   "cell_type": "markdown",
   "id": "bc53372b",
   "metadata": {},
   "source": [
    "1. Chapter4: update p-value calculation for t-tests section, shown on page 57 of Heiss and Brunner Textbook\n",
    "\n",
    "2. "
   ]
  },
  {
   "cell_type": "markdown",
   "id": "02578611",
   "metadata": {},
   "source": [
    "### Zachs new ideas: "
   ]
  },
  {
   "cell_type": "markdown",
   "id": "a2ebfc10",
   "metadata": {},
   "source": [
    "1. chapter 4: Include section on confidence intervals, see Heiss and Brunnner page 52\n",
    "2. chapter 3: Include the chi-sq distribution - specifically how a normal distribution's samples exhibit a chi-sq distribution\n",
    "3. chapter 3: Include chi-sq in CLT demonstration \n",
    "4. chapter 5: include a section at the end linking ANOVA to OLS regression using dummy variabes as stand-ins for categorical descriptions"
   ]
  }
 ],
 "metadata": {
  "kernelspec": {
   "display_name": "Python 3",
   "language": "python",
   "name": "python3"
  },
  "language_info": {
   "codemirror_mode": {
    "name": "ipython",
    "version": 3
   },
   "file_extension": ".py",
   "mimetype": "text/x-python",
   "name": "python",
   "nbconvert_exporter": "python",
   "pygments_lexer": "ipython3",
   "version": "3.8.8"
  }
 },
 "nbformat": 4,
 "nbformat_minor": 5
}
