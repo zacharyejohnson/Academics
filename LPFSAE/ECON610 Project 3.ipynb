{
 "cells": [
  {
   "cell_type": "code",
   "execution_count": 112,
   "id": "2df483ed",
   "metadata": {},
   "outputs": [],
   "source": [
    "import wooldridge as woo\n",
    "import pandas as pd\n",
    "import statsmodels.api as sm\n",
    "import matplotlib.pyplot as plt\n",
    "import seaborn as sb\n",
    "import numpy as np"
   ]
  },
  {
   "cell_type": "markdown",
   "id": "1341a123",
   "metadata": {},
   "source": [
    "# Zach Johnson Project 3 \n",
    "## ECON610\n",
    "This assignmenmt serves to find those communities where discrimination occurs"
   ]
  },
  {
   "cell_type": "code",
   "execution_count": 2,
   "id": "e645f0f1",
   "metadata": {},
   "outputs": [],
   "source": [
    "data = pd.read_stata('project3data.dta')"
   ]
  },
  {
   "cell_type": "code",
   "execution_count": 3,
   "id": "eea651f8",
   "metadata": {},
   "outputs": [
    {
     "data": {
      "text/html": [
       "<div>\n",
       "<style scoped>\n",
       "    .dataframe tbody tr th:only-of-type {\n",
       "        vertical-align: middle;\n",
       "    }\n",
       "\n",
       "    .dataframe tbody tr th {\n",
       "        vertical-align: top;\n",
       "    }\n",
       "\n",
       "    .dataframe thead th {\n",
       "        text-align: right;\n",
       "    }\n",
       "</style>\n",
       "<table border=\"1\" class=\"dataframe\">\n",
       "  <thead>\n",
       "    <tr style=\"text-align: right;\">\n",
       "      <th></th>\n",
       "      <th>income</th>\n",
       "      <th>pmedsoda</th>\n",
       "      <th>propblack</th>\n",
       "      <th>poverty</th>\n",
       "    </tr>\n",
       "  </thead>\n",
       "  <tbody>\n",
       "    <tr>\n",
       "      <th>0</th>\n",
       "      <td>44534.0</td>\n",
       "      <td>1.12</td>\n",
       "      <td>0.171154</td>\n",
       "      <td>0.036579</td>\n",
       "    </tr>\n",
       "    <tr>\n",
       "      <th>1</th>\n",
       "      <td>44534.0</td>\n",
       "      <td>1.06</td>\n",
       "      <td>0.171154</td>\n",
       "      <td>0.036579</td>\n",
       "    </tr>\n",
       "    <tr>\n",
       "      <th>2</th>\n",
       "      <td>41164.0</td>\n",
       "      <td>1.06</td>\n",
       "      <td>0.047360</td>\n",
       "      <td>0.087907</td>\n",
       "    </tr>\n",
       "    <tr>\n",
       "      <th>3</th>\n",
       "      <td>50366.0</td>\n",
       "      <td>1.12</td>\n",
       "      <td>0.052839</td>\n",
       "      <td>0.059123</td>\n",
       "    </tr>\n",
       "    <tr>\n",
       "      <th>4</th>\n",
       "      <td>72287.0</td>\n",
       "      <td>1.12</td>\n",
       "      <td>0.034480</td>\n",
       "      <td>0.025415</td>\n",
       "    </tr>\n",
       "    <tr>\n",
       "      <th>...</th>\n",
       "      <td>...</td>\n",
       "      <td>...</td>\n",
       "      <td>...</td>\n",
       "      <td>...</td>\n",
       "    </tr>\n",
       "    <tr>\n",
       "      <th>405</th>\n",
       "      <td>54632.0</td>\n",
       "      <td>1.11</td>\n",
       "      <td>0.029728</td>\n",
       "      <td>0.016754</td>\n",
       "    </tr>\n",
       "    <tr>\n",
       "      <th>406</th>\n",
       "      <td>40585.0</td>\n",
       "      <td>0.95</td>\n",
       "      <td>0.058840</td>\n",
       "      <td>0.057362</td>\n",
       "    </tr>\n",
       "    <tr>\n",
       "      <th>407</th>\n",
       "      <td>40585.0</td>\n",
       "      <td>0.97</td>\n",
       "      <td>0.058840</td>\n",
       "      <td>0.057362</td>\n",
       "    </tr>\n",
       "    <tr>\n",
       "      <th>408</th>\n",
       "      <td>40585.0</td>\n",
       "      <td>0.97</td>\n",
       "      <td>0.058840</td>\n",
       "      <td>0.057362</td>\n",
       "    </tr>\n",
       "    <tr>\n",
       "      <th>409</th>\n",
       "      <td>37477.0</td>\n",
       "      <td>1.02</td>\n",
       "      <td>0.001022</td>\n",
       "      <td>0.025102</td>\n",
       "    </tr>\n",
       "  </tbody>\n",
       "</table>\n",
       "<p>410 rows × 4 columns</p>\n",
       "</div>"
      ],
      "text/plain": [
       "      income  pmedsoda  propblack   poverty\n",
       "0    44534.0      1.12   0.171154  0.036579\n",
       "1    44534.0      1.06   0.171154  0.036579\n",
       "2    41164.0      1.06   0.047360  0.087907\n",
       "3    50366.0      1.12   0.052839  0.059123\n",
       "4    72287.0      1.12   0.034480  0.025415\n",
       "..       ...       ...        ...       ...\n",
       "405  54632.0      1.11   0.029728  0.016754\n",
       "406  40585.0      0.95   0.058840  0.057362\n",
       "407  40585.0      0.97   0.058840  0.057362\n",
       "408  40585.0      0.97   0.058840  0.057362\n",
       "409  37477.0      1.02   0.001022  0.025102\n",
       "\n",
       "[410 rows x 4 columns]"
      ]
     },
     "execution_count": 3,
     "metadata": {},
     "output_type": "execute_result"
    }
   ],
   "source": [
    "data"
   ]
  },
  {
   "cell_type": "code",
   "execution_count": 5,
   "id": "d92ee5b7",
   "metadata": {},
   "outputs": [
    {
     "data": {
      "text/html": [
       "<div>\n",
       "<style scoped>\n",
       "    .dataframe tbody tr th:only-of-type {\n",
       "        vertical-align: middle;\n",
       "    }\n",
       "\n",
       "    .dataframe tbody tr th {\n",
       "        vertical-align: top;\n",
       "    }\n",
       "\n",
       "    .dataframe thead th {\n",
       "        text-align: right;\n",
       "    }\n",
       "</style>\n",
       "<table border=\"1\" class=\"dataframe\">\n",
       "  <thead>\n",
       "    <tr style=\"text-align: right;\">\n",
       "      <th></th>\n",
       "      <th>income</th>\n",
       "      <th>pmedsoda</th>\n",
       "      <th>propblack</th>\n",
       "      <th>poverty</th>\n",
       "    </tr>\n",
       "  </thead>\n",
       "  <tbody>\n",
       "    <tr>\n",
       "      <th>count</th>\n",
       "      <td>409.000000</td>\n",
       "      <td>402.000000</td>\n",
       "      <td>409.000000</td>\n",
       "      <td>409.000000</td>\n",
       "    </tr>\n",
       "    <tr>\n",
       "      <th>mean</th>\n",
       "      <td>47053.789062</td>\n",
       "      <td>1.044875</td>\n",
       "      <td>0.113487</td>\n",
       "      <td>0.071297</td>\n",
       "    </tr>\n",
       "    <tr>\n",
       "      <th>std</th>\n",
       "      <td>13179.288086</td>\n",
       "      <td>0.088687</td>\n",
       "      <td>0.182416</td>\n",
       "      <td>0.067439</td>\n",
       "    </tr>\n",
       "    <tr>\n",
       "      <th>min</th>\n",
       "      <td>15919.000000</td>\n",
       "      <td>0.730000</td>\n",
       "      <td>0.000000</td>\n",
       "      <td>0.004298</td>\n",
       "    </tr>\n",
       "    <tr>\n",
       "      <th>25%</th>\n",
       "      <td>37883.000000</td>\n",
       "      <td>0.980000</td>\n",
       "      <td>0.011649</td>\n",
       "      <td>0.029710</td>\n",
       "    </tr>\n",
       "    <tr>\n",
       "      <th>50%</th>\n",
       "      <td>46272.000000</td>\n",
       "      <td>1.060000</td>\n",
       "      <td>0.041444</td>\n",
       "      <td>0.044441</td>\n",
       "    </tr>\n",
       "    <tr>\n",
       "      <th>75%</th>\n",
       "      <td>54981.000000</td>\n",
       "      <td>1.085000</td>\n",
       "      <td>0.121059</td>\n",
       "      <td>0.082159</td>\n",
       "    </tr>\n",
       "    <tr>\n",
       "      <th>max</th>\n",
       "      <td>136529.000000</td>\n",
       "      <td>1.490000</td>\n",
       "      <td>0.981658</td>\n",
       "      <td>0.418480</td>\n",
       "    </tr>\n",
       "  </tbody>\n",
       "</table>\n",
       "</div>"
      ],
      "text/plain": [
       "              income    pmedsoda   propblack     poverty\n",
       "count     409.000000  402.000000  409.000000  409.000000\n",
       "mean    47053.789062    1.044875    0.113487    0.071297\n",
       "std     13179.288086    0.088687    0.182416    0.067439\n",
       "min     15919.000000    0.730000    0.000000    0.004298\n",
       "25%     37883.000000    0.980000    0.011649    0.029710\n",
       "50%     46272.000000    1.060000    0.041444    0.044441\n",
       "75%     54981.000000    1.085000    0.121059    0.082159\n",
       "max    136529.000000    1.490000    0.981658    0.418480"
      ]
     },
     "execution_count": 5,
     "metadata": {},
     "output_type": "execute_result"
    }
   ],
   "source": [
    "data.describe()"
   ]
  },
  {
   "cell_type": "code",
   "execution_count": 13,
   "id": "3814849a",
   "metadata": {},
   "outputs": [
    {
     "data": {
      "text/plain": [
       "Text(0, 0.5, 'Price of Medium-Sized Soda')"
      ]
     },
     "execution_count": 13,
     "metadata": {},
     "output_type": "execute_result"
    },
    {
     "data": {
      "image/png": "[encoded data removed]",
      "text/plain": [
       "<Figure size 864x576 with 1 Axes>"
      ]
     },
     "metadata": {
      "needs_background": "light"
     },
     "output_type": "display_data"
    }
   ],
   "source": [
    "fig, ax = plt.subplots(figsize = (12, 8))\n",
    "plt.scatter(data['propblack'], data['pmedsoda'])\n",
    "ax.set_title(\"Proportion of Black Residents versus Price of Medium-Sized Soda\")\n",
    "ax.set_xlabel(\"Proportion of Black Residents\")\n",
    "ax.set_ylabel(\"Price of Medium-Sized Soda\")"
   ]
  },
  {
   "cell_type": "code",
   "execution_count": 26,
   "id": "885e876d",
   "metadata": {},
   "outputs": [
    {
     "data": {
      "text/plain": [
       "0      1.12\n",
       "1      1.06\n",
       "2      1.06\n",
       "3      1.12\n",
       "4      1.12\n",
       "       ... \n",
       "405    1.11\n",
       "406    0.95\n",
       "407    0.97\n",
       "408    0.97\n",
       "409    1.02\n",
       "Name: pmedsoda, Length: 410, dtype: float32"
      ]
     },
     "execution_count": 26,
     "metadata": {},
     "output_type": "execute_result"
    }
   ],
   "source": [
    "data['pmedsoda']"
   ]
  },
  {
   "cell_type": "code",
   "execution_count": 83,
   "id": "15281ac3",
   "metadata": {},
   "outputs": [],
   "source": [
    "Y = pd.DataFrame(data['pmedsoda'].dropna())\n",
    "X = data['propblack'].reindex_like(data['pmedsoda'].dropna())\n",
    "X = sm.add_constant(X)"
   ]
  },
  {
   "cell_type": "code",
   "execution_count": 84,
   "id": "05393c0b",
   "metadata": {},
   "outputs": [
    {
     "data": {
      "text/html": [
       "<div>\n",
       "<style scoped>\n",
       "    .dataframe tbody tr th:only-of-type {\n",
       "        vertical-align: middle;\n",
       "    }\n",
       "\n",
       "    .dataframe tbody tr th {\n",
       "        vertical-align: top;\n",
       "    }\n",
       "\n",
       "    .dataframe thead th {\n",
       "        text-align: right;\n",
       "    }\n",
       "</style>\n",
       "<table border=\"1\" class=\"dataframe\">\n",
       "  <thead>\n",
       "    <tr style=\"text-align: right;\">\n",
       "      <th></th>\n",
       "      <th>pmedsoda</th>\n",
       "    </tr>\n",
       "  </thead>\n",
       "  <tbody>\n",
       "    <tr>\n",
       "      <th>0</th>\n",
       "      <td>1.12</td>\n",
       "    </tr>\n",
       "    <tr>\n",
       "      <th>1</th>\n",
       "      <td>1.06</td>\n",
       "    </tr>\n",
       "    <tr>\n",
       "      <th>2</th>\n",
       "      <td>1.06</td>\n",
       "    </tr>\n",
       "    <tr>\n",
       "      <th>3</th>\n",
       "      <td>1.12</td>\n",
       "    </tr>\n",
       "    <tr>\n",
       "      <th>4</th>\n",
       "      <td>1.12</td>\n",
       "    </tr>\n",
       "    <tr>\n",
       "      <th>...</th>\n",
       "      <td>...</td>\n",
       "    </tr>\n",
       "    <tr>\n",
       "      <th>405</th>\n",
       "      <td>1.11</td>\n",
       "    </tr>\n",
       "    <tr>\n",
       "      <th>406</th>\n",
       "      <td>0.95</td>\n",
       "    </tr>\n",
       "    <tr>\n",
       "      <th>407</th>\n",
       "      <td>0.97</td>\n",
       "    </tr>\n",
       "    <tr>\n",
       "      <th>408</th>\n",
       "      <td>0.97</td>\n",
       "    </tr>\n",
       "    <tr>\n",
       "      <th>409</th>\n",
       "      <td>1.02</td>\n",
       "    </tr>\n",
       "  </tbody>\n",
       "</table>\n",
       "<p>402 rows × 1 columns</p>\n",
       "</div>"
      ],
      "text/plain": [
       "     pmedsoda\n",
       "0        1.12\n",
       "1        1.06\n",
       "2        1.06\n",
       "3        1.12\n",
       "4        1.12\n",
       "..        ...\n",
       "405      1.11\n",
       "406      0.95\n",
       "407      0.97\n",
       "408      0.97\n",
       "409      1.02\n",
       "\n",
       "[402 rows x 1 columns]"
      ]
     },
     "execution_count": 84,
     "metadata": {},
     "output_type": "execute_result"
    }
   ],
   "source": [
    "Y"
   ]
  },
  {
   "cell_type": "code",
   "execution_count": 85,
   "id": "ef3bdb67",
   "metadata": {},
   "outputs": [],
   "source": [
    "reg_data = X.join(Y).dropna()"
   ]
  },
  {
   "cell_type": "code",
   "execution_count": 86,
   "id": "c39619e7",
   "metadata": {},
   "outputs": [
    {
     "data": {
      "text/html": [
       "<div>\n",
       "<style scoped>\n",
       "    .dataframe tbody tr th:only-of-type {\n",
       "        vertical-align: middle;\n",
       "    }\n",
       "\n",
       "    .dataframe tbody tr th {\n",
       "        vertical-align: top;\n",
       "    }\n",
       "\n",
       "    .dataframe thead th {\n",
       "        text-align: right;\n",
       "    }\n",
       "</style>\n",
       "<table border=\"1\" class=\"dataframe\">\n",
       "  <thead>\n",
       "    <tr style=\"text-align: right;\">\n",
       "      <th></th>\n",
       "      <th>const</th>\n",
       "      <th>propblack</th>\n",
       "      <th>pmedsoda</th>\n",
       "    </tr>\n",
       "  </thead>\n",
       "  <tbody>\n",
       "    <tr>\n",
       "      <th>0</th>\n",
       "      <td>1.0</td>\n",
       "      <td>0.171154</td>\n",
       "      <td>1.12</td>\n",
       "    </tr>\n",
       "    <tr>\n",
       "      <th>1</th>\n",
       "      <td>1.0</td>\n",
       "      <td>0.171154</td>\n",
       "      <td>1.06</td>\n",
       "    </tr>\n",
       "    <tr>\n",
       "      <th>2</th>\n",
       "      <td>1.0</td>\n",
       "      <td>0.047360</td>\n",
       "      <td>1.06</td>\n",
       "    </tr>\n",
       "    <tr>\n",
       "      <th>3</th>\n",
       "      <td>1.0</td>\n",
       "      <td>0.052839</td>\n",
       "      <td>1.12</td>\n",
       "    </tr>\n",
       "    <tr>\n",
       "      <th>4</th>\n",
       "      <td>1.0</td>\n",
       "      <td>0.034480</td>\n",
       "      <td>1.12</td>\n",
       "    </tr>\n",
       "    <tr>\n",
       "      <th>...</th>\n",
       "      <td>...</td>\n",
       "      <td>...</td>\n",
       "      <td>...</td>\n",
       "    </tr>\n",
       "    <tr>\n",
       "      <th>405</th>\n",
       "      <td>1.0</td>\n",
       "      <td>0.029728</td>\n",
       "      <td>1.11</td>\n",
       "    </tr>\n",
       "    <tr>\n",
       "      <th>406</th>\n",
       "      <td>1.0</td>\n",
       "      <td>0.058840</td>\n",
       "      <td>0.95</td>\n",
       "    </tr>\n",
       "    <tr>\n",
       "      <th>407</th>\n",
       "      <td>1.0</td>\n",
       "      <td>0.058840</td>\n",
       "      <td>0.97</td>\n",
       "    </tr>\n",
       "    <tr>\n",
       "      <th>408</th>\n",
       "      <td>1.0</td>\n",
       "      <td>0.058840</td>\n",
       "      <td>0.97</td>\n",
       "    </tr>\n",
       "    <tr>\n",
       "      <th>409</th>\n",
       "      <td>1.0</td>\n",
       "      <td>0.001022</td>\n",
       "      <td>1.02</td>\n",
       "    </tr>\n",
       "  </tbody>\n",
       "</table>\n",
       "<p>401 rows × 3 columns</p>\n",
       "</div>"
      ],
      "text/plain": [
       "     const  propblack  pmedsoda\n",
       "0      1.0   0.171154      1.12\n",
       "1      1.0   0.171154      1.06\n",
       "2      1.0   0.047360      1.06\n",
       "3      1.0   0.052839      1.12\n",
       "4      1.0   0.034480      1.12\n",
       "..     ...        ...       ...\n",
       "405    1.0   0.029728      1.11\n",
       "406    1.0   0.058840      0.95\n",
       "407    1.0   0.058840      0.97\n",
       "408    1.0   0.058840      0.97\n",
       "409    1.0   0.001022      1.02\n",
       "\n",
       "[401 rows x 3 columns]"
      ]
     },
     "execution_count": 86,
     "metadata": {},
     "output_type": "execute_result"
    }
   ],
   "source": [
    "reg_data.dropna()"
   ]
  },
  {
   "cell_type": "code",
   "execution_count": 94,
   "id": "3ff29870",
   "metadata": {},
   "outputs": [],
   "source": [
    "Y = reg_data['pmedsoda']\n",
    "X = reg_data['propblack']\n",
    "X = sm.add_constant(reg_data['propblack'])\n",
    "model = sm.OLS(Y, X)"
   ]
  },
  {
   "cell_type": "code",
   "execution_count": 95,
   "id": "01da97cf",
   "metadata": {},
   "outputs": [],
   "source": [
    "fit = model.fit()"
   ]
  },
  {
   "cell_type": "code",
   "execution_count": 96,
   "id": "9c8d05fd",
   "metadata": {},
   "outputs": [],
   "source": [
    "summary = fit.summary()"
   ]
  },
  {
   "cell_type": "code",
   "execution_count": 97,
   "id": "05117f32",
   "metadata": {},
   "outputs": [
    {
     "name": "stdout",
     "output_type": "stream",
     "text": [
      "                            OLS Regression Results                            \n",
      "==============================================================================\n",
      "Dep. Variable:               pmedsoda   R-squared:                       0.018\n",
      "Model:                            OLS   Adj. R-squared:                  0.016\n",
      "Method:                 Least Squares   F-statistic:                     7.345\n",
      "Date:                Tue, 27 Sep 2022   Prob (F-statistic):            0.00702\n",
      "Time:                        13:14:28   Log-Likelihood:                 406.14\n",
      "No. Observations:                 401   AIC:                            -808.3\n",
      "Df Residuals:                     399   BIC:                            -800.3\n",
      "Df Model:                           1                                         \n",
      "Covariance Type:            nonrobust                                         \n",
      "==============================================================================\n",
      "                 coef    std err          t      P>|t|      [0.025      0.975]\n",
      "------------------------------------------------------------------------------\n",
      "const          1.0374      0.005    199.867      0.000       1.027       1.048\n",
      "propblack      0.0649      0.024      2.710      0.007       0.018       0.112\n",
      "==============================================================================\n",
      "Omnibus:                       27.289   Durbin-Watson:                   1.606\n",
      "Prob(Omnibus):                  0.000   Jarque-Bera (JB):               57.084\n",
      "Skew:                           0.373   Prob(JB):                     4.02e-13\n",
      "Kurtosis:                       4.691   Cond. No.                         5.52\n",
      "==============================================================================\n",
      "\n",
      "Notes:\n",
      "[1] Standard Errors assume that the covariance matrix of the errors is correctly specified.\n"
     ]
    }
   ],
   "source": [
    "print(summary)"
   ]
  },
  {
   "cell_type": "code",
   "execution_count": 107,
   "id": "35d27fac",
   "metadata": {},
   "outputs": [
    {
     "name": "stdout",
     "output_type": "stream",
     "text": [
      "           pmedsoda  propblack\n",
      "pmedsoda   1.000000   0.134445\n",
      "propblack  0.134445   1.000000\n"
     ]
    }
   ],
   "source": [
    "print(data[['pmedsoda', 'propblack']].corr())"
   ]
  },
  {
   "cell_type": "code",
   "execution_count": 108,
   "id": "7bb7f25a",
   "metadata": {},
   "outputs": [
    {
     "name": "stdout",
     "output_type": "stream",
     "text": [
      "           pmedsoda  propblack\n",
      "pmedsoda   1.000000   0.018076\n",
      "propblack  0.018076   1.000000\n"
     ]
    }
   ],
   "source": [
    "print(data[['pmedsoda', 'propblack']].corr()**2)"
   ]
  },
  {
   "cell_type": "code",
   "execution_count": 135,
   "id": "2e420176",
   "metadata": {},
   "outputs": [],
   "source": [
    "data['lpmedsoda'] = np.log(data['pmedsoda'])\n",
    "data['lincome'] = np.log(data['income'])\n",
    "data['constant'] = 1"
   ]
  },
  {
   "cell_type": "code",
   "execution_count": 142,
   "id": "5fd484b9",
   "metadata": {},
   "outputs": [],
   "source": [
    "data = data.dropna()"
   ]
  },
  {
   "cell_type": "code",
   "execution_count": 151,
   "id": "9998dffa",
   "metadata": {},
   "outputs": [],
   "source": [
    "Y = data[['lpmedsoda']]\n",
    "X = data[['lincome', 'propblack']]\n",
    "X = sm.add_constant(X)\n",
    "ln_model = sm.OLS(Y, X)"
   ]
  },
  {
   "cell_type": "code",
   "execution_count": 152,
   "id": "00d3440c",
   "metadata": {},
   "outputs": [],
   "source": [
    "ln_fit = ln_model.fit()"
   ]
  },
  {
   "cell_type": "code",
   "execution_count": 153,
   "id": "04a9b210",
   "metadata": {},
   "outputs": [
    {
     "name": "stdout",
     "output_type": "stream",
     "text": [
      "                            OLS Regression Results                            \n",
      "==============================================================================\n",
      "Dep. Variable:              lpmedsoda   R-squared:                       0.068\n",
      "Model:                            OLS   Adj. R-squared:                  0.063\n",
      "Method:                 Least Squares   F-statistic:                     14.54\n",
      "Date:                Tue, 27 Sep 2022   Prob (F-statistic):           8.04e-07\n",
      "Time:                        15:04:58   Log-Likelihood:                 434.93\n",
      "No. Observations:                 401   AIC:                            -863.9\n",
      "Df Residuals:                     398   BIC:                            -851.9\n",
      "Df Model:                           2                                         \n",
      "Covariance Type:            nonrobust                                         \n",
      "==============================================================================\n",
      "                 coef    std err          t      P>|t|      [0.025      0.975]\n",
      "------------------------------------------------------------------------------\n",
      "const         -0.7938      0.179     -4.424      0.000      -1.147      -0.441\n",
      "lincome        0.0765      0.017      4.610      0.000       0.044       0.109\n",
      "propblack      0.1216      0.026      4.722      0.000       0.071       0.172\n",
      "==============================================================================\n",
      "Omnibus:                       12.983   Durbin-Watson:                   1.687\n",
      "Prob(Omnibus):                  0.002   Jarque-Bera (JB):               27.028\n",
      "Skew:                          -0.038   Prob(JB):                     1.35e-06\n",
      "Kurtosis:                       4.270   Cond. No.                         475.\n",
      "==============================================================================\n",
      "\n",
      "Notes:\n",
      "[1] Standard Errors assume that the covariance matrix of the errors is correctly specified.\n"
     ]
    }
   ],
   "source": [
    "print(ln_fit.summary())"
   ]
  },
  {
   "cell_type": "code",
   "execution_count": 156,
   "id": "3fbaee30",
   "metadata": {},
   "outputs": [],
   "source": [
    "Y = data[['lpmedsoda']]\n",
    "X = data[['lincome', 'propblack', 'poverty']]\n",
    "X = sm.add_constant(X)\n",
    "ln_model2 = sm.OLS(Y, X)"
   ]
  },
  {
   "cell_type": "code",
   "execution_count": 157,
   "id": "54253d29",
   "metadata": {},
   "outputs": [],
   "source": [
    "ln_fit2 = ln_model.fit()"
   ]
  },
  {
   "cell_type": "code",
   "execution_count": 158,
   "id": "73fb3d3e",
   "metadata": {},
   "outputs": [
    {
     "name": "stdout",
     "output_type": "stream",
     "text": [
      "                            OLS Regression Results                            \n",
      "==============================================================================\n",
      "Dep. Variable:              lpmedsoda   R-squared:                       0.087\n",
      "Model:                            OLS   Adj. R-squared:                  0.080\n",
      "Method:                 Least Squares   F-statistic:                     12.60\n",
      "Date:                Tue, 27 Sep 2022   Prob (F-statistic):           6.92e-08\n",
      "Time:                        15:13:55   Log-Likelihood:                 439.04\n",
      "No. Observations:                 401   AIC:                            -870.1\n",
      "Df Residuals:                     397   BIC:                            -854.1\n",
      "Df Model:                           3                                         \n",
      "Covariance Type:            nonrobust                                         \n",
      "==============================================================================\n",
      "                 coef    std err          t      P>|t|      [0.025      0.975]\n",
      "------------------------------------------------------------------------------\n",
      "const         -1.4633      0.294     -4.982      0.000      -2.041      -0.886\n",
      "lincome        0.1370      0.027      5.119      0.000       0.084       0.190\n",
      "propblack      0.0728      0.031      2.373      0.018       0.013       0.133\n",
      "poverty        0.3804      0.133      2.864      0.004       0.119       0.641\n",
      "==============================================================================\n",
      "Omnibus:                       12.002   Durbin-Watson:                   1.727\n",
      "Prob(Omnibus):                  0.002   Jarque-Bera (JB):               24.056\n",
      "Skew:                          -0.014   Prob(JB):                     5.97e-06\n",
      "Kurtosis:                       4.200   Cond. No.                         834.\n",
      "==============================================================================\n",
      "\n",
      "Notes:\n",
      "[1] Standard Errors assume that the covariance matrix of the errors is correctly specified.\n"
     ]
    }
   ],
   "source": [
    "print(ln_fit2.summary())"
   ]
  }
 ],
 "metadata": {
  "kernelspec": {
   "display_name": "Python 3",
   "language": "python",
   "name": "python3"
  },
  "language_info": {
   "codemirror_mode": {
    "name": "ipython",
    "version": 3
   },
   "file_extension": ".py",
   "mimetype": "text/x-python",
   "name": "python",
   "nbconvert_exporter": "python",
   "pygments_lexer": "ipython3",
   "version": "3.8.8"
  }
 },
 "nbformat": 4,
 "nbformat_minor": 5
}
