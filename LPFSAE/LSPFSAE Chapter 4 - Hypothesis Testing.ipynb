{
 "cells": [
  {
   "cell_type": "markdown",
   "id": "4f9d86c1",
   "metadata": {},
   "source": [
    "# Incomplete Data \n",
    "\n",
    "Creating accurate predictions is one of the most valuable skills in the job market today. Statisticians, economists, and data scientists use data gathered from specific populations in order to predict the future. Through computational and statistical techniques, we can make _statistical inferences_ to draw conclusions from data that are often incomplete.\n",
    "\n",
    "As far as estimations of parameters that already exist, having full population data would mean that our questions about that population are answered. But because the cost of gathering a full set of information typically outweigh the benefits of having perfectly accurate data, we are okay with use data samples to draw inferences about past data and predict future observations. "
   ]
  },
  {
   "cell_type": "markdown",
   "id": "a61913fb",
   "metadata": {},
   "source": [
    "## Are Mutual Funds better than Broad-market index funds? "
   ]
  },
  {
   "cell_type": "markdown",
   "id": "00a3f826",
   "metadata": {},
   "source": [
    "The term “index fund” refers to the investment approach of a fund. Specifically, it is a fund that that aims to match the performance of a particular market index, such as the S&P 500 or Russell 2,000. The index fund simply tries to match the market. This differs from a more actively managed fund, in which investments are picked by a fund manager in an attempt to beat the market. The age old question is: are the fees payed to an actively-managed mutual fund worth it? \n",
    "\n",
    "We could simply compare the mean return from a given date range for a mutual fund and compare it to the S&P500s mean return from the same time interval, and see which is higher. But the fact that mutual funds have a limited number of time intervals which we can sample means we cannnot rule out the possibility that higher or lower returns from the fund were a result of random variation, and not an indicator of the true quality of the fund. Returns to investment in the S&P500 is a quality proxy for returns in equity markets. Although returns to the S&P 500 experience stochasticity, on average the average rate of return from a mutual fund data should beat S&P returns on average if active investment is actually improving the rate of return. So, we need to analyze the two funds using statistical techniques which account for random variation that is possible from incomplete data. \n",
    "\n",
    "We would like to ananlyze which(if any) mutual funds have out-performed the market, fees included. To start, we read the CSV downloaded from [Stock Market MBA](https://stockmarketmba.com/listoftop100activelymanagedusstockmutualfunds.php), which shows the 100 largest actively-managed mutual funds in the US. "
   ]
  },
  {
   "cell_type": "code",
   "execution_count": 1,
   "id": "53de08b9",
   "metadata": {},
   "outputs": [
    {
     "data": {
      "text/html": [
       "<div>\n",
       "<style scoped>\n",
       "    .dataframe tbody tr th:only-of-type {\n",
       "        vertical-align: middle;\n",
       "    }\n",
       "\n",
       "    .dataframe tbody tr th {\n",
       "        vertical-align: top;\n",
       "    }\n",
       "\n",
       "    .dataframe thead th {\n",
       "        text-align: right;\n",
       "    }\n",
       "</style>\n",
       "<table border=\"1\" class=\"dataframe\">\n",
       "  <thead>\n",
       "    <tr style=\"text-align: right;\">\n",
       "      <th></th>\n",
       "      <th>Symbol</th>\n",
       "      <th>Name</th>\n",
       "      <th>Category1</th>\n",
       "      <th>Category2</th>\n",
       "      <th>Category3</th>\n",
       "      <th>Morningstar Category</th>\n",
       "      <th>Morningstar Rating</th>\n",
       "      <th>Market cap</th>\n",
       "      <th>Current yield</th>\n",
       "      <th>Fees</th>\n",
       "      <th>Action</th>\n",
       "    </tr>\n",
       "  </thead>\n",
       "  <tbody>\n",
       "    <tr>\n",
       "      <th>0</th>\n",
       "      <td>AGTHX</td>\n",
       "      <td>American Funds The Growth Fund of America Class A</td>\n",
       "      <td>US Equity</td>\n",
       "      <td>Broad market</td>\n",
       "      <td>Large cap</td>\n",
       "      <td>Large Growth</td>\n",
       "      <td>3.0</td>\n",
       "      <td>$138,592,080,000</td>\n",
       "      <td>0.22%</td>\n",
       "      <td>0.62%</td>\n",
       "      <td>Analyze</td>\n",
       "    </tr>\n",
       "    <tr>\n",
       "      <th>1</th>\n",
       "      <td>FCNTX</td>\n",
       "      <td>Fidelity Contrafund Fund</td>\n",
       "      <td>US Equity</td>\n",
       "      <td>Broad market</td>\n",
       "      <td>Large cap</td>\n",
       "      <td>Large Growth</td>\n",
       "      <td>3.0</td>\n",
       "      <td>$121,762,870,000</td>\n",
       "      <td>0.00%</td>\n",
       "      <td>0.74%</td>\n",
       "      <td>Analyze</td>\n",
       "    </tr>\n",
       "    <tr>\n",
       "      <th>2</th>\n",
       "      <td>CWMAX</td>\n",
       "      <td>American Funds Washington Mutual Investors Fun...</td>\n",
       "      <td>US Equity</td>\n",
       "      <td>Broad market</td>\n",
       "      <td>Large cap</td>\n",
       "      <td>Large Blend</td>\n",
       "      <td>3.0</td>\n",
       "      <td>$113,300,000,000</td>\n",
       "      <td>1.46%</td>\n",
       "      <td>0.63%</td>\n",
       "      <td>Analyze</td>\n",
       "    </tr>\n",
       "    <tr>\n",
       "      <th>3</th>\n",
       "      <td>CWMCX</td>\n",
       "      <td>American Funds Washington Mutual Investors Fun...</td>\n",
       "      <td>US Equity</td>\n",
       "      <td>Broad market</td>\n",
       "      <td>Large cap</td>\n",
       "      <td>Large Blend</td>\n",
       "      <td>3.0</td>\n",
       "      <td>$113,300,000,000</td>\n",
       "      <td>0.79%</td>\n",
       "      <td>1.40%</td>\n",
       "      <td>Analyze</td>\n",
       "    </tr>\n",
       "    <tr>\n",
       "      <th>4</th>\n",
       "      <td>CWMEX</td>\n",
       "      <td>American Funds Washington Mutual Investors Fun...</td>\n",
       "      <td>US Equity</td>\n",
       "      <td>Broad market</td>\n",
       "      <td>Large cap</td>\n",
       "      <td>Large Blend</td>\n",
       "      <td>3.0</td>\n",
       "      <td>$113,300,000,000</td>\n",
       "      <td>1.28%</td>\n",
       "      <td>0.87%</td>\n",
       "      <td>Analyze</td>\n",
       "    </tr>\n",
       "    <tr>\n",
       "      <th>...</th>\n",
       "      <td>...</td>\n",
       "      <td>...</td>\n",
       "      <td>...</td>\n",
       "      <td>...</td>\n",
       "      <td>...</td>\n",
       "      <td>...</td>\n",
       "      <td>...</td>\n",
       "      <td>...</td>\n",
       "      <td>...</td>\n",
       "      <td>...</td>\n",
       "      <td>...</td>\n",
       "    </tr>\n",
       "    <tr>\n",
       "      <th>95</th>\n",
       "      <td>FDTRX</td>\n",
       "      <td>Franklin DynaTech Fund Class R6</td>\n",
       "      <td>US Equity</td>\n",
       "      <td>Broad market</td>\n",
       "      <td>Large cap</td>\n",
       "      <td>Large Growth</td>\n",
       "      <td>5.0</td>\n",
       "      <td>$9,600,000,000</td>\n",
       "      <td>0.00%</td>\n",
       "      <td>0.51%</td>\n",
       "      <td>Analyze</td>\n",
       "    </tr>\n",
       "    <tr>\n",
       "      <th>96</th>\n",
       "      <td>FDYZX</td>\n",
       "      <td>Franklin DynaTech Fund Advisor Class</td>\n",
       "      <td>US Equity</td>\n",
       "      <td>Broad market</td>\n",
       "      <td>Large cap</td>\n",
       "      <td>Large Growth</td>\n",
       "      <td>5.0</td>\n",
       "      <td>$9,600,000,000</td>\n",
       "      <td>0.00%</td>\n",
       "      <td>0.62%</td>\n",
       "      <td>Analyze</td>\n",
       "    </tr>\n",
       "    <tr>\n",
       "      <th>97</th>\n",
       "      <td>BBVLX</td>\n",
       "      <td>Bridge Builder Large Cap Value Fund</td>\n",
       "      <td>US Equity</td>\n",
       "      <td>Broad market</td>\n",
       "      <td>Large cap</td>\n",
       "      <td>Large Value</td>\n",
       "      <td>4.0</td>\n",
       "      <td>$9,500,000,000</td>\n",
       "      <td>1.55%</td>\n",
       "      <td>0.25%</td>\n",
       "      <td>Analyze</td>\n",
       "    </tr>\n",
       "    <tr>\n",
       "      <th>98</th>\n",
       "      <td>PEYAX</td>\n",
       "      <td>Putnam Large Cap Value Fund Class A</td>\n",
       "      <td>US Equity</td>\n",
       "      <td>Broad market</td>\n",
       "      <td>Large cap</td>\n",
       "      <td>Large Value</td>\n",
       "      <td>4.0</td>\n",
       "      <td>$9,393,340,000</td>\n",
       "      <td>1.23%</td>\n",
       "      <td>0.91%</td>\n",
       "      <td>Analyze</td>\n",
       "    </tr>\n",
       "    <tr>\n",
       "      <th>99</th>\n",
       "      <td>TWCGX</td>\n",
       "      <td>American Century Growth Fund Investor Class</td>\n",
       "      <td>US Equity</td>\n",
       "      <td>Broad market</td>\n",
       "      <td>Large cap</td>\n",
       "      <td>Large Growth</td>\n",
       "      <td>3.0</td>\n",
       "      <td>$9,354,900,000</td>\n",
       "      <td>0.00%</td>\n",
       "      <td>0.98%</td>\n",
       "      <td>Analyze</td>\n",
       "    </tr>\n",
       "  </tbody>\n",
       "</table>\n",
       "<p>100 rows × 11 columns</p>\n",
       "</div>"
      ],
      "text/plain": [
       "   Symbol                                               Name  Category1  \\\n",
       "0   AGTHX  American Funds The Growth Fund of America Class A  US Equity   \n",
       "1   FCNTX                           Fidelity Contrafund Fund  US Equity   \n",
       "2   CWMAX  American Funds Washington Mutual Investors Fun...  US Equity   \n",
       "3   CWMCX  American Funds Washington Mutual Investors Fun...  US Equity   \n",
       "4   CWMEX  American Funds Washington Mutual Investors Fun...  US Equity   \n",
       "..    ...                                                ...        ...   \n",
       "95  FDTRX                    Franklin DynaTech Fund Class R6  US Equity   \n",
       "96  FDYZX               Franklin DynaTech Fund Advisor Class  US Equity   \n",
       "97  BBVLX                Bridge Builder Large Cap Value Fund  US Equity   \n",
       "98  PEYAX                Putnam Large Cap Value Fund Class A  US Equity   \n",
       "99  TWCGX        American Century Growth Fund Investor Class  US Equity   \n",
       "\n",
       "       Category2  Category3 Morningstar Category  Morningstar Rating  \\\n",
       "0   Broad market  Large cap         Large Growth                 3.0   \n",
       "1   Broad market  Large cap         Large Growth                 3.0   \n",
       "2   Broad market  Large cap          Large Blend                 3.0   \n",
       "3   Broad market  Large cap          Large Blend                 3.0   \n",
       "4   Broad market  Large cap          Large Blend                 3.0   \n",
       "..           ...        ...                  ...                 ...   \n",
       "95  Broad market  Large cap         Large Growth                 5.0   \n",
       "96  Broad market  Large cap         Large Growth                 5.0   \n",
       "97  Broad market  Large cap          Large Value                 4.0   \n",
       "98  Broad market  Large cap          Large Value                 4.0   \n",
       "99  Broad market  Large cap         Large Growth                 3.0   \n",
       "\n",
       "          Market cap Current yield   Fees   Action  \n",
       "0   $138,592,080,000         0.22%  0.62%  Analyze  \n",
       "1   $121,762,870,000         0.00%  0.74%  Analyze  \n",
       "2   $113,300,000,000         1.46%  0.63%  Analyze  \n",
       "3   $113,300,000,000         0.79%  1.40%  Analyze  \n",
       "4   $113,300,000,000         1.28%  0.87%  Analyze  \n",
       "..               ...           ...    ...      ...  \n",
       "95    $9,600,000,000         0.00%  0.51%  Analyze  \n",
       "96    $9,600,000,000         0.00%  0.62%  Analyze  \n",
       "97    $9,500,000,000         1.55%  0.25%  Analyze  \n",
       "98    $9,393,340,000         1.23%  0.91%  Analyze  \n",
       "99    $9,354,900,000         0.00%  0.98%  Analyze  \n",
       "\n",
       "[100 rows x 11 columns]"
      ]
     },
     "execution_count": 1,
     "metadata": {},
     "output_type": "execute_result"
    }
   ],
   "source": [
    "import numpy as np\n",
    "import pandas as pd\n",
    "\n",
    "mutual_fund_data = pd.read_csv(\"Top100MutualFunds.csv\")\n",
    "mutual_fund_data"
   ]
  },
  {
   "cell_type": "markdown",
   "id": "c5360d91",
   "metadata": {},
   "source": [
    "We don't need to include every category for each fund. Let's drop all categories except for the Morningstar Category. We'll also drop the Morningstar Rating and Action columns."
   ]
  },
  {
   "cell_type": "code",
   "execution_count": 2,
   "id": "bcf09e74",
   "metadata": {},
   "outputs": [
    {
     "data": {
      "text/html": [
       "<div>\n",
       "<style scoped>\n",
       "    .dataframe tbody tr th:only-of-type {\n",
       "        vertical-align: middle;\n",
       "    }\n",
       "\n",
       "    .dataframe tbody tr th {\n",
       "        vertical-align: top;\n",
       "    }\n",
       "\n",
       "    .dataframe thead th {\n",
       "        text-align: right;\n",
       "    }\n",
       "</style>\n",
       "<table border=\"1\" class=\"dataframe\">\n",
       "  <thead>\n",
       "    <tr style=\"text-align: right;\">\n",
       "      <th></th>\n",
       "      <th>Symbol</th>\n",
       "      <th>Name</th>\n",
       "      <th>Morningstar Category</th>\n",
       "      <th>Market cap</th>\n",
       "      <th>Fees</th>\n",
       "    </tr>\n",
       "  </thead>\n",
       "  <tbody>\n",
       "    <tr>\n",
       "      <th>0</th>\n",
       "      <td>AGTHX</td>\n",
       "      <td>American Funds The Growth Fund of America Class A</td>\n",
       "      <td>Large Growth</td>\n",
       "      <td>$138,592,080,000</td>\n",
       "      <td>0.62%</td>\n",
       "    </tr>\n",
       "    <tr>\n",
       "      <th>1</th>\n",
       "      <td>FCNTX</td>\n",
       "      <td>Fidelity Contrafund Fund</td>\n",
       "      <td>Large Growth</td>\n",
       "      <td>$121,762,870,000</td>\n",
       "      <td>0.74%</td>\n",
       "    </tr>\n",
       "    <tr>\n",
       "      <th>2</th>\n",
       "      <td>CWMAX</td>\n",
       "      <td>American Funds Washington Mutual Investors Fun...</td>\n",
       "      <td>Large Blend</td>\n",
       "      <td>$113,300,000,000</td>\n",
       "      <td>0.63%</td>\n",
       "    </tr>\n",
       "    <tr>\n",
       "      <th>3</th>\n",
       "      <td>CWMCX</td>\n",
       "      <td>American Funds Washington Mutual Investors Fun...</td>\n",
       "      <td>Large Blend</td>\n",
       "      <td>$113,300,000,000</td>\n",
       "      <td>1.40%</td>\n",
       "    </tr>\n",
       "    <tr>\n",
       "      <th>4</th>\n",
       "      <td>CWMEX</td>\n",
       "      <td>American Funds Washington Mutual Investors Fun...</td>\n",
       "      <td>Large Blend</td>\n",
       "      <td>$113,300,000,000</td>\n",
       "      <td>0.87%</td>\n",
       "    </tr>\n",
       "  </tbody>\n",
       "</table>\n",
       "</div>"
      ],
      "text/plain": [
       "  Symbol                                               Name  \\\n",
       "0  AGTHX  American Funds The Growth Fund of America Class A   \n",
       "1  FCNTX                           Fidelity Contrafund Fund   \n",
       "2  CWMAX  American Funds Washington Mutual Investors Fun...   \n",
       "3  CWMCX  American Funds Washington Mutual Investors Fun...   \n",
       "4  CWMEX  American Funds Washington Mutual Investors Fun...   \n",
       "\n",
       "  Morningstar Category        Market cap   Fees  \n",
       "0         Large Growth  $138,592,080,000  0.62%  \n",
       "1         Large Growth  $121,762,870,000  0.74%  \n",
       "2          Large Blend  $113,300,000,000  0.63%  \n",
       "3          Large Blend  $113,300,000,000  1.40%  \n",
       "4          Large Blend  $113,300,000,000  0.87%  "
      ]
     },
     "execution_count": 2,
     "metadata": {},
     "output_type": "execute_result"
    }
   ],
   "source": [
    "to_drop = [\n",
    "    \"Category2\", \"Category1\", \"Category3\", \"Morningstar Rating\",\n",
    "    \"Current yield\", \"Action\"\n",
    "]\n",
    "mutual_fund_data = mutual_fund_data.drop(columns=to_drop)\n",
    "mutual_fund_data.head()"
   ]
  },
  {
   "cell_type": "markdown",
   "id": "a0b0b53b",
   "metadata": {},
   "source": [
    "The symbols column from *mutual_fund_data* contains the ticker symbol that we can use to download data from each fund.  If you have not yet done so, install the module using:"
   ]
  },
  {
   "cell_type": "code",
   "execution_count": 3,
   "id": "34fa621c",
   "metadata": {},
   "outputs": [],
   "source": [
    "#!pip install pandas-datareader"
   ]
  },
  {
   "cell_type": "markdown",
   "id": "74324a70",
   "metadata": {},
   "source": [
    "Next we need to prepare to download the data. We can save the list of symbols and pass each symbol to pandas_datareader. We also need to choose the range of dates to include. Finally, we will save each fund in a dictionary using the ticker sympol as the key for data for that symbol."
   ]
  },
  {
   "cell_type": "code",
   "execution_count": 4,
   "id": "2f5aac29",
   "metadata": {},
   "outputs": [
    {
     "data": {
      "text/plain": [
       "(datetime.datetime(1980, 1, 1, 0, 0),\n",
       " datetime.datetime(2020, 1, 1, 0, 0),\n",
       " 0     AGTHX\n",
       " 1     FCNTX\n",
       " 2     CWMAX\n",
       " 3     CWMCX\n",
       " 4     CWMEX\n",
       "       ...  \n",
       " 95    FDTRX\n",
       " 96    FDYZX\n",
       " 97    BBVLX\n",
       " 98    PEYAX\n",
       " 99    TWCGX\n",
       " Name: Symbol, Length: 100, dtype: object)"
      ]
     },
     "execution_count": 4,
     "metadata": {},
     "output_type": "execute_result"
    }
   ],
   "source": [
    "import pandas_datareader as web\n",
    "import datetime as dt\n",
    "\n",
    "mutual_fund_dict = {}\n",
    "symbols = mutual_fund_data[\"Symbol\"]\n",
    "\n",
    "start = dt.datetime(1980, 1, 1)\n",
    "end = dt.datetime(2020, 1, 1)\n",
    "(start, end, symbols)"
   ]
  },
  {
   "cell_type": "markdown",
   "id": "65e98e0f",
   "metadata": {},
   "source": [
    "Now we are ready to download the data. "
   ]
  },
  {
   "cell_type": "code",
   "execution_count": 5,
   "id": "ced80df2",
   "metadata": {},
   "outputs": [],
   "source": [
    "#pull mutual fund data for our chosen timeframe\n",
    "fund_data = web.DataReader(\n",
    "    symbols, \n",
    "    'yahoo', \n",
    "    start=start,\n",
    "    end=end) "
   ]
  },
  {
   "cell_type": "markdown",
   "id": "b5309a47",
   "metadata": {},
   "source": [
    "Display the DataFrame we just made: "
   ]
  },
  {
   "cell_type": "code",
   "execution_count": 6,
   "id": "42f9a960",
   "metadata": {},
   "outputs": [
    {
     "data": {
      "text/html": [
       "<div>\n",
       "<style scoped>\n",
       "    .dataframe tbody tr th:only-of-type {\n",
       "        vertical-align: middle;\n",
       "    }\n",
       "\n",
       "    .dataframe tbody tr th {\n",
       "        vertical-align: top;\n",
       "    }\n",
       "\n",
       "    .dataframe thead tr th {\n",
       "        text-align: left;\n",
       "    }\n",
       "\n",
       "    .dataframe thead tr:last-of-type th {\n",
       "        text-align: right;\n",
       "    }\n",
       "</style>\n",
       "<table border=\"1\" class=\"dataframe\">\n",
       "  <thead>\n",
       "    <tr>\n",
       "      <th>Attributes</th>\n",
       "      <th colspan=\"10\" halign=\"left\">Adj Close</th>\n",
       "      <th>...</th>\n",
       "      <th colspan=\"10\" halign=\"left\">Volume</th>\n",
       "    </tr>\n",
       "    <tr>\n",
       "      <th>Symbols</th>\n",
       "      <th>AGTHX</th>\n",
       "      <th>FCNTX</th>\n",
       "      <th>CWMAX</th>\n",
       "      <th>CWMCX</th>\n",
       "      <th>CWMEX</th>\n",
       "      <th>CWMFX</th>\n",
       "      <th>AIVSX</th>\n",
       "      <th>AWSHX</th>\n",
       "      <th>ANCFX</th>\n",
       "      <th>AMCFX</th>\n",
       "      <th>...</th>\n",
       "      <th>CMGIX</th>\n",
       "      <th>SBLYX</th>\n",
       "      <th>AKRIX</th>\n",
       "      <th>MFEGX</th>\n",
       "      <th>FDNRX</th>\n",
       "      <th>FDTRX</th>\n",
       "      <th>FDYZX</th>\n",
       "      <th>BBVLX</th>\n",
       "      <th>PEYAX</th>\n",
       "      <th>TWCGX</th>\n",
       "    </tr>\n",
       "    <tr>\n",
       "      <th>Date</th>\n",
       "      <th></th>\n",
       "      <th></th>\n",
       "      <th></th>\n",
       "      <th></th>\n",
       "      <th></th>\n",
       "      <th></th>\n",
       "      <th></th>\n",
       "      <th></th>\n",
       "      <th></th>\n",
       "      <th></th>\n",
       "      <th></th>\n",
       "      <th></th>\n",
       "      <th></th>\n",
       "      <th></th>\n",
       "      <th></th>\n",
       "      <th></th>\n",
       "      <th></th>\n",
       "      <th></th>\n",
       "      <th></th>\n",
       "      <th></th>\n",
       "      <th></th>\n",
       "    </tr>\n",
       "  </thead>\n",
       "  <tbody>\n",
       "    <tr>\n",
       "      <th>1980-01-02</th>\n",
       "      <td>0.669569</td>\n",
       "      <td>0.134105</td>\n",
       "      <td>NaN</td>\n",
       "      <td>NaN</td>\n",
       "      <td>NaN</td>\n",
       "      <td>NaN</td>\n",
       "      <td>NaN</td>\n",
       "      <td>0.689292</td>\n",
       "      <td>0.742943</td>\n",
       "      <td>NaN</td>\n",
       "      <td>...</td>\n",
       "      <td>NaN</td>\n",
       "      <td>NaN</td>\n",
       "      <td>NaN</td>\n",
       "      <td>NaN</td>\n",
       "      <td>NaN</td>\n",
       "      <td>NaN</td>\n",
       "      <td>NaN</td>\n",
       "      <td>NaN</td>\n",
       "      <td>0.0</td>\n",
       "      <td>0.0</td>\n",
       "    </tr>\n",
       "    <tr>\n",
       "      <th>1980-01-03</th>\n",
       "      <td>0.681248</td>\n",
       "      <td>0.132336</td>\n",
       "      <td>NaN</td>\n",
       "      <td>NaN</td>\n",
       "      <td>NaN</td>\n",
       "      <td>NaN</td>\n",
       "      <td>NaN</td>\n",
       "      <td>0.685189</td>\n",
       "      <td>0.738798</td>\n",
       "      <td>NaN</td>\n",
       "      <td>...</td>\n",
       "      <td>NaN</td>\n",
       "      <td>NaN</td>\n",
       "      <td>NaN</td>\n",
       "      <td>NaN</td>\n",
       "      <td>NaN</td>\n",
       "      <td>NaN</td>\n",
       "      <td>NaN</td>\n",
       "      <td>NaN</td>\n",
       "      <td>0.0</td>\n",
       "      <td>0.0</td>\n",
       "    </tr>\n",
       "    <tr>\n",
       "      <th>1980-01-04</th>\n",
       "      <td>0.681248</td>\n",
       "      <td>0.134341</td>\n",
       "      <td>NaN</td>\n",
       "      <td>NaN</td>\n",
       "      <td>NaN</td>\n",
       "      <td>NaN</td>\n",
       "      <td>NaN</td>\n",
       "      <td>0.695446</td>\n",
       "      <td>0.750196</td>\n",
       "      <td>NaN</td>\n",
       "      <td>...</td>\n",
       "      <td>NaN</td>\n",
       "      <td>NaN</td>\n",
       "      <td>NaN</td>\n",
       "      <td>NaN</td>\n",
       "      <td>NaN</td>\n",
       "      <td>NaN</td>\n",
       "      <td>NaN</td>\n",
       "      <td>NaN</td>\n",
       "      <td>0.0</td>\n",
       "      <td>0.0</td>\n",
       "    </tr>\n",
       "    <tr>\n",
       "      <th>1980-01-07</th>\n",
       "      <td>0.698766</td>\n",
       "      <td>0.133869</td>\n",
       "      <td>NaN</td>\n",
       "      <td>NaN</td>\n",
       "      <td>NaN</td>\n",
       "      <td>NaN</td>\n",
       "      <td>NaN</td>\n",
       "      <td>0.700575</td>\n",
       "      <td>0.753305</td>\n",
       "      <td>NaN</td>\n",
       "      <td>...</td>\n",
       "      <td>NaN</td>\n",
       "      <td>NaN</td>\n",
       "      <td>NaN</td>\n",
       "      <td>NaN</td>\n",
       "      <td>NaN</td>\n",
       "      <td>NaN</td>\n",
       "      <td>NaN</td>\n",
       "      <td>NaN</td>\n",
       "      <td>0.0</td>\n",
       "      <td>0.0</td>\n",
       "    </tr>\n",
       "    <tr>\n",
       "      <th>1980-01-08</th>\n",
       "      <td>0.706551</td>\n",
       "      <td>0.137643</td>\n",
       "      <td>NaN</td>\n",
       "      <td>NaN</td>\n",
       "      <td>NaN</td>\n",
       "      <td>NaN</td>\n",
       "      <td>NaN</td>\n",
       "      <td>0.713910</td>\n",
       "      <td>0.771956</td>\n",
       "      <td>NaN</td>\n",
       "      <td>...</td>\n",
       "      <td>NaN</td>\n",
       "      <td>NaN</td>\n",
       "      <td>NaN</td>\n",
       "      <td>NaN</td>\n",
       "      <td>NaN</td>\n",
       "      <td>NaN</td>\n",
       "      <td>NaN</td>\n",
       "      <td>NaN</td>\n",
       "      <td>0.0</td>\n",
       "      <td>0.0</td>\n",
       "    </tr>\n",
       "    <tr>\n",
       "      <th>...</th>\n",
       "      <td>...</td>\n",
       "      <td>...</td>\n",
       "      <td>...</td>\n",
       "      <td>...</td>\n",
       "      <td>...</td>\n",
       "      <td>...</td>\n",
       "      <td>...</td>\n",
       "      <td>...</td>\n",
       "      <td>...</td>\n",
       "      <td>...</td>\n",
       "      <td>...</td>\n",
       "      <td>...</td>\n",
       "      <td>...</td>\n",
       "      <td>...</td>\n",
       "      <td>...</td>\n",
       "      <td>...</td>\n",
       "      <td>...</td>\n",
       "      <td>...</td>\n",
       "      <td>...</td>\n",
       "      <td>...</td>\n",
       "      <td>...</td>\n",
       "    </tr>\n",
       "    <tr>\n",
       "      <th>2019-12-24</th>\n",
       "      <td>45.222630</td>\n",
       "      <td>11.200621</td>\n",
       "      <td>42.041508</td>\n",
       "      <td>42.582382</td>\n",
       "      <td>41.984264</td>\n",
       "      <td>41.686695</td>\n",
       "      <td>35.401699</td>\n",
       "      <td>42.123875</td>\n",
       "      <td>52.561485</td>\n",
       "      <td>28.316502</td>\n",
       "      <td>...</td>\n",
       "      <td>0.0</td>\n",
       "      <td>0.0</td>\n",
       "      <td>0.0</td>\n",
       "      <td>0.0</td>\n",
       "      <td>0.0</td>\n",
       "      <td>0.0</td>\n",
       "      <td>0.0</td>\n",
       "      <td>0.0</td>\n",
       "      <td>0.0</td>\n",
       "      <td>0.0</td>\n",
       "    </tr>\n",
       "    <tr>\n",
       "      <th>2019-12-26</th>\n",
       "      <td>45.452366</td>\n",
       "      <td>11.290683</td>\n",
       "      <td>42.164051</td>\n",
       "      <td>42.707291</td>\n",
       "      <td>42.116241</td>\n",
       "      <td>41.808563</td>\n",
       "      <td>35.553867</td>\n",
       "      <td>42.255100</td>\n",
       "      <td>52.799057</td>\n",
       "      <td>28.408522</td>\n",
       "      <td>...</td>\n",
       "      <td>0.0</td>\n",
       "      <td>0.0</td>\n",
       "      <td>0.0</td>\n",
       "      <td>0.0</td>\n",
       "      <td>0.0</td>\n",
       "      <td>0.0</td>\n",
       "      <td>0.0</td>\n",
       "      <td>0.0</td>\n",
       "      <td>0.0</td>\n",
       "      <td>0.0</td>\n",
       "    </tr>\n",
       "    <tr>\n",
       "      <th>2019-12-27</th>\n",
       "      <td>45.443531</td>\n",
       "      <td>11.290683</td>\n",
       "      <td>42.181561</td>\n",
       "      <td>42.725124</td>\n",
       "      <td>42.133842</td>\n",
       "      <td>41.825970</td>\n",
       "      <td>35.553867</td>\n",
       "      <td>42.272591</td>\n",
       "      <td>52.849960</td>\n",
       "      <td>28.400158</td>\n",
       "      <td>...</td>\n",
       "      <td>0.0</td>\n",
       "      <td>0.0</td>\n",
       "      <td>0.0</td>\n",
       "      <td>0.0</td>\n",
       "      <td>0.0</td>\n",
       "      <td>0.0</td>\n",
       "      <td>0.0</td>\n",
       "      <td>0.0</td>\n",
       "      <td>0.0</td>\n",
       "      <td>0.0</td>\n",
       "    </tr>\n",
       "    <tr>\n",
       "      <th>2019-12-30</th>\n",
       "      <td>45.045914</td>\n",
       "      <td>11.200621</td>\n",
       "      <td>41.962730</td>\n",
       "      <td>42.493176</td>\n",
       "      <td>41.905090</td>\n",
       "      <td>41.599655</td>\n",
       "      <td>35.312191</td>\n",
       "      <td>42.045139</td>\n",
       "      <td>52.485134</td>\n",
       "      <td>28.216118</td>\n",
       "      <td>...</td>\n",
       "      <td>0.0</td>\n",
       "      <td>0.0</td>\n",
       "      <td>0.0</td>\n",
       "      <td>0.0</td>\n",
       "      <td>0.0</td>\n",
       "      <td>0.0</td>\n",
       "      <td>0.0</td>\n",
       "      <td>0.0</td>\n",
       "      <td>0.0</td>\n",
       "      <td>0.0</td>\n",
       "    </tr>\n",
       "    <tr>\n",
       "      <th>2019-12-31</th>\n",
       "      <td>45.178452</td>\n",
       "      <td>11.225183</td>\n",
       "      <td>42.041508</td>\n",
       "      <td>42.573467</td>\n",
       "      <td>41.984264</td>\n",
       "      <td>41.686695</td>\n",
       "      <td>35.419601</td>\n",
       "      <td>42.123875</td>\n",
       "      <td>52.620876</td>\n",
       "      <td>28.283043</td>\n",
       "      <td>...</td>\n",
       "      <td>0.0</td>\n",
       "      <td>0.0</td>\n",
       "      <td>0.0</td>\n",
       "      <td>0.0</td>\n",
       "      <td>0.0</td>\n",
       "      <td>0.0</td>\n",
       "      <td>0.0</td>\n",
       "      <td>0.0</td>\n",
       "      <td>0.0</td>\n",
       "      <td>0.0</td>\n",
       "    </tr>\n",
       "  </tbody>\n",
       "</table>\n",
       "<p>10087 rows × 600 columns</p>\n",
       "</div>"
      ],
      "text/plain": [
       "Attributes  Adj Close                                                         \\\n",
       "Symbols         AGTHX      FCNTX      CWMAX      CWMCX      CWMEX      CWMFX   \n",
       "Date                                                                           \n",
       "1980-01-02   0.669569   0.134105        NaN        NaN        NaN        NaN   \n",
       "1980-01-03   0.681248   0.132336        NaN        NaN        NaN        NaN   \n",
       "1980-01-04   0.681248   0.134341        NaN        NaN        NaN        NaN   \n",
       "1980-01-07   0.698766   0.133869        NaN        NaN        NaN        NaN   \n",
       "1980-01-08   0.706551   0.137643        NaN        NaN        NaN        NaN   \n",
       "...               ...        ...        ...        ...        ...        ...   \n",
       "2019-12-24  45.222630  11.200621  42.041508  42.582382  41.984264  41.686695   \n",
       "2019-12-26  45.452366  11.290683  42.164051  42.707291  42.116241  41.808563   \n",
       "2019-12-27  45.443531  11.290683  42.181561  42.725124  42.133842  41.825970   \n",
       "2019-12-30  45.045914  11.200621  41.962730  42.493176  41.905090  41.599655   \n",
       "2019-12-31  45.178452  11.225183  42.041508  42.573467  41.984264  41.686695   \n",
       "\n",
       "Attributes                                              ... Volume        \\\n",
       "Symbols         AIVSX      AWSHX      ANCFX      AMCFX  ...  CMGIX SBLYX   \n",
       "Date                                                    ...                \n",
       "1980-01-02        NaN   0.689292   0.742943        NaN  ...    NaN   NaN   \n",
       "1980-01-03        NaN   0.685189   0.738798        NaN  ...    NaN   NaN   \n",
       "1980-01-04        NaN   0.695446   0.750196        NaN  ...    NaN   NaN   \n",
       "1980-01-07        NaN   0.700575   0.753305        NaN  ...    NaN   NaN   \n",
       "1980-01-08        NaN   0.713910   0.771956        NaN  ...    NaN   NaN   \n",
       "...               ...        ...        ...        ...  ...    ...   ...   \n",
       "2019-12-24  35.401699  42.123875  52.561485  28.316502  ...    0.0   0.0   \n",
       "2019-12-26  35.553867  42.255100  52.799057  28.408522  ...    0.0   0.0   \n",
       "2019-12-27  35.553867  42.272591  52.849960  28.400158  ...    0.0   0.0   \n",
       "2019-12-30  35.312191  42.045139  52.485134  28.216118  ...    0.0   0.0   \n",
       "2019-12-31  35.419601  42.123875  52.620876  28.283043  ...    0.0   0.0   \n",
       "\n",
       "Attributes                                                  \n",
       "Symbols    AKRIX MFEGX FDNRX FDTRX FDYZX BBVLX PEYAX TWCGX  \n",
       "Date                                                        \n",
       "1980-01-02   NaN   NaN   NaN   NaN   NaN   NaN   0.0   0.0  \n",
       "1980-01-03   NaN   NaN   NaN   NaN   NaN   NaN   0.0   0.0  \n",
       "1980-01-04   NaN   NaN   NaN   NaN   NaN   NaN   0.0   0.0  \n",
       "1980-01-07   NaN   NaN   NaN   NaN   NaN   NaN   0.0   0.0  \n",
       "1980-01-08   NaN   NaN   NaN   NaN   NaN   NaN   0.0   0.0  \n",
       "...          ...   ...   ...   ...   ...   ...   ...   ...  \n",
       "2019-12-24   0.0   0.0   0.0   0.0   0.0   0.0   0.0   0.0  \n",
       "2019-12-26   0.0   0.0   0.0   0.0   0.0   0.0   0.0   0.0  \n",
       "2019-12-27   0.0   0.0   0.0   0.0   0.0   0.0   0.0   0.0  \n",
       "2019-12-30   0.0   0.0   0.0   0.0   0.0   0.0   0.0   0.0  \n",
       "2019-12-31   0.0   0.0   0.0   0.0   0.0   0.0   0.0   0.0  \n",
       "\n",
       "[10087 rows x 600 columns]"
      ]
     },
     "execution_count": 6,
     "metadata": {},
     "output_type": "execute_result"
    }
   ],
   "source": [
    "fund_data"
   ]
  },
  {
   "cell_type": "markdown",
   "id": "28375e85",
   "metadata": {},
   "source": [
    "As we can see, there are many null values for the earlier dates of the DataFrame because many of the funds did not exist in 1980. For aesthetic purposes, we can use the df.tail() method to only show the last 5 rows from now on. "
   ]
  },
  {
   "cell_type": "code",
   "execution_count": 7,
   "id": "f1864a79",
   "metadata": {},
   "outputs": [
    {
     "data": {
      "text/html": [
       "<div>\n",
       "<style scoped>\n",
       "    .dataframe tbody tr th:only-of-type {\n",
       "        vertical-align: middle;\n",
       "    }\n",
       "\n",
       "    .dataframe tbody tr th {\n",
       "        vertical-align: top;\n",
       "    }\n",
       "\n",
       "    .dataframe thead tr th {\n",
       "        text-align: left;\n",
       "    }\n",
       "\n",
       "    .dataframe thead tr:last-of-type th {\n",
       "        text-align: right;\n",
       "    }\n",
       "</style>\n",
       "<table border=\"1\" class=\"dataframe\">\n",
       "  <thead>\n",
       "    <tr>\n",
       "      <th>Attributes</th>\n",
       "      <th colspan=\"10\" halign=\"left\">Adj Close</th>\n",
       "      <th>...</th>\n",
       "      <th colspan=\"10\" halign=\"left\">Volume</th>\n",
       "    </tr>\n",
       "    <tr>\n",
       "      <th>Symbols</th>\n",
       "      <th>AGTHX</th>\n",
       "      <th>FCNTX</th>\n",
       "      <th>CWMAX</th>\n",
       "      <th>CWMCX</th>\n",
       "      <th>CWMEX</th>\n",
       "      <th>CWMFX</th>\n",
       "      <th>AIVSX</th>\n",
       "      <th>AWSHX</th>\n",
       "      <th>ANCFX</th>\n",
       "      <th>AMCFX</th>\n",
       "      <th>...</th>\n",
       "      <th>CMGIX</th>\n",
       "      <th>SBLYX</th>\n",
       "      <th>AKRIX</th>\n",
       "      <th>MFEGX</th>\n",
       "      <th>FDNRX</th>\n",
       "      <th>FDTRX</th>\n",
       "      <th>FDYZX</th>\n",
       "      <th>BBVLX</th>\n",
       "      <th>PEYAX</th>\n",
       "      <th>TWCGX</th>\n",
       "    </tr>\n",
       "    <tr>\n",
       "      <th>Date</th>\n",
       "      <th></th>\n",
       "      <th></th>\n",
       "      <th></th>\n",
       "      <th></th>\n",
       "      <th></th>\n",
       "      <th></th>\n",
       "      <th></th>\n",
       "      <th></th>\n",
       "      <th></th>\n",
       "      <th></th>\n",
       "      <th></th>\n",
       "      <th></th>\n",
       "      <th></th>\n",
       "      <th></th>\n",
       "      <th></th>\n",
       "      <th></th>\n",
       "      <th></th>\n",
       "      <th></th>\n",
       "      <th></th>\n",
       "      <th></th>\n",
       "      <th></th>\n",
       "    </tr>\n",
       "  </thead>\n",
       "  <tbody>\n",
       "    <tr>\n",
       "      <th>2019-12-24</th>\n",
       "      <td>45.222630</td>\n",
       "      <td>11.200621</td>\n",
       "      <td>42.041508</td>\n",
       "      <td>42.582382</td>\n",
       "      <td>41.984264</td>\n",
       "      <td>41.686695</td>\n",
       "      <td>35.401699</td>\n",
       "      <td>42.123875</td>\n",
       "      <td>52.561485</td>\n",
       "      <td>28.316502</td>\n",
       "      <td>...</td>\n",
       "      <td>0.0</td>\n",
       "      <td>0.0</td>\n",
       "      <td>0.0</td>\n",
       "      <td>0.0</td>\n",
       "      <td>0.0</td>\n",
       "      <td>0.0</td>\n",
       "      <td>0.0</td>\n",
       "      <td>0.0</td>\n",
       "      <td>0.0</td>\n",
       "      <td>0.0</td>\n",
       "    </tr>\n",
       "    <tr>\n",
       "      <th>2019-12-26</th>\n",
       "      <td>45.452366</td>\n",
       "      <td>11.290683</td>\n",
       "      <td>42.164051</td>\n",
       "      <td>42.707291</td>\n",
       "      <td>42.116241</td>\n",
       "      <td>41.808563</td>\n",
       "      <td>35.553867</td>\n",
       "      <td>42.255100</td>\n",
       "      <td>52.799057</td>\n",
       "      <td>28.408522</td>\n",
       "      <td>...</td>\n",
       "      <td>0.0</td>\n",
       "      <td>0.0</td>\n",
       "      <td>0.0</td>\n",
       "      <td>0.0</td>\n",
       "      <td>0.0</td>\n",
       "      <td>0.0</td>\n",
       "      <td>0.0</td>\n",
       "      <td>0.0</td>\n",
       "      <td>0.0</td>\n",
       "      <td>0.0</td>\n",
       "    </tr>\n",
       "    <tr>\n",
       "      <th>2019-12-27</th>\n",
       "      <td>45.443531</td>\n",
       "      <td>11.290683</td>\n",
       "      <td>42.181561</td>\n",
       "      <td>42.725124</td>\n",
       "      <td>42.133842</td>\n",
       "      <td>41.825970</td>\n",
       "      <td>35.553867</td>\n",
       "      <td>42.272591</td>\n",
       "      <td>52.849960</td>\n",
       "      <td>28.400158</td>\n",
       "      <td>...</td>\n",
       "      <td>0.0</td>\n",
       "      <td>0.0</td>\n",
       "      <td>0.0</td>\n",
       "      <td>0.0</td>\n",
       "      <td>0.0</td>\n",
       "      <td>0.0</td>\n",
       "      <td>0.0</td>\n",
       "      <td>0.0</td>\n",
       "      <td>0.0</td>\n",
       "      <td>0.0</td>\n",
       "    </tr>\n",
       "    <tr>\n",
       "      <th>2019-12-30</th>\n",
       "      <td>45.045914</td>\n",
       "      <td>11.200621</td>\n",
       "      <td>41.962730</td>\n",
       "      <td>42.493176</td>\n",
       "      <td>41.905090</td>\n",
       "      <td>41.599655</td>\n",
       "      <td>35.312191</td>\n",
       "      <td>42.045139</td>\n",
       "      <td>52.485134</td>\n",
       "      <td>28.216118</td>\n",
       "      <td>...</td>\n",
       "      <td>0.0</td>\n",
       "      <td>0.0</td>\n",
       "      <td>0.0</td>\n",
       "      <td>0.0</td>\n",
       "      <td>0.0</td>\n",
       "      <td>0.0</td>\n",
       "      <td>0.0</td>\n",
       "      <td>0.0</td>\n",
       "      <td>0.0</td>\n",
       "      <td>0.0</td>\n",
       "    </tr>\n",
       "    <tr>\n",
       "      <th>2019-12-31</th>\n",
       "      <td>45.178452</td>\n",
       "      <td>11.225183</td>\n",
       "      <td>42.041508</td>\n",
       "      <td>42.573467</td>\n",
       "      <td>41.984264</td>\n",
       "      <td>41.686695</td>\n",
       "      <td>35.419601</td>\n",
       "      <td>42.123875</td>\n",
       "      <td>52.620876</td>\n",
       "      <td>28.283043</td>\n",
       "      <td>...</td>\n",
       "      <td>0.0</td>\n",
       "      <td>0.0</td>\n",
       "      <td>0.0</td>\n",
       "      <td>0.0</td>\n",
       "      <td>0.0</td>\n",
       "      <td>0.0</td>\n",
       "      <td>0.0</td>\n",
       "      <td>0.0</td>\n",
       "      <td>0.0</td>\n",
       "      <td>0.0</td>\n",
       "    </tr>\n",
       "  </tbody>\n",
       "</table>\n",
       "<p>5 rows × 600 columns</p>\n",
       "</div>"
      ],
      "text/plain": [
       "Attributes  Adj Close                                                         \\\n",
       "Symbols         AGTHX      FCNTX      CWMAX      CWMCX      CWMEX      CWMFX   \n",
       "Date                                                                           \n",
       "2019-12-24  45.222630  11.200621  42.041508  42.582382  41.984264  41.686695   \n",
       "2019-12-26  45.452366  11.290683  42.164051  42.707291  42.116241  41.808563   \n",
       "2019-12-27  45.443531  11.290683  42.181561  42.725124  42.133842  41.825970   \n",
       "2019-12-30  45.045914  11.200621  41.962730  42.493176  41.905090  41.599655   \n",
       "2019-12-31  45.178452  11.225183  42.041508  42.573467  41.984264  41.686695   \n",
       "\n",
       "Attributes                                              ... Volume        \\\n",
       "Symbols         AIVSX      AWSHX      ANCFX      AMCFX  ...  CMGIX SBLYX   \n",
       "Date                                                    ...                \n",
       "2019-12-24  35.401699  42.123875  52.561485  28.316502  ...    0.0   0.0   \n",
       "2019-12-26  35.553867  42.255100  52.799057  28.408522  ...    0.0   0.0   \n",
       "2019-12-27  35.553867  42.272591  52.849960  28.400158  ...    0.0   0.0   \n",
       "2019-12-30  35.312191  42.045139  52.485134  28.216118  ...    0.0   0.0   \n",
       "2019-12-31  35.419601  42.123875  52.620876  28.283043  ...    0.0   0.0   \n",
       "\n",
       "Attributes                                                  \n",
       "Symbols    AKRIX MFEGX FDNRX FDTRX FDYZX BBVLX PEYAX TWCGX  \n",
       "Date                                                        \n",
       "2019-12-24   0.0   0.0   0.0   0.0   0.0   0.0   0.0   0.0  \n",
       "2019-12-26   0.0   0.0   0.0   0.0   0.0   0.0   0.0   0.0  \n",
       "2019-12-27   0.0   0.0   0.0   0.0   0.0   0.0   0.0   0.0  \n",
       "2019-12-30   0.0   0.0   0.0   0.0   0.0   0.0   0.0   0.0  \n",
       "2019-12-31   0.0   0.0   0.0   0.0   0.0   0.0   0.0   0.0  \n",
       "\n",
       "[5 rows x 600 columns]"
      ]
     },
     "execution_count": 7,
     "metadata": {},
     "output_type": "execute_result"
    }
   ],
   "source": [
    "# there will be many null values at the head of the df so use the .tail() method for the last 5 rows \n",
    "fund_data.tail()"
   ]
  },
  {
   "cell_type": "markdown",
   "id": "31abdb41",
   "metadata": {},
   "source": [
    "The column names have two layers. We are interested in the adjusted close data. Save this data as a unique dataframe, *close_data*, by selecting the key \"Adj Close\" from *fund_data*."
   ]
  },
  {
   "cell_type": "code",
   "execution_count": 8,
   "id": "f598019d",
   "metadata": {},
   "outputs": [
    {
     "data": {
      "text/html": [
       "<div>\n",
       "<style scoped>\n",
       "    .dataframe tbody tr th:only-of-type {\n",
       "        vertical-align: middle;\n",
       "    }\n",
       "\n",
       "    .dataframe tbody tr th {\n",
       "        vertical-align: top;\n",
       "    }\n",
       "\n",
       "    .dataframe thead th {\n",
       "        text-align: right;\n",
       "    }\n",
       "</style>\n",
       "<table border=\"1\" class=\"dataframe\">\n",
       "  <thead>\n",
       "    <tr style=\"text-align: right;\">\n",
       "      <th>Symbols</th>\n",
       "      <th>AGTHX</th>\n",
       "      <th>FCNTX</th>\n",
       "      <th>CWMAX</th>\n",
       "      <th>CWMCX</th>\n",
       "      <th>CWMEX</th>\n",
       "      <th>CWMFX</th>\n",
       "      <th>AIVSX</th>\n",
       "      <th>AWSHX</th>\n",
       "      <th>ANCFX</th>\n",
       "      <th>AMCFX</th>\n",
       "      <th>...</th>\n",
       "      <th>CMGIX</th>\n",
       "      <th>SBLYX</th>\n",
       "      <th>AKRIX</th>\n",
       "      <th>MFEGX</th>\n",
       "      <th>FDNRX</th>\n",
       "      <th>FDTRX</th>\n",
       "      <th>FDYZX</th>\n",
       "      <th>BBVLX</th>\n",
       "      <th>PEYAX</th>\n",
       "      <th>TWCGX</th>\n",
       "    </tr>\n",
       "    <tr>\n",
       "      <th>Date</th>\n",
       "      <th></th>\n",
       "      <th></th>\n",
       "      <th></th>\n",
       "      <th></th>\n",
       "      <th></th>\n",
       "      <th></th>\n",
       "      <th></th>\n",
       "      <th></th>\n",
       "      <th></th>\n",
       "      <th></th>\n",
       "      <th></th>\n",
       "      <th></th>\n",
       "      <th></th>\n",
       "      <th></th>\n",
       "      <th></th>\n",
       "      <th></th>\n",
       "      <th></th>\n",
       "      <th></th>\n",
       "      <th></th>\n",
       "      <th></th>\n",
       "      <th></th>\n",
       "    </tr>\n",
       "  </thead>\n",
       "  <tbody>\n",
       "    <tr>\n",
       "      <th>2019-12-24</th>\n",
       "      <td>45.222630</td>\n",
       "      <td>11.200621</td>\n",
       "      <td>42.041508</td>\n",
       "      <td>42.582382</td>\n",
       "      <td>41.984264</td>\n",
       "      <td>41.686695</td>\n",
       "      <td>35.401699</td>\n",
       "      <td>42.123875</td>\n",
       "      <td>52.561485</td>\n",
       "      <td>28.316502</td>\n",
       "      <td>...</td>\n",
       "      <td>28.723635</td>\n",
       "      <td>46.490227</td>\n",
       "      <td>43.900551</td>\n",
       "      <td>111.045120</td>\n",
       "      <td>84.588425</td>\n",
       "      <td>91.422066</td>\n",
       "      <td>90.450050</td>\n",
       "      <td>12.381691</td>\n",
       "      <td>23.032423</td>\n",
       "      <td>30.484951</td>\n",
       "    </tr>\n",
       "    <tr>\n",
       "      <th>2019-12-26</th>\n",
       "      <td>45.452366</td>\n",
       "      <td>11.290683</td>\n",
       "      <td>42.164051</td>\n",
       "      <td>42.707291</td>\n",
       "      <td>42.116241</td>\n",
       "      <td>41.808563</td>\n",
       "      <td>35.553867</td>\n",
       "      <td>42.255100</td>\n",
       "      <td>52.799057</td>\n",
       "      <td>28.408522</td>\n",
       "      <td>...</td>\n",
       "      <td>28.780684</td>\n",
       "      <td>46.865356</td>\n",
       "      <td>44.026039</td>\n",
       "      <td>111.763824</td>\n",
       "      <td>85.140511</td>\n",
       "      <td>92.024178</td>\n",
       "      <td>91.042191</td>\n",
       "      <td>12.426749</td>\n",
       "      <td>23.116100</td>\n",
       "      <td>30.753319</td>\n",
       "    </tr>\n",
       "    <tr>\n",
       "      <th>2019-12-27</th>\n",
       "      <td>45.443531</td>\n",
       "      <td>11.290683</td>\n",
       "      <td>42.181561</td>\n",
       "      <td>42.725124</td>\n",
       "      <td>42.133842</td>\n",
       "      <td>41.825970</td>\n",
       "      <td>35.553867</td>\n",
       "      <td>42.272591</td>\n",
       "      <td>52.849960</td>\n",
       "      <td>28.400158</td>\n",
       "      <td>...</td>\n",
       "      <td>28.790192</td>\n",
       "      <td>46.839775</td>\n",
       "      <td>44.083950</td>\n",
       "      <td>111.866501</td>\n",
       "      <td>85.239098</td>\n",
       "      <td>92.122879</td>\n",
       "      <td>91.140884</td>\n",
       "      <td>12.426749</td>\n",
       "      <td>23.107384</td>\n",
       "      <td>30.736551</td>\n",
       "    </tr>\n",
       "    <tr>\n",
       "      <th>2019-12-30</th>\n",
       "      <td>45.045914</td>\n",
       "      <td>11.200621</td>\n",
       "      <td>41.962730</td>\n",
       "      <td>42.493176</td>\n",
       "      <td>41.905090</td>\n",
       "      <td>41.599655</td>\n",
       "      <td>35.312191</td>\n",
       "      <td>42.045139</td>\n",
       "      <td>52.485134</td>\n",
       "      <td>28.216118</td>\n",
       "      <td>...</td>\n",
       "      <td>28.571507</td>\n",
       "      <td>46.447598</td>\n",
       "      <td>43.929508</td>\n",
       "      <td>111.026451</td>\n",
       "      <td>84.420815</td>\n",
       "      <td>91.244392</td>\n",
       "      <td>90.272408</td>\n",
       "      <td>12.363668</td>\n",
       "      <td>23.020218</td>\n",
       "      <td>30.493338</td>\n",
       "    </tr>\n",
       "    <tr>\n",
       "      <th>2019-12-31</th>\n",
       "      <td>45.178452</td>\n",
       "      <td>11.225183</td>\n",
       "      <td>42.041508</td>\n",
       "      <td>42.573467</td>\n",
       "      <td>41.984264</td>\n",
       "      <td>41.686695</td>\n",
       "      <td>35.419601</td>\n",
       "      <td>42.123875</td>\n",
       "      <td>52.620876</td>\n",
       "      <td>28.283043</td>\n",
       "      <td>...</td>\n",
       "      <td>28.647572</td>\n",
       "      <td>46.558430</td>\n",
       "      <td>44.026039</td>\n",
       "      <td>111.269135</td>\n",
       "      <td>84.578560</td>\n",
       "      <td>91.412193</td>\n",
       "      <td>90.430305</td>\n",
       "      <td>12.398057</td>\n",
       "      <td>23.063799</td>\n",
       "      <td>30.552044</td>\n",
       "    </tr>\n",
       "  </tbody>\n",
       "</table>\n",
       "<p>5 rows × 100 columns</p>\n",
       "</div>"
      ],
      "text/plain": [
       "Symbols         AGTHX      FCNTX      CWMAX      CWMCX      CWMEX      CWMFX  \\\n",
       "Date                                                                           \n",
       "2019-12-24  45.222630  11.200621  42.041508  42.582382  41.984264  41.686695   \n",
       "2019-12-26  45.452366  11.290683  42.164051  42.707291  42.116241  41.808563   \n",
       "2019-12-27  45.443531  11.290683  42.181561  42.725124  42.133842  41.825970   \n",
       "2019-12-30  45.045914  11.200621  41.962730  42.493176  41.905090  41.599655   \n",
       "2019-12-31  45.178452  11.225183  42.041508  42.573467  41.984264  41.686695   \n",
       "\n",
       "Symbols         AIVSX      AWSHX      ANCFX      AMCFX  ...      CMGIX  \\\n",
       "Date                                                    ...              \n",
       "2019-12-24  35.401699  42.123875  52.561485  28.316502  ...  28.723635   \n",
       "2019-12-26  35.553867  42.255100  52.799057  28.408522  ...  28.780684   \n",
       "2019-12-27  35.553867  42.272591  52.849960  28.400158  ...  28.790192   \n",
       "2019-12-30  35.312191  42.045139  52.485134  28.216118  ...  28.571507   \n",
       "2019-12-31  35.419601  42.123875  52.620876  28.283043  ...  28.647572   \n",
       "\n",
       "Symbols         SBLYX      AKRIX       MFEGX      FDNRX      FDTRX      FDYZX  \\\n",
       "Date                                                                            \n",
       "2019-12-24  46.490227  43.900551  111.045120  84.588425  91.422066  90.450050   \n",
       "2019-12-26  46.865356  44.026039  111.763824  85.140511  92.024178  91.042191   \n",
       "2019-12-27  46.839775  44.083950  111.866501  85.239098  92.122879  91.140884   \n",
       "2019-12-30  46.447598  43.929508  111.026451  84.420815  91.244392  90.272408   \n",
       "2019-12-31  46.558430  44.026039  111.269135  84.578560  91.412193  90.430305   \n",
       "\n",
       "Symbols         BBVLX      PEYAX      TWCGX  \n",
       "Date                                         \n",
       "2019-12-24  12.381691  23.032423  30.484951  \n",
       "2019-12-26  12.426749  23.116100  30.753319  \n",
       "2019-12-27  12.426749  23.107384  30.736551  \n",
       "2019-12-30  12.363668  23.020218  30.493338  \n",
       "2019-12-31  12.398057  23.063799  30.552044  \n",
       "\n",
       "[5 rows x 100 columns]"
      ]
     },
     "execution_count": 8,
     "metadata": {},
     "output_type": "execute_result"
    }
   ],
   "source": [
    "close_data = fund_data[\"Adj Close\"]\n",
    "close_data.tail()"
   ]
  },
  {
   "cell_type": "markdown",
   "id": "ef23ddfa",
   "metadata": {},
   "source": [
    "We will want to compare the returns earned by each fund to the returns earned by investment in the S&P 500 index. We will save the S&P 500 data as a new column in the same data frame, *close_data*."
   ]
  },
  {
   "cell_type": "code",
   "execution_count": 9,
   "id": "c627cde9",
   "metadata": {},
   "outputs": [
    {
     "name": "stderr",
     "output_type": "stream",
     "text": [
      "<ipython-input-9-96a3e63cb6d0>:1: SettingWithCopyWarning: \n",
      "A value is trying to be set on a copy of a slice from a DataFrame.\n",
      "Try using .loc[row_indexer,col_indexer] = value instead\n",
      "\n",
      "See the caveats in the documentation: https://pandas.pydata.org/pandas-docs/stable/user_guide/indexing.html#returning-a-view-versus-a-copy\n",
      "  close_data[\"S&P 500\"] = web.DataReader(\n"
     ]
    }
   ],
   "source": [
    "close_data[\"S&P 500\"] = web.DataReader(\n",
    "    '^GSPC', \n",
    "    'yahoo', \n",
    "    start=start,\n",
    "    end=end)['Adj Close']"
   ]
  },
  {
   "cell_type": "code",
   "execution_count": 10,
   "id": "147d0476",
   "metadata": {},
   "outputs": [
    {
     "data": {
      "text/plain": [
       "Date\n",
       "2019-12-24    3223.379883\n",
       "2019-12-26    3239.909912\n",
       "2019-12-27    3240.020020\n",
       "2019-12-30    3221.290039\n",
       "2019-12-31    3230.780029\n",
       "Name: S&P 500, dtype: float64"
      ]
     },
     "execution_count": 10,
     "metadata": {},
     "output_type": "execute_result"
    }
   ],
   "source": [
    "close_data[\"S&P 500\"].tail()"
   ]
  },
  {
   "cell_type": "markdown",
   "id": "bae63799",
   "metadata": {},
   "source": [
    "Since data for many of the funds considered do not span many years, we will compare monthly returns for each fund to monthly returns to the S&P 500.\n",
    "\n",
    "To do this, we use the Pandas _.resample(\"M\")_ method, with the \"M\" specifying that we would like a monthly frequency. Then, we take the _.pct_change()_ on our monthly data.  "
   ]
  },
  {
   "cell_type": "code",
   "execution_count": 11,
   "id": "7ee8b2f5",
   "metadata": {},
   "outputs": [
    {
     "data": {
      "text/html": [
       "<div>\n",
       "<style scoped>\n",
       "    .dataframe tbody tr th:only-of-type {\n",
       "        vertical-align: middle;\n",
       "    }\n",
       "\n",
       "    .dataframe tbody tr th {\n",
       "        vertical-align: top;\n",
       "    }\n",
       "\n",
       "    .dataframe thead th {\n",
       "        text-align: right;\n",
       "    }\n",
       "</style>\n",
       "<table border=\"1\" class=\"dataframe\">\n",
       "  <thead>\n",
       "    <tr style=\"text-align: right;\">\n",
       "      <th>Symbols</th>\n",
       "      <th>AGTHX</th>\n",
       "      <th>FCNTX</th>\n",
       "      <th>CWMAX</th>\n",
       "      <th>CWMCX</th>\n",
       "      <th>CWMEX</th>\n",
       "      <th>CWMFX</th>\n",
       "      <th>AIVSX</th>\n",
       "      <th>AWSHX</th>\n",
       "      <th>ANCFX</th>\n",
       "      <th>AMCFX</th>\n",
       "      <th>...</th>\n",
       "      <th>SBLYX</th>\n",
       "      <th>AKRIX</th>\n",
       "      <th>MFEGX</th>\n",
       "      <th>FDNRX</th>\n",
       "      <th>FDTRX</th>\n",
       "      <th>FDYZX</th>\n",
       "      <th>BBVLX</th>\n",
       "      <th>PEYAX</th>\n",
       "      <th>TWCGX</th>\n",
       "      <th>S&amp;P 500</th>\n",
       "    </tr>\n",
       "    <tr>\n",
       "      <th>Date</th>\n",
       "      <th></th>\n",
       "      <th></th>\n",
       "      <th></th>\n",
       "      <th></th>\n",
       "      <th></th>\n",
       "      <th></th>\n",
       "      <th></th>\n",
       "      <th></th>\n",
       "      <th></th>\n",
       "      <th></th>\n",
       "      <th></th>\n",
       "      <th></th>\n",
       "      <th></th>\n",
       "      <th></th>\n",
       "      <th></th>\n",
       "      <th></th>\n",
       "      <th></th>\n",
       "      <th></th>\n",
       "      <th></th>\n",
       "      <th></th>\n",
       "      <th></th>\n",
       "    </tr>\n",
       "  </thead>\n",
       "  <tbody>\n",
       "    <tr>\n",
       "      <th>2019-08-31</th>\n",
       "      <td>41.335762</td>\n",
       "      <td>10.460319</td>\n",
       "      <td>38.487011</td>\n",
       "      <td>39.087692</td>\n",
       "      <td>38.474602</td>\n",
       "      <td>38.125053</td>\n",
       "      <td>32.312160</td>\n",
       "      <td>38.554386</td>\n",
       "      <td>47.408001</td>\n",
       "      <td>25.792034</td>\n",
       "      <td>...</td>\n",
       "      <td>43.339317</td>\n",
       "      <td>42.063946</td>\n",
       "      <td>103.062225</td>\n",
       "      <td>82.111740</td>\n",
       "      <td>88.519318</td>\n",
       "      <td>87.616592</td>\n",
       "      <td>11.407796</td>\n",
       "      <td>20.678921</td>\n",
       "      <td>27.987558</td>\n",
       "      <td>2953.560059</td>\n",
       "    </tr>\n",
       "    <tr>\n",
       "      <th>2019-09-30</th>\n",
       "      <td>40.321743</td>\n",
       "      <td>10.230857</td>\n",
       "      <td>38.133842</td>\n",
       "      <td>38.700680</td>\n",
       "      <td>38.110847</td>\n",
       "      <td>37.782635</td>\n",
       "      <td>31.743790</td>\n",
       "      <td>38.201435</td>\n",
       "      <td>46.335098</td>\n",
       "      <td>25.256031</td>\n",
       "      <td>...</td>\n",
       "      <td>42.144032</td>\n",
       "      <td>42.963909</td>\n",
       "      <td>103.053009</td>\n",
       "      <td>80.663971</td>\n",
       "      <td>87.010193</td>\n",
       "      <td>86.107826</td>\n",
       "      <td>11.291301</td>\n",
       "      <td>20.374943</td>\n",
       "      <td>27.455750</td>\n",
       "      <td>2906.270020</td>\n",
       "    </tr>\n",
       "    <tr>\n",
       "      <th>2019-10-31</th>\n",
       "      <td>40.165108</td>\n",
       "      <td>10.096343</td>\n",
       "      <td>38.581974</td>\n",
       "      <td>39.137310</td>\n",
       "      <td>38.555389</td>\n",
       "      <td>38.233116</td>\n",
       "      <td>31.931023</td>\n",
       "      <td>38.654243</td>\n",
       "      <td>46.908039</td>\n",
       "      <td>25.128033</td>\n",
       "      <td>...</td>\n",
       "      <td>42.298527</td>\n",
       "      <td>42.307686</td>\n",
       "      <td>101.679947</td>\n",
       "      <td>77.836914</td>\n",
       "      <td>84.001724</td>\n",
       "      <td>83.129463</td>\n",
       "      <td>11.449294</td>\n",
       "      <td>20.879223</td>\n",
       "      <td>27.423996</td>\n",
       "      <td>2940.250000</td>\n",
       "    </tr>\n",
       "    <tr>\n",
       "      <th>2019-11-30</th>\n",
       "      <td>42.275589</td>\n",
       "      <td>10.547354</td>\n",
       "      <td>39.966839</td>\n",
       "      <td>40.516598</td>\n",
       "      <td>39.930855</td>\n",
       "      <td>39.609371</td>\n",
       "      <td>33.191570</td>\n",
       "      <td>40.038380</td>\n",
       "      <td>49.365055</td>\n",
       "      <td>26.328032</td>\n",
       "      <td>...</td>\n",
       "      <td>43.973557</td>\n",
       "      <td>43.235771</td>\n",
       "      <td>104.886826</td>\n",
       "      <td>80.028130</td>\n",
       "      <td>86.412415</td>\n",
       "      <td>85.500389</td>\n",
       "      <td>11.890691</td>\n",
       "      <td>21.921917</td>\n",
       "      <td>28.630497</td>\n",
       "      <td>3066.909912</td>\n",
       "    </tr>\n",
       "    <tr>\n",
       "      <th>2019-12-31</th>\n",
       "      <td>43.372047</td>\n",
       "      <td>10.800553</td>\n",
       "      <td>40.600163</td>\n",
       "      <td>41.137287</td>\n",
       "      <td>40.559147</td>\n",
       "      <td>40.255547</td>\n",
       "      <td>33.932564</td>\n",
       "      <td>40.679802</td>\n",
       "      <td>50.489182</td>\n",
       "      <td>27.064035</td>\n",
       "      <td>...</td>\n",
       "      <td>44.892376</td>\n",
       "      <td>43.142025</td>\n",
       "      <td>107.255119</td>\n",
       "      <td>81.788521</td>\n",
       "      <td>88.362152</td>\n",
       "      <td>87.420242</td>\n",
       "      <td>11.989779</td>\n",
       "      <td>22.210140</td>\n",
       "      <td>29.448053</td>\n",
       "      <td>3113.870117</td>\n",
       "    </tr>\n",
       "  </tbody>\n",
       "</table>\n",
       "<p>5 rows × 101 columns</p>\n",
       "</div>"
      ],
      "text/plain": [
       "Symbols         AGTHX      FCNTX      CWMAX      CWMCX      CWMEX      CWMFX  \\\n",
       "Date                                                                           \n",
       "2019-08-31  41.335762  10.460319  38.487011  39.087692  38.474602  38.125053   \n",
       "2019-09-30  40.321743  10.230857  38.133842  38.700680  38.110847  37.782635   \n",
       "2019-10-31  40.165108  10.096343  38.581974  39.137310  38.555389  38.233116   \n",
       "2019-11-30  42.275589  10.547354  39.966839  40.516598  39.930855  39.609371   \n",
       "2019-12-31  43.372047  10.800553  40.600163  41.137287  40.559147  40.255547   \n",
       "\n",
       "Symbols         AIVSX      AWSHX      ANCFX      AMCFX  ...      SBLYX  \\\n",
       "Date                                                    ...              \n",
       "2019-08-31  32.312160  38.554386  47.408001  25.792034  ...  43.339317   \n",
       "2019-09-30  31.743790  38.201435  46.335098  25.256031  ...  42.144032   \n",
       "2019-10-31  31.931023  38.654243  46.908039  25.128033  ...  42.298527   \n",
       "2019-11-30  33.191570  40.038380  49.365055  26.328032  ...  43.973557   \n",
       "2019-12-31  33.932564  40.679802  50.489182  27.064035  ...  44.892376   \n",
       "\n",
       "Symbols         AKRIX       MFEGX      FDNRX      FDTRX      FDYZX      BBVLX  \\\n",
       "Date                                                                            \n",
       "2019-08-31  42.063946  103.062225  82.111740  88.519318  87.616592  11.407796   \n",
       "2019-09-30  42.963909  103.053009  80.663971  87.010193  86.107826  11.291301   \n",
       "2019-10-31  42.307686  101.679947  77.836914  84.001724  83.129463  11.449294   \n",
       "2019-11-30  43.235771  104.886826  80.028130  86.412415  85.500389  11.890691   \n",
       "2019-12-31  43.142025  107.255119  81.788521  88.362152  87.420242  11.989779   \n",
       "\n",
       "Symbols         PEYAX      TWCGX      S&P 500  \n",
       "Date                                           \n",
       "2019-08-31  20.678921  27.987558  2953.560059  \n",
       "2019-09-30  20.374943  27.455750  2906.270020  \n",
       "2019-10-31  20.879223  27.423996  2940.250000  \n",
       "2019-11-30  21.921917  28.630497  3066.909912  \n",
       "2019-12-31  22.210140  29.448053  3113.870117  \n",
       "\n",
       "[5 rows x 101 columns]"
      ]
     },
     "execution_count": 11,
     "metadata": {},
     "output_type": "execute_result"
    }
   ],
   "source": [
    "monthly_close_data = close_data.resample(\"M\").first()\n",
    "monthly_close_data.tail()"
   ]
  },
  {
   "cell_type": "code",
   "execution_count": 12,
   "id": "12f00435",
   "metadata": {
    "scrolled": false
   },
   "outputs": [
    {
     "data": {
      "text/html": [
       "<div>\n",
       "<style scoped>\n",
       "    .dataframe tbody tr th:only-of-type {\n",
       "        vertical-align: middle;\n",
       "    }\n",
       "\n",
       "    .dataframe tbody tr th {\n",
       "        vertical-align: top;\n",
       "    }\n",
       "\n",
       "    .dataframe thead th {\n",
       "        text-align: right;\n",
       "    }\n",
       "</style>\n",
       "<table border=\"1\" class=\"dataframe\">\n",
       "  <thead>\n",
       "    <tr style=\"text-align: right;\">\n",
       "      <th>Symbols</th>\n",
       "      <th>AGTHX</th>\n",
       "      <th>FCNTX</th>\n",
       "      <th>CWMAX</th>\n",
       "      <th>CWMCX</th>\n",
       "      <th>CWMEX</th>\n",
       "      <th>CWMFX</th>\n",
       "      <th>AIVSX</th>\n",
       "      <th>AWSHX</th>\n",
       "      <th>ANCFX</th>\n",
       "      <th>AMCFX</th>\n",
       "      <th>...</th>\n",
       "      <th>SBLYX</th>\n",
       "      <th>AKRIX</th>\n",
       "      <th>MFEGX</th>\n",
       "      <th>FDNRX</th>\n",
       "      <th>FDTRX</th>\n",
       "      <th>FDYZX</th>\n",
       "      <th>BBVLX</th>\n",
       "      <th>PEYAX</th>\n",
       "      <th>TWCGX</th>\n",
       "      <th>S&amp;P 500</th>\n",
       "    </tr>\n",
       "    <tr>\n",
       "      <th>Date</th>\n",
       "      <th></th>\n",
       "      <th></th>\n",
       "      <th></th>\n",
       "      <th></th>\n",
       "      <th></th>\n",
       "      <th></th>\n",
       "      <th></th>\n",
       "      <th></th>\n",
       "      <th></th>\n",
       "      <th></th>\n",
       "      <th></th>\n",
       "      <th></th>\n",
       "      <th></th>\n",
       "      <th></th>\n",
       "      <th></th>\n",
       "      <th></th>\n",
       "      <th></th>\n",
       "      <th></th>\n",
       "      <th></th>\n",
       "      <th></th>\n",
       "      <th></th>\n",
       "    </tr>\n",
       "  </thead>\n",
       "  <tbody>\n",
       "    <tr>\n",
       "      <th>2019-08-31</th>\n",
       "      <td>-0.012409</td>\n",
       "      <td>-0.005267</td>\n",
       "      <td>-0.005216</td>\n",
       "      <td>-0.005906</td>\n",
       "      <td>-0.005467</td>\n",
       "      <td>-0.005013</td>\n",
       "      <td>-0.008589</td>\n",
       "      <td>-0.005204</td>\n",
       "      <td>-0.009369</td>\n",
       "      <td>-0.015572</td>\n",
       "      <td>...</td>\n",
       "      <td>0.003011</td>\n",
       "      <td>0.016308</td>\n",
       "      <td>0.005213</td>\n",
       "      <td>0.007441</td>\n",
       "      <td>0.007810</td>\n",
       "      <td>0.007776</td>\n",
       "      <td>-0.004691</td>\n",
       "      <td>-0.006491</td>\n",
       "      <td>0.006278</td>\n",
       "      <td>-0.003633</td>\n",
       "    </tr>\n",
       "    <tr>\n",
       "      <th>2019-09-30</th>\n",
       "      <td>-0.024531</td>\n",
       "      <td>-0.021936</td>\n",
       "      <td>-0.009176</td>\n",
       "      <td>-0.009901</td>\n",
       "      <td>-0.009454</td>\n",
       "      <td>-0.008981</td>\n",
       "      <td>-0.017590</td>\n",
       "      <td>-0.009155</td>\n",
       "      <td>-0.022631</td>\n",
       "      <td>-0.020782</td>\n",
       "      <td>...</td>\n",
       "      <td>-0.027580</td>\n",
       "      <td>0.021395</td>\n",
       "      <td>-0.000089</td>\n",
       "      <td>-0.017632</td>\n",
       "      <td>-0.017049</td>\n",
       "      <td>-0.017220</td>\n",
       "      <td>-0.010212</td>\n",
       "      <td>-0.014700</td>\n",
       "      <td>-0.019002</td>\n",
       "      <td>-0.016011</td>\n",
       "    </tr>\n",
       "    <tr>\n",
       "      <th>2019-10-31</th>\n",
       "      <td>-0.003885</td>\n",
       "      <td>-0.013148</td>\n",
       "      <td>0.011752</td>\n",
       "      <td>0.011282</td>\n",
       "      <td>0.011664</td>\n",
       "      <td>0.011923</td>\n",
       "      <td>0.005898</td>\n",
       "      <td>0.011853</td>\n",
       "      <td>0.012365</td>\n",
       "      <td>-0.005068</td>\n",
       "      <td>...</td>\n",
       "      <td>0.003666</td>\n",
       "      <td>-0.015274</td>\n",
       "      <td>-0.013324</td>\n",
       "      <td>-0.035047</td>\n",
       "      <td>-0.034576</td>\n",
       "      <td>-0.034589</td>\n",
       "      <td>0.013992</td>\n",
       "      <td>0.024750</td>\n",
       "      <td>-0.001157</td>\n",
       "      <td>0.011692</td>\n",
       "    </tr>\n",
       "    <tr>\n",
       "      <th>2019-11-30</th>\n",
       "      <td>0.052545</td>\n",
       "      <td>0.044671</td>\n",
       "      <td>0.035894</td>\n",
       "      <td>0.035242</td>\n",
       "      <td>0.035675</td>\n",
       "      <td>0.035996</td>\n",
       "      <td>0.039477</td>\n",
       "      <td>0.035808</td>\n",
       "      <td>0.052379</td>\n",
       "      <td>0.047755</td>\n",
       "      <td>...</td>\n",
       "      <td>0.039600</td>\n",
       "      <td>0.021937</td>\n",
       "      <td>0.031539</td>\n",
       "      <td>0.028151</td>\n",
       "      <td>0.028698</td>\n",
       "      <td>0.028521</td>\n",
       "      <td>0.038552</td>\n",
       "      <td>0.049939</td>\n",
       "      <td>0.043994</td>\n",
       "      <td>0.043078</td>\n",
       "    </tr>\n",
       "    <tr>\n",
       "      <th>2019-12-31</th>\n",
       "      <td>0.025936</td>\n",
       "      <td>0.024006</td>\n",
       "      <td>0.015846</td>\n",
       "      <td>0.015319</td>\n",
       "      <td>0.015735</td>\n",
       "      <td>0.016314</td>\n",
       "      <td>0.022325</td>\n",
       "      <td>0.016020</td>\n",
       "      <td>0.022772</td>\n",
       "      <td>0.027955</td>\n",
       "      <td>...</td>\n",
       "      <td>0.020895</td>\n",
       "      <td>-0.002168</td>\n",
       "      <td>0.022580</td>\n",
       "      <td>0.021997</td>\n",
       "      <td>0.022563</td>\n",
       "      <td>0.022454</td>\n",
       "      <td>0.008333</td>\n",
       "      <td>0.013148</td>\n",
       "      <td>0.028555</td>\n",
       "      <td>0.015312</td>\n",
       "    </tr>\n",
       "  </tbody>\n",
       "</table>\n",
       "<p>5 rows × 101 columns</p>\n",
       "</div>"
      ],
      "text/plain": [
       "Symbols        AGTHX     FCNTX     CWMAX     CWMCX     CWMEX     CWMFX  \\\n",
       "Date                                                                     \n",
       "2019-08-31 -0.012409 -0.005267 -0.005216 -0.005906 -0.005467 -0.005013   \n",
       "2019-09-30 -0.024531 -0.021936 -0.009176 -0.009901 -0.009454 -0.008981   \n",
       "2019-10-31 -0.003885 -0.013148  0.011752  0.011282  0.011664  0.011923   \n",
       "2019-11-30  0.052545  0.044671  0.035894  0.035242  0.035675  0.035996   \n",
       "2019-12-31  0.025936  0.024006  0.015846  0.015319  0.015735  0.016314   \n",
       "\n",
       "Symbols        AIVSX     AWSHX     ANCFX     AMCFX  ...     SBLYX     AKRIX  \\\n",
       "Date                                                ...                       \n",
       "2019-08-31 -0.008589 -0.005204 -0.009369 -0.015572  ...  0.003011  0.016308   \n",
       "2019-09-30 -0.017590 -0.009155 -0.022631 -0.020782  ... -0.027580  0.021395   \n",
       "2019-10-31  0.005898  0.011853  0.012365 -0.005068  ...  0.003666 -0.015274   \n",
       "2019-11-30  0.039477  0.035808  0.052379  0.047755  ...  0.039600  0.021937   \n",
       "2019-12-31  0.022325  0.016020  0.022772  0.027955  ...  0.020895 -0.002168   \n",
       "\n",
       "Symbols        MFEGX     FDNRX     FDTRX     FDYZX     BBVLX     PEYAX  \\\n",
       "Date                                                                     \n",
       "2019-08-31  0.005213  0.007441  0.007810  0.007776 -0.004691 -0.006491   \n",
       "2019-09-30 -0.000089 -0.017632 -0.017049 -0.017220 -0.010212 -0.014700   \n",
       "2019-10-31 -0.013324 -0.035047 -0.034576 -0.034589  0.013992  0.024750   \n",
       "2019-11-30  0.031539  0.028151  0.028698  0.028521  0.038552  0.049939   \n",
       "2019-12-31  0.022580  0.021997  0.022563  0.022454  0.008333  0.013148   \n",
       "\n",
       "Symbols        TWCGX   S&P 500  \n",
       "Date                            \n",
       "2019-08-31  0.006278 -0.003633  \n",
       "2019-09-30 -0.019002 -0.016011  \n",
       "2019-10-31 -0.001157  0.011692  \n",
       "2019-11-30  0.043994  0.043078  \n",
       "2019-12-31  0.028555  0.015312  \n",
       "\n",
       "[5 rows x 101 columns]"
      ]
     },
     "execution_count": 12,
     "metadata": {},
     "output_type": "execute_result"
    }
   ],
   "source": [
    "#calculate percent change from previous month\n",
    "monthly_returns = monthly_close_data.pct_change()\n",
    "monthly_returns.tail()"
   ]
  },
  {
   "cell_type": "code",
   "execution_count": 13,
   "id": "cab421e1",
   "metadata": {},
   "outputs": [],
   "source": [
    "avg_monthly_return = monthly_close_data.loc[\"2015\":].dropna(axis = 1)\n",
    "num_months = avg_monthly_return.shape[0]\n",
    "avg_monthly_return = avg_monthly_return.iloc[-1].div(avg_monthly_return.iloc[0])\n",
    "avg_monthly_return = avg_monthly_return.pow(1 / num_months).sub(1)"
   ]
  },
  {
   "cell_type": "markdown",
   "id": "7abc1c49",
   "metadata": {},
   "source": [
    "Now that we have out data wrangled and prepped, we can compute some basic statistics to understand the distribution of our dataset. The easiest method to start with is using the Pandas _df.describe()_ method, which gives us basic descriptive statistics for each series in our dataframe. "
   ]
  },
  {
   "cell_type": "code",
   "execution_count": 14,
   "id": "f5e535c4",
   "metadata": {},
   "outputs": [
    {
     "data": {
      "text/plain": [
       "count    91.000000\n",
       "mean      0.008867\n",
       "std       0.002076\n",
       "min       0.003378\n",
       "25%       0.007389\n",
       "50%       0.008292\n",
       "75%       0.010792\n",
       "max       0.012552\n",
       "dtype: float64"
      ]
     },
     "execution_count": 14,
     "metadata": {},
     "output_type": "execute_result"
    }
   ],
   "source": [
    "avg_monthly_return.describe()"
   ]
  },
  {
   "cell_type": "markdown",
   "id": "5c0ac564",
   "metadata": {},
   "source": [
    "We can also display a visual of our distributions by using a histogram. Usually, rates of change like we are dealing with in stock prices will display a normal-looking distribution. We can take the mean change of the entire dataset and the mean standard deviation of the entire dataset to be entered into a normal distribution function that we can overlay over our data's histogram to visually check for normality. "
   ]
  },
  {
   "cell_type": "code",
   "execution_count": 15,
   "id": "3e2f8738",
   "metadata": {},
   "outputs": [
    {
     "data": {
      "text/plain": [
       "<AxesSubplot:xlabel='Date'>"
      ]
     },
     "execution_count": 15,
     "metadata": {},
     "output_type": "execute_result"
    },
    {
     "data": {
      "image/png": "[encoded data removed]",
      "text/plain": [
       "<Figure size 1080x720 with 1 Axes>"
      ]
     },
     "metadata": {
      "needs_background": "light"
     },
     "output_type": "display_data"
    }
   ],
   "source": [
    "import matplotlib.pyplot as plt\n",
    "fig, ax = plt.subplots(figsize = (15,10))\n",
    "monthly_close_data[\"S&P 500\"].plot.line(ax = ax)"
   ]
  },
  {
   "cell_type": "code",
   "execution_count": 16,
   "id": "eeb9bd6f",
   "metadata": {},
   "outputs": [
    {
     "name": "stdout",
     "output_type": "stream",
     "text": [
      "0.009543018441253487 0.046551146139132964\n"
     ]
    }
   ],
   "source": [
    "# find the mean of the mean monthly changes and the mean standard deviation of changes\n",
    "mu = monthly_returns.mean().mean()\n",
    "sigma = monthly_returns.var().mean()** .5\n",
    "print(mu, sigma)"
   ]
  },
  {
   "cell_type": "code",
   "execution_count": 17,
   "id": "1be5c3cf",
   "metadata": {},
   "outputs": [
    {
     "data": {
      "text/plain": [
       "158.905632373431"
      ]
     },
     "execution_count": 17,
     "metadata": {},
     "output_type": "execute_result"
    }
   ],
   "source": [
    "n = monthly_returns.notna().sum().sum()\n",
    "np.sqrt(n)"
   ]
  },
  {
   "cell_type": "code",
   "execution_count": 18,
   "id": "c06a834b",
   "metadata": {},
   "outputs": [
    {
     "data": {
      "text/plain": [
       "Text(0.5, 1.0, 'Distributions of Various Index Fund Returns')"
      ]
     },
     "execution_count": 18,
     "metadata": {},
     "output_type": "execute_result"
    },
    {
     "data": {
      "image/png": "[encoded data removed]",
      "text/plain": [
       "<Figure size 720x360 with 1 Axes>"
      ]
     },
     "metadata": {
      "needs_background": "light"
     },
     "output_type": "display_data"
    }
   ],
   "source": [
    "import matplotlib.pyplot as plt\n",
    "import scipy.stats as stats\n",
    "\n",
    "fig, ax = plt.subplots(figsize=(10, 5))\n",
    "\n",
    "#plot the funds distributions\n",
    "monthly_returns.plot.hist(bins=30, ax=ax, density=True, alpha=.5, legend=False)\n",
    "\n",
    "ax.set_title(\n",
    "    \"Distributions of Various Index Fund Returns\"\n",
    ")"
   ]
  },
  {
   "cell_type": "code",
   "execution_count": 19,
   "id": "53387410",
   "metadata": {},
   "outputs": [],
   "source": [
    "diff_from_sp500 = []\n",
    "for symbol in symbols:\n",
    "    diff_from_sp500.extend(monthly_returns[symbol].dropna() - monthly_returns[\"S&P 500\"].dropna())"
   ]
  },
  {
   "cell_type": "code",
   "execution_count": 20,
   "id": "e79e5d90",
   "metadata": {},
   "outputs": [],
   "source": [
    "diff_from_sp500 = pd.Series(diff_from_sp500)"
   ]
  },
  {
   "cell_type": "code",
   "execution_count": 21,
   "id": "a8ef7411",
   "metadata": {},
   "outputs": [
    {
     "data": {
      "text/plain": [
       "0.0019994851262152336"
      ]
     },
     "execution_count": 21,
     "metadata": {},
     "output_type": "execute_result"
    }
   ],
   "source": [
    "diff_from_sp500.mean()"
   ]
  },
  {
   "cell_type": "code",
   "execution_count": 22,
   "id": "0990ca6f",
   "metadata": {},
   "outputs": [
    {
     "data": {
      "text/plain": [
       "0.008867352550466747"
      ]
     },
     "execution_count": 22,
     "metadata": {},
     "output_type": "execute_result"
    }
   ],
   "source": [
    "avg_monthly_return.mean()"
   ]
  },
  {
   "cell_type": "code",
   "execution_count": 23,
   "id": "7db4bd12",
   "metadata": {},
   "outputs": [
    {
     "data": {
      "text/plain": [
       "<AxesSubplot:ylabel='Frequency'>"
      ]
     },
     "execution_count": 23,
     "metadata": {},
     "output_type": "execute_result"
    },
    {
     "data": {
      "image/png": "[encoded data removed]",
      "text/plain": [
       "<Figure size 432x288 with 1 Axes>"
      ]
     },
     "metadata": {
      "needs_background": "light"
     },
     "output_type": "display_data"
    }
   ],
   "source": [
    "diff_from_sp500.plot.hist(bins=1000)"
   ]
  },
  {
   "cell_type": "markdown",
   "id": "104c2415",
   "metadata": {},
   "source": [
    "We have successfully wrangled and prepped our data and can now begin statistical analysis on it. "
   ]
  },
  {
   "cell_type": "markdown",
   "id": "d546cb57",
   "metadata": {},
   "source": [
    "# Hypothesis Testing and Confidence Intervals\n",
    "\n",
    "Statistical inference may be divided into two major areas: tests of hypothesis and estimation. __Hypothesis tests__ make inference about whether a sample parameter relates to a singular value in a chosen way, i.e., the same as that value.  __Estimations__ give a range of values that a sample parameter could take, with a chosen level of probability, called a confidence interval. \n",
    "\n",
    "These topics are sometimes taught seperately, this section will attempt to teach them together as they are directly related.\n",
    "The need for both methods can be demonstrated using our mutual fund and S&P 500 data. Imagine we wanted to see if a given mutual fund outperformed the S&P 500 during the great recession(December 2007 to June 2009), and if it did, was the difference more likely due to randomness or because the fund was actually more resilient? These answers wil come from performing a hypothesis test. On the other hand, if we wanted a range of returns we could be 95% certain would contain the mean return of the S&P 500 if a recession similar to the great recession were to happen again, we would want a confidence interval.\n",
    "\n",
    "This idea of finding a range of possibilities for events that have already happened is not intuitive. What does it mean to create a confidence interval for past S&P500 returns? Haven't these returns already happened?\n",
    "\n",
    "Although the returns have been observed, we assume that _randomness_ had a large influence on these returns. Theoretically, if we were to re-run the same time period of S&P500 returns, we would expect them to be different, ceteris paribus, _within a confidence interval_. This is definitionally randomness. There is no causal effect. The range of expected randomness for a relatively complete dataset like previous S&P500 returns is the standard error of the mean for that dataset, which will be smaller as the sample size increases. Randomness has less effect on larger datasets. "
   ]
  },
  {
   "cell_type": "markdown",
   "id": "298142f4",
   "metadata": {},
   "source": [
    "## Hypothesis tests\n",
    "As the name suggests, hypothesis tests use __hypotheses__. These are mutually exclusive, falsifiable statements. Only one can be true, and one of them will be true. Generally, these are the hypothses we begin with: \n",
    "\n",
    "- The _null_ hypothesis $H_o$: The true means of the the sample populations do not differ.\n",
    "- The _alternate_ hypothesis $H_a$: The true means of the sample populations do differ.\n",
    "\n",
    "### Types of Error\n",
    "when making an inference about the value of the parameter, there are two types of error we can make: \n",
    "\n",
    "- Type 1 Error: This is the incorrect denial of a true null hypothesis - a \"false positive\"\n",
    "- Type 2 Error: This is the incorrect acceptance of a false null hypothesis - a \"false negative\" \n",
    "\n",
    "In statistics, type 1 error is denoted by the Greek letter $\\alpha$ and is called the significance level. Usually, the significance level is set to 0.05 (5%), implying that it is acceptable to have a 5% probability of incorrectly rejecting the true null hypothesis. Hence, most hypothesis tests are 95% confident in their inferences about a parameter and most confidence intervals give a range of values that the tester is 95% confident contains the true parameter. \n",
    "\n",
    "The probability of a type 2 error is denoted $\\beta$ and $1-\\beta$ is known as the power of the test. \n",
    "\n",
    "These two types of error are heavily related, and the tester faces a tradeoff - generally, when the probability of one type of error is minimized, the other increases. However the probability of committing both types of error decreases as the sample size increases. \n",
    "\n",
    "### Hypothesis Testing with Mutual Funds \n",
    "In the case of us determining the efficacy of an investment strategy, we must compare the return on strategy to the average return approximated by returns on investment in the S&P 500. These are our hypotheses: \n",
    "\n",
    "- $H_o$: There is no difference between the mutual fund's and S&P500's average monthly return. \n",
    "- $H_a$: The mutual funds have a higher mean gain than the S&P500. \n",
    "\n",
    "In particular, we would like to know if the mean returns for any and each index funds are different from and higher than returns earned by the S&P 500."
   ]
  },
  {
   "cell_type": "markdown",
   "id": "dcefb822",
   "metadata": {},
   "source": [
    "### T-values\n",
    "\n",
    "The t-value, returned from the __T-test__ is used when we are dealing with a population of unknown, but normal, distribution. We have to check this assumption of normality prior to any t-test. Once we have done that, we can compare a given sample mean to one of three options: \n",
    "\n",
    "- **One Sample T-test:** The one sample t test compares the mean of your sample data to a known value. For example, we can compare a given funds average monthly return to some arbitrary value, like 7% or 10%. \n",
    "<h3 align=\"center\">\n",
    "    <font size=\"6\">\n",
    "        $t = \\frac{\\bar{X} - \\mu}{\\frac{s}{\\sqrt{n}}}$\n",
    "    </font>\n",
    "    </h3> \n",
    "    \n",
    "    \n",
    "   - Null Hypothesis: sample mean is the same as hypothesized or theoretical mean\n",
    "   - Alternative Hypothesis: sample mean is different from the hypothesized or theoretical mean\n",
    "   - $\\bar{X}$ is the sample mean \n",
    "   - $ \\mu$ is the hypothesized value\n",
    "   - $ \\frac{s}{\\sqrt{n}}$ is the standard error of the mean. The standard error of the mean is the standard deviation of the t-distribution with a given degrees of freedom. "
   ]
  },
  {
   "cell_type": "code",
   "execution_count": 24,
   "id": "7e758145",
   "metadata": {},
   "outputs": [],
   "source": [
    "def t_value_1samp(data, mu):\n",
    "    x_bar = np.mean(data)\n",
    "    s = np.std(data)\n",
    "    n = len(data)\n",
    "    df = n - 1\n",
    "    t = (x_bar - mu) / (s / np.sqrt(n))\n",
    "    \n",
    "    #return both t and df to be used later in p-value calculations\n",
    "    return t, df"
   ]
  },
  {
   "cell_type": "markdown",
   "id": "0a6db53b",
   "metadata": {},
   "source": [
    "We can find the t-value for comparing the mean S&P500 monthly return to any rate we would like, in this example we choose the monthly rate that corresponds to a 7% yearly return: "
   ]
  },
  {
   "cell_type": "code",
   "execution_count": 25,
   "id": "bd3d80a8",
   "metadata": {},
   "outputs": [],
   "source": [
    "sp500 = monthly_returns[\"S&P 500\"].dropna()"
   ]
  },
  {
   "cell_type": "code",
   "execution_count": 26,
   "id": "31847cf2",
   "metadata": {},
   "outputs": [
    {
     "data": {
      "text/plain": [
       "0.008060322272859285"
      ]
     },
     "execution_count": 26,
     "metadata": {},
     "output_type": "execute_result"
    }
   ],
   "source": [
    "sp500.mean()"
   ]
  },
  {
   "cell_type": "markdown",
   "id": "3b291f43",
   "metadata": {},
   "source": [
    "We can use the future value equation to calculate the monthly rate needed to obtain a yearly rate of $R$, given by this equation: \n",
    "\n",
    ">$ r = (R)^{\\frac{1}{t}} - 1$\n",
    ">\n",
    ">$t$ is the time period of measurement \n",
    "\n",
    "A 7% annnualized rate is a monthly rate of the 12 root of 1.07: $1.07^\\frac{1}{12} - 1$\n",
    "Discount the overall rate of return to find the average rate of return. We will use this to define the mean of the standard normal distribution:"
   ]
  },
  {
   "cell_type": "code",
   "execution_count": 27,
   "id": "1d1b1077",
   "metadata": {},
   "outputs": [
    {
     "data": {
      "text/plain": [
       "0.005654145387405274"
      ]
     },
     "execution_count": 27,
     "metadata": {},
     "output_type": "execute_result"
    }
   ],
   "source": [
    "hypothesized_rate = 1.07 **(1/12) - 1\n",
    "hypothesized_rate"
   ]
  },
  {
   "cell_type": "code",
   "execution_count": 28,
   "id": "bb2bba33",
   "metadata": {},
   "outputs": [
    {
     "data": {
      "text/plain": [
       "(1.2026921542289366, 478)"
      ]
     },
     "execution_count": 28,
     "metadata": {},
     "output_type": "execute_result"
    }
   ],
   "source": [
    "t_value_1samp(data=sp500, mu=hypothesized_rate)"
   ]
  },
  {
   "cell_type": "code",
   "execution_count": 29,
   "id": "bff21c0d",
   "metadata": {},
   "outputs": [
    {
     "data": {
      "text/plain": [
       "1.2014360785293432"
      ]
     },
     "execution_count": 29,
     "metadata": {},
     "output_type": "execute_result"
    }
   ],
   "source": [
    "stats.ttest_1samp(sp500, hypothesized_rate).statistic"
   ]
  },
  {
   "cell_type": "markdown",
   "id": "ac430a1f",
   "metadata": {},
   "source": [
    "This result suggests the S&P500s monthly return was only 0.205 of the S&P500's standard errors ($\\frac{s}{\\sqrt(n)}$) lower the hypothesized rate of a 7% yearly return. Further analysis of the probability of this result is discussed later in this chapter. "
   ]
  },
  {
   "cell_type": "markdown",
   "id": "f2bd2e9b",
   "metadata": {},
   "source": [
    "- **Independent Samples T-test:** The The independent samples t test (also called the unpaired samples t test) helps you to compare the means of two sets of data that came from different sources. Normally, we are checking to see if the means of the data are significantly different from a differnece of zero. But , we can also check if they are significantly different from a hypothesized or theoretical value. For instance, say we had two groups of males and one group of females and we wanted to compare average heights between the groups. For the males, we would check to see if they differed significantly from an average height difference of zero, whereas when comparing the males to the females we may want to see if they were significantly different from an average difference of 2 inches. **This hypothesized difference, $(\\mu_1 - \\mu_2)$, will usually be zero, but not always.**\n",
    "\n",
    "<h3 align=\"center\">\n",
    "    <font size=\"6\">\n",
    "        $ t = \\frac{(\\bar{x_1}-\\bar{x_2})-(\\mu_1 - \\mu_2)}{\\sqrt{\\frac{s^2_1}{n_1}+\\frac{s^2_2}{n_2}}}$\n",
    "    </font>\n",
    "    </h3> \n",
    "    \n",
    "   \n",
    "   - Note that this t-test is one variation of the independent samples t-test that _does not_ assume equal variance between the samples\n",
    "   \n",
    "    - Null Hypothesis: sample mean is the same as hypothesized or theoretical mean\n",
    "    - Alternative Hypothesis: sample mean is different from the hypothesized or theoretical mean\n",
    "    "
   ]
  },
  {
   "cell_type": "code",
   "execution_count": 30,
   "id": "c1fbbfa3",
   "metadata": {},
   "outputs": [],
   "source": [
    "# independent samples t-test, setting equal_var=True will turn this test into a paired samples t-test where equal variance\n",
    "# is assumed\n",
    "def t_value_ind_samp(a, b, hypothesized_difference=0, equal_var=False):\n",
    "    \n",
    "    a = np.array(a)\n",
    "    b = np.array(b)\n",
    "    \n",
    "    s1, n1 = np.var(a) , len(a)\n",
    "    s2, n2 = np.var(b),  len(b)\n",
    "    \n",
    "    # if paired samples, df calculation is different\n",
    "    if (equal_var):\n",
    "        df = n1 + n2 - 2\n",
    "        svar = ((n1 - 1) * s1 + (n2 - 1) * s2) / float(df)\n",
    "        denom = np.sqrt(svar * (1.0 / n1 + 1.0 / n2))\n",
    "    else:\n",
    "        vn1 = s1 / n1\n",
    "        vn2 = s2 / n2\n",
    "        df = (vn1 + vn2)**2 / (vn1**2 / (n1 - 1) + vn2**2 / (n2 - 1))\n",
    "        denom = np.sqrt(vn1 + vn2)\n",
    "\n",
    "    d = np.mean(a) - np.mean(b) - hypothesized_difference\n",
    "    t = d / denom\n",
    "    return t, df"
   ]
  },
  {
   "cell_type": "markdown",
   "id": "d9b9c5fa",
   "metadata": {},
   "source": [
    "A good example of the independent samples t-test is comparing the S&P500 to a mutual fund from our data, rather than to a hypothesized value as we did with the single-sample t-test. We use data to one of the older funds, T. Rowe Price Growth Stock Fund (PRGFX)."
   ]
  },
  {
   "cell_type": "code",
   "execution_count": 31,
   "id": "be73f8f9",
   "metadata": {},
   "outputs": [
    {
     "data": {
      "text/plain": [
       "(0.008060322272859285, 0.008289482674756023)"
      ]
     },
     "execution_count": 31,
     "metadata": {},
     "output_type": "execute_result"
    }
   ],
   "source": [
    "prgfx = monthly_returns[\"PRGFX\"].dropna()\n",
    "sp500.mean(), prgfx.mean()"
   ]
  },
  {
   "cell_type": "code",
   "execution_count": 32,
   "id": "7f00efbd",
   "metadata": {},
   "outputs": [
    {
     "data": {
      "text/plain": [
       "(-0.07779161976485054, 950.2911387718055)"
      ]
     },
     "execution_count": 32,
     "metadata": {},
     "output_type": "execute_result"
    }
   ],
   "source": [
    "t_value_ind_samp(sp500, prgfx)"
   ]
  },
  {
   "cell_type": "code",
   "execution_count": 33,
   "id": "50fff94a",
   "metadata": {},
   "outputs": [
    {
     "data": {
      "text/plain": [
       "-0.07771037523118096"
      ]
     },
     "execution_count": 33,
     "metadata": {},
     "output_type": "execute_result"
    }
   ],
   "source": [
    "stats.ttest_ind(sp500, prgfx).statistic"
   ]
  },
  {
   "cell_type": "markdown",
   "id": "f0b622e9",
   "metadata": {},
   "source": [
    "This result tells us that PRGFX's mean is 0.589 standard errors higher than the S&P500's. "
   ]
  },
  {
   "cell_type": "markdown",
   "id": "21b89b95",
   "metadata": {},
   "source": [
    "- **Paired Samples T-test:** A paired t test (also called a correlated pairs t-test, a paired samples t test or dependent samples t test) is where you run a t test on dependent samples. Dependent samples are essentially connected — they are tests on the same person or thing. This would be useful for us if we were doing some sort of scientific treatment to the same population - not something that is done to mutual funds. For our function, we can simply add an optional argument \"equal_var\" to our independent t-test funtion which will cause it to act like a paired samples t-test. "
   ]
  },
  {
   "cell_type": "markdown",
   "id": "28ef4c2b",
   "metadata": {},
   "source": [
    "### The T Probability Distribution\n",
    "When comparing two samples drawn from a population with unknown parameters, we return a t-value(defined below) similar to the z-value, and a corresponding degrees of freedom, indicating the size of our samples. If the size of our samples is high, we can have more confidence in our result. The t-distribution is defined as: \n",
    "\n",
    "<h3 align=\"center\">\n",
    "    <font size=\"6\">\n",
    "        $ f(T) = \\frac{(1 + \\frac{T^2}{\\nu})^{\\frac{-(\\nu+1)}{2}}}{B(0.5,0.5\\nu)\\sqrt(\\nu)}$\n",
    "    </font>\n",
    "    </h3> \n",
    "\n",
    "    \n",
    "- Where $\\nu$ is the degrees of freedom of the distribution and B is the beta function, which is beyond the scope of this book and can be pulled from the scipy.stats library. \n",
    "- This is the same distribution shown in the previous chapter; the Cauchy has one degree of freedom and the Standard normal is the form of the t-distribution with more than 30 degrees of freedom\n",
    "\n",
    "We can implement this distribution in code: "
   ]
  },
  {
   "cell_type": "code",
   "execution_count": 34,
   "id": "27d8ebe0",
   "metadata": {},
   "outputs": [],
   "source": [
    "import scipy.special as sc\n",
    "\n",
    "# define a function to create the actual distribution from which we can analyze our t value from the t test\n",
    "def t_distribution(df, t): \n",
    "    t_dist_val = ((1 + t**2 / df)\n",
    "                      **(-(df + 1) / 2)) / (sc.beta(.5, .5 * df) * np.sqrt(df))\n",
    "    return t_dist_val"
   ]
  },
  {
   "cell_type": "markdown",
   "id": "23d8e715",
   "metadata": {},
   "source": [
    "And then plot it: "
   ]
  },
  {
   "cell_type": "code",
   "execution_count": 35,
   "id": "70accb19",
   "metadata": {},
   "outputs": [
    {
     "data": {
      "text/plain": [
       "<matplotlib.legend.Legend at 0x13fec0810d0>"
      ]
     },
     "execution_count": 35,
     "metadata": {},
     "output_type": "execute_result"
    },
    {
     "data": {
      "image/png": "[encoded data removed]",
      "text/plain": [
       "<Figure size 1080x576 with 1 Axes>"
      ]
     },
     "metadata": {
      "needs_background": "light"
     },
     "output_type": "display_data"
    }
   ],
   "source": [
    "import matplotlib.pyplot as plt\n",
    "\n",
    "fig, ax = plt.subplots(figsize=(15, 8))\n",
    "\n",
    "x = np.linspace(-5, 5, 1000)\n",
    "cauchy = t_distribution(1, x)\n",
    "ax.plot(cauchy, '-', lw=3, alpha=1, label=\"Cauchy\", color='b')\n",
    "t_df = [2, 3, 4, 5, 10, 20]\n",
    "for df in t_df:\n",
    "    dist = t_distribution(df, x)\n",
    "    ax.plot(dist, '-', lw=1, alpha=df / 20, label=\"df: \" + str(df), color='k')\n",
    "gaussian = t_distribution(30, x)\n",
    "ax.plot(gaussian,\n",
    "        lw=3,\n",
    "        alpha=1,\n",
    "        color='r',\n",
    "        label='Standard Normal Distribution')\n",
    "plt.rcParams.update({\"font.size\": 15})\n",
    "ax.set_ylabel(\"Probability of t-score\")\n",
    "ax.set_xlabel(\n",
    "    \"Standard Deviations away from mean( this varies as the distributions have different SD's)\"\n",
    ")\n",
    "plt.title(\"T-distribution with varying degrees of freedom\")\n",
    "ax.set_xticklabels(labels=\"\")\n",
    "plt.legend()"
   ]
  },
  {
   "cell_type": "markdown",
   "id": "778dcdee",
   "metadata": {},
   "source": [
    "### T-distribution p-value\n",
    "\n",
    "As we can see, a lower sample size, and hence a lower degrees of freedom, leads to a lower probaility that our t-score is near 0 when our population means are the same, because more random variation is likely when the sample size is so low. The point of a t-score is to determine if the difference in the two means of the samples is too drastic for the true population means to be the same. As we approach 30 with our degrees of freedom, the graph doesnt change much, and this is a standard normal distribution, which the z-score uses. Some textbooks say you can use z-score for large sample sizes; it will give nearly the same answer. \n",
    "\n",
    "Once we get our t-score, we plug it into the equation shown below to get it's p-value. The equation uses the t-distributions's __Cumulative Density Function__. This distribution models the probability that the random variable $T$ takes at most the value $t$. We get a corresponding __p-value__, shown on the y-axis. This value is the probability of our gotten t-value if the true means were the same. \n",
    "\n",
    "<h3 align=\"center\">\n",
    "    $ p =  2 \\cdot (1-CDF_{t_{n-1}}(|t|)) $\n",
    "<h3> "
   ]
  },
  {
   "cell_type": "markdown",
   "id": "5b31cb52",
   "metadata": {},
   "source": [
    "This CDF, and all CDF's, can easily be modeled by, for each value t in our t-distribution, plotting t added to all previous t-values, since we used _np.linspace_ to discretely model this continuous distribution:"
   ]
  },
  {
   "cell_type": "code",
   "execution_count": 36,
   "id": "20c83b81",
   "metadata": {},
   "outputs": [
    {
     "data": {
      "text/plain": [
       "<matplotlib.legend.Legend at 0x13fec0caaf0>"
      ]
     },
     "execution_count": 36,
     "metadata": {},
     "output_type": "execute_result"
    },
    {
     "data": {
      "image/png": "[encoded data removed]",
      "text/plain": [
       "<Figure size 1080x576 with 1 Axes>"
      ]
     },
     "metadata": {
      "needs_background": "light"
     },
     "output_type": "display_data"
    }
   ],
   "source": [
    "fig, ax = plt.subplots(figsize = (15,8))\n",
    "\n",
    "#create t-dist with 30 df and with 1 df\n",
    "x = np.linspace(-5, 5, 1000)\n",
    "t_dist = t_distribution(30, x)\n",
    "cauchy = t_distribution(1, x)\n",
    "\n",
    "#go along the linspace that was created and add current value to all previous values\n",
    "f_dist = t_dist.copy()\n",
    "cauchy_f_dist = cauchy.copy()\n",
    "\n",
    "for i in range(len(t_dist)): \n",
    "    f_dist[i] += f_dist[i-1]\n",
    "    cauchy_f_dist[i] += cauchy_f_dist[i-1]\n",
    "\n",
    "plt.plot(f_dist, label = 't CDF distribution with 30 df')\n",
    "plt.plot(cauchy_f_dist, label = 'Cauchy CDF distribution')\n",
    "\n",
    "plt.legend()"
   ]
  },
  {
   "cell_type": "markdown",
   "id": "1f417950",
   "metadata": {},
   "source": [
    "- If the corresponding p-value from our t-value is too low, we choose to __reject the null hypothesis $H_o$__, and say that our samples come from different populations who's means are different. This is a \"statistically significant\" result. \n",
    "\n",
    "\n",
    "- If the p-value is sufficiently high, we __fail to reject the null hypothesis $H_o$__, and say that there is a high enough chance that the samples came from populations with the same means. This is a \"statistically insignificant\" result. \n",
    "\n",
    "\n",
    "- The value at which significance occurs, $\\alpha$, and is most commonly 0.05.\n"
   ]
  },
  {
   "cell_type": "markdown",
   "id": "525f0c8b",
   "metadata": {},
   "source": [
    "Next, we can make a master function that uses all of the t-tests we just built:"
   ]
  },
  {
   "cell_type": "code",
   "execution_count": 37,
   "id": "b0ffedfa",
   "metadata": {},
   "outputs": [],
   "source": [
    "import scipy.stats as stats\n",
    "\n",
    "# function that allows us to evaluate the t distribution at a given t value and df\n",
    "def t_test(a, b, kind):\n",
    "    \n",
    "    if kind == 'one_sample': \n",
    "            t_val, df = t_value_1samp(a, b)\n",
    "            print (t_val, df)\n",
    "    elif kind  == 'independent': \n",
    "            t_val, df = t_value_ind_samp(a, b)\n",
    "    elif kind == 'paired': \n",
    "            t_val, df = t_value_ind_samp(a, b, equal_var=True)\n",
    "            \n",
    "    # cdf gives probability of a value at least as extreme as observed happening; for two-sided tests this is doubled\n",
    "    p_value = (1-stats.t.cdf(np.abs(t_val), df-1))  *2\n",
    "    \n",
    "    if p_value > .05:\n",
    "        return_string = \"T-value: \" + str(t_val) + \", P-value: \" + str(\n",
    "            p_value) + \", Fail to reject null hypothesis.\"\n",
    "    else:\n",
    "        return_string = \"T-value: \" + str(t_val) + \", P-value: \" + str(\n",
    "            round(p_value, 5)) + \", Reject null hypothesis.\"\n",
    "        \n",
    "    return return_string"
   ]
  },
  {
   "cell_type": "markdown",
   "id": "f5845584",
   "metadata": {},
   "source": [
    "The function accepts $t$ and $\\nu$ and returns a probability of the t value occuring if there truly was no difference between the the two sample means, or the single sample mean and one hypothesized mean. If we are intereted in knowing the p that the result is only < or >, we take the p value as is. Otherwise, if we are looking for any difference, we multiply it by 2. If the probability returned is too low, then we can reasonably assume that this means that the two means _are not truly different_. This is the core concept of statistical significance. The probability at which a non-significant difference becomes a significant one is most commonly 0.05. This means that if there is a less than 5 percent probability that the observed difference in means could have happened by chance, we can reasonably assume that the result didn't happen by chance. "
   ]
  },
  {
   "cell_type": "markdown",
   "id": "af7a4c3d",
   "metadata": {},
   "source": [
    "We can now implement the same t-test we perfomed earlier with our hypothesized return of a 7% yearly rate and the S&P 500, returning a p-value along with our t-statistic, using the one-sample t-test: "
   ]
  },
  {
   "cell_type": "code",
   "execution_count": 38,
   "id": "5ea4c846",
   "metadata": {},
   "outputs": [
    {
     "name": "stdout",
     "output_type": "stream",
     "text": [
      "1.2026921542289366 478\n"
     ]
    },
    {
     "data": {
      "text/plain": [
       "'T-value: 1.2026921542289366, P-value: 0.2296921134606542, Fail to reject null hypothesis.'"
      ]
     },
     "execution_count": 38,
     "metadata": {},
     "output_type": "execute_result"
    }
   ],
   "source": [
    "hypothesized_rate = 1.07 **(1/12) - 1\n",
    "t_test(sp500, hypothesized_rate, 'one_sample')"
   ]
  },
  {
   "cell_type": "code",
   "execution_count": 39,
   "id": "1645d22e",
   "metadata": {},
   "outputs": [
    {
     "data": {
      "text/plain": [
       "Ttest_1sampResult(statistic=1.2014360785293432, pvalue=0.2301770245213624)"
      ]
     },
     "execution_count": 39,
     "metadata": {},
     "output_type": "execute_result"
    }
   ],
   "source": [
    "stats.ttest_1samp(sp500, hypothesized_rate)"
   ]
  },
  {
   "cell_type": "markdown",
   "id": "bd492ee9",
   "metadata": {},
   "source": [
    "However, if we change the hypothesized monthly rate to be a yearly return of 15%, we get a p-value that implies the S&P 500 would not have had a high chance at an 8% yearly return with the expected amount of randomness."
   ]
  },
  {
   "cell_type": "code",
   "execution_count": 40,
   "id": "10a9c9d0",
   "metadata": {},
   "outputs": [
    {
     "name": "stdout",
     "output_type": "stream",
     "text": [
      "-1.8266954251775742 478\n"
     ]
    },
    {
     "data": {
      "text/plain": [
       "'T-value: -1.8266954251775742, P-value: 0.06837037165570203, Fail to reject null hypothesis.'"
      ]
     },
     "execution_count": 40,
     "metadata": {},
     "output_type": "execute_result"
    }
   ],
   "source": [
    "hypothesized_rate = 1.15 **(1/12) - 1\n",
    "t_test(sp500, hypothesized_rate, 'one_sample')"
   ]
  },
  {
   "cell_type": "code",
   "execution_count": 41,
   "id": "88c5c6f6",
   "metadata": {},
   "outputs": [
    {
     "data": {
      "text/plain": [
       "Ttest_1sampResult(statistic=-1.8247876487561137, pvalue=0.06865708229141582)"
      ]
     },
     "execution_count": 41,
     "metadata": {},
     "output_type": "execute_result"
    }
   ],
   "source": [
    "stats.ttest_1samp(sp500, hypothesized_rate)"
   ]
  },
  {
   "cell_type": "markdown",
   "id": "ce97fd89",
   "metadata": {},
   "source": [
    "As well as the independent-samples t-test comparing PRGFX to the S&P 500: "
   ]
  },
  {
   "cell_type": "code",
   "execution_count": 42,
   "id": "3bfd3d9b",
   "metadata": {},
   "outputs": [
    {
     "data": {
      "text/plain": [
       "'T-value: -0.07779161976485054, P-value: 0.9380102058462272, Fail to reject null hypothesis.'"
      ]
     },
     "execution_count": 42,
     "metadata": {},
     "output_type": "execute_result"
    }
   ],
   "source": [
    "t_test(sp500, prgfx, 'independent')"
   ]
  },
  {
   "cell_type": "code",
   "execution_count": 43,
   "id": "8b23559b",
   "metadata": {},
   "outputs": [
    {
     "data": {
      "text/plain": [
       "Ttest_indResult(statistic=-0.07771037523118096, pvalue=0.938074701836165)"
      ]
     },
     "execution_count": 43,
     "metadata": {},
     "output_type": "execute_result"
    }
   ],
   "source": [
    "stats.ttest_ind(sp500, prgfx)"
   ]
  },
  {
   "cell_type": "markdown",
   "id": "0864e4be",
   "metadata": {},
   "source": [
    "## Confidence Intervals\n",
    "\n",
    "The confidence interval gives us the range of values that have a $1-\\alpha$ probability of containing the population mean, based off of our sample mean. Confidence intervals, as hypothesis tests do, make use of the standard error of the mean of a sample. For a sample with mean $\\bar{x}$, the confidence interval lower and upper bounds, respectively, are found by these formulas: \n",
    "<h3 align=\"center\">\n",
    "    <font size=\"4\">\n",
    "        $ CI = {\\bar{x} - t_{\\frac{\\alpha}{2}}\\frac{s}{\\sqrt{n}}, \\bar{x} + t_{\\frac{\\alpha}{2}}\\frac{s}{\\sqrt{n}}}$\n",
    "    </font>\n",
    "    </h3> \n",
    "- Where $t_{\\frac{\\alpha}{2}}$ is the $1-\\frac{\\alpha}{2}$ quantile of the $t_{n-1}$ distribution\n",
    "\n",
    "This function can be easily built in code using the _percent point function_ in Scipy. This function gives the percentage of the t distribution behind a given point. This is also known as the quintile. We first make a function to return the quintile in a t distribution associated with a given df and alpha level, and then make a function to make confidence interval for passed data: "
   ]
  },
  {
   "cell_type": "code",
   "execution_count": 44,
   "id": "afc66a09",
   "metadata": {},
   "outputs": [],
   "source": [
    "def t_quintile(df, alpha):\n",
    "    q = (1.0+alpha)/2\n",
    "    a = stats.t.ppf(q, df)\n",
    "    return a"
   ]
  },
  {
   "cell_type": "markdown",
   "id": "2cdab2af",
   "metadata": {},
   "source": [
    "We can see what this returns for a t-distribution with degrees of freedom in the S&P 500's data and an alpha value of 0.05: "
   ]
  },
  {
   "cell_type": "code",
   "execution_count": 45,
   "id": "20e4edc9",
   "metadata": {},
   "outputs": [
    {
     "data": {
      "text/plain": [
       "0.06273964329541434"
      ]
     },
     "execution_count": 45,
     "metadata": {},
     "output_type": "execute_result"
    }
   ],
   "source": [
    "t_quintile(len(sp500), 0.05)"
   ]
  },
  {
   "cell_type": "markdown",
   "id": "1c99ca33",
   "metadata": {},
   "source": [
    "Now we make a function that is passed an array of data and an alpha value and returns a confidence interval: "
   ]
  },
  {
   "cell_type": "code",
   "execution_count": 46,
   "id": "f5f8b303",
   "metadata": {},
   "outputs": [],
   "source": [
    "def confidence_interval(data, alpha):\n",
    "    n = len(data)\n",
    "    df = n - 1\n",
    "    x_bar = np.mean(data)\n",
    "    SE = np.std(data) / np.sqrt(n)\n",
    "    CI_quintile = t_quintile(df, alpha)\n",
    "    CI = x_bar - CI_quintile * SE, x_bar + CI_quintile * SE\n",
    "    return CI"
   ]
  },
  {
   "cell_type": "code",
   "execution_count": 47,
   "id": "caa41133",
   "metadata": {},
   "outputs": [
    {
     "data": {
      "text/plain": [
       "(0.00793480150310036, 0.008185843042618211)"
      ]
     },
     "execution_count": 47,
     "metadata": {},
     "output_type": "execute_result"
    }
   ],
   "source": [
    "sp500_CI = confidence_interval(sp500, 0.05)\n",
    "sp500_CI"
   ]
  },
  {
   "cell_type": "markdown",
   "id": "c0c8ff24",
   "metadata": {},
   "source": [
    "This equates to a yearly return CI of: "
   ]
  },
  {
   "cell_type": "code",
   "execution_count": 48,
   "id": "6bf24cb5",
   "metadata": {},
   "outputs": [],
   "source": [
    "sp500_yearly_CI = (1 + sp500_CI[0]) ** 12, (1 + sp500_CI[1]) ** 12"
   ]
  },
  {
   "cell_type": "code",
   "execution_count": 49,
   "id": "e4f2895e",
   "metadata": {},
   "outputs": [
    {
     "data": {
      "text/plain": [
       "(1.099484944751164, 1.1027755720067467)"
      ]
     },
     "execution_count": 49,
     "metadata": {},
     "output_type": "execute_result"
    }
   ],
   "source": [
    "sp500_yearly_CI"
   ]
  },
  {
   "cell_type": "markdown",
   "id": "b7843f5b",
   "metadata": {},
   "source": [
    "We can say with 95% confidence that the true s&P 500 monthly return, not due to randomness, was somewhere between these two values. "
   ]
  },
  {
   "cell_type": "markdown",
   "id": "968ed428",
   "metadata": {},
   "source": [
    "### The Link Between Hypothesis Testing and Confidence Intervals"
   ]
  },
  {
   "cell_type": "markdown",
   "id": "7aacd3f1",
   "metadata": {},
   "source": [
    "By now, it may seem obvious that these two concepts are heavily related. Both use the standard error of the sample mean as an expected error region to make inferences about a parameter, and are given an alpha level $\\alpha$ that governs our confidence in the result. Hypothesis testing requires a second value, either a hypothesized value or another sample mean, to compare to. Confidence intervals require a single array of data for which error bars can be formed. The error bars from a confidence interval give a plausible range of values that our population parameter could take. \n",
    "\n",
    "The link between the two methods is that hypothesis testing also draws error bars for each of it's passed values, and if the error bar regions overlap, we fail to reject $H_o$ and if they do not overlap we fail to reject $H_o$. We are almost doing the same statistical test, just using it a little bit differently. \n",
    "\n",
    "For example, we can anlyze the error bars for the mean monthly return of the S&P 500 and PRGFX: "
   ]
  },
  {
   "cell_type": "code",
   "execution_count": 50,
   "id": "a66dcde3",
   "metadata": {},
   "outputs": [
    {
     "name": "stdout",
     "output_type": "stream",
     "text": [
      "SP500 CI:  (0.00793480150310036, 0.008185843042618211) \n",
      "PRGFX CI (0.008153824949215972, 0.008425140400296073)\n"
     ]
    }
   ],
   "source": [
    "prgfx_CI = confidence_interval(prgfx, 0.05)\n",
    "sp500_CI = confidence_interval(sp500, 0.05)\n",
    "print(\"SP500 CI: \", sp500_CI,\"\\nPRGFX CI\",prgfx_CI)"
   ]
  },
  {
   "cell_type": "code",
   "execution_count": 51,
   "id": "e5cea501",
   "metadata": {},
   "outputs": [
    {
     "data": {
      "text/plain": [
       "479"
      ]
     },
     "execution_count": 51,
     "metadata": {},
     "output_type": "execute_result"
    }
   ],
   "source": [
    "len(sp500)"
   ]
  },
  {
   "cell_type": "code",
   "execution_count": 52,
   "id": "4f3a20e6",
   "metadata": {},
   "outputs": [
    {
     "data": {
      "text/plain": [
       "<bound method NDFrame.rank of Symbols\n",
       "AGTHX      0.009903\n",
       "FCNTX      0.010282\n",
       "CWMAX      0.007093\n",
       "CWMCX      0.006451\n",
       "CWMEX      0.006715\n",
       "             ...   \n",
       "FDYZX      0.010642\n",
       "BBVLX      0.007565\n",
       "PEYAX      0.006190\n",
       "TWCGX      0.011017\n",
       "S&P 500    0.008060\n",
       "Length: 101, dtype: float64>"
      ]
     },
     "execution_count": 52,
     "metadata": {},
     "output_type": "execute_result"
    }
   ],
   "source": [
    "monthly_returns.mean().rank"
   ]
  },
  {
   "cell_type": "code",
   "execution_count": 53,
   "id": "4b3e9963",
   "metadata": {},
   "outputs": [
    {
     "data": {
      "text/plain": [
       "<matplotlib.legend.Legend at 0x13fec1584c0>"
      ]
     },
     "execution_count": 53,
     "metadata": {},
     "output_type": "execute_result"
    },
    {
     "data": {
      "image/png": "[encoded data removed]",
      "text/plain": [
       "<Figure size 720x720 with 1 Axes>"
      ]
     },
     "metadata": {
      "needs_background": "light"
     },
     "output_type": "display_data"
    }
   ],
   "source": [
    "fig, ax = plt.subplots(figsize = (10, 10))\n",
    "sp500.hist(ax=ax, label='S&P 500')\n",
    "prgfx.hist(ax=ax, label='PRGFX')\n",
    "ax.vlines(sp500.mean(), ymin = 0, ymax = 90)\n",
    "ax.vlines(prgfx.mean(), ymin = 0, ymax = 90)\n",
    "plt.legend()"
   ]
  },
  {
   "cell_type": "markdown",
   "id": "0b6909b6",
   "metadata": {},
   "source": [
    "We can create confidence intervals for each fund in our funds list: "
   ]
  },
  {
   "cell_type": "code",
   "execution_count": 54,
   "id": "e75a45ca",
   "metadata": {},
   "outputs": [],
   "source": [
    "monthly_returns_CIs = confidence_interval(monthly_returns, 0.05)"
   ]
  },
  {
   "cell_type": "code",
   "execution_count": 55,
   "id": "9d169c4a",
   "metadata": {},
   "outputs": [
    {
     "data": {
      "text/plain": [
       "2"
      ]
     },
     "execution_count": 55,
     "metadata": {},
     "output_type": "execute_result"
    }
   ],
   "source": [
    "len(monthly_returns_CIs)"
   ]
  },
  {
   "cell_type": "code",
   "execution_count": 56,
   "id": "748d725b",
   "metadata": {},
   "outputs": [
    {
     "data": {
      "text/plain": [
       "(0.007934932459522826, 0.008185712086195744)"
      ]
     },
     "execution_count": 56,
     "metadata": {},
     "output_type": "execute_result"
    }
   ],
   "source": [
    "monthly_returns_CIs[0][\"S&P 500\"], monthly_returns_CIs[1][\"S&P 500\"]"
   ]
  },
  {
   "cell_type": "code",
   "execution_count": 57,
   "id": "a16f9aa6",
   "metadata": {},
   "outputs": [
    {
     "data": {
      "text/plain": [
       "29.0"
      ]
     },
     "execution_count": 57,
     "metadata": {},
     "output_type": "execute_result"
    }
   ],
   "source": [
    " monthly_returns_CIs[1].rank()[\"S&P 500\"]"
   ]
  },
  {
   "cell_type": "code",
   "execution_count": 58,
   "id": "11483b92",
   "metadata": {},
   "outputs": [
    {
     "name": "stderr",
     "output_type": "stream",
     "text": [
      "No handles with labels found to put in legend.\n"
     ]
    },
    {
     "data": {
      "text/plain": [
       "<matplotlib.legend.Legend at 0x13fec5c59a0>"
      ]
     },
     "execution_count": 58,
     "metadata": {},
     "output_type": "execute_result"
    },
    {
     "data": {
      "image/png": "[encoded data removed]",
      "text/plain": [
       "<Figure size 1800x1008 with 1 Axes>"
      ]
     },
     "metadata": {
      "needs_background": "light"
     },
     "output_type": "display_data"
    }
   ],
   "source": [
    "fig, ax = plt.subplots(figsize = (25, 14))\n",
    "Y_axis = np.arange(len(monthly_returns_CIs[0]))\n",
    "\n",
    "ax.vlines(x = Y_axis, ymin = monthly_returns_CIs[0].sort_values(), ymax = monthly_returns_CIs[1].sort_values(), linewidth=10 )\n",
    "ax.vlines(x =  monthly_returns_CIs[1].rank()[\"S&P 500\"], \n",
    "          ymin =monthly_returns_CIs[0][\"S&P 500\"], \n",
    "          ymax = monthly_returns_CIs[1][\"S&P 500\" ], \n",
    "          color = \"C3\",\n",
    "          linewidth=12 )\n",
    "\n",
    "#ax.vlines(x = [sp500_CI[0],sp500_CI[1]], ymin = 0, ymax = len(monthly_returns_CIs[0]), label = \"S&P 500 CI\", color='r', linestyle=\"--\")\n",
    "ax.set_title(\"Various Mutual Fund's Confidence Intervals vs the S&P 500's Confidence Band\")\n",
    "ax.set_yticklabels([])\n",
    "ax.legend()"
   ]
  },
  {
   "cell_type": "code",
   "execution_count": 59,
   "id": "5b34e4d5",
   "metadata": {},
   "outputs": [],
   "source": [
    "yearly_close_data = close_data.resample(\"Y\").first()\n",
    "yearly_changes = yearly_close_data.pct_change()"
   ]
  },
  {
   "cell_type": "code",
   "execution_count": 60,
   "id": "e878b656",
   "metadata": {},
   "outputs": [],
   "source": [
    "yearly_return_CIs = confidence_interval(yearly_changes, 0.05)"
   ]
  },
  {
   "cell_type": "code",
   "execution_count": 61,
   "id": "8d01a843",
   "metadata": {},
   "outputs": [
    {
     "data": {
      "text/plain": [
       "<matplotlib.legend.Legend at 0x13fec621640>"
      ]
     },
     "execution_count": 61,
     "metadata": {},
     "output_type": "execute_result"
    },
    {
     "data": {
      "image/png": "[encoded data removed]",
      "text/plain": [
       "<Figure size 720x720 with 1 Axes>"
      ]
     },
     "metadata": {
      "needs_background": "light"
     },
     "output_type": "display_data"
    }
   ],
   "source": [
    "fig, ax = plt.subplots(figsize = (10, 10))\n",
    "Y_axis = np.arange(len(yearly_return_CIs[0]))\n",
    "\n",
    "ax.hlines(y = Y_axis, xmin = yearly_return_CIs[0].sort_values(), xmax = yearly_return_CIs[1].sort_values() )\n",
    "ax.vlines(x = [yearly_return_CIs[0][\"S&P 500\"],yearly_return_CIs[1][\"S&P 500\"]], ymin = 0, ymax = 100, label = \"S&P 500 CI\", color=\"r\", linestyle=\"--\")\n",
    "ax.set_title(\"Various Mutual Fund's Confidence Intervals vs the S&P 500's Confidence Band\")\n",
    "ax.set_xlim(0.05)\n",
    "ax.legend()"
   ]
  },
  {
   "cell_type": "markdown",
   "id": "5f36cea4",
   "metadata": {},
   "source": [
    "# ANOVA "
   ]
  },
  {
   "cell_type": "markdown",
   "id": "90589d09",
   "metadata": {},
   "source": [
    "While using T-tests and Z-tests to analyze means of groups, we were restricted to only being able to compare two groups at a time. What if we wanted to see of there was significant differences between more than two groups? The **ANOVA**, or **Analysis of Variance** techniques allow us to test the null hypothesis that there is no significant difference between $k$ (some integer larger than 2) groups. \n",
    "\n",
    "- $H_o$: $\\mu_1 = \\mu_2 = \\cdots = \\mu_k$\n",
    "- $H_a$: At least two of the means are not equal. \n",
    "\n",
    "#### Mutual Fund Categories\n",
    "For our motivating example, we will continue to use our mutual fund data, but we must be able to group our mutual funds into categories. Luckily, the dataset contains a column labeled \"Morningstar Category\", which is assigned by [Morningstar](http://im.mstar.com/im/newhomepage/Morningstar_Category_Definitions_US_June_2016.pdf) based off of a funds previous holdings statistics and tries to give investors information about a fund's risk and investment strategy. "
   ]
  },
  {
   "cell_type": "code",
   "execution_count": 62,
   "id": "13a620e9",
   "metadata": {},
   "outputs": [
    {
     "data": {
      "text/html": [
       "<div>\n",
       "<style scoped>\n",
       "    .dataframe tbody tr th:only-of-type {\n",
       "        vertical-align: middle;\n",
       "    }\n",
       "\n",
       "    .dataframe tbody tr th {\n",
       "        vertical-align: top;\n",
       "    }\n",
       "\n",
       "    .dataframe thead th {\n",
       "        text-align: right;\n",
       "    }\n",
       "</style>\n",
       "<table border=\"1\" class=\"dataframe\">\n",
       "  <thead>\n",
       "    <tr style=\"text-align: right;\">\n",
       "      <th></th>\n",
       "      <th>Symbol</th>\n",
       "      <th>Morningstar Category</th>\n",
       "    </tr>\n",
       "  </thead>\n",
       "  <tbody>\n",
       "    <tr>\n",
       "      <th>0</th>\n",
       "      <td>AGTHX</td>\n",
       "      <td>Large Growth</td>\n",
       "    </tr>\n",
       "    <tr>\n",
       "      <th>1</th>\n",
       "      <td>FCNTX</td>\n",
       "      <td>Large Growth</td>\n",
       "    </tr>\n",
       "    <tr>\n",
       "      <th>2</th>\n",
       "      <td>CWMAX</td>\n",
       "      <td>Large Blend</td>\n",
       "    </tr>\n",
       "    <tr>\n",
       "      <th>3</th>\n",
       "      <td>CWMCX</td>\n",
       "      <td>Large Blend</td>\n",
       "    </tr>\n",
       "    <tr>\n",
       "      <th>4</th>\n",
       "      <td>CWMEX</td>\n",
       "      <td>Large Blend</td>\n",
       "    </tr>\n",
       "    <tr>\n",
       "      <th>...</th>\n",
       "      <td>...</td>\n",
       "      <td>...</td>\n",
       "    </tr>\n",
       "    <tr>\n",
       "      <th>95</th>\n",
       "      <td>FDTRX</td>\n",
       "      <td>Large Growth</td>\n",
       "    </tr>\n",
       "    <tr>\n",
       "      <th>96</th>\n",
       "      <td>FDYZX</td>\n",
       "      <td>Large Growth</td>\n",
       "    </tr>\n",
       "    <tr>\n",
       "      <th>97</th>\n",
       "      <td>BBVLX</td>\n",
       "      <td>Large Value</td>\n",
       "    </tr>\n",
       "    <tr>\n",
       "      <th>98</th>\n",
       "      <td>PEYAX</td>\n",
       "      <td>Large Value</td>\n",
       "    </tr>\n",
       "    <tr>\n",
       "      <th>99</th>\n",
       "      <td>TWCGX</td>\n",
       "      <td>Large Growth</td>\n",
       "    </tr>\n",
       "  </tbody>\n",
       "</table>\n",
       "<p>100 rows × 2 columns</p>\n",
       "</div>"
      ],
      "text/plain": [
       "   Symbol Morningstar Category\n",
       "0   AGTHX         Large Growth\n",
       "1   FCNTX         Large Growth\n",
       "2   CWMAX          Large Blend\n",
       "3   CWMCX          Large Blend\n",
       "4   CWMEX          Large Blend\n",
       "..    ...                  ...\n",
       "95  FDTRX         Large Growth\n",
       "96  FDYZX         Large Growth\n",
       "97  BBVLX          Large Value\n",
       "98  PEYAX          Large Value\n",
       "99  TWCGX         Large Growth\n",
       "\n",
       "[100 rows x 2 columns]"
      ]
     },
     "execution_count": 62,
     "metadata": {},
     "output_type": "execute_result"
    }
   ],
   "source": [
    "mutual_fund_data[[\"Symbol\", \"Morningstar Category\"]]"
   ]
  },
  {
   "cell_type": "markdown",
   "id": "0f5dd2e1",
   "metadata": {},
   "source": [
    "We can check to see how many of each category of fund are in our data using the _.value_counts()_ method "
   ]
  },
  {
   "cell_type": "code",
   "execution_count": 63,
   "id": "499c43d8",
   "metadata": {},
   "outputs": [
    {
     "data": {
      "text/plain": [
       "Large Growth      51\n",
       "Large Value       20\n",
       "Large Blend       17\n",
       "Mid-Cap Growth     6\n",
       "Mid-Cap Value      2\n",
       "Communications     1\n",
       "Mid-Cap Blend      1\n",
       "Health             1\n",
       "Small Value        1\n",
       "Name: Morningstar Category, dtype: int64"
      ]
     },
     "execution_count": 63,
     "metadata": {},
     "output_type": "execute_result"
    }
   ],
   "source": [
    "mutual_fund_data[\"Morningstar Category\"].value_counts()"
   ]
  },
  {
   "cell_type": "markdown",
   "id": "5fc0febb",
   "metadata": {},
   "source": [
    "For ANOVA and for T-test analysis, a sample size of only 2 is not large enough for us to make meaningful assumptions about the population from which the sample was drawn, so we choose to only include the fund categories that contain greater than 2 funds in our data. "
   ]
  },
  {
   "cell_type": "code",
   "execution_count": 64,
   "id": "51f4e240",
   "metadata": {},
   "outputs": [
    {
     "data": {
      "text/plain": [
       "Large Growth       True\n",
       "Large Value        True\n",
       "Large Blend        True\n",
       "Mid-Cap Growth     True\n",
       "Mid-Cap Value     False\n",
       "Communications    False\n",
       "Mid-Cap Blend     False\n",
       "Health            False\n",
       "Small Value       False\n",
       "Name: Morningstar Category, dtype: bool"
      ]
     },
     "execution_count": 64,
     "metadata": {},
     "output_type": "execute_result"
    }
   ],
   "source": [
    "# identify fund categories containing > 2 funds in our data\n",
    "fund_types = mutual_fund_data[\"Morningstar Category\"].value_counts() > 2\n",
    "fund_types"
   ]
  },
  {
   "cell_type": "markdown",
   "id": "4365ee1f",
   "metadata": {},
   "source": [
    "Create variable _relevant_fund_types_ to store the four fund types we will be analyzing:"
   ]
  },
  {
   "cell_type": "code",
   "execution_count": 65,
   "id": "95526e6c",
   "metadata": {},
   "outputs": [
    {
     "data": {
      "text/plain": [
       "Large Growth      True\n",
       "Large Value       True\n",
       "Large Blend       True\n",
       "Mid-Cap Growth    True\n",
       "Name: Morningstar Category, dtype: bool"
      ]
     },
     "execution_count": 65,
     "metadata": {},
     "output_type": "execute_result"
    }
   ],
   "source": [
    "# pull fund types for which fund_types has value of true \n",
    "relevant_fund_types = fund_types[fund_types]\n",
    "relevant_fund_types"
   ]
  },
  {
   "cell_type": "markdown",
   "id": "af080b0d",
   "metadata": {},
   "source": [
    "Next, identify the fund symbols in our _mutual_fund_data_ that will be used in the analysis. This will leave us with all but 6 of the funds and 94 rows of data instead of 100: "
   ]
  },
  {
   "cell_type": "code",
   "execution_count": 66,
   "id": "2b0c1c63",
   "metadata": {},
   "outputs": [
    {
     "data": {
      "text/html": [
       "<div>\n",
       "<style scoped>\n",
       "    .dataframe tbody tr th:only-of-type {\n",
       "        vertical-align: middle;\n",
       "    }\n",
       "\n",
       "    .dataframe tbody tr th {\n",
       "        vertical-align: top;\n",
       "    }\n",
       "\n",
       "    .dataframe thead th {\n",
       "        text-align: right;\n",
       "    }\n",
       "</style>\n",
       "<table border=\"1\" class=\"dataframe\">\n",
       "  <thead>\n",
       "    <tr style=\"text-align: right;\">\n",
       "      <th></th>\n",
       "      <th>Symbol</th>\n",
       "      <th>Name</th>\n",
       "      <th>Morningstar Category</th>\n",
       "      <th>Market cap</th>\n",
       "      <th>Fees</th>\n",
       "    </tr>\n",
       "  </thead>\n",
       "  <tbody>\n",
       "    <tr>\n",
       "      <th>0</th>\n",
       "      <td>AGTHX</td>\n",
       "      <td>American Funds The Growth Fund of America Class A</td>\n",
       "      <td>Large Growth</td>\n",
       "      <td>$138,592,080,000</td>\n",
       "      <td>0.62%</td>\n",
       "    </tr>\n",
       "    <tr>\n",
       "      <th>1</th>\n",
       "      <td>FCNTX</td>\n",
       "      <td>Fidelity Contrafund Fund</td>\n",
       "      <td>Large Growth</td>\n",
       "      <td>$121,762,870,000</td>\n",
       "      <td>0.74%</td>\n",
       "    </tr>\n",
       "    <tr>\n",
       "      <th>2</th>\n",
       "      <td>CWMAX</td>\n",
       "      <td>American Funds Washington Mutual Investors Fun...</td>\n",
       "      <td>Large Blend</td>\n",
       "      <td>$113,300,000,000</td>\n",
       "      <td>0.63%</td>\n",
       "    </tr>\n",
       "    <tr>\n",
       "      <th>3</th>\n",
       "      <td>CWMCX</td>\n",
       "      <td>American Funds Washington Mutual Investors Fun...</td>\n",
       "      <td>Large Blend</td>\n",
       "      <td>$113,300,000,000</td>\n",
       "      <td>1.40%</td>\n",
       "    </tr>\n",
       "    <tr>\n",
       "      <th>4</th>\n",
       "      <td>CWMEX</td>\n",
       "      <td>American Funds Washington Mutual Investors Fun...</td>\n",
       "      <td>Large Blend</td>\n",
       "      <td>$113,300,000,000</td>\n",
       "      <td>0.87%</td>\n",
       "    </tr>\n",
       "    <tr>\n",
       "      <th>...</th>\n",
       "      <td>...</td>\n",
       "      <td>...</td>\n",
       "      <td>...</td>\n",
       "      <td>...</td>\n",
       "      <td>...</td>\n",
       "    </tr>\n",
       "    <tr>\n",
       "      <th>95</th>\n",
       "      <td>FDTRX</td>\n",
       "      <td>Franklin DynaTech Fund Class R6</td>\n",
       "      <td>Large Growth</td>\n",
       "      <td>$9,600,000,000</td>\n",
       "      <td>0.51%</td>\n",
       "    </tr>\n",
       "    <tr>\n",
       "      <th>96</th>\n",
       "      <td>FDYZX</td>\n",
       "      <td>Franklin DynaTech Fund Advisor Class</td>\n",
       "      <td>Large Growth</td>\n",
       "      <td>$9,600,000,000</td>\n",
       "      <td>0.62%</td>\n",
       "    </tr>\n",
       "    <tr>\n",
       "      <th>97</th>\n",
       "      <td>BBVLX</td>\n",
       "      <td>Bridge Builder Large Cap Value Fund</td>\n",
       "      <td>Large Value</td>\n",
       "      <td>$9,500,000,000</td>\n",
       "      <td>0.25%</td>\n",
       "    </tr>\n",
       "    <tr>\n",
       "      <th>98</th>\n",
       "      <td>PEYAX</td>\n",
       "      <td>Putnam Large Cap Value Fund Class A</td>\n",
       "      <td>Large Value</td>\n",
       "      <td>$9,393,340,000</td>\n",
       "      <td>0.91%</td>\n",
       "    </tr>\n",
       "    <tr>\n",
       "      <th>99</th>\n",
       "      <td>TWCGX</td>\n",
       "      <td>American Century Growth Fund Investor Class</td>\n",
       "      <td>Large Growth</td>\n",
       "      <td>$9,354,900,000</td>\n",
       "      <td>0.98%</td>\n",
       "    </tr>\n",
       "  </tbody>\n",
       "</table>\n",
       "<p>94 rows × 5 columns</p>\n",
       "</div>"
      ],
      "text/plain": [
       "   Symbol                                               Name  \\\n",
       "0   AGTHX  American Funds The Growth Fund of America Class A   \n",
       "1   FCNTX                           Fidelity Contrafund Fund   \n",
       "2   CWMAX  American Funds Washington Mutual Investors Fun...   \n",
       "3   CWMCX  American Funds Washington Mutual Investors Fun...   \n",
       "4   CWMEX  American Funds Washington Mutual Investors Fun...   \n",
       "..    ...                                                ...   \n",
       "95  FDTRX                    Franklin DynaTech Fund Class R6   \n",
       "96  FDYZX               Franklin DynaTech Fund Advisor Class   \n",
       "97  BBVLX                Bridge Builder Large Cap Value Fund   \n",
       "98  PEYAX                Putnam Large Cap Value Fund Class A   \n",
       "99  TWCGX        American Century Growth Fund Investor Class   \n",
       "\n",
       "   Morningstar Category        Market cap   Fees  \n",
       "0          Large Growth  $138,592,080,000  0.62%  \n",
       "1          Large Growth  $121,762,870,000  0.74%  \n",
       "2           Large Blend  $113,300,000,000  0.63%  \n",
       "3           Large Blend  $113,300,000,000  1.40%  \n",
       "4           Large Blend  $113,300,000,000  0.87%  \n",
       "..                  ...               ...    ...  \n",
       "95         Large Growth    $9,600,000,000  0.51%  \n",
       "96         Large Growth    $9,600,000,000  0.62%  \n",
       "97          Large Value    $9,500,000,000  0.25%  \n",
       "98          Large Value    $9,393,340,000  0.91%  \n",
       "99         Large Growth    $9,354,900,000  0.98%  \n",
       "\n",
       "[94 rows x 5 columns]"
      ]
     },
     "execution_count": 66,
     "metadata": {},
     "output_type": "execute_result"
    }
   ],
   "source": [
    "# pull relevant funds, should kick out only 6 from the dataset\n",
    "relevant_funds = mutual_fund_data[mutual_fund_data[\"Morningstar Category\"].isin(relevant_fund_types.index)]\n",
    "relevant_funds"
   ]
  },
  {
   "cell_type": "markdown",
   "id": "83a84728",
   "metadata": {},
   "source": [
    "Next, we need to pull all of the monthly return data for the _relevant_funds_. First, we create a dictionary with the fund symbols in _relevant_funds_: "
   ]
  },
  {
   "cell_type": "code",
   "execution_count": 67,
   "id": "57a05812",
   "metadata": {},
   "outputs": [],
   "source": [
    "relevant_fund_type_names = {}\n",
    "for fund_type in relevant_fund_types.index:\n",
    "    relevant_fund_type_names[fund_type] = relevant_funds[\"Symbol\"][relevant_funds[\"Morningstar Category\"] == fund_type]"
   ]
  },
  {
   "cell_type": "code",
   "execution_count": 87,
   "id": "5917eacd",
   "metadata": {},
   "outputs": [
    {
     "name": "stdout",
     "output_type": "stream",
     "text": [
      "0     AGTHX\n",
      "1     FCNTX\n",
      "9     AMCFX\n",
      "10    CAFAX\n",
      "11    CAFCX\n",
      "Name: Symbol, dtype: object\n",
      "16    AFMFX\n",
      "17    AMRFX\n",
      "18    CMLAX\n",
      "19    CMLCX\n",
      "20    CMLEX\n",
      "Name: Symbol, dtype: object\n",
      "2    CWMAX\n",
      "3    CWMCX\n",
      "4    CWMEX\n",
      "5    CWMFX\n",
      "6    AIVSX\n",
      "Name: Symbol, dtype: object\n",
      "31    PRNHX\n",
      "35    RPMGX\n",
      "62    PCBIX\n",
      "87    ERASX\n",
      "88    ERSMX\n",
      "Name: Symbol, dtype: object\n"
     ]
    }
   ],
   "source": [
    "for key in relevant_fund_type_names: \n",
    "    print(relevant_fund_type_names[key].head())"
   ]
  },
  {
   "cell_type": "markdown",
   "id": "bc23a88b",
   "metadata": {},
   "source": [
    "These symbols are only useful to us insofaras they allow us to pull the monthly returns for them. Our ANOVA analysis only cares about the _categorical_ returns, not the individual funds returns. Hence, we will create a dictionary that combines all of the monthly returns for each fund in a category and treats them as equivalent, because fund type category is the dependent variable of interest for this analysis."
   ]
  },
  {
   "cell_type": "code",
   "execution_count": 69,
   "id": "e22f9418",
   "metadata": {},
   "outputs": [],
   "source": [
    "#create dictionary to store all returns for each category\n",
    "fund_type_returns = {}\n",
    "\n",
    "#iterate through fund_type_names dictionary we just created to access the names of each fund in each category\n",
    "for key in relevant_fund_type_names.keys():\n",
    "    # store key as fund type and value as a list containing all monthly returns for the fund type\n",
    "    fund_type_returns[key] = []\n",
    "    for val in relevant_fund_type_names[key]:\n",
    "        #use .extend() method to add monthly returns to the current list, disregarding the fund's symbol \n",
    "        fund_type_returns[key].extend(monthly_returns[val].dropna())"
   ]
  },
  {
   "cell_type": "code",
   "execution_count": 99,
   "id": "d78d507b",
   "metadata": {},
   "outputs": [
    {
     "name": "stdout",
     "output_type": "stream",
     "text": [
      "Large Growth: 0.009704763373060615\n",
      "Large Value: 0.007858101542903239\n",
      "Large Blend: 0.008325036710755606\n",
      "Mid-Cap Growth: 0.01095978535548557\n"
     ]
    },
    {
     "data": {
      "text/plain": [
       "[None, None, None, None]"
      ]
     },
     "execution_count": 99,
     "metadata": {},
     "output_type": "execute_result"
    }
   ],
   "source": [
    "[print(f\"{key}: {np.mean(fund_type_returns[key])}\") for key in fund_type_returns]"
   ]
  },
  {
   "cell_type": "markdown",
   "id": "6a1a10e3",
   "metadata": {},
   "source": [
    "We have successfuly wrangled and prepped the data and can begin our ANOVA analysis. "
   ]
  },
  {
   "cell_type": "markdown",
   "id": "07a7d1f6",
   "metadata": {},
   "source": [
    "### Assumptions needed for ANOVA\n",
    "There are three assumptions that must be met in order to carry out an ANOVA test: \n",
    "\n",
    "1. The experimental errors of the data are normally distributed\n",
    "2. Homoscedasticity - the variances of your factors are all roughly the same (and at least follow the same distribution)\n",
    "3. Samples are independent - Selection of one sample had no effect on any other sample"
   ]
  },
  {
   "cell_type": "markdown",
   "id": "94a5eb2c",
   "metadata": {},
   "source": [
    "A quick and easy way to check the distributions of our categorical variables is with histograms: "
   ]
  },
  {
   "cell_type": "code",
   "execution_count": 124,
   "id": "b276e19b",
   "metadata": {},
   "outputs": [
    {
     "data": {
      "image/png": "[encoded data removed]",
      "text/plain": [
       "<Figure size 1152x288 with 4 Axes>"
      ]
     },
     "metadata": {
      "needs_background": "light"
     },
     "output_type": "display_data"
    }
   ],
   "source": [
    "fig, axs = plt.subplots(1, 4 , figsize = (16, 4))\n",
    "for num, key in enumerate(fund_type_returns): \n",
    "    axs[num].hist(fund_type_returns[key], bins = 50)\n",
    "    axs[num].set_title(key)\n",
    "    axs[num].set_yticks([])"
   ]
  },
  {
   "cell_type": "markdown",
   "id": "0209ee3e",
   "metadata": {},
   "source": [
    "It is obvious that our variables are all normally distributed, which is a core assumption of ANOVA. "
   ]
  },
  {
   "cell_type": "markdown",
   "id": "af5deac4",
   "metadata": {},
   "source": [
    "## F-Statistic\n",
    "The distribution used for the hypothesis test is a new one. It is called the F distribution, named after Sir Ronald Fisher, an English statistician. The F-statistic is a ratio. There are two sets of degrees of freedom; one for the numerator and one for the denominator. \n",
    "\n",
    "The F distribution is derived from the t-distribution. The values of the F distribution are squares of the\n",
    "corresponding values of the t-distribution. One-Way ANOVA expands the t-test for comparing more than two groups.\n",
    "The scope of that derivation is beyond the level of this textbook. \n",
    "\n",
    "To calculate the F ratio, two estimates of the variance are made:\n",
    "\n",
    "1. **Variance between samples**: An estimate of $\\sigma^2$ that is the variance of the sample means multiplied by n (when the sample sizes are the same.). If the samples are different sizes, the variance between samples is weighted to account for the different sample sizes. The variance is also called **variation due to treatment or explained variation.**\n",
    "\n",
    "2. **Variance within samples**: An estimate of $\\sigma^2$ that is the average of the sample variances (also known as a pooled variance). When the sample sizes are different, the variance within samples is weighted. The variance is also called **the variation due to error or unexplained variation.**\n",
    "\n",
    "- $SS_b$ = the sum of squares that represents the variation among the different samples\n",
    "\n",
    "- $SS_w$ = the sum of squares that represents the variation within samples that is due to chance.\n",
    "\n",
    "To find a \"sum of squares\" means to add together squared quantities that, in some cases, may be weighted. We used sum of squares to calculate the sample variance and the sample standard deviation. \n",
    "\n",
    "MS means \"mean square.\" $MS_b$ is the variance between groups, and $MS_w$ is the variance within groups. These measurements are the total sum of squares of their variances divided by the degrees of freedomom of the measure to give a mean value. \n",
    "\n",
    "#### Caluculating the F-Statistic\n",
    "\n",
    "#### Counting Statistics\n",
    "In order to accurately calculate the _Mean sum of squares_ we need to have denominator to divide the _total sum of squares_ by. For the sum of squares between groups, this is one minus the number of groups, and for the sum of squares within groups, this is the total number of observations minus the number of groups.\n",
    "\n",
    "- $k$ = the number of different groups\n",
    "- $n_j$ = the size of the $j^{th}$ group\n",
    "- $N$ = total number of all the values combined (total sample size: $\\sum{n_j}$)\n",
    "- $df$'s for the numerator(between samples): $df_b = k – 1$\n",
    "- $df$'s for the denominator($df$'s within samples): $df_w = k – 1$ \n",
    "\n",
    "These counting measures can be packaged into one function and demonstrated with our mutual fund categories: "
   ]
  },
  {
   "cell_type": "code",
   "execution_count": 72,
   "id": "f50f0c64",
   "metadata": {},
   "outputs": [],
   "source": [
    "def get_anova_counts(*args):\n",
    "    k = len(args)\n",
    "    N = 0\n",
    "    for arg in args:\n",
    "        N += len(arg)\n",
    "    dfbn = k - 1\n",
    "    dfwn = N - k\n",
    "\n",
    "    return k, N, dfbn, dfwn"
   ]
  },
  {
   "cell_type": "code",
   "execution_count": 73,
   "id": "070f92f0",
   "metadata": {},
   "outputs": [
    {
     "data": {
      "text/plain": [
       "(4, 23079, 3, 23075)"
      ]
     },
     "execution_count": 73,
     "metadata": {},
     "output_type": "execute_result"
    }
   ],
   "source": [
    "get_anova_counts(fund_type_returns[\"Large Growth\"],\n",
    "                 fund_type_returns['Large Value'],\n",
    "                 fund_type_returns['Large Blend'],\n",
    "                 fund_type_returns['Mid-Cap Growth'])"
   ]
  },
  {
   "cell_type": "markdown",
   "id": "113de081",
   "metadata": {},
   "source": [
    "Our data has 4 groups with 23079 total observations. \n",
    "\n",
    "#### Sum of Squares Between Groups\n",
    "- Explained variation: sum of squares representing variation among the different samples:\n",
    "\n",
    "    - $SS_{b} = \\sum_{j = 1}^{k}{n_j(\\bar{x_j} - \\bar{x})^2}$\n",
    "    \n",
    "    \n",
    "This measures the _total_ variation between the samples. For each group passed, the mean of all values is subtracted from the mean of the group, and that value is squared, then multiplied by the size of each group, because the measure must be scaled to the size of the group to capture the total sum of squares. "
   ]
  },
  {
   "cell_type": "code",
   "execution_count": 74,
   "id": "4a643434",
   "metadata": {},
   "outputs": [],
   "source": [
    "def SSB(*args):\n",
    "    ssb = 0\n",
    "    alldata = np.concatenate(args)\n",
    "\n",
    "    grand_mean = np.mean(alldata)\n",
    "\n",
    "    for arg in args:\n",
    "        group_mean = np.mean(arg)\n",
    "\n",
    "        n = len(arg)\n",
    "        val = n * (group_mean - grand_mean)**2\n",
    "\n",
    "        ssb += val\n",
    "\n",
    "    return ssb"
   ]
  },
  {
   "cell_type": "code",
   "execution_count": 75,
   "id": "93f2e137",
   "metadata": {},
   "outputs": [
    {
     "data": {
      "text/plain": [
       "0.019414231218912323"
      ]
     },
     "execution_count": 75,
     "metadata": {},
     "output_type": "execute_result"
    }
   ],
   "source": [
    "SSB(fund_type_returns[\"Large Growth\"], fund_type_returns['Large Value'],\n",
    "    fund_type_returns['Large Blend'], fund_type_returns['Mid-Cap Growth'])"
   ]
  },
  {
   "cell_type": "markdown",
   "id": "7ef3b422",
   "metadata": {},
   "source": [
    "- Unexplained variation: sum of squares representing variation within samples:\n",
    "\n",
    "    - $SS_w = \\sum_{j = 1}^{k}{\\sum_{i = 1}^{n_j}{(x_i - \\bar{x_j})^2}}$\n",
    "    \n",
    "This measure adds up the squared difference between all observations in a group and that individual group's mean. This function will iterate once for each individual observation in the groups, much more than SSB which only iterates once for each group. "
   ]
  },
  {
   "cell_type": "code",
   "execution_count": 76,
   "id": "4e72a75d",
   "metadata": {},
   "outputs": [],
   "source": [
    "def SSW(*args):\n",
    "    ssw = 0\n",
    "    for arg in args: \n",
    "        group_mean = np.mean(arg)\n",
    "        val = 0 \n",
    "        for i in arg:\n",
    "            val += np.sum(i - group_mean)**2\n",
    "        ssw += val\n",
    "    return ssw"
   ]
  },
  {
   "cell_type": "code",
   "execution_count": 77,
   "id": "f7278d75",
   "metadata": {},
   "outputs": [
    {
     "data": {
      "text/plain": [
       "52.78957070440802"
      ]
     },
     "execution_count": 77,
     "metadata": {},
     "output_type": "execute_result"
    }
   ],
   "source": [
    "SSW(fund_type_returns[\"Large Growth\"],\n",
    "               fund_type_returns['Large Value'],\n",
    "               fund_type_returns['Large Blend'],\n",
    "               fund_type_returns['Mid-Cap Growth'])"
   ]
  },
  {
   "cell_type": "markdown",
   "id": "2c887527",
   "metadata": {},
   "source": [
    " - Total variation across the dataset: \n",
    "\n",
    "    - $SS_t = SS_b + SS_w$\n",
    "    \n",
    "This is a measure of the total sum of squares in the dataset. Simply an addition of SSB and SSW. "
   ]
  },
  {
   "cell_type": "code",
   "execution_count": 78,
   "id": "1b314f5a",
   "metadata": {},
   "outputs": [],
   "source": [
    "def get_sum_square_stats(*args): \n",
    "    ssw = SSW(*args)\n",
    "    ssb = SSB(*args)\n",
    "    sst = ssb + ssw\n",
    "    return ssw, ssb, sst"
   ]
  },
  {
   "cell_type": "code",
   "execution_count": 79,
   "id": "5c11acb4",
   "metadata": {},
   "outputs": [
    {
     "data": {
      "text/plain": [
       "(52.78957070440802, 0.019414231218912323, 52.80898493562693)"
      ]
     },
     "execution_count": 79,
     "metadata": {},
     "output_type": "execute_result"
    }
   ],
   "source": [
    "get_sum_square_stats(fund_type_returns[\"Large Growth\"],\n",
    "               fund_type_returns['Large Value'],\n",
    "               fund_type_returns['Large Blend'],\n",
    "               fund_type_returns['Mid-Cap Growth'])"
   ]
  },
  {
   "cell_type": "markdown",
   "id": "2fabe040",
   "metadata": {},
   "source": [
    "#### Mean Sum of Squares \n",
    "\n",
    "For the F-statistic and by extension the ANOVA test, the _mean_ sum of squares with and between of are greater interest than the total sum of squares. Dividing each total member by the appropriate degrees of freedom allows us to compare ratios, and determine the true observed difference in variance. \n",
    "\n",
    "- Mean square (variance estimate) explained by the different groups:\n",
    "$MS_b = \\frac{SS_b}{df_b} = \\frac{SS_b}{k-1}$\n",
    "- Mean square (variance estimate) that is due to chance (unexplained): $MS_w = \\frac{SS_w}{df_w} = \\frac{SS_w}{n - k}$\n",
    "\n",
    "The one-way ANOVA test depends on the fact that $MS_b$ can be influenced by population differences among means of the several groups. Since $MS_w$ compares values of each group to its own group mean, the fact that group means might\n",
    "be different does not affect $MS_w$. The null hypothesis says that all groups are samples from populations having the same normal distribution. The alternate\n",
    "hypothesis says that at least two of the sample groups come from populations with different normal distributions. If the null hypothesis is true, $MS_b$ and $MS_w$ should both estimate the same value. \n",
    "\n",
    "Finally, we arrive at the **F-Statistic**, which will function for us as the T-Statistic did earlier this chapter, as an input into one minus its cumulative density function to recieve a p-value telling us the likelihood of its occurence if our null hypothesis was true. \n",
    "\n",
    "- $ F = \\frac{MS_b}{MS_w}$\n",
    "\n",
    "With a density function:\n",
    "<h3 align=\"center\">\n",
    "    <font size=\"5\">\n",
    "        $ f(x, df_1, df_2) = \\frac{df_2^{df_2/2} df_1^{df_1/2} x^{df_1 / 2-1}}\n",
    "                        {(df_2+df_1 x)^{(df_1+df_2)/2}\n",
    "                         \\beta(df_1/2, df_2/2)}$\n",
    "    </font>\n",
    "    </h3> \n"
   ]
  },
  {
   "cell_type": "markdown",
   "id": "23b72b2d",
   "metadata": {},
   "source": [
    "\n",
    "where $df_1$ and $df_2$ are the\n",
    "shape parameters and\n",
    "$\\beta$ is the beta function.  The formula for the beta function\n",
    "is\n",
    "<ul>\n",
    "$B(a, b) = \\int_0^1 t^{a-1}(1-t)^{b-1}dt\n",
    "        = \\frac{\\Gamma(a)\\Gamma(b)}{\\Gamma(a+b)}$,\n",
    " \n",
    "<p>where <span class=\"math notranslate nohighlight\">\\(\\Gamma\\)</span> is the gamma function.</p>\n",
    "    \n",
    "These funtions could be implemented manually using basic math symbols, but for our purposes, importing them from Scipy will be much more pragmatic.\n",
    "    \n",
    "We create the last accessory function in our ANOVA analysis called _finish_anova_. This models the survival function of the F-distribution(1 - CDF), which returns the p-value in the same way the survival function of t-distribution gave us a p-value. "
   ]
  },
  {
   "cell_type": "code",
   "execution_count": 80,
   "id": "93309540",
   "metadata": {},
   "outputs": [],
   "source": [
    "from scipy.stats import f as f_dist\n",
    "def finish_anova(f, dfwn, dfbn): \n",
    "    # use scipy to plug f-value into f distribution to return p-value\n",
    "     p_value =  1 - f_dist.cdf(f, dfwn, dfbn)\n",
    "    \n",
    "     if p_value > .05:\n",
    "        return_string = \"F-value: \" + str(f) + \", P-value: \" + str(\n",
    "            p_value) + \", Fail to reject null hypothesis.\"\n",
    "     else:\n",
    "        return_string = \"F-value: \" + str(f) + \", P-value: \" + str(\n",
    "            round(p_value, 5)) + \", Reject null hypothesis.\"\n",
    "\n",
    "     return return_string"
   ]
  },
  {
   "cell_type": "markdown",
   "id": "3d1d8e64",
   "metadata": {},
   "source": [
    "The user-called funtion _anova_ will accept a variable number of arguments and perform an ANOVA test. We use the _get_anova_counts_ function, the _get_sum_square_stats_ function, and use the returned values to calculate MSB, MSW, and f. We then send it off to _finish_anova_ for our p-value and a packaged message displaying the result. "
   ]
  },
  {
   "cell_type": "code",
   "execution_count": 81,
   "id": "9337b967",
   "metadata": {},
   "outputs": [],
   "source": [
    "# use *args command to accept variable number of arguments\n",
    "def anova(*args):\n",
    "\n",
    "    k, N, dfbn, dfwn  = get_anova_counts(*args)\n",
    "    \n",
    "    ssw, ssb, sst = get_sum_square_stats(*args)\n",
    "\n",
    "    msb = ssb / dfbn\n",
    "    msw = ssw / dfwn\n",
    "    f = msb / msw\n",
    "\n",
    "    return finish_anova(f, dfbn, dfwn)"
   ]
  },
  {
   "cell_type": "markdown",
   "id": "06cb4774",
   "metadata": {},
   "source": [
    "Finally, we can test the hypothesis that fund category influences growth. "
   ]
  },
  {
   "cell_type": "code",
   "execution_count": 82,
   "id": "21b32b10",
   "metadata": {},
   "outputs": [
    {
     "data": {
      "text/plain": [
       "'F-value: 2.8287366828879734, P-value: 0.03699, Reject null hypothesis.'"
      ]
     },
     "execution_count": 82,
     "metadata": {},
     "output_type": "execute_result"
    }
   ],
   "source": [
    "anova(fund_type_returns[\"Large Growth\"],\n",
    "      fund_type_returns['Large Value'],\n",
    "      fund_type_returns['Large Blend'],\n",
    "      fund_type_returns['Mid-Cap Growth'])"
   ]
  },
  {
   "cell_type": "markdown",
   "id": "8f9b892b",
   "metadata": {},
   "source": [
    "Compare to equivalent SciPy function: "
   ]
  },
  {
   "cell_type": "code",
   "execution_count": 83,
   "id": "22ad1c50",
   "metadata": {},
   "outputs": [
    {
     "data": {
      "text/plain": [
       "F_onewayResult(statistic=2.828736682887976, pvalue=0.036985578039280764)"
      ]
     },
     "execution_count": 83,
     "metadata": {},
     "output_type": "execute_result"
    }
   ],
   "source": [
    "stats.f_oneway(fund_type_returns[\"Large Growth\"],\n",
    "               fund_type_returns['Large Value'],\n",
    "               fund_type_returns['Large Blend'],\n",
    "               fund_type_returns['Mid-Cap Growth'])"
   ]
  },
  {
   "cell_type": "markdown",
   "id": "48f87372",
   "metadata": {},
   "source": [
    "These results suggest that from 1980 to 2020, one type of fund perfomed significantly differently than th either funds. One issue with the ANOVA is that it does not tell us which fund that was. However, there are various post-hoc tests we can do to find the outlier.\n",
    "\n",
    "##  Multiple Comparisons Procedure \n",
    "\n",
    "The first would be just to print the means, and see which one is highest. There are several hazards we can run into here(i.e., don't know error bars) but it gives an idea as to which fund may have caused the significant result. "
   ]
  },
  {
   "cell_type": "code",
   "execution_count": 84,
   "id": "e4aa59b8",
   "metadata": {},
   "outputs": [
    {
     "name": "stdout",
     "output_type": "stream",
     "text": [
      "Large Growth mean: 0.009704763373060615\n",
      "Large Value mean: 0.007858101542903239\n",
      "Large Blend mean: 0.008325036710755606\n",
      "Mid-Cap Growth mean: 0.01095978535548557\n"
     ]
    }
   ],
   "source": [
    "fund_types_list = [\"Large Growth\", \"Large Value\", \"Large Blend\", \"Mid-Cap Growth\"]\n",
    "for ftype in fund_types_list: \n",
    "    print(ftype+\" mean: \"+(str)(np.mean(fund_type_returns[ftype])))"
   ]
  },
  {
   "cell_type": "markdown",
   "id": "ddf0f089",
   "metadata": {},
   "source": [
    "Mid-Cap Growth had the highest group mean.\n",
    "\n",
    "### Bonferroni Correction\n",
    "A more robust test would be to run t-tests on each pair of groups to find which ones exhibit significant differences from each other. But we run into a problem if we use the same $\\alpha$ value of 0.05 for these tests, as the likelihood of having an erroneous conclusion increases quickly as we perform multiple tests. For instance, we have 4 groups of funds, and there are 6 unique pairs for which t-tests can be run. For this \"family\" of 6 comparisons, the familywise error rate becomes $(1 + 0.05)^6 - 1 = 0.34$. More generally, if there are $m$ comparisons perfomed with a confidence value of $1 - \\alpha$ per comparison, the familywise error rate is $1 - (1 - \\alpha)^m$. \n",
    "\n",
    "One way to solve this issue is to alter the per-comparison $\\alpha$ to be $\\frac{\\alpha}{m}$. This is known as the __Bonferroni Correction__. This makes the familywise error rate reflect the desired confidence level. \n",
    "\n",
    "First, we show results with no Bonferroni Correction: "
   ]
  },
  {
   "cell_type": "code",
   "execution_count": 85,
   "id": "70b5f1b2",
   "metadata": {},
   "outputs": [
    {
     "name": "stdout",
     "output_type": "stream",
     "text": [
      "\n",
      "ftype1: Large Growth\n",
      "ftype2: Large Value\n",
      "T-value: 2.4885130632497563, P-value: 0.01284, Reject null hypothesis. Ttest_indResult(statistic=2.220805404620902, pvalue=0.02637702776740682)\n",
      "\n",
      "ftype1: Large Value\n",
      "ftype2: Large Growth\n",
      "T-value: -2.4885130632497563, P-value: 0.01284, Reject null hypothesis. Ttest_indResult(statistic=-2.220805404620902, pvalue=0.02637702776740682)\n",
      "\n",
      "ftype1: Large Value\n",
      "ftype2: Mid-Cap Growth\n",
      "T-value: -1.9671925780055441, P-value: 0.0493, Reject null hypothesis. Ttest_indResult(statistic=-2.338963324532427, pvalue=0.01936939242849934)\n",
      "\n",
      "ftype1: Mid-Cap Growth\n",
      "ftype2: Large Value\n",
      "T-value: 1.9671925780055441, P-value: 0.0493, Reject null hypothesis. Ttest_indResult(statistic=2.338963324532427, pvalue=0.01936939242849934)\n"
     ]
    }
   ],
   "source": [
    "for ftype1 in fund_types_list: \n",
    "    for ftype2 in fund_types_list: \n",
    "        result = t_test(fund_type_returns[ftype1], fund_type_returns[ftype2], \"independent\")\n",
    "        scipy_result = stats.ttest_ind(fund_type_returns[ftype1], fund_type_returns[ftype2])\n",
    "        if(\"Reject\" in result):\n",
    "            print(\"\\nftype1: \" + ftype1 + \"\\nftype2: \" + ftype2 + \"\\n\" + result, scipy_result) "
   ]
  },
  {
   "cell_type": "markdown",
   "id": "09082805",
   "metadata": {},
   "source": [
    "As we can see, none of the p-values are below $0.05 / 6 = 0.0833$, and we conclude that no two fund types had statistically different returns with the new $\\alpha$, but there was a difference between the fund types in aggregate."
   ]
  }
 ],
 "metadata": {
  "kernelspec": {
   "display_name": "Python 3",
   "language": "python",
   "name": "python3"
  },
  "language_info": {
   "codemirror_mode": {
    "name": "ipython",
    "version": 3
   },
   "file_extension": ".py",
   "mimetype": "text/x-python",
   "name": "python",
   "nbconvert_exporter": "python",
   "pygments_lexer": "ipython3",
   "version": "3.8.8"
  }
 },
 "nbformat": 4,
 "nbformat_minor": 5
}
