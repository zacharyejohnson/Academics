{
 "cells": [
  {
   "cell_type": "markdown",
   "id": "4f9d86c1",
   "metadata": {},
   "source": [
    "# Incomplete Data \n",
    "\n",
    "Creating accurate predictions is one of the most valuable skills in the job market today. Statisticians, economists, and data scientists use data gathered from specific populations in order to predict the future. Through computational and statistical techniques, we can make _statistical inferences_ to draw conclusions from data that are often incomplete.\n",
    "\n",
    "As far as estimations of parameters that already exist, having full population data would mean that our questions about that population are answered. But because the cost of gathering a full set of information typically outweigh the benefits of having perfectly accurate data, we are okay with use data samples to draw inferences about past data and predict future observations. "
   ]
  },
  {
   "cell_type": "markdown",
   "id": "a61913fb",
   "metadata": {},
   "source": [
    "## Are Mutual Funds better than Broad-market index funds? "
   ]
  },
  {
   "cell_type": "markdown",
   "id": "00a3f826",
   "metadata": {},
   "source": [
    "The term “index fund” refers to the investment approach of a fund. Specifically, it is a fund that that aims to match the performance of a particular market index, such as the S&P 500 or Russell 2,000. The index fund simply tries to match the market. This differs from a more actively managed fund, in which investments are picked by a fund manager in an attempt to beat the market. The age old question is: are the fees payed to an actively-managed mutual fund worth it? \n",
    "\n",
    "We could simply compare the mean return from a given date range for a mutual fund and compare it to the S&P500s mean return from the same time interval, and see which is higher. But the fact that mutual funds have a limited number of time intervals which we can sample means we cannnot rule out the possibility that higher or lower returns from the fund were a result of random variation, and not an indicator of the true quality of the fund. Returns to investment in the S&P500 is a quality proxy for returns in equity markets. Although returns to the S&P 500 experience stochasticity, on average the average rate of return from a mutual fund data should beat S&P returns on average if active investment is actually improving the rate of return. So, we need to analyze the two funds using statistical techniques which account for random variation that is possible from incomplete data. \n",
    "\n",
    "We would like to ananlyze which(if any) mutual funds have out-performed the market, fees included. To start, we read the CSV downloaded from [Stock Market MBA](https://stockmarketmba.com/listoftop100activelymanagedusstockmutualfunds.php), which shows the 100 largest actively-managed mutual funds in the US. "
   ]
  },
  {
   "cell_type": "code",
   "execution_count": 3,
   "id": "9639b58f",
   "metadata": {},
   "outputs": [],
   "source": [
    "# import required libraries: numpy and pandas \n",
    "import numpy as np\n",
    "import pandas as pd"
   ]
  },
  {
   "cell_type": "code",
   "execution_count": 4,
   "id": "53de08b9",
   "metadata": {},
   "outputs": [
    {
     "data": {
      "text/html": [
       "<div>\n",
       "<style scoped>\n",
       "    .dataframe tbody tr th:only-of-type {\n",
       "        vertical-align: middle;\n",
       "    }\n",
       "\n",
       "    .dataframe tbody tr th {\n",
       "        vertical-align: top;\n",
       "    }\n",
       "\n",
       "    .dataframe thead th {\n",
       "        text-align: right;\n",
       "    }\n",
       "</style>\n",
       "<table border=\"1\" class=\"dataframe\">\n",
       "  <thead>\n",
       "    <tr style=\"text-align: right;\">\n",
       "      <th></th>\n",
       "      <th>Symbol</th>\n",
       "      <th>Name</th>\n",
       "      <th>Category1</th>\n",
       "      <th>Category2</th>\n",
       "      <th>Category3</th>\n",
       "      <th>Morningstar Category</th>\n",
       "      <th>Morningstar Rating</th>\n",
       "      <th>Market cap</th>\n",
       "      <th>Current yield</th>\n",
       "      <th>Fees</th>\n",
       "      <th>Action</th>\n",
       "    </tr>\n",
       "  </thead>\n",
       "  <tbody>\n",
       "    <tr>\n",
       "      <th>0</th>\n",
       "      <td>CWMAX</td>\n",
       "      <td>American Funds Washington Mutual Investors Fun...</td>\n",
       "      <td>US Equity</td>\n",
       "      <td>Broad market</td>\n",
       "      <td>Large cap</td>\n",
       "      <td>Large Blend</td>\n",
       "      <td>3.0</td>\n",
       "      <td>$113,300,000,000</td>\n",
       "      <td>0.00%</td>\n",
       "      <td>0.63%</td>\n",
       "      <td>Analyze</td>\n",
       "    </tr>\n",
       "    <tr>\n",
       "      <th>1</th>\n",
       "      <td>CWMCX</td>\n",
       "      <td>American Funds Washington Mutual Investors Fun...</td>\n",
       "      <td>US Equity</td>\n",
       "      <td>Broad market</td>\n",
       "      <td>Large cap</td>\n",
       "      <td>Large Blend</td>\n",
       "      <td>3.0</td>\n",
       "      <td>$113,300,000,000</td>\n",
       "      <td>0.00%</td>\n",
       "      <td>1.40%</td>\n",
       "      <td>Analyze</td>\n",
       "    </tr>\n",
       "    <tr>\n",
       "      <th>2</th>\n",
       "      <td>CWMEX</td>\n",
       "      <td>American Funds Washington Mutual Investors Fun...</td>\n",
       "      <td>US Equity</td>\n",
       "      <td>Broad market</td>\n",
       "      <td>Large cap</td>\n",
       "      <td>Large Blend</td>\n",
       "      <td>3.0</td>\n",
       "      <td>$113,300,000,000</td>\n",
       "      <td>0.00%</td>\n",
       "      <td>0.87%</td>\n",
       "      <td>Analyze</td>\n",
       "    </tr>\n",
       "    <tr>\n",
       "      <th>3</th>\n",
       "      <td>CWMFX</td>\n",
       "      <td>American Funds Washington Mutual Investors Fun...</td>\n",
       "      <td>US Equity</td>\n",
       "      <td>Broad market</td>\n",
       "      <td>Large cap</td>\n",
       "      <td>Large Blend</td>\n",
       "      <td>3.0</td>\n",
       "      <td>$113,300,000,000</td>\n",
       "      <td>0.00%</td>\n",
       "      <td>0.40%</td>\n",
       "      <td>Analyze</td>\n",
       "    </tr>\n",
       "    <tr>\n",
       "      <th>4</th>\n",
       "      <td>FCNTX</td>\n",
       "      <td>Fidelity Contrafund Fund</td>\n",
       "      <td>US Equity</td>\n",
       "      <td>Broad market</td>\n",
       "      <td>Large cap</td>\n",
       "      <td>Large Growth</td>\n",
       "      <td>3.0</td>\n",
       "      <td>$112,728,420,000</td>\n",
       "      <td>0.00%</td>\n",
       "      <td>0.74%</td>\n",
       "      <td>Analyze</td>\n",
       "    </tr>\n",
       "    <tr>\n",
       "      <th>...</th>\n",
       "      <td>...</td>\n",
       "      <td>...</td>\n",
       "      <td>...</td>\n",
       "      <td>...</td>\n",
       "      <td>...</td>\n",
       "      <td>...</td>\n",
       "      <td>...</td>\n",
       "      <td>...</td>\n",
       "      <td>...</td>\n",
       "      <td>...</td>\n",
       "      <td>...</td>\n",
       "    </tr>\n",
       "    <tr>\n",
       "      <th>95</th>\n",
       "      <td>MSIGX</td>\n",
       "      <td>Invesco Main Street Fund Class A</td>\n",
       "      <td>US Equity</td>\n",
       "      <td>Broad market</td>\n",
       "      <td>Large cap</td>\n",
       "      <td>Large Blend</td>\n",
       "      <td>3.0</td>\n",
       "      <td>$9,044,490,000</td>\n",
       "      <td>0.00%</td>\n",
       "      <td>0.92%</td>\n",
       "      <td>Analyze</td>\n",
       "    </tr>\n",
       "    <tr>\n",
       "      <th>96</th>\n",
       "      <td>TWCGX</td>\n",
       "      <td>American Century Growth Fund Investor Class</td>\n",
       "      <td>US Equity</td>\n",
       "      <td>Broad market</td>\n",
       "      <td>Large cap</td>\n",
       "      <td>Large Growth</td>\n",
       "      <td>3.0</td>\n",
       "      <td>$8,853,810,000</td>\n",
       "      <td>0.00%</td>\n",
       "      <td>0.98%</td>\n",
       "      <td>Analyze</td>\n",
       "    </tr>\n",
       "    <tr>\n",
       "      <th>97</th>\n",
       "      <td>CGPAX</td>\n",
       "      <td>American Funds Growth Portfolio Class 529-A</td>\n",
       "      <td>US Equity</td>\n",
       "      <td>Broad market</td>\n",
       "      <td>Large cap</td>\n",
       "      <td>Large Growth</td>\n",
       "      <td>2.0</td>\n",
       "      <td>$8,800,000,000</td>\n",
       "      <td>0.00%</td>\n",
       "      <td>0.80%</td>\n",
       "      <td>Analyze</td>\n",
       "    </tr>\n",
       "    <tr>\n",
       "      <th>98</th>\n",
       "      <td>CGPCX</td>\n",
       "      <td>American Funds Growth Portfolio Class 529-C</td>\n",
       "      <td>US Equity</td>\n",
       "      <td>Broad market</td>\n",
       "      <td>Large cap</td>\n",
       "      <td>Large Growth</td>\n",
       "      <td>1.0</td>\n",
       "      <td>$8,800,000,000</td>\n",
       "      <td>0.00%</td>\n",
       "      <td>1.56%</td>\n",
       "      <td>Analyze</td>\n",
       "    </tr>\n",
       "    <tr>\n",
       "      <th>99</th>\n",
       "      <td>CGPEX</td>\n",
       "      <td>American Funds Growth Portfolio Class 529-E</td>\n",
       "      <td>US Equity</td>\n",
       "      <td>Broad market</td>\n",
       "      <td>Large cap</td>\n",
       "      <td>Large Growth</td>\n",
       "      <td>2.0</td>\n",
       "      <td>$8,800,000,000</td>\n",
       "      <td>0.00%</td>\n",
       "      <td>1.00%</td>\n",
       "      <td>Analyze</td>\n",
       "    </tr>\n",
       "  </tbody>\n",
       "</table>\n",
       "<p>100 rows × 11 columns</p>\n",
       "</div>"
      ],
      "text/plain": [
       "   Symbol                                               Name  Category1  \\\n",
       "0   CWMAX  American Funds Washington Mutual Investors Fun...  US Equity   \n",
       "1   CWMCX  American Funds Washington Mutual Investors Fun...  US Equity   \n",
       "2   CWMEX  American Funds Washington Mutual Investors Fun...  US Equity   \n",
       "3   CWMFX  American Funds Washington Mutual Investors Fun...  US Equity   \n",
       "4   FCNTX                           Fidelity Contrafund Fund  US Equity   \n",
       "..    ...                                                ...        ...   \n",
       "95  MSIGX                   Invesco Main Street Fund Class A  US Equity   \n",
       "96  TWCGX        American Century Growth Fund Investor Class  US Equity   \n",
       "97  CGPAX        American Funds Growth Portfolio Class 529-A  US Equity   \n",
       "98  CGPCX        American Funds Growth Portfolio Class 529-C  US Equity   \n",
       "99  CGPEX        American Funds Growth Portfolio Class 529-E  US Equity   \n",
       "\n",
       "       Category2  Category3 Morningstar Category  Morningstar Rating  \\\n",
       "0   Broad market  Large cap          Large Blend                 3.0   \n",
       "1   Broad market  Large cap          Large Blend                 3.0   \n",
       "2   Broad market  Large cap          Large Blend                 3.0   \n",
       "3   Broad market  Large cap          Large Blend                 3.0   \n",
       "4   Broad market  Large cap         Large Growth                 3.0   \n",
       "..           ...        ...                  ...                 ...   \n",
       "95  Broad market  Large cap          Large Blend                 3.0   \n",
       "96  Broad market  Large cap         Large Growth                 3.0   \n",
       "97  Broad market  Large cap         Large Growth                 2.0   \n",
       "98  Broad market  Large cap         Large Growth                 1.0   \n",
       "99  Broad market  Large cap         Large Growth                 2.0   \n",
       "\n",
       "          Market cap Current yield   Fees   Action  \n",
       "0   $113,300,000,000         0.00%  0.63%  Analyze  \n",
       "1   $113,300,000,000         0.00%  1.40%  Analyze  \n",
       "2   $113,300,000,000         0.00%  0.87%  Analyze  \n",
       "3   $113,300,000,000         0.00%  0.40%  Analyze  \n",
       "4   $112,728,420,000         0.00%  0.74%  Analyze  \n",
       "..               ...           ...    ...      ...  \n",
       "95    $9,044,490,000         0.00%  0.92%  Analyze  \n",
       "96    $8,853,810,000         0.00%  0.98%  Analyze  \n",
       "97    $8,800,000,000         0.00%  0.80%  Analyze  \n",
       "98    $8,800,000,000         0.00%  1.56%  Analyze  \n",
       "99    $8,800,000,000         0.00%  1.00%  Analyze  \n",
       "\n",
       "[100 rows x 11 columns]"
      ]
     },
     "execution_count": 4,
     "metadata": {},
     "output_type": "execute_result"
    }
   ],
   "source": [
    "# import csv file to pandas dataframe \n",
    "mutual_fund_data = pd.read_csv(\"Top100MutualFunds.csv\")\n",
    "mutual_fund_data"
   ]
  },
  {
   "cell_type": "markdown",
   "id": "c5360d91",
   "metadata": {},
   "source": [
    "We don't need to include every category for each fund. Let's drop all categories except for the Morningstar Category. We'll also drop the Morningstar Rating and Action columns."
   ]
  },
  {
   "cell_type": "code",
   "execution_count": 5,
   "id": "bcf09e74",
   "metadata": {},
   "outputs": [
    {
     "data": {
      "text/html": [
       "<div>\n",
       "<style scoped>\n",
       "    .dataframe tbody tr th:only-of-type {\n",
       "        vertical-align: middle;\n",
       "    }\n",
       "\n",
       "    .dataframe tbody tr th {\n",
       "        vertical-align: top;\n",
       "    }\n",
       "\n",
       "    .dataframe thead th {\n",
       "        text-align: right;\n",
       "    }\n",
       "</style>\n",
       "<table border=\"1\" class=\"dataframe\">\n",
       "  <thead>\n",
       "    <tr style=\"text-align: right;\">\n",
       "      <th></th>\n",
       "      <th>Symbol</th>\n",
       "      <th>Name</th>\n",
       "      <th>Morningstar Category</th>\n",
       "      <th>Market cap</th>\n",
       "      <th>Fees</th>\n",
       "    </tr>\n",
       "  </thead>\n",
       "  <tbody>\n",
       "    <tr>\n",
       "      <th>0</th>\n",
       "      <td>CWMAX</td>\n",
       "      <td>American Funds Washington Mutual Investors Fun...</td>\n",
       "      <td>Large Blend</td>\n",
       "      <td>$113,300,000,000</td>\n",
       "      <td>0.63%</td>\n",
       "    </tr>\n",
       "    <tr>\n",
       "      <th>1</th>\n",
       "      <td>CWMCX</td>\n",
       "      <td>American Funds Washington Mutual Investors Fun...</td>\n",
       "      <td>Large Blend</td>\n",
       "      <td>$113,300,000,000</td>\n",
       "      <td>1.40%</td>\n",
       "    </tr>\n",
       "    <tr>\n",
       "      <th>2</th>\n",
       "      <td>CWMEX</td>\n",
       "      <td>American Funds Washington Mutual Investors Fun...</td>\n",
       "      <td>Large Blend</td>\n",
       "      <td>$113,300,000,000</td>\n",
       "      <td>0.87%</td>\n",
       "    </tr>\n",
       "    <tr>\n",
       "      <th>3</th>\n",
       "      <td>CWMFX</td>\n",
       "      <td>American Funds Washington Mutual Investors Fun...</td>\n",
       "      <td>Large Blend</td>\n",
       "      <td>$113,300,000,000</td>\n",
       "      <td>0.40%</td>\n",
       "    </tr>\n",
       "    <tr>\n",
       "      <th>4</th>\n",
       "      <td>FCNTX</td>\n",
       "      <td>Fidelity Contrafund Fund</td>\n",
       "      <td>Large Growth</td>\n",
       "      <td>$112,728,420,000</td>\n",
       "      <td>0.74%</td>\n",
       "    </tr>\n",
       "  </tbody>\n",
       "</table>\n",
       "</div>"
      ],
      "text/plain": [
       "  Symbol                                               Name  \\\n",
       "0  CWMAX  American Funds Washington Mutual Investors Fun...   \n",
       "1  CWMCX  American Funds Washington Mutual Investors Fun...   \n",
       "2  CWMEX  American Funds Washington Mutual Investors Fun...   \n",
       "3  CWMFX  American Funds Washington Mutual Investors Fun...   \n",
       "4  FCNTX                           Fidelity Contrafund Fund   \n",
       "\n",
       "  Morningstar Category        Market cap   Fees  \n",
       "0          Large Blend  $113,300,000,000  0.63%  \n",
       "1          Large Blend  $113,300,000,000  1.40%  \n",
       "2          Large Blend  $113,300,000,000  0.87%  \n",
       "3          Large Blend  $113,300,000,000  0.40%  \n",
       "4         Large Growth  $112,728,420,000  0.74%  "
      ]
     },
     "execution_count": 5,
     "metadata": {},
     "output_type": "execute_result"
    }
   ],
   "source": [
    "to_drop = [\n",
    "    \"Category2\", \"Category1\", \"Category3\", \"Morningstar Rating\",\n",
    "    \"Current yield\", \"Action\"\n",
    "]\n",
    "mutual_fund_data = mutual_fund_data.drop(columns=to_drop)\n",
    "mutual_fund_data.head()"
   ]
  },
  {
   "cell_type": "markdown",
   "id": "a0b0b53b",
   "metadata": {},
   "source": [
    "The symbols column from *mutual_fund_data* contains the ticker symbol that we can use to download data from each fund.  If you have not yet done so, install the module using:"
   ]
  },
  {
   "cell_type": "code",
   "execution_count": 6,
   "id": "34fa621c",
   "metadata": {},
   "outputs": [],
   "source": [
    "#!pip install pandas-datareader"
   ]
  },
  {
   "cell_type": "markdown",
   "id": "74324a70",
   "metadata": {},
   "source": [
    "Next we need to prepare to download the data. We can save the list of symbols and pass each symbol to pandas_datareader. We also need to choose the range of dates to include. Finally, we will save each fund in a dictionary using the ticker sympol as the key for data for that symbol."
   ]
  },
  {
   "cell_type": "code",
   "execution_count": 14,
   "id": "2f5aac29",
   "metadata": {},
   "outputs": [
    {
     "data": {
      "text/plain": [
       "(datetime.datetime(1980, 1, 1, 0, 0),\n",
       " datetime.datetime(2020, 1, 1, 0, 0),\n",
       " ['CWMAX',\n",
       "  'CWMCX',\n",
       "  'CWMEX',\n",
       "  'CWMFX',\n",
       "  'FCNTX',\n",
       "  'AGTHX',\n",
       "  'AWSHX',\n",
       "  'AIVSX',\n",
       "  'AMCFX',\n",
       "  'CAFAX',\n",
       "  'CAFCX',\n",
       "  'CAFEX',\n",
       "  'CAFFX',\n",
       "  'FMACX',\n",
       "  'ANCFX',\n",
       "  'AFMFX',\n",
       "  'AMRFX',\n",
       "  'CMLAX',\n",
       "  'CMLCX',\n",
       "  'CMLEX',\n",
       "  'CMLFX',\n",
       "  'FBGRX',\n",
       "  'FDGRX',\n",
       "  'TRBCX',\n",
       "  'EAGRX',\n",
       "  'AMRMX',\n",
       "  'AMCPX',\n",
       "  'FMAGX',\n",
       "  'FLPSX',\n",
       "  'DFQTX',\n",
       "  'DFEOX',\n",
       "  'FLPKX',\n",
       "  'HACAX',\n",
       "  'CNGAX',\n",
       "  'CNGCX',\n",
       "  'CNGEX',\n",
       "  'CNGFX',\n",
       "  'FNEFX',\n",
       "  'FOCKX',\n",
       "  'FOCPX',\n",
       "  'DFLVX',\n",
       "  'HLIEX',\n",
       "  'CDDRX',\n",
       "  'CDDYX',\n",
       "  'CDIRX',\n",
       "  'CVIRX',\n",
       "  'EGFFX',\n",
       "  'EGFIX',\n",
       "  'PRGFX',\n",
       "  'FRDPX',\n",
       "  'TWCUX',\n",
       "  'FRDAX',\n",
       "  'FRDRX',\n",
       "  'FRISX',\n",
       "  'PRNHX',\n",
       "  'RPMGX',\n",
       "  'PRILX',\n",
       "  'DDFIX',\n",
       "  'DDFRX',\n",
       "  'JVMIX',\n",
       "  'FCGAX',\n",
       "  'FGSRX',\n",
       "  'FIFRX',\n",
       "  'PRBLX',\n",
       "  'ANEFX',\n",
       "  'PCBIX',\n",
       "  'VAFAX',\n",
       "  'AULDX',\n",
       "  'AULGX',\n",
       "  'AULNX',\n",
       "  'AULRX',\n",
       "  'AULYX',\n",
       "  'VWNFX',\n",
       "  'AKRSX',\n",
       "  'MFEIX',\n",
       "  'PRFDX',\n",
       "  'MADVX',\n",
       "  'FKGRX',\n",
       "  'PRDGX',\n",
       "  'PRHSX',\n",
       "  'POLIX',\n",
       "  'CUSUX',\n",
       "  'ERASX',\n",
       "  'ERSMX',\n",
       "  'DFSVX',\n",
       "  'SEEGX',\n",
       "  'LSGRX',\n",
       "  'FKDNX',\n",
       "  'PEYAX',\n",
       "  'FDNRX',\n",
       "  'FDTRX',\n",
       "  'FDYZX',\n",
       "  'VWUSX',\n",
       "  'BBVLX',\n",
       "  'CMGIX',\n",
       "  'MSIGX',\n",
       "  'TWCGX',\n",
       "  'CGPAX',\n",
       "  'CGPCX',\n",
       "  'CGPEX'])"
      ]
     },
     "execution_count": 14,
     "metadata": {},
     "output_type": "execute_result"
    }
   ],
   "source": [
    "# import pandas datareader and datetime to pull fund data from yahoo\n",
    "import pandas_datareader as web\n",
    "import datetime as dt\n",
    "\n",
    "mutual_fund_dict = {}\n",
    "symbols = list(mutual_fund_data[\"Symbol\"])\n",
    "\n",
    "start = dt.datetime(1980, 1, 1)\n",
    "end = dt.datetime(2020, 1, 1)\n",
    "(start, end, symbols)"
   ]
  },
  {
   "cell_type": "markdown",
   "id": "65e98e0f",
   "metadata": {},
   "source": [
    "Now we are ready to download the data. "
   ]
  },
  {
   "cell_type": "markdown",
   "id": "1ce4f30d",
   "metadata": {},
   "source": [
    "** As of 2022, the pandas datareader yahooreader mechanics have changed. The following code needs to be run to fix it. **"
   ]
  },
  {
   "cell_type": "code",
   "execution_count": 26,
   "id": "ced80df2",
   "metadata": {},
   "outputs": [
    {
     "name": "stdout",
     "output_type": "stream",
     "text": [
      "[*********************100%***********************]  100 of 100 completed\n"
     ]
    }
   ],
   "source": [
    "#pull mutual fund data for our chosen timeframe\n",
    "from pandas_datareader import data as pdr\n",
    "import yfinance as yf\n",
    "yf.pdr_override()\n",
    "\n",
    "fund_data = pdr.get_data_yahoo(symbols, start=start, end=end)"
   ]
  },
  {
   "cell_type": "markdown",
   "id": "b5309a47",
   "metadata": {},
   "source": [
    "Display the DataFrame we just made: "
   ]
  },
  {
   "cell_type": "code",
   "execution_count": 27,
   "id": "42f9a960",
   "metadata": {},
   "outputs": [
    {
     "data": {
      "text/html": [
       "<div>\n",
       "<style scoped>\n",
       "    .dataframe tbody tr th:only-of-type {\n",
       "        vertical-align: middle;\n",
       "    }\n",
       "\n",
       "    .dataframe tbody tr th {\n",
       "        vertical-align: top;\n",
       "    }\n",
       "\n",
       "    .dataframe thead tr th {\n",
       "        text-align: left;\n",
       "    }\n",
       "\n",
       "    .dataframe thead tr:last-of-type th {\n",
       "        text-align: right;\n",
       "    }\n",
       "</style>\n",
       "<table border=\"1\" class=\"dataframe\">\n",
       "  <thead>\n",
       "    <tr>\n",
       "      <th></th>\n",
       "      <th colspan=\"10\" halign=\"left\">Adj Close</th>\n",
       "      <th>...</th>\n",
       "      <th colspan=\"10\" halign=\"left\">Volume</th>\n",
       "    </tr>\n",
       "    <tr>\n",
       "      <th></th>\n",
       "      <th>AFMFX</th>\n",
       "      <th>AGTHX</th>\n",
       "      <th>AIVSX</th>\n",
       "      <th>AKRSX</th>\n",
       "      <th>AMCFX</th>\n",
       "      <th>AMCPX</th>\n",
       "      <th>AMRFX</th>\n",
       "      <th>AMRMX</th>\n",
       "      <th>ANCFX</th>\n",
       "      <th>ANEFX</th>\n",
       "      <th>...</th>\n",
       "      <th>PRILX</th>\n",
       "      <th>PRNHX</th>\n",
       "      <th>RPMGX</th>\n",
       "      <th>SEEGX</th>\n",
       "      <th>TRBCX</th>\n",
       "      <th>TWCGX</th>\n",
       "      <th>TWCUX</th>\n",
       "      <th>VAFAX</th>\n",
       "      <th>VWNFX</th>\n",
       "      <th>VWUSX</th>\n",
       "    </tr>\n",
       "    <tr>\n",
       "      <th>Date</th>\n",
       "      <th></th>\n",
       "      <th></th>\n",
       "      <th></th>\n",
       "      <th></th>\n",
       "      <th></th>\n",
       "      <th></th>\n",
       "      <th></th>\n",
       "      <th></th>\n",
       "      <th></th>\n",
       "      <th></th>\n",
       "      <th></th>\n",
       "      <th></th>\n",
       "      <th></th>\n",
       "      <th></th>\n",
       "      <th></th>\n",
       "      <th></th>\n",
       "      <th></th>\n",
       "      <th></th>\n",
       "      <th></th>\n",
       "      <th></th>\n",
       "      <th></th>\n",
       "    </tr>\n",
       "  </thead>\n",
       "  <tbody>\n",
       "    <tr>\n",
       "      <th>1980-01-02</th>\n",
       "      <td>NaN</td>\n",
       "      <td>0.669570</td>\n",
       "      <td>NaN</td>\n",
       "      <td>NaN</td>\n",
       "      <td>NaN</td>\n",
       "      <td>NaN</td>\n",
       "      <td>NaN</td>\n",
       "      <td>NaN</td>\n",
       "      <td>0.740867</td>\n",
       "      <td>NaN</td>\n",
       "      <td>...</td>\n",
       "      <td>NaN</td>\n",
       "      <td>0</td>\n",
       "      <td>NaN</td>\n",
       "      <td>NaN</td>\n",
       "      <td>NaN</td>\n",
       "      <td>0</td>\n",
       "      <td>NaN</td>\n",
       "      <td>NaN</td>\n",
       "      <td>NaN</td>\n",
       "      <td>0</td>\n",
       "    </tr>\n",
       "    <tr>\n",
       "      <th>1980-01-03</th>\n",
       "      <td>NaN</td>\n",
       "      <td>0.681248</td>\n",
       "      <td>NaN</td>\n",
       "      <td>NaN</td>\n",
       "      <td>NaN</td>\n",
       "      <td>NaN</td>\n",
       "      <td>NaN</td>\n",
       "      <td>NaN</td>\n",
       "      <td>0.736735</td>\n",
       "      <td>NaN</td>\n",
       "      <td>...</td>\n",
       "      <td>NaN</td>\n",
       "      <td>0</td>\n",
       "      <td>NaN</td>\n",
       "      <td>NaN</td>\n",
       "      <td>NaN</td>\n",
       "      <td>0</td>\n",
       "      <td>NaN</td>\n",
       "      <td>NaN</td>\n",
       "      <td>NaN</td>\n",
       "      <td>0</td>\n",
       "    </tr>\n",
       "    <tr>\n",
       "      <th>1980-01-04</th>\n",
       "      <td>NaN</td>\n",
       "      <td>0.681248</td>\n",
       "      <td>NaN</td>\n",
       "      <td>NaN</td>\n",
       "      <td>NaN</td>\n",
       "      <td>NaN</td>\n",
       "      <td>NaN</td>\n",
       "      <td>NaN</td>\n",
       "      <td>0.748100</td>\n",
       "      <td>NaN</td>\n",
       "      <td>...</td>\n",
       "      <td>NaN</td>\n",
       "      <td>0</td>\n",
       "      <td>NaN</td>\n",
       "      <td>NaN</td>\n",
       "      <td>NaN</td>\n",
       "      <td>0</td>\n",
       "      <td>NaN</td>\n",
       "      <td>NaN</td>\n",
       "      <td>NaN</td>\n",
       "      <td>0</td>\n",
       "    </tr>\n",
       "    <tr>\n",
       "      <th>1980-01-07</th>\n",
       "      <td>NaN</td>\n",
       "      <td>0.698766</td>\n",
       "      <td>NaN</td>\n",
       "      <td>NaN</td>\n",
       "      <td>NaN</td>\n",
       "      <td>NaN</td>\n",
       "      <td>NaN</td>\n",
       "      <td>NaN</td>\n",
       "      <td>0.751201</td>\n",
       "      <td>NaN</td>\n",
       "      <td>...</td>\n",
       "      <td>NaN</td>\n",
       "      <td>0</td>\n",
       "      <td>NaN</td>\n",
       "      <td>NaN</td>\n",
       "      <td>NaN</td>\n",
       "      <td>0</td>\n",
       "      <td>NaN</td>\n",
       "      <td>NaN</td>\n",
       "      <td>NaN</td>\n",
       "      <td>0</td>\n",
       "    </tr>\n",
       "    <tr>\n",
       "      <th>1980-01-08</th>\n",
       "      <td>NaN</td>\n",
       "      <td>0.706552</td>\n",
       "      <td>NaN</td>\n",
       "      <td>NaN</td>\n",
       "      <td>NaN</td>\n",
       "      <td>NaN</td>\n",
       "      <td>NaN</td>\n",
       "      <td>NaN</td>\n",
       "      <td>0.769799</td>\n",
       "      <td>NaN</td>\n",
       "      <td>...</td>\n",
       "      <td>NaN</td>\n",
       "      <td>0</td>\n",
       "      <td>NaN</td>\n",
       "      <td>NaN</td>\n",
       "      <td>NaN</td>\n",
       "      <td>0</td>\n",
       "      <td>NaN</td>\n",
       "      <td>NaN</td>\n",
       "      <td>NaN</td>\n",
       "      <td>0</td>\n",
       "    </tr>\n",
       "    <tr>\n",
       "      <th>...</th>\n",
       "      <td>...</td>\n",
       "      <td>...</td>\n",
       "      <td>...</td>\n",
       "      <td>...</td>\n",
       "      <td>...</td>\n",
       "      <td>...</td>\n",
       "      <td>...</td>\n",
       "      <td>...</td>\n",
       "      <td>...</td>\n",
       "      <td>...</td>\n",
       "      <td>...</td>\n",
       "      <td>...</td>\n",
       "      <td>...</td>\n",
       "      <td>...</td>\n",
       "      <td>...</td>\n",
       "      <td>...</td>\n",
       "      <td>...</td>\n",
       "      <td>...</td>\n",
       "      <td>...</td>\n",
       "      <td>...</td>\n",
       "      <td>...</td>\n",
       "    </tr>\n",
       "    <tr>\n",
       "      <th>2019-12-24</th>\n",
       "      <td>39.670300</td>\n",
       "      <td>45.222630</td>\n",
       "      <td>35.271122</td>\n",
       "      <td>44.093079</td>\n",
       "      <td>28.316504</td>\n",
       "      <td>28.111414</td>\n",
       "      <td>39.786991</td>\n",
       "      <td>40.040718</td>\n",
       "      <td>52.414665</td>\n",
       "      <td>41.431477</td>\n",
       "      <td>...</td>\n",
       "      <td>0.0</td>\n",
       "      <td>0</td>\n",
       "      <td>0.0</td>\n",
       "      <td>0.0</td>\n",
       "      <td>0.0</td>\n",
       "      <td>0</td>\n",
       "      <td>0.0</td>\n",
       "      <td>0.0</td>\n",
       "      <td>0.0</td>\n",
       "      <td>0</td>\n",
       "    </tr>\n",
       "    <tr>\n",
       "      <th>2019-12-26</th>\n",
       "      <td>39.761623</td>\n",
       "      <td>45.452366</td>\n",
       "      <td>35.422726</td>\n",
       "      <td>44.218590</td>\n",
       "      <td>28.408522</td>\n",
       "      <td>28.203419</td>\n",
       "      <td>39.878586</td>\n",
       "      <td>40.132858</td>\n",
       "      <td>52.651573</td>\n",
       "      <td>41.576214</td>\n",
       "      <td>...</td>\n",
       "      <td>0.0</td>\n",
       "      <td>0</td>\n",
       "      <td>0.0</td>\n",
       "      <td>0.0</td>\n",
       "      <td>0.0</td>\n",
       "      <td>0</td>\n",
       "      <td>0.0</td>\n",
       "      <td>0.0</td>\n",
       "      <td>0.0</td>\n",
       "      <td>0</td>\n",
       "    </tr>\n",
       "    <tr>\n",
       "      <th>2019-12-27</th>\n",
       "      <td>39.789024</td>\n",
       "      <td>45.443531</td>\n",
       "      <td>35.422726</td>\n",
       "      <td>44.276520</td>\n",
       "      <td>28.400156</td>\n",
       "      <td>28.186691</td>\n",
       "      <td>39.906067</td>\n",
       "      <td>40.160492</td>\n",
       "      <td>52.702339</td>\n",
       "      <td>41.576214</td>\n",
       "      <td>...</td>\n",
       "      <td>0.0</td>\n",
       "      <td>0</td>\n",
       "      <td>0.0</td>\n",
       "      <td>0.0</td>\n",
       "      <td>0.0</td>\n",
       "      <td>0</td>\n",
       "      <td>0.0</td>\n",
       "      <td>0.0</td>\n",
       "      <td>0.0</td>\n",
       "      <td>0</td>\n",
       "    </tr>\n",
       "    <tr>\n",
       "      <th>2019-12-30</th>\n",
       "      <td>39.633774</td>\n",
       "      <td>45.045914</td>\n",
       "      <td>35.181934</td>\n",
       "      <td>44.112389</td>\n",
       "      <td>28.216122</td>\n",
       "      <td>28.002682</td>\n",
       "      <td>39.750355</td>\n",
       "      <td>40.003868</td>\n",
       "      <td>52.338516</td>\n",
       "      <td>41.259598</td>\n",
       "      <td>...</td>\n",
       "      <td>0.0</td>\n",
       "      <td>0</td>\n",
       "      <td>0.0</td>\n",
       "      <td>0.0</td>\n",
       "      <td>0.0</td>\n",
       "      <td>0</td>\n",
       "      <td>0.0</td>\n",
       "      <td>0.0</td>\n",
       "      <td>0.0</td>\n",
       "      <td>0</td>\n",
       "    </tr>\n",
       "    <tr>\n",
       "      <th>2019-12-31</th>\n",
       "      <td>39.725094</td>\n",
       "      <td>45.178452</td>\n",
       "      <td>35.288956</td>\n",
       "      <td>44.218590</td>\n",
       "      <td>28.283043</td>\n",
       "      <td>28.077955</td>\n",
       "      <td>39.841946</td>\n",
       "      <td>40.096001</td>\n",
       "      <td>52.473896</td>\n",
       "      <td>41.359108</td>\n",
       "      <td>...</td>\n",
       "      <td>0.0</td>\n",
       "      <td>0</td>\n",
       "      <td>0.0</td>\n",
       "      <td>0.0</td>\n",
       "      <td>0.0</td>\n",
       "      <td>0</td>\n",
       "      <td>0.0</td>\n",
       "      <td>0.0</td>\n",
       "      <td>0.0</td>\n",
       "      <td>0</td>\n",
       "    </tr>\n",
       "  </tbody>\n",
       "</table>\n",
       "<p>10087 rows × 600 columns</p>\n",
       "</div>"
      ],
      "text/plain": [
       "            Adj Close                                                         \\\n",
       "                AFMFX      AGTHX      AIVSX      AKRSX      AMCFX      AMCPX   \n",
       "Date                                                                           \n",
       "1980-01-02        NaN   0.669570        NaN        NaN        NaN        NaN   \n",
       "1980-01-03        NaN   0.681248        NaN        NaN        NaN        NaN   \n",
       "1980-01-04        NaN   0.681248        NaN        NaN        NaN        NaN   \n",
       "1980-01-07        NaN   0.698766        NaN        NaN        NaN        NaN   \n",
       "1980-01-08        NaN   0.706552        NaN        NaN        NaN        NaN   \n",
       "...               ...        ...        ...        ...        ...        ...   \n",
       "2019-12-24  39.670300  45.222630  35.271122  44.093079  28.316504  28.111414   \n",
       "2019-12-26  39.761623  45.452366  35.422726  44.218590  28.408522  28.203419   \n",
       "2019-12-27  39.789024  45.443531  35.422726  44.276520  28.400156  28.186691   \n",
       "2019-12-30  39.633774  45.045914  35.181934  44.112389  28.216122  28.002682   \n",
       "2019-12-31  39.725094  45.178452  35.288956  44.218590  28.283043  28.077955   \n",
       "\n",
       "                                                        ... Volume        \\\n",
       "                AMRFX      AMRMX      ANCFX      ANEFX  ...  PRILX PRNHX   \n",
       "Date                                                    ...                \n",
       "1980-01-02        NaN        NaN   0.740867        NaN  ...    NaN     0   \n",
       "1980-01-03        NaN        NaN   0.736735        NaN  ...    NaN     0   \n",
       "1980-01-04        NaN        NaN   0.748100        NaN  ...    NaN     0   \n",
       "1980-01-07        NaN        NaN   0.751201        NaN  ...    NaN     0   \n",
       "1980-01-08        NaN        NaN   0.769799        NaN  ...    NaN     0   \n",
       "...               ...        ...        ...        ...  ...    ...   ...   \n",
       "2019-12-24  39.786991  40.040718  52.414665  41.431477  ...    0.0     0   \n",
       "2019-12-26  39.878586  40.132858  52.651573  41.576214  ...    0.0     0   \n",
       "2019-12-27  39.906067  40.160492  52.702339  41.576214  ...    0.0     0   \n",
       "2019-12-30  39.750355  40.003868  52.338516  41.259598  ...    0.0     0   \n",
       "2019-12-31  39.841946  40.096001  52.473896  41.359108  ...    0.0     0   \n",
       "\n",
       "                                                            \n",
       "           RPMGX SEEGX TRBCX TWCGX TWCUX VAFAX VWNFX VWUSX  \n",
       "Date                                                        \n",
       "1980-01-02   NaN   NaN   NaN     0   NaN   NaN   NaN     0  \n",
       "1980-01-03   NaN   NaN   NaN     0   NaN   NaN   NaN     0  \n",
       "1980-01-04   NaN   NaN   NaN     0   NaN   NaN   NaN     0  \n",
       "1980-01-07   NaN   NaN   NaN     0   NaN   NaN   NaN     0  \n",
       "1980-01-08   NaN   NaN   NaN     0   NaN   NaN   NaN     0  \n",
       "...          ...   ...   ...   ...   ...   ...   ...   ...  \n",
       "2019-12-24   0.0   0.0   0.0     0   0.0   0.0   0.0     0  \n",
       "2019-12-26   0.0   0.0   0.0     0   0.0   0.0   0.0     0  \n",
       "2019-12-27   0.0   0.0   0.0     0   0.0   0.0   0.0     0  \n",
       "2019-12-30   0.0   0.0   0.0     0   0.0   0.0   0.0     0  \n",
       "2019-12-31   0.0   0.0   0.0     0   0.0   0.0   0.0     0  \n",
       "\n",
       "[10087 rows x 600 columns]"
      ]
     },
     "execution_count": 27,
     "metadata": {},
     "output_type": "execute_result"
    }
   ],
   "source": [
    "fund_data"
   ]
  },
  {
   "cell_type": "markdown",
   "id": "28375e85",
   "metadata": {},
   "source": [
    "As we can see, there are many null values for the earlier dates of the DataFrame because many of the funds did not exist in 1980. For aesthetic purposes, we can use the df.tail() method to only show the last 5 rows from now on. "
   ]
  },
  {
   "cell_type": "code",
   "execution_count": 28,
   "id": "f1864a79",
   "metadata": {},
   "outputs": [
    {
     "data": {
      "text/html": [
       "<div>\n",
       "<style scoped>\n",
       "    .dataframe tbody tr th:only-of-type {\n",
       "        vertical-align: middle;\n",
       "    }\n",
       "\n",
       "    .dataframe tbody tr th {\n",
       "        vertical-align: top;\n",
       "    }\n",
       "\n",
       "    .dataframe thead tr th {\n",
       "        text-align: left;\n",
       "    }\n",
       "\n",
       "    .dataframe thead tr:last-of-type th {\n",
       "        text-align: right;\n",
       "    }\n",
       "</style>\n",
       "<table border=\"1\" class=\"dataframe\">\n",
       "  <thead>\n",
       "    <tr>\n",
       "      <th></th>\n",
       "      <th colspan=\"10\" halign=\"left\">Adj Close</th>\n",
       "      <th>...</th>\n",
       "      <th colspan=\"10\" halign=\"left\">Volume</th>\n",
       "    </tr>\n",
       "    <tr>\n",
       "      <th></th>\n",
       "      <th>AFMFX</th>\n",
       "      <th>AGTHX</th>\n",
       "      <th>AIVSX</th>\n",
       "      <th>AKRSX</th>\n",
       "      <th>AMCFX</th>\n",
       "      <th>AMCPX</th>\n",
       "      <th>AMRFX</th>\n",
       "      <th>AMRMX</th>\n",
       "      <th>ANCFX</th>\n",
       "      <th>ANEFX</th>\n",
       "      <th>...</th>\n",
       "      <th>PRILX</th>\n",
       "      <th>PRNHX</th>\n",
       "      <th>RPMGX</th>\n",
       "      <th>SEEGX</th>\n",
       "      <th>TRBCX</th>\n",
       "      <th>TWCGX</th>\n",
       "      <th>TWCUX</th>\n",
       "      <th>VAFAX</th>\n",
       "      <th>VWNFX</th>\n",
       "      <th>VWUSX</th>\n",
       "    </tr>\n",
       "    <tr>\n",
       "      <th>Date</th>\n",
       "      <th></th>\n",
       "      <th></th>\n",
       "      <th></th>\n",
       "      <th></th>\n",
       "      <th></th>\n",
       "      <th></th>\n",
       "      <th></th>\n",
       "      <th></th>\n",
       "      <th></th>\n",
       "      <th></th>\n",
       "      <th></th>\n",
       "      <th></th>\n",
       "      <th></th>\n",
       "      <th></th>\n",
       "      <th></th>\n",
       "      <th></th>\n",
       "      <th></th>\n",
       "      <th></th>\n",
       "      <th></th>\n",
       "      <th></th>\n",
       "      <th></th>\n",
       "    </tr>\n",
       "  </thead>\n",
       "  <tbody>\n",
       "    <tr>\n",
       "      <th>2019-12-24</th>\n",
       "      <td>39.670300</td>\n",
       "      <td>45.222630</td>\n",
       "      <td>35.271122</td>\n",
       "      <td>44.093079</td>\n",
       "      <td>28.316504</td>\n",
       "      <td>28.111414</td>\n",
       "      <td>39.786991</td>\n",
       "      <td>40.040718</td>\n",
       "      <td>52.414665</td>\n",
       "      <td>41.431477</td>\n",
       "      <td>...</td>\n",
       "      <td>0.0</td>\n",
       "      <td>0</td>\n",
       "      <td>0.0</td>\n",
       "      <td>0.0</td>\n",
       "      <td>0.0</td>\n",
       "      <td>0</td>\n",
       "      <td>0.0</td>\n",
       "      <td>0.0</td>\n",
       "      <td>0.0</td>\n",
       "      <td>0</td>\n",
       "    </tr>\n",
       "    <tr>\n",
       "      <th>2019-12-26</th>\n",
       "      <td>39.761623</td>\n",
       "      <td>45.452366</td>\n",
       "      <td>35.422726</td>\n",
       "      <td>44.218590</td>\n",
       "      <td>28.408522</td>\n",
       "      <td>28.203419</td>\n",
       "      <td>39.878586</td>\n",
       "      <td>40.132858</td>\n",
       "      <td>52.651573</td>\n",
       "      <td>41.576214</td>\n",
       "      <td>...</td>\n",
       "      <td>0.0</td>\n",
       "      <td>0</td>\n",
       "      <td>0.0</td>\n",
       "      <td>0.0</td>\n",
       "      <td>0.0</td>\n",
       "      <td>0</td>\n",
       "      <td>0.0</td>\n",
       "      <td>0.0</td>\n",
       "      <td>0.0</td>\n",
       "      <td>0</td>\n",
       "    </tr>\n",
       "    <tr>\n",
       "      <th>2019-12-27</th>\n",
       "      <td>39.789024</td>\n",
       "      <td>45.443531</td>\n",
       "      <td>35.422726</td>\n",
       "      <td>44.276520</td>\n",
       "      <td>28.400156</td>\n",
       "      <td>28.186691</td>\n",
       "      <td>39.906067</td>\n",
       "      <td>40.160492</td>\n",
       "      <td>52.702339</td>\n",
       "      <td>41.576214</td>\n",
       "      <td>...</td>\n",
       "      <td>0.0</td>\n",
       "      <td>0</td>\n",
       "      <td>0.0</td>\n",
       "      <td>0.0</td>\n",
       "      <td>0.0</td>\n",
       "      <td>0</td>\n",
       "      <td>0.0</td>\n",
       "      <td>0.0</td>\n",
       "      <td>0.0</td>\n",
       "      <td>0</td>\n",
       "    </tr>\n",
       "    <tr>\n",
       "      <th>2019-12-30</th>\n",
       "      <td>39.633774</td>\n",
       "      <td>45.045914</td>\n",
       "      <td>35.181934</td>\n",
       "      <td>44.112389</td>\n",
       "      <td>28.216122</td>\n",
       "      <td>28.002682</td>\n",
       "      <td>39.750355</td>\n",
       "      <td>40.003868</td>\n",
       "      <td>52.338516</td>\n",
       "      <td>41.259598</td>\n",
       "      <td>...</td>\n",
       "      <td>0.0</td>\n",
       "      <td>0</td>\n",
       "      <td>0.0</td>\n",
       "      <td>0.0</td>\n",
       "      <td>0.0</td>\n",
       "      <td>0</td>\n",
       "      <td>0.0</td>\n",
       "      <td>0.0</td>\n",
       "      <td>0.0</td>\n",
       "      <td>0</td>\n",
       "    </tr>\n",
       "    <tr>\n",
       "      <th>2019-12-31</th>\n",
       "      <td>39.725094</td>\n",
       "      <td>45.178452</td>\n",
       "      <td>35.288956</td>\n",
       "      <td>44.218590</td>\n",
       "      <td>28.283043</td>\n",
       "      <td>28.077955</td>\n",
       "      <td>39.841946</td>\n",
       "      <td>40.096001</td>\n",
       "      <td>52.473896</td>\n",
       "      <td>41.359108</td>\n",
       "      <td>...</td>\n",
       "      <td>0.0</td>\n",
       "      <td>0</td>\n",
       "      <td>0.0</td>\n",
       "      <td>0.0</td>\n",
       "      <td>0.0</td>\n",
       "      <td>0</td>\n",
       "      <td>0.0</td>\n",
       "      <td>0.0</td>\n",
       "      <td>0.0</td>\n",
       "      <td>0</td>\n",
       "    </tr>\n",
       "  </tbody>\n",
       "</table>\n",
       "<p>5 rows × 600 columns</p>\n",
       "</div>"
      ],
      "text/plain": [
       "            Adj Close                                                         \\\n",
       "                AFMFX      AGTHX      AIVSX      AKRSX      AMCFX      AMCPX   \n",
       "Date                                                                           \n",
       "2019-12-24  39.670300  45.222630  35.271122  44.093079  28.316504  28.111414   \n",
       "2019-12-26  39.761623  45.452366  35.422726  44.218590  28.408522  28.203419   \n",
       "2019-12-27  39.789024  45.443531  35.422726  44.276520  28.400156  28.186691   \n",
       "2019-12-30  39.633774  45.045914  35.181934  44.112389  28.216122  28.002682   \n",
       "2019-12-31  39.725094  45.178452  35.288956  44.218590  28.283043  28.077955   \n",
       "\n",
       "                                                        ... Volume        \\\n",
       "                AMRFX      AMRMX      ANCFX      ANEFX  ...  PRILX PRNHX   \n",
       "Date                                                    ...                \n",
       "2019-12-24  39.786991  40.040718  52.414665  41.431477  ...    0.0     0   \n",
       "2019-12-26  39.878586  40.132858  52.651573  41.576214  ...    0.0     0   \n",
       "2019-12-27  39.906067  40.160492  52.702339  41.576214  ...    0.0     0   \n",
       "2019-12-30  39.750355  40.003868  52.338516  41.259598  ...    0.0     0   \n",
       "2019-12-31  39.841946  40.096001  52.473896  41.359108  ...    0.0     0   \n",
       "\n",
       "                                                            \n",
       "           RPMGX SEEGX TRBCX TWCGX TWCUX VAFAX VWNFX VWUSX  \n",
       "Date                                                        \n",
       "2019-12-24   0.0   0.0   0.0     0   0.0   0.0   0.0     0  \n",
       "2019-12-26   0.0   0.0   0.0     0   0.0   0.0   0.0     0  \n",
       "2019-12-27   0.0   0.0   0.0     0   0.0   0.0   0.0     0  \n",
       "2019-12-30   0.0   0.0   0.0     0   0.0   0.0   0.0     0  \n",
       "2019-12-31   0.0   0.0   0.0     0   0.0   0.0   0.0     0  \n",
       "\n",
       "[5 rows x 600 columns]"
      ]
     },
     "execution_count": 28,
     "metadata": {},
     "output_type": "execute_result"
    }
   ],
   "source": [
    "# there will be many null values at the head of the df so use the .tail() method for the last 5 rows \n",
    "fund_data.tail()"
   ]
  },
  {
   "cell_type": "markdown",
   "id": "31abdb41",
   "metadata": {},
   "source": [
    "The column names have two layers. We are interested in the adjusted close data. Save this data as a unique dataframe, *close_data*, by selecting the key \"Adj Close\" from *fund_data*."
   ]
  },
  {
   "cell_type": "code",
   "execution_count": 29,
   "id": "f598019d",
   "metadata": {},
   "outputs": [
    {
     "data": {
      "text/html": [
       "<div>\n",
       "<style scoped>\n",
       "    .dataframe tbody tr th:only-of-type {\n",
       "        vertical-align: middle;\n",
       "    }\n",
       "\n",
       "    .dataframe tbody tr th {\n",
       "        vertical-align: top;\n",
       "    }\n",
       "\n",
       "    .dataframe thead th {\n",
       "        text-align: right;\n",
       "    }\n",
       "</style>\n",
       "<table border=\"1\" class=\"dataframe\">\n",
       "  <thead>\n",
       "    <tr style=\"text-align: right;\">\n",
       "      <th></th>\n",
       "      <th>AFMFX</th>\n",
       "      <th>AGTHX</th>\n",
       "      <th>AIVSX</th>\n",
       "      <th>AKRSX</th>\n",
       "      <th>AMCFX</th>\n",
       "      <th>AMCPX</th>\n",
       "      <th>AMRFX</th>\n",
       "      <th>AMRMX</th>\n",
       "      <th>ANCFX</th>\n",
       "      <th>ANEFX</th>\n",
       "      <th>...</th>\n",
       "      <th>PRILX</th>\n",
       "      <th>PRNHX</th>\n",
       "      <th>RPMGX</th>\n",
       "      <th>SEEGX</th>\n",
       "      <th>TRBCX</th>\n",
       "      <th>TWCGX</th>\n",
       "      <th>TWCUX</th>\n",
       "      <th>VAFAX</th>\n",
       "      <th>VWNFX</th>\n",
       "      <th>VWUSX</th>\n",
       "    </tr>\n",
       "    <tr>\n",
       "      <th>Date</th>\n",
       "      <th></th>\n",
       "      <th></th>\n",
       "      <th></th>\n",
       "      <th></th>\n",
       "      <th></th>\n",
       "      <th></th>\n",
       "      <th></th>\n",
       "      <th></th>\n",
       "      <th></th>\n",
       "      <th></th>\n",
       "      <th></th>\n",
       "      <th></th>\n",
       "      <th></th>\n",
       "      <th></th>\n",
       "      <th></th>\n",
       "      <th></th>\n",
       "      <th></th>\n",
       "      <th></th>\n",
       "      <th></th>\n",
       "      <th></th>\n",
       "      <th></th>\n",
       "    </tr>\n",
       "  </thead>\n",
       "  <tbody>\n",
       "    <tr>\n",
       "      <th>2019-12-24</th>\n",
       "      <td>39.670300</td>\n",
       "      <td>45.222630</td>\n",
       "      <td>35.271122</td>\n",
       "      <td>44.093079</td>\n",
       "      <td>28.316504</td>\n",
       "      <td>28.111414</td>\n",
       "      <td>39.786991</td>\n",
       "      <td>40.040718</td>\n",
       "      <td>52.414665</td>\n",
       "      <td>41.431477</td>\n",
       "      <td>...</td>\n",
       "      <td>37.169205</td>\n",
       "      <td>44.516434</td>\n",
       "      <td>82.309456</td>\n",
       "      <td>33.640518</td>\n",
       "      <td>112.230431</td>\n",
       "      <td>30.484955</td>\n",
       "      <td>47.218075</td>\n",
       "      <td>15.891525</td>\n",
       "      <td>31.040243</td>\n",
       "      <td>36.390457</td>\n",
       "    </tr>\n",
       "    <tr>\n",
       "      <th>2019-12-26</th>\n",
       "      <td>39.761623</td>\n",
       "      <td>45.452366</td>\n",
       "      <td>35.422726</td>\n",
       "      <td>44.218590</td>\n",
       "      <td>28.408522</td>\n",
       "      <td>28.203419</td>\n",
       "      <td>39.878586</td>\n",
       "      <td>40.132858</td>\n",
       "      <td>52.651573</td>\n",
       "      <td>41.576214</td>\n",
       "      <td>...</td>\n",
       "      <td>37.295258</td>\n",
       "      <td>44.576046</td>\n",
       "      <td>82.387070</td>\n",
       "      <td>33.863747</td>\n",
       "      <td>113.187653</td>\n",
       "      <td>30.753321</td>\n",
       "      <td>47.663013</td>\n",
       "      <td>16.014660</td>\n",
       "      <td>31.159727</td>\n",
       "      <td>36.661144</td>\n",
       "    </tr>\n",
       "    <tr>\n",
       "      <th>2019-12-27</th>\n",
       "      <td>39.789024</td>\n",
       "      <td>45.443531</td>\n",
       "      <td>35.422726</td>\n",
       "      <td>44.276520</td>\n",
       "      <td>28.400156</td>\n",
       "      <td>28.186691</td>\n",
       "      <td>39.906067</td>\n",
       "      <td>40.160492</td>\n",
       "      <td>52.702339</td>\n",
       "      <td>41.576214</td>\n",
       "      <td>...</td>\n",
       "      <td>37.328434</td>\n",
       "      <td>44.419563</td>\n",
       "      <td>82.300819</td>\n",
       "      <td>33.838943</td>\n",
       "      <td>113.259895</td>\n",
       "      <td>30.736549</td>\n",
       "      <td>47.635773</td>\n",
       "      <td>16.021902</td>\n",
       "      <td>31.159727</td>\n",
       "      <td>36.627304</td>\n",
       "    </tr>\n",
       "    <tr>\n",
       "      <th>2019-12-30</th>\n",
       "      <td>39.633774</td>\n",
       "      <td>45.045914</td>\n",
       "      <td>35.181934</td>\n",
       "      <td>44.112389</td>\n",
       "      <td>28.216122</td>\n",
       "      <td>28.002682</td>\n",
       "      <td>39.750355</td>\n",
       "      <td>40.003868</td>\n",
       "      <td>52.338516</td>\n",
       "      <td>41.259598</td>\n",
       "      <td>...</td>\n",
       "      <td>37.091480</td>\n",
       "      <td>44.091686</td>\n",
       "      <td>81.990318</td>\n",
       "      <td>33.516510</td>\n",
       "      <td>112.212372</td>\n",
       "      <td>30.493340</td>\n",
       "      <td>47.245312</td>\n",
       "      <td>15.891525</td>\n",
       "      <td>30.997568</td>\n",
       "      <td>36.272030</td>\n",
       "    </tr>\n",
       "    <tr>\n",
       "      <th>2019-12-31</th>\n",
       "      <td>39.725094</td>\n",
       "      <td>45.178452</td>\n",
       "      <td>35.288956</td>\n",
       "      <td>44.218590</td>\n",
       "      <td>28.283043</td>\n",
       "      <td>28.077955</td>\n",
       "      <td>39.841946</td>\n",
       "      <td>40.096001</td>\n",
       "      <td>52.473896</td>\n",
       "      <td>41.359108</td>\n",
       "      <td>...</td>\n",
       "      <td>37.202057</td>\n",
       "      <td>44.240723</td>\n",
       "      <td>82.223206</td>\n",
       "      <td>33.590916</td>\n",
       "      <td>112.293640</td>\n",
       "      <td>30.552046</td>\n",
       "      <td>47.363361</td>\n",
       "      <td>15.927741</td>\n",
       "      <td>31.074385</td>\n",
       "      <td>36.390457</td>\n",
       "    </tr>\n",
       "  </tbody>\n",
       "</table>\n",
       "<p>5 rows × 100 columns</p>\n",
       "</div>"
      ],
      "text/plain": [
       "                AFMFX      AGTHX      AIVSX      AKRSX      AMCFX      AMCPX  \\\n",
       "Date                                                                           \n",
       "2019-12-24  39.670300  45.222630  35.271122  44.093079  28.316504  28.111414   \n",
       "2019-12-26  39.761623  45.452366  35.422726  44.218590  28.408522  28.203419   \n",
       "2019-12-27  39.789024  45.443531  35.422726  44.276520  28.400156  28.186691   \n",
       "2019-12-30  39.633774  45.045914  35.181934  44.112389  28.216122  28.002682   \n",
       "2019-12-31  39.725094  45.178452  35.288956  44.218590  28.283043  28.077955   \n",
       "\n",
       "                AMRFX      AMRMX      ANCFX      ANEFX  ...      PRILX  \\\n",
       "Date                                                    ...              \n",
       "2019-12-24  39.786991  40.040718  52.414665  41.431477  ...  37.169205   \n",
       "2019-12-26  39.878586  40.132858  52.651573  41.576214  ...  37.295258   \n",
       "2019-12-27  39.906067  40.160492  52.702339  41.576214  ...  37.328434   \n",
       "2019-12-30  39.750355  40.003868  52.338516  41.259598  ...  37.091480   \n",
       "2019-12-31  39.841946  40.096001  52.473896  41.359108  ...  37.202057   \n",
       "\n",
       "                PRNHX      RPMGX      SEEGX       TRBCX      TWCGX      TWCUX  \\\n",
       "Date                                                                            \n",
       "2019-12-24  44.516434  82.309456  33.640518  112.230431  30.484955  47.218075   \n",
       "2019-12-26  44.576046  82.387070  33.863747  113.187653  30.753321  47.663013   \n",
       "2019-12-27  44.419563  82.300819  33.838943  113.259895  30.736549  47.635773   \n",
       "2019-12-30  44.091686  81.990318  33.516510  112.212372  30.493340  47.245312   \n",
       "2019-12-31  44.240723  82.223206  33.590916  112.293640  30.552046  47.363361   \n",
       "\n",
       "                VAFAX      VWNFX      VWUSX  \n",
       "Date                                         \n",
       "2019-12-24  15.891525  31.040243  36.390457  \n",
       "2019-12-26  16.014660  31.159727  36.661144  \n",
       "2019-12-27  16.021902  31.159727  36.627304  \n",
       "2019-12-30  15.891525  30.997568  36.272030  \n",
       "2019-12-31  15.927741  31.074385  36.390457  \n",
       "\n",
       "[5 rows x 100 columns]"
      ]
     },
     "execution_count": 29,
     "metadata": {},
     "output_type": "execute_result"
    }
   ],
   "source": [
    "close_data = fund_data[\"Adj Close\"]\n",
    "close_data.tail()"
   ]
  },
  {
   "cell_type": "markdown",
   "id": "ef23ddfa",
   "metadata": {},
   "source": [
    "We will want to compare the returns earned by each fund to the returns earned by investment in the S&P 500 index. We will save the S&P 500 data as a new column in the same data frame, *close_data*."
   ]
  },
  {
   "cell_type": "code",
   "execution_count": 31,
   "id": "c627cde9",
   "metadata": {},
   "outputs": [
    {
     "name": "stdout",
     "output_type": "stream",
     "text": [
      "[*********************100%***********************]  1 of 1 completed\n"
     ]
    },
    {
     "name": "stderr",
     "output_type": "stream",
     "text": [
      "<ipython-input-31-6d9aa015006c>:1: SettingWithCopyWarning: \n",
      "A value is trying to be set on a copy of a slice from a DataFrame.\n",
      "Try using .loc[row_indexer,col_indexer] = value instead\n",
      "\n",
      "See the caveats in the documentation: https://pandas.pydata.org/pandas-docs/stable/user_guide/indexing.html#returning-a-view-versus-a-copy\n",
      "  close_data[\"S&P 500\"] = pdr.get_data_yahoo(\n"
     ]
    }
   ],
   "source": [
    "close_data[\"S&P 500\"] = pdr.get_data_yahoo(\n",
    "    '^GSPC', \n",
    "    start=start,\n",
    "    end=end)['Adj Close']"
   ]
  },
  {
   "cell_type": "code",
   "execution_count": 32,
   "id": "147d0476",
   "metadata": {},
   "outputs": [
    {
     "data": {
      "text/plain": [
       "Date\n",
       "2019-12-24    3223.379883\n",
       "2019-12-26    3239.909912\n",
       "2019-12-27    3240.020020\n",
       "2019-12-30    3221.290039\n",
       "2019-12-31    3230.780029\n",
       "Name: S&P 500, dtype: float64"
      ]
     },
     "execution_count": 32,
     "metadata": {},
     "output_type": "execute_result"
    }
   ],
   "source": [
    "close_data[\"S&P 500\"].tail()"
   ]
  },
  {
   "cell_type": "markdown",
   "id": "bae63799",
   "metadata": {},
   "source": [
    "Since data for many of the funds considered do not span many years, we will compare monthly returns for each fund to monthly returns to the S&P 500.\n",
    "\n",
    "To do this, we use the Pandas _.resample(\"M\")_ method, with the \"M\" specifying that we would like a monthly frequency."
   ]
  },
  {
   "cell_type": "code",
   "execution_count": 33,
   "id": "7ee8b2f5",
   "metadata": {},
   "outputs": [
    {
     "data": {
      "text/html": [
       "<div>\n",
       "<style scoped>\n",
       "    .dataframe tbody tr th:only-of-type {\n",
       "        vertical-align: middle;\n",
       "    }\n",
       "\n",
       "    .dataframe tbody tr th {\n",
       "        vertical-align: top;\n",
       "    }\n",
       "\n",
       "    .dataframe thead th {\n",
       "        text-align: right;\n",
       "    }\n",
       "</style>\n",
       "<table border=\"1\" class=\"dataframe\">\n",
       "  <thead>\n",
       "    <tr style=\"text-align: right;\">\n",
       "      <th></th>\n",
       "      <th>AFMFX</th>\n",
       "      <th>AGTHX</th>\n",
       "      <th>AIVSX</th>\n",
       "      <th>AKRSX</th>\n",
       "      <th>AMCFX</th>\n",
       "      <th>AMCPX</th>\n",
       "      <th>AMRFX</th>\n",
       "      <th>AMRMX</th>\n",
       "      <th>ANCFX</th>\n",
       "      <th>ANEFX</th>\n",
       "      <th>...</th>\n",
       "      <th>PRNHX</th>\n",
       "      <th>RPMGX</th>\n",
       "      <th>SEEGX</th>\n",
       "      <th>TRBCX</th>\n",
       "      <th>TWCGX</th>\n",
       "      <th>TWCUX</th>\n",
       "      <th>VAFAX</th>\n",
       "      <th>VWNFX</th>\n",
       "      <th>VWUSX</th>\n",
       "      <th>S&amp;P 500</th>\n",
       "    </tr>\n",
       "    <tr>\n",
       "      <th>Date</th>\n",
       "      <th></th>\n",
       "      <th></th>\n",
       "      <th></th>\n",
       "      <th></th>\n",
       "      <th></th>\n",
       "      <th></th>\n",
       "      <th></th>\n",
       "      <th></th>\n",
       "      <th></th>\n",
       "      <th></th>\n",
       "      <th></th>\n",
       "      <th></th>\n",
       "      <th></th>\n",
       "      <th></th>\n",
       "      <th></th>\n",
       "      <th></th>\n",
       "      <th></th>\n",
       "      <th></th>\n",
       "      <th></th>\n",
       "      <th></th>\n",
       "      <th></th>\n",
       "    </tr>\n",
       "  </thead>\n",
       "  <tbody>\n",
       "    <tr>\n",
       "      <th>2019-08-31</th>\n",
       "      <td>36.576454</td>\n",
       "      <td>41.335766</td>\n",
       "      <td>32.192963</td>\n",
       "      <td>42.227539</td>\n",
       "      <td>25.792034</td>\n",
       "      <td>25.624294</td>\n",
       "      <td>36.704311</td>\n",
       "      <td>36.969040</td>\n",
       "      <td>47.275574</td>\n",
       "      <td>38.348946</td>\n",
       "      <td>...</td>\n",
       "      <td>42.279720</td>\n",
       "      <td>77.921669</td>\n",
       "      <td>31.479279</td>\n",
       "      <td>105.310059</td>\n",
       "      <td>27.987558</td>\n",
       "      <td>42.881042</td>\n",
       "      <td>14.452391</td>\n",
       "      <td>28.054052</td>\n",
       "      <td>33.691746</td>\n",
       "      <td>2953.560059</td>\n",
       "    </tr>\n",
       "    <tr>\n",
       "      <th>2019-09-30</th>\n",
       "      <td>36.637875</td>\n",
       "      <td>40.321743</td>\n",
       "      <td>31.626690</td>\n",
       "      <td>43.127796</td>\n",
       "      <td>25.256035</td>\n",
       "      <td>25.087616</td>\n",
       "      <td>36.757149</td>\n",
       "      <td>37.022243</td>\n",
       "      <td>46.205666</td>\n",
       "      <td>37.346638</td>\n",
       "      <td>...</td>\n",
       "      <td>41.613895</td>\n",
       "      <td>76.448524</td>\n",
       "      <td>31.369795</td>\n",
       "      <td>103.114792</td>\n",
       "      <td>27.455750</td>\n",
       "      <td>41.775723</td>\n",
       "      <td>14.256172</td>\n",
       "      <td>27.357786</td>\n",
       "      <td>33.025387</td>\n",
       "      <td>2906.270020</td>\n",
       "    </tr>\n",
       "    <tr>\n",
       "      <th>2019-10-31</th>\n",
       "      <td>37.117088</td>\n",
       "      <td>40.165104</td>\n",
       "      <td>31.813234</td>\n",
       "      <td>42.480736</td>\n",
       "      <td>25.128033</td>\n",
       "      <td>24.959457</td>\n",
       "      <td>37.236343</td>\n",
       "      <td>37.494377</td>\n",
       "      <td>46.777008</td>\n",
       "      <td>37.127644</td>\n",
       "      <td>...</td>\n",
       "      <td>40.202351</td>\n",
       "      <td>75.769234</td>\n",
       "      <td>30.311481</td>\n",
       "      <td>101.513321</td>\n",
       "      <td>27.423998</td>\n",
       "      <td>41.993309</td>\n",
       "      <td>14.147914</td>\n",
       "      <td>27.983641</td>\n",
       "      <td>32.594696</td>\n",
       "      <td>2940.250000</td>\n",
       "    </tr>\n",
       "    <tr>\n",
       "      <th>2019-11-30</th>\n",
       "      <td>37.999565</td>\n",
       "      <td>42.275589</td>\n",
       "      <td>33.069145</td>\n",
       "      <td>43.409122</td>\n",
       "      <td>26.328032</td>\n",
       "      <td>26.144951</td>\n",
       "      <td>38.121662</td>\n",
       "      <td>38.376492</td>\n",
       "      <td>49.227161</td>\n",
       "      <td>38.795357</td>\n",
       "      <td>...</td>\n",
       "      <td>41.773693</td>\n",
       "      <td>78.249039</td>\n",
       "      <td>31.034058</td>\n",
       "      <td>105.552986</td>\n",
       "      <td>28.630493</td>\n",
       "      <td>44.247456</td>\n",
       "      <td>14.892185</td>\n",
       "      <td>29.485697</td>\n",
       "      <td>34.033054</td>\n",
       "      <td>3066.909912</td>\n",
       "    </tr>\n",
       "    <tr>\n",
       "      <th>2019-12-31</th>\n",
       "      <td>38.502575</td>\n",
       "      <td>43.372047</td>\n",
       "      <td>33.807396</td>\n",
       "      <td>43.324726</td>\n",
       "      <td>27.064039</td>\n",
       "      <td>26.873867</td>\n",
       "      <td>38.617439</td>\n",
       "      <td>38.866558</td>\n",
       "      <td>50.348145</td>\n",
       "      <td>39.679752</td>\n",
       "      <td>...</td>\n",
       "      <td>43.411613</td>\n",
       "      <td>79.894066</td>\n",
       "      <td>32.187248</td>\n",
       "      <td>108.486008</td>\n",
       "      <td>29.448055</td>\n",
       "      <td>45.596458</td>\n",
       "      <td>15.223725</td>\n",
       "      <td>29.970737</td>\n",
       "      <td>34.991962</td>\n",
       "      <td>3113.870117</td>\n",
       "    </tr>\n",
       "  </tbody>\n",
       "</table>\n",
       "<p>5 rows × 101 columns</p>\n",
       "</div>"
      ],
      "text/plain": [
       "                AFMFX      AGTHX      AIVSX      AKRSX      AMCFX      AMCPX  \\\n",
       "Date                                                                           \n",
       "2019-08-31  36.576454  41.335766  32.192963  42.227539  25.792034  25.624294   \n",
       "2019-09-30  36.637875  40.321743  31.626690  43.127796  25.256035  25.087616   \n",
       "2019-10-31  37.117088  40.165104  31.813234  42.480736  25.128033  24.959457   \n",
       "2019-11-30  37.999565  42.275589  33.069145  43.409122  26.328032  26.144951   \n",
       "2019-12-31  38.502575  43.372047  33.807396  43.324726  27.064039  26.873867   \n",
       "\n",
       "                AMRFX      AMRMX      ANCFX      ANEFX  ...      PRNHX  \\\n",
       "Date                                                    ...              \n",
       "2019-08-31  36.704311  36.969040  47.275574  38.348946  ...  42.279720   \n",
       "2019-09-30  36.757149  37.022243  46.205666  37.346638  ...  41.613895   \n",
       "2019-10-31  37.236343  37.494377  46.777008  37.127644  ...  40.202351   \n",
       "2019-11-30  38.121662  38.376492  49.227161  38.795357  ...  41.773693   \n",
       "2019-12-31  38.617439  38.866558  50.348145  39.679752  ...  43.411613   \n",
       "\n",
       "                RPMGX      SEEGX       TRBCX      TWCGX      TWCUX      VAFAX  \\\n",
       "Date                                                                            \n",
       "2019-08-31  77.921669  31.479279  105.310059  27.987558  42.881042  14.452391   \n",
       "2019-09-30  76.448524  31.369795  103.114792  27.455750  41.775723  14.256172   \n",
       "2019-10-31  75.769234  30.311481  101.513321  27.423998  41.993309  14.147914   \n",
       "2019-11-30  78.249039  31.034058  105.552986  28.630493  44.247456  14.892185   \n",
       "2019-12-31  79.894066  32.187248  108.486008  29.448055  45.596458  15.223725   \n",
       "\n",
       "                VWNFX      VWUSX      S&P 500  \n",
       "Date                                           \n",
       "2019-08-31  28.054052  33.691746  2953.560059  \n",
       "2019-09-30  27.357786  33.025387  2906.270020  \n",
       "2019-10-31  27.983641  32.594696  2940.250000  \n",
       "2019-11-30  29.485697  34.033054  3066.909912  \n",
       "2019-12-31  29.970737  34.991962  3113.870117  \n",
       "\n",
       "[5 rows x 101 columns]"
      ]
     },
     "execution_count": 33,
     "metadata": {},
     "output_type": "execute_result"
    }
   ],
   "source": [
    "monthly_close_data = close_data.resample(\"M\").first()\n",
    "monthly_close_data.tail()"
   ]
  },
  {
   "cell_type": "markdown",
   "id": "75ebe4ba",
   "metadata": {},
   "source": [
    "Next, we need to log andf first-difference the data. This will allow us to ananlyze the relative changes of each fund. "
   ]
  },
  {
   "cell_type": "code",
   "execution_count": 34,
   "id": "12f00435",
   "metadata": {
    "scrolled": false
   },
   "outputs": [
    {
     "data": {
      "text/html": [
       "<div>\n",
       "<style scoped>\n",
       "    .dataframe tbody tr th:only-of-type {\n",
       "        vertical-align: middle;\n",
       "    }\n",
       "\n",
       "    .dataframe tbody tr th {\n",
       "        vertical-align: top;\n",
       "    }\n",
       "\n",
       "    .dataframe thead th {\n",
       "        text-align: right;\n",
       "    }\n",
       "</style>\n",
       "<table border=\"1\" class=\"dataframe\">\n",
       "  <thead>\n",
       "    <tr style=\"text-align: right;\">\n",
       "      <th></th>\n",
       "      <th>AFMFX</th>\n",
       "      <th>AGTHX</th>\n",
       "      <th>AIVSX</th>\n",
       "      <th>AKRSX</th>\n",
       "      <th>AMCFX</th>\n",
       "      <th>AMCPX</th>\n",
       "      <th>AMRFX</th>\n",
       "      <th>AMRMX</th>\n",
       "      <th>ANCFX</th>\n",
       "      <th>ANEFX</th>\n",
       "      <th>...</th>\n",
       "      <th>PRNHX</th>\n",
       "      <th>RPMGX</th>\n",
       "      <th>SEEGX</th>\n",
       "      <th>TRBCX</th>\n",
       "      <th>TWCGX</th>\n",
       "      <th>TWCUX</th>\n",
       "      <th>VAFAX</th>\n",
       "      <th>VWNFX</th>\n",
       "      <th>VWUSX</th>\n",
       "      <th>S&amp;P 500</th>\n",
       "    </tr>\n",
       "    <tr>\n",
       "      <th>Date</th>\n",
       "      <th></th>\n",
       "      <th></th>\n",
       "      <th></th>\n",
       "      <th></th>\n",
       "      <th></th>\n",
       "      <th></th>\n",
       "      <th></th>\n",
       "      <th></th>\n",
       "      <th></th>\n",
       "      <th></th>\n",
       "      <th></th>\n",
       "      <th></th>\n",
       "      <th></th>\n",
       "      <th></th>\n",
       "      <th></th>\n",
       "      <th></th>\n",
       "      <th></th>\n",
       "      <th></th>\n",
       "      <th></th>\n",
       "      <th></th>\n",
       "      <th></th>\n",
       "    </tr>\n",
       "  </thead>\n",
       "  <tbody>\n",
       "    <tr>\n",
       "      <th>2019-08-31</th>\n",
       "      <td>-0.005503</td>\n",
       "      <td>-0.012486</td>\n",
       "      <td>-0.008626</td>\n",
       "      <td>0.016344</td>\n",
       "      <td>-0.015695</td>\n",
       "      <td>-0.016124</td>\n",
       "      <td>-0.005742</td>\n",
       "      <td>-0.005979</td>\n",
       "      <td>-0.009413</td>\n",
       "      <td>-0.004820</td>\n",
       "      <td>...</td>\n",
       "      <td>0.002207</td>\n",
       "      <td>-0.004088</td>\n",
       "      <td>0.005347</td>\n",
       "      <td>-0.000598</td>\n",
       "      <td>0.006259</td>\n",
       "      <td>0.001625</td>\n",
       "      <td>0.002813</td>\n",
       "      <td>-0.005562</td>\n",
       "      <td>-0.003612</td>\n",
       "      <td>-0.003640</td>\n",
       "    </tr>\n",
       "    <tr>\n",
       "      <th>2019-09-30</th>\n",
       "      <td>0.001678</td>\n",
       "      <td>-0.024837</td>\n",
       "      <td>-0.017746</td>\n",
       "      <td>0.021095</td>\n",
       "      <td>-0.021001</td>\n",
       "      <td>-0.021167</td>\n",
       "      <td>0.001439</td>\n",
       "      <td>0.001438</td>\n",
       "      <td>-0.022891</td>\n",
       "      <td>-0.026484</td>\n",
       "      <td>...</td>\n",
       "      <td>-0.015873</td>\n",
       "      <td>-0.019086</td>\n",
       "      <td>-0.003484</td>\n",
       "      <td>-0.021066</td>\n",
       "      <td>-0.019184</td>\n",
       "      <td>-0.026114</td>\n",
       "      <td>-0.013670</td>\n",
       "      <td>-0.025132</td>\n",
       "      <td>-0.019976</td>\n",
       "      <td>-0.016141</td>\n",
       "    </tr>\n",
       "    <tr>\n",
       "      <th>2019-10-31</th>\n",
       "      <td>0.012995</td>\n",
       "      <td>-0.003892</td>\n",
       "      <td>0.005881</td>\n",
       "      <td>-0.015117</td>\n",
       "      <td>-0.005081</td>\n",
       "      <td>-0.005122</td>\n",
       "      <td>0.012953</td>\n",
       "      <td>0.012672</td>\n",
       "      <td>0.012289</td>\n",
       "      <td>-0.005881</td>\n",
       "      <td>...</td>\n",
       "      <td>-0.034509</td>\n",
       "      <td>-0.008925</td>\n",
       "      <td>-0.034319</td>\n",
       "      <td>-0.015653</td>\n",
       "      <td>-0.001157</td>\n",
       "      <td>0.005195</td>\n",
       "      <td>-0.007623</td>\n",
       "      <td>0.022619</td>\n",
       "      <td>-0.013127</td>\n",
       "      <td>0.011624</td>\n",
       "    </tr>\n",
       "    <tr>\n",
       "      <th>2019-11-30</th>\n",
       "      <td>0.023497</td>\n",
       "      <td>0.051211</td>\n",
       "      <td>0.038718</td>\n",
       "      <td>0.021619</td>\n",
       "      <td>0.046650</td>\n",
       "      <td>0.046403</td>\n",
       "      <td>0.023497</td>\n",
       "      <td>0.023254</td>\n",
       "      <td>0.051054</td>\n",
       "      <td>0.043939</td>\n",
       "      <td>...</td>\n",
       "      <td>0.038341</td>\n",
       "      <td>0.032204</td>\n",
       "      <td>0.023559</td>\n",
       "      <td>0.039023</td>\n",
       "      <td>0.043054</td>\n",
       "      <td>0.052288</td>\n",
       "      <td>0.051269</td>\n",
       "      <td>0.052285</td>\n",
       "      <td>0.043183</td>\n",
       "      <td>0.042176</td>\n",
       "    </tr>\n",
       "    <tr>\n",
       "      <th>2019-12-31</th>\n",
       "      <td>0.013150</td>\n",
       "      <td>0.025605</td>\n",
       "      <td>0.022079</td>\n",
       "      <td>-0.001946</td>\n",
       "      <td>0.027572</td>\n",
       "      <td>0.027498</td>\n",
       "      <td>0.012921</td>\n",
       "      <td>0.012689</td>\n",
       "      <td>0.022516</td>\n",
       "      <td>0.022540</td>\n",
       "      <td>...</td>\n",
       "      <td>0.038460</td>\n",
       "      <td>0.020805</td>\n",
       "      <td>0.036485</td>\n",
       "      <td>0.027408</td>\n",
       "      <td>0.028156</td>\n",
       "      <td>0.030032</td>\n",
       "      <td>0.022018</td>\n",
       "      <td>0.016316</td>\n",
       "      <td>0.027786</td>\n",
       "      <td>0.015196</td>\n",
       "    </tr>\n",
       "  </tbody>\n",
       "</table>\n",
       "<p>5 rows × 101 columns</p>\n",
       "</div>"
      ],
      "text/plain": [
       "               AFMFX     AGTHX     AIVSX     AKRSX     AMCFX     AMCPX  \\\n",
       "Date                                                                     \n",
       "2019-08-31 -0.005503 -0.012486 -0.008626  0.016344 -0.015695 -0.016124   \n",
       "2019-09-30  0.001678 -0.024837 -0.017746  0.021095 -0.021001 -0.021167   \n",
       "2019-10-31  0.012995 -0.003892  0.005881 -0.015117 -0.005081 -0.005122   \n",
       "2019-11-30  0.023497  0.051211  0.038718  0.021619  0.046650  0.046403   \n",
       "2019-12-31  0.013150  0.025605  0.022079 -0.001946  0.027572  0.027498   \n",
       "\n",
       "               AMRFX     AMRMX     ANCFX     ANEFX  ...     PRNHX     RPMGX  \\\n",
       "Date                                                ...                       \n",
       "2019-08-31 -0.005742 -0.005979 -0.009413 -0.004820  ...  0.002207 -0.004088   \n",
       "2019-09-30  0.001439  0.001438 -0.022891 -0.026484  ... -0.015873 -0.019086   \n",
       "2019-10-31  0.012953  0.012672  0.012289 -0.005881  ... -0.034509 -0.008925   \n",
       "2019-11-30  0.023497  0.023254  0.051054  0.043939  ...  0.038341  0.032204   \n",
       "2019-12-31  0.012921  0.012689  0.022516  0.022540  ...  0.038460  0.020805   \n",
       "\n",
       "               SEEGX     TRBCX     TWCGX     TWCUX     VAFAX     VWNFX  \\\n",
       "Date                                                                     \n",
       "2019-08-31  0.005347 -0.000598  0.006259  0.001625  0.002813 -0.005562   \n",
       "2019-09-30 -0.003484 -0.021066 -0.019184 -0.026114 -0.013670 -0.025132   \n",
       "2019-10-31 -0.034319 -0.015653 -0.001157  0.005195 -0.007623  0.022619   \n",
       "2019-11-30  0.023559  0.039023  0.043054  0.052288  0.051269  0.052285   \n",
       "2019-12-31  0.036485  0.027408  0.028156  0.030032  0.022018  0.016316   \n",
       "\n",
       "               VWUSX   S&P 500  \n",
       "Date                            \n",
       "2019-08-31 -0.003612 -0.003640  \n",
       "2019-09-30 -0.019976 -0.016141  \n",
       "2019-10-31 -0.013127  0.011624  \n",
       "2019-11-30  0.043183  0.042176  \n",
       "2019-12-31  0.027786  0.015196  \n",
       "\n",
       "[5 rows x 101 columns]"
      ]
     },
     "execution_count": 34,
     "metadata": {},
     "output_type": "execute_result"
    }
   ],
   "source": [
    "#calculate percent change from previous month\n",
    "monthly_returns = np.log(monthly_close_data).diff(1)\n",
    "monthly_returns.tail()"
   ]
  },
  {
   "cell_type": "code",
   "execution_count": 35,
   "id": "cab421e1",
   "metadata": {},
   "outputs": [],
   "source": [
    "avg_monthly_return = monthly_close_data.loc[\"2015\":].dropna(axis = 1)\n",
    "num_months = avg_monthly_return.shape[0]\n",
    "avg_monthly_return = avg_monthly_return.iloc[-1].div(avg_monthly_return.iloc[0])\n",
    "avg_monthly_return = avg_monthly_return.pow(1 / num_months).sub(1)"
   ]
  },
  {
   "cell_type": "markdown",
   "id": "7abc1c49",
   "metadata": {},
   "source": [
    "Now that we have out data wrangled and prepped, we can compute some basic statistics to understand the distribution of our dataset. The easiest method to start with is using the Pandas _df.describe()_ method, which gives us basic descriptive statistics for each series in our dataframe. "
   ]
  },
  {
   "cell_type": "code",
   "execution_count": 36,
   "id": "f5e535c4",
   "metadata": {},
   "outputs": [
    {
     "data": {
      "text/plain": [
       "count    91.000000\n",
       "mean      0.008687\n",
       "std       0.002030\n",
       "min       0.003378\n",
       "25%       0.007202\n",
       "50%       0.008159\n",
       "75%       0.010508\n",
       "max       0.012552\n",
       "dtype: float64"
      ]
     },
     "execution_count": 36,
     "metadata": {},
     "output_type": "execute_result"
    }
   ],
   "source": [
    "avg_monthly_return.describe()"
   ]
  },
  {
   "cell_type": "markdown",
   "id": "5c0ac564",
   "metadata": {},
   "source": [
    "We can also display a visual of our distributions by using a histogram. Usually, rates of change like we are dealing with in stock prices will display a normal-looking distribution. We can take the mean change of the entire dataset and the mean standard deviation of the entire dataset to be entered into a normal distribution function that we can overlay over our data's histogram to visually check for normality. "
   ]
  },
  {
   "cell_type": "code",
   "execution_count": 37,
   "id": "3e2f8738",
   "metadata": {},
   "outputs": [
    {
     "data": {
      "text/plain": [
       "<AxesSubplot:xlabel='Date'>"
      ]
     },
     "execution_count": 37,
     "metadata": {},
     "output_type": "execute_result"
    },
    {
     "data": {
      "image/png": "[encoded data removed]",
      "text/plain": [
       "<Figure size 1080x720 with 1 Axes>"
      ]
     },
     "metadata": {
      "needs_background": "light"
     },
     "output_type": "display_data"
    }
   ],
   "source": [
    "import matplotlib.pyplot as plt\n",
    "fig, ax = plt.subplots(figsize = (15,10))\n",
    "monthly_close_data[\"S&P 500\"].plot.line(ax = ax)"
   ]
  },
  {
   "cell_type": "code",
   "execution_count": 38,
   "id": "eeb9bd6f",
   "metadata": {},
   "outputs": [
    {
     "name": "stdout",
     "output_type": "stream",
     "text": [
      "0.008389549407881728 0.046249282060226715\n"
     ]
    }
   ],
   "source": [
    "# find the mean of the mean monthly changes and the mean standard deviation of changes\n",
    "mu = monthly_returns.mean().mean()\n",
    "sigma = monthly_returns.var().mean()** .5\n",
    "print(mu, sigma)"
   ]
  },
  {
   "cell_type": "code",
   "execution_count": 39,
   "id": "1be5c3cf",
   "metadata": {},
   "outputs": [
    {
     "data": {
      "text/plain": [
       "157.75614092643113"
      ]
     },
     "execution_count": 39,
     "metadata": {},
     "output_type": "execute_result"
    }
   ],
   "source": [
    "n = monthly_returns.notna().sum().sum()\n",
    "np.sqrt(n)"
   ]
  },
  {
   "cell_type": "code",
   "execution_count": 40,
   "id": "c06a834b",
   "metadata": {},
   "outputs": [
    {
     "data": {
      "text/plain": [
       "Text(0.5, 1.0, 'Distributions of Various Index Fund Returns')"
      ]
     },
     "execution_count": 40,
     "metadata": {},
     "output_type": "execute_result"
    },
    {
     "data": {
      "image/png": "[encoded data removed]",
      "text/plain": [
       "<Figure size 720x360 with 1 Axes>"
      ]
     },
     "metadata": {
      "needs_background": "light"
     },
     "output_type": "display_data"
    }
   ],
   "source": [
    "import matplotlib.pyplot as plt\n",
    "import scipy.stats as stats\n",
    "\n",
    "fig, ax = plt.subplots(figsize=(10, 5))\n",
    "\n",
    "#plot the funds distributions\n",
    "monthly_returns.plot.hist(bins=30, ax=ax, density=True, alpha=.5, legend=False)\n",
    "\n",
    "ax.set_title(\n",
    "    \"Distributions of Various Index Fund Returns\"\n",
    ")"
   ]
  },
  {
   "cell_type": "code",
   "execution_count": 41,
   "id": "53387410",
   "metadata": {},
   "outputs": [],
   "source": [
    "diff_from_sp500 = []\n",
    "for symbol in symbols:\n",
    "    diff_from_sp500.extend(monthly_returns[symbol].dropna() - monthly_returns[\"S&P 500\"].dropna())"
   ]
  },
  {
   "cell_type": "code",
   "execution_count": 42,
   "id": "e79e5d90",
   "metadata": {},
   "outputs": [],
   "source": [
    "diff_from_sp500 = pd.Series(diff_from_sp500)"
   ]
  },
  {
   "cell_type": "code",
   "execution_count": 43,
   "id": "a8ef7411",
   "metadata": {},
   "outputs": [
    {
     "data": {
      "text/plain": [
       "0.0017250979400026951"
      ]
     },
     "execution_count": 43,
     "metadata": {},
     "output_type": "execute_result"
    }
   ],
   "source": [
    "diff_from_sp500.mean()"
   ]
  },
  {
   "cell_type": "code",
   "execution_count": 44,
   "id": "0990ca6f",
   "metadata": {},
   "outputs": [
    {
     "data": {
      "text/plain": [
       "0.008687340477573972"
      ]
     },
     "execution_count": 44,
     "metadata": {},
     "output_type": "execute_result"
    }
   ],
   "source": [
    "avg_monthly_return.mean()"
   ]
  },
  {
   "cell_type": "code",
   "execution_count": 45,
   "id": "7db4bd12",
   "metadata": {},
   "outputs": [
    {
     "data": {
      "text/plain": [
       "<AxesSubplot:ylabel='Frequency'>"
      ]
     },
     "execution_count": 45,
     "metadata": {},
     "output_type": "execute_result"
    },
    {
     "data": {
      "image/png": "[encoded data removed]",
      "text/plain": [
       "<Figure size 432x288 with 1 Axes>"
      ]
     },
     "metadata": {
      "needs_background": "light"
     },
     "output_type": "display_data"
    }
   ],
   "source": [
    "diff_from_sp500.plot.hist(bins=1000)"
   ]
  },
  {
   "cell_type": "markdown",
   "id": "104c2415",
   "metadata": {},
   "source": [
    "We have successfully wrangled and prepped our data and can now begin statistical analysis on it. "
   ]
  },
  {
   "cell_type": "markdown",
   "id": "d546cb57",
   "metadata": {},
   "source": [
    "# Hypothesis Testing and Confidence Intervals\n",
    "\n",
    "Statistical inference may be divided into two major areas: tests of hypothesis and estimation. __Hypothesis tests__ make inference about whether a sample parameter relates to a singular value in a chosen way, i.e., the same as that value.  __Estimations__ give a range of values that a sample parameter could take, with a chosen level of probability, called a confidence interval. \n",
    "\n",
    "These topics are sometimes taught seperately, this section will attempt to teach them together as they are directly related.\n",
    "The need for both methods can be demonstrated using our mutual fund and S&P 500 data. Imagine we wanted to see if a given mutual fund outperformed the S&P 500 during the great recession(December 2007 to June 2009), and if it did, was the difference more likely due to randomness or because the fund was actually more resilient? These answers wil come from performing a hypothesis test. On the other hand, if we wanted a range of returns we could be 95% certain would contain the mean return of the S&P 500 if a recession similar to the great recession were to happen again, we would want a confidence interval.\n",
    "\n",
    "This idea of finding a range of possibilities for events that have already happened is not intuitive. What does it mean to create a confidence interval for past S&P500 returns? Haven't these returns already happened?\n",
    "\n",
    "Although the returns have been observed, we assume that _randomness_ had a large influence on these returns. Theoretically, if we were to re-run the same time period of S&P500 returns, we would expect them to be different, ceteris paribus, _within a confidence interval_. This is definitionally randomness. There is no causal effect. The range of expected randomness for a relatively complete dataset like previous S&P500 returns is the standard error of the mean for that dataset, which will be smaller as the sample size increases. Randomness has less effect on larger datasets. "
   ]
  },
  {
   "cell_type": "markdown",
   "id": "298142f4",
   "metadata": {},
   "source": [
    "## Hypothesis tests\n",
    "As the name suggests, hypothesis tests use __hypotheses__. These are mutually exclusive, falsifiable statements. Only one can be true, and one of them will be true. Generally, these are the hypothses we begin with: \n",
    "\n",
    "- The _null_ hypothesis $H_o$: The true means of the the sample populations do not differ.\n",
    "- The _alternate_ hypothesis $H_a$: The true means of the sample populations do differ.\n",
    "\n",
    "### Types of Error\n",
    "when making an inference about the value of the parameter, there are two types of error we can make: \n",
    "\n",
    "- Type 1 Error: This is the incorrect denial of a true null hypothesis - a \"false positive\"\n",
    "- Type 2 Error: This is the incorrect acceptance of a false null hypothesis - a \"false negative\" \n",
    "\n",
    "In statistics, type 1 error is denoted by the Greek letter $\\alpha$ and is called the significance level. Usually, the significance level is set to 0.05 (5%), implying that it is acceptable to have a 5% probability of incorrectly rejecting the true null hypothesis. Hence, most hypothesis tests are 95% confident in their inferences about a parameter and most confidence intervals give a range of values that the tester is 95% confident contains the true parameter. \n",
    "\n",
    "The probability of a type 2 error is denoted $\\beta$ and $1-\\beta$ is known as the power of the test. \n",
    "\n",
    "These two types of error are heavily related, and the tester faces a tradeoff - generally, when the probability of one type of error is minimized, the other increases. However the probability of committing both types of error decreases as the sample size increases. \n",
    "\n",
    "### Hypothesis Testing with Mutual Funds \n",
    "In the case of us determining the efficacy of an investment strategy, we must compare the return on strategy to the average return approximated by returns on investment in the S&P 500. These are our hypotheses: \n",
    "\n",
    "- $H_o$: There is no difference between the mutual fund's and S&P500's average monthly return. \n",
    "- $H_a$: The mutual funds have a higher mean gain than the S&P500. \n",
    "\n",
    "In particular, we would like to know if the mean returns for any and each index funds are different from and higher than returns earned by the S&P 500."
   ]
  },
  {
   "cell_type": "markdown",
   "id": "dcefb822",
   "metadata": {},
   "source": [
    "### T-values\n",
    "\n",
    "The t-value, returned from the __T-test__ is used when we are dealing with a population of unknown, but normal, distribution. We have to check this assumption of normality prior to any t-test. Once we have done that, we can compare a given sample mean to one of three options: \n",
    "\n",
    "- **One Sample T-test:** The one sample t test compares the mean of your sample data to a known value. For example, we can compare a given funds average monthly return to some arbitrary value, like 7% or 10%. \n",
    "<h3 align=\"center\">\n",
    "    <font size=\"6\">\n",
    "        $t = \\frac{\\bar{X} - \\mu}{\\frac{s}{\\sqrt{n}}}$\n",
    "    </font>\n",
    "    </h3> \n",
    "    \n",
    "    \n",
    "   - Null Hypothesis: sample mean is the same as hypothesized or theoretical mean\n",
    "   - Alternative Hypothesis: sample mean is different from the hypothesized or theoretical mean\n",
    "   - $\\bar{X}$ is the sample mean \n",
    "   - $ \\mu$ is the hypothesized value\n",
    "   - $ \\frac{s}{\\sqrt{n}}$ is the standard error of the mean. The standard error of the mean is the standard deviation of the t-distribution with a given degrees of freedom. \n",
    "   - In the one-sample t-test, the standard deviation of the sample s is used to estimate the standard deviation of the population sigma. To do this, the unbiased estimator for the population standard deviation is used, which divides by n-1 instead of n when computing the standard deviation. This is done to correct for the fact that the sample mean is used to estimate the population mean, which reduces the degrees of freedom by 1.\n",
    "\n",
    "    - In Python, the ddof parameter in the np.std() function can be used to specify the number of degrees of freedom to use when computing the standard deviation. Setting ddof=1 tells the function to use the unbiased estimator, which divides by n-1 instead of n. This is the correct way to compute the standard deviation for the one-sample t-test."
   ]
  },
  {
   "cell_type": "code",
   "execution_count": 46,
   "id": "7e758145",
   "metadata": {},
   "outputs": [],
   "source": [
    "def t_value_1samp(data, mu):\n",
    "    x_bar = np.mean(data)\n",
    "    s = np.std(data, ddof=1)\n",
    "    n = len(data)\n",
    "    df = n - 1\n",
    "    t = (x_bar - mu) / (s / np.sqrt(n))\n",
    "    \n",
    "    #return both t and df to be used later in p-value calculations\n",
    "    return t, df"
   ]
  },
  {
   "cell_type": "markdown",
   "id": "0a6db53b",
   "metadata": {},
   "source": [
    "We can find the t-value for comparing the mean S&P500 monthly return to any rate we would like, in this example we choose the monthly rate that corresponds to a 7% yearly return: "
   ]
  },
  {
   "cell_type": "code",
   "execution_count": 47,
   "id": "bd3d80a8",
   "metadata": {},
   "outputs": [],
   "source": [
    "sp500 = monthly_returns[\"S&P 500\"].dropna()"
   ]
  },
  {
   "cell_type": "code",
   "execution_count": 48,
   "id": "31847cf2",
   "metadata": {},
   "outputs": [
    {
     "data": {
      "text/plain": [
       "0.0070614806803863525"
      ]
     },
     "execution_count": 48,
     "metadata": {},
     "output_type": "execute_result"
    }
   ],
   "source": [
    "sp500.mean()"
   ]
  },
  {
   "cell_type": "markdown",
   "id": "3b291f43",
   "metadata": {},
   "source": [
    "We can use the future value equation to calculate the monthly rate needed to obtain a yearly rate of $R$, given by this equation: \n",
    "\n",
    ">$ r = (R)^{\\frac{1}{t}} - 1$\n",
    ">\n",
    ">$t$ is the time period of measurement \n",
    "\n",
    "A 7% annnualized rate is a monthly rate of the 12 root of 1.07: $1.07^\\frac{1}{12} - 1$\n",
    "Discount the overall rate of return to find the average rate of return. We will use this to define the mean of the standard normal distribution:"
   ]
  },
  {
   "cell_type": "code",
   "execution_count": 49,
   "id": "1d1b1077",
   "metadata": {},
   "outputs": [
    {
     "data": {
      "text/plain": [
       "0.005654145387405274"
      ]
     },
     "execution_count": 49,
     "metadata": {},
     "output_type": "execute_result"
    }
   ],
   "source": [
    "hypothesized_rate = 1.07 **(1/12) - 1\n",
    "hypothesized_rate"
   ]
  },
  {
   "cell_type": "code",
   "execution_count": 50,
   "id": "bb2bba33",
   "metadata": {},
   "outputs": [
    {
     "data": {
      "text/plain": [
       "(0.6951326058625775, 478)"
      ]
     },
     "execution_count": 50,
     "metadata": {},
     "output_type": "execute_result"
    }
   ],
   "source": [
    "t_value_1samp(data=sp500, mu=hypothesized_rate)"
   ]
  },
  {
   "cell_type": "code",
   "execution_count": 51,
   "id": "bff21c0d",
   "metadata": {},
   "outputs": [
    {
     "data": {
      "text/plain": [
       "0.6951326058625774"
      ]
     },
     "execution_count": 51,
     "metadata": {},
     "output_type": "execute_result"
    }
   ],
   "source": [
    "stats.ttest_1samp(sp500, hypothesized_rate).statistic"
   ]
  },
  {
   "cell_type": "markdown",
   "id": "ac430a1f",
   "metadata": {},
   "source": [
    "This result suggests the S&P500s monthly return was only 0.205 of the S&P500's standard errors ($\\frac{s}{\\sqrt(n)}$) lower the hypothesized rate of a 7% yearly return. Further analysis of the probability of this result is discussed later in this chapter. "
   ]
  },
  {
   "cell_type": "markdown",
   "id": "f2bd2e9b",
   "metadata": {},
   "source": [
    "- **Independent Samples T-test:** The The independent samples t test (also called the unpaired samples t test) helps you to compare the means of two sets of data that came from different sources. Normally, we are checking to see if the means of the data are significantly different from a differnece of zero. But , we can also check if they are significantly different from a hypothesized or theoretical value. For instance, say we had two groups of males and one group of females and we wanted to compare average heights between the groups. For the males, we would check to see if they differed significantly from an average height difference of zero, whereas when comparing the males to the females we may want to see if they were significantly different from an average difference of 2 inches. **This hypothesized difference, $(\\mu_1 - \\mu_2)$, will usually be zero, but not always.**\n",
    "\n",
    "<h3 align=\"center\">\n",
    "    <font size=\"6\">\n",
    "        $ t = \\frac{(\\bar{x_1}-\\bar{x_2})-(\\mu_1 - \\mu_2)}{\\sqrt{\\frac{s^2_1}{n_1}+\\frac{s^2_2}{n_2}}}$\n",
    "    </font>\n",
    "    </h3> \n",
    "    \n",
    "   \n",
    "   - Note that this t-test is one variation of the independent samples t-test that _does not_ assume equal variance between the samples\n",
    "   \n",
    "    - Null Hypothesis: sample mean is the same as hypothesized or theoretical mean\n",
    "    - Alternative Hypothesis: sample mean is different from the hypothesized or theoretical mean\n",
    "   - There are different ways to compute the degrees of freedom for the independent samples t-test, depending on whether the variances of the two samples are assumed to be equal or not. If the variances are assumed to be equal, then the degrees of freedom is simply the sum of the sizes of the two samples minus 2. This is because one degree of freedom is lost for each sample when estimating the mean, and an additional degree of freedom is lost when estimating the common variance.\n",
    "\n",
    "If the variances of the two samples are assumed to be unequal, then the test is called __Welch's T-Test__, and degrees of freedom is computed using the formula:\n",
    "<h3 align=\"center\">\n",
    "    <font size=\"4\">\n",
    "        $ dof = \\left( \\frac{\\sigma_a^2}{n_1} + \\frac{\\sigma_b^2}{n_2} \\right)^2 / \\left( \\frac{\\sigma_a^4}{n_1^2 (n_1 - 1)} + \\frac{\\sigma_b^4}{n_2^2 (n_2 - 1)} \\right)\n",
    "$\n",
    "    </font>\n",
    "    </h3> \n",
    "    \n",
    "This formula is derived using a method called the \"Satterthwaite approximation,\" which is a way of estimating the degrees of freedom for a t-test when the variances are not equal (if implementing manually, feel free to copy and paste the code below). \n",
    "\n",
    "Additionally, the standard error calculation is : \n",
    "<h3 align=\"center\">\n",
    "    <font size=\"4\">\n",
    "        $ se = \\sqrt{\\frac{\\sigma_a^2}{n_1} + \\frac{\\sigma_b^2}{n_2}}$\n",
    "    </font>\n",
    "    </h3> \n",
    "   \n",
    "\n",
    "where v1 and v2 are the unbiased estimates of the variances of the two samples, and n1 and n2 are the sizes of the two samples. This formula takes into account the fact that the degrees of freedom is reduced when the variances of the two samples are estimated separately.\n",
    "\n",
    "Once the degrees of freedom has been computed, it can be used to look up the critical values of the t-distribution for a given significance level. The t-value obtained from the test can then be compared to these critical values to determine whether the difference in means is statistically significant or not.\n",
    "    "
   ]
  },
  {
   "cell_type": "code",
   "execution_count": 52,
   "id": "c1fbbfa3",
   "metadata": {},
   "outputs": [],
   "source": [
    "import numpy as np\n",
    "\n",
    "def independent_samples_t_test(a, b, equal_variance=False):\n",
    "    n1 = len(a)\n",
    "    n2 = len(b)\n",
    "    s1 = np.std(a)\n",
    "    s2 = np.std(b)\n",
    "    \n",
    "    # Calculate the degrees of freedom\n",
    "    if equal_variance:\n",
    "        dof = n1 + n2 - 2\n",
    "    else:\n",
    "        dof = ((s1) ** 2 / n1) + (s2 ** 2 / s1) ** 2 / (((s1 ** 2 / n1) ** 2 / (n1 - 1)) + ((s2 ** 2 / n2) ** 2 / (n2 - 1)))\n",
    "\n",
    "    # Calculate the standard error\n",
    "    if equal_variance:\n",
    "        se = np.sqrt(((n1 - 1) * s1 ** 2 + (n2 - 1) * s2 ** 2) / dof * (1 / n1 + 1 / n2))\n",
    "    else:\n",
    "        se = np.sqrt(np.std(a) ** 2 / len(a) + np.std(b) ** 2 / len(b))\n",
    "\n",
    "    # Calculate the t-statistic\n",
    "    t = (np.mean(a) - np.mean(b)) / se\n",
    "\n",
    "    return t, dof\n"
   ]
  },
  {
   "cell_type": "markdown",
   "id": "d9b9c5fa",
   "metadata": {},
   "source": [
    "A good example of the independent samples t-test is comparing the S&P500 to a mutual fund from our data, rather than to a hypothesized value as we did with the single-sample t-test. We use data to one of the older funds, T. Rowe Price Growth Stock Fund (PRGFX)."
   ]
  },
  {
   "cell_type": "code",
   "execution_count": 53,
   "id": "be73f8f9",
   "metadata": {},
   "outputs": [
    {
     "data": {
      "text/plain": [
       "(0.0070614806803863525, 0.007124728370496725)"
      ]
     },
     "execution_count": 53,
     "metadata": {},
     "output_type": "execute_result"
    }
   ],
   "source": [
    "prgfx = monthly_returns[\"PRGFX\"].dropna()\n",
    "sp500.mean(), prgfx.mean()"
   ]
  },
  {
   "cell_type": "code",
   "execution_count": 54,
   "id": "7f00efbd",
   "metadata": {},
   "outputs": [
    {
     "data": {
      "text/plain": [
       "(-0.02122479354788479, 32369365342.27034)"
      ]
     },
     "execution_count": 54,
     "metadata": {},
     "output_type": "execute_result"
    }
   ],
   "source": [
    "independent_samples_t_test(sp500, prgfx)"
   ]
  },
  {
   "cell_type": "code",
   "execution_count": 55,
   "id": "50fff94a",
   "metadata": {},
   "outputs": [
    {
     "data": {
      "text/plain": [
       "Ttest_indResult(statistic=-0.021202626655625133, pvalue=0.983088443367469)"
      ]
     },
     "execution_count": 55,
     "metadata": {},
     "output_type": "execute_result"
    }
   ],
   "source": [
    "stats.ttest_ind(sp500, prgfx)"
   ]
  },
  {
   "cell_type": "markdown",
   "id": "f0b622e9",
   "metadata": {},
   "source": [
    "This result tells us that PRGFX's mean is 0.589 standard errors higher than the S&P500's. "
   ]
  },
  {
   "cell_type": "markdown",
   "id": "28ef4c2b",
   "metadata": {},
   "source": [
    "### The T Probability Distribution\n",
    "When comparing two samples drawn from a population with unknown parameters, we return a t-value(defined below) similar to the z-value, and a corresponding degrees of freedom, indicating the size of our samples. If the size of our samples is high, we can have more confidence in our result. The t-distribution is defined as: \n",
    "\n",
    "<h3 align=\"center\">\n",
    "    <font size=\"6\">\n",
    "            $f(t) = \\frac{\\Gamma\\left(\\frac{\\nu + 1}{2}\\right)}{\\sqrt{\\nu\\pi}\\Gamma\\left(\\frac{\\nu}{2}\\right)} \\left( 1 + \\frac{t^2}{\\nu} \\right)^{-\\frac{\\nu + 1}{2}}$\n",
    "    </font>\n",
    "    </h3> \n",
    "\n",
    "    \n",
    "- Where $\\nu$ is the degrees of freedom of the distribution and $\\Gamma$ is the Gamma function, which is beyond the scope of this book and can be pulled from the scipy.stats library. \n",
    "- This is the same distribution shown in the previous chapter; the Cauchy has one degree of freedom and the Standard normal is the form of the t-distribution with more than 30 degrees of freedom\n",
    "\n",
    "We can implement this distribution in code: "
   ]
  },
  {
   "cell_type": "code",
   "execution_count": 56,
   "id": "27d8ebe0",
   "metadata": {},
   "outputs": [],
   "source": [
    "from scipy.special import gamma\n",
    "\n",
    "def t_pdf(df, x):\n",
    "    # Compute the gamma function of (df + 1) / 2\n",
    "    gamma1 = gamma((df + 1) / 2)\n",
    "    \n",
    "    # Compute the gamma function of df / 2\n",
    "    gamma2 = gamma(df / 2)\n",
    "    \n",
    "    # Compute the denominator of the t-PDF formula\n",
    "    denominator = np.sqrt(df * np.pi) * gamma2\n",
    "    \n",
    "    # Compute the numerator of the t-PDF formula\n",
    "    numerator = (1 + x**2 / df) ** (-(df + 1) / 2)\n",
    "    \n",
    "    # Return the t-PDF value\n",
    "    return gamma1 / denominator * numerator\n"
   ]
  },
  {
   "cell_type": "markdown",
   "id": "23d8e715",
   "metadata": {},
   "source": [
    "And then plot it: "
   ]
  },
  {
   "cell_type": "code",
   "execution_count": 57,
   "id": "70accb19",
   "metadata": {},
   "outputs": [
    {
     "data": {
      "text/plain": [
       "<matplotlib.legend.Legend at 0x1eaec63f0d0>"
      ]
     },
     "execution_count": 57,
     "metadata": {},
     "output_type": "execute_result"
    },
    {
     "data": {
      "image/png": "[encoded data removed]",
      "text/plain": [
       "<Figure size 1080x576 with 1 Axes>"
      ]
     },
     "metadata": {
      "needs_background": "light"
     },
     "output_type": "display_data"
    }
   ],
   "source": [
    "import matplotlib.pyplot as plt\n",
    "\n",
    "\n",
    "fig, ax = plt.subplots(figsize=(15, 8))\n",
    "\n",
    "x = np.linspace(-5, 5, 1000)\n",
    "cauchy = t_pdf(1, x)\n",
    "ax.plot(cauchy, '-', lw=3, alpha=1, label=\"Cauchy\", color='b')\n",
    "t_df = [2, 3, 4, 5, 10, 20]\n",
    "for df in t_df:\n",
    "    dist = t_pdf(df, x)\n",
    "    ax.plot(dist, '-', lw=1, alpha=df / 20, label=\"df: \" + str(df), color='k')\n",
    "gaussian = t_pdf(30, x)\n",
    "ax.plot(gaussian,\n",
    "        lw=3,\n",
    "        alpha=1,\n",
    "        color='r',\n",
    "        label='Standard Normal Distribution')\n",
    "# Set y-axis label\n",
    "ax.set_ylabel(\"Probability Density\")\n",
    "\n",
    "# Set plot title\n",
    "plt.title(\"t-distribution with varying degrees of freedom\")\n",
    "\n",
    "plt.legend()\n"
   ]
  },
  {
   "cell_type": "markdown",
   "id": "778dcdee",
   "metadata": {},
   "source": [
    "### T-distribution p-value\n",
    "\n",
    "As we can see, a lower sample size, and hence a lower degrees of freedom, leads to a lower probaility that our t-score is near 0 when our population means are the same, because more random variation is likely when the sample size is so low. The point of a t-score is to determine if the difference in the two means of the samples is too drastic for the true population means to be the same. As we approach 30 with our degrees of freedom, the graph doesnt change much, and this is a standard normal distribution, which the z-score uses. Some textbooks say you can use z-score for large sample sizes; it will give nearly the same answer. \n",
    "\n",
    "Once we get our t-score, we plug it into the equation shown below to get it's p-value. The equation uses the t-distributions's __Cumulative Density Function__. This distribution models the probability that the random variable $T$ takes at most the value $t$. We get a corresponding __p-value__, shown on the y-axis. This value is the probability of our gotten t-value if the true means were the same. \n",
    "\n",
    "<h3 align=\"center\">\n",
    "    $ p =  2 \\cdot (1-CDF_{t_{n-1}}(|t|)) $\n",
    "<h3> "
   ]
  },
  {
   "cell_type": "markdown",
   "id": "5b31cb52",
   "metadata": {},
   "source": [
    "This CDF, and all CDF's, can easily be modeled by, for each value t in our t-distribution, plotting t added to all previous t-values, since we used _np.linspace_ to discretely model this continuous distribution:"
   ]
  },
  {
   "cell_type": "code",
   "execution_count": 60,
   "id": "20c83b81",
   "metadata": {},
   "outputs": [
    {
     "data": {
      "text/plain": [
       "<matplotlib.legend.Legend at 0x1eaecacf190>"
      ]
     },
     "execution_count": 60,
     "metadata": {},
     "output_type": "execute_result"
    },
    {
     "data": {
      "image/png": "[encoded data removed]",
      "text/plain": [
       "<Figure size 1080x576 with 1 Axes>"
      ]
     },
     "metadata": {
      "needs_background": "light"
     },
     "output_type": "display_data"
    }
   ],
   "source": [
    "fig, ax = plt.subplots(figsize = (15,8))\n",
    "\n",
    "#create t-dist with 30 df and with 1 df\n",
    "x = np.linspace(-5, 5, 1000)\n",
    "t_dist = t_pdf(30, x)\n",
    "cauchy = t_pdf(1, x)\n",
    "\n",
    "#go along the linspace that was created and add current value to all previous values\n",
    "f_dist = t_dist.copy()\n",
    "cauchy_f_dist = cauchy.copy()\n",
    "\n",
    "for i in range(len(t_dist)): \n",
    "    f_dist[i] += f_dist[i-1]\n",
    "    cauchy_f_dist[i] += cauchy_f_dist[i-1]\n",
    "\n",
    "plt.plot(f_dist, label = 't CDF distribution with 30 df')\n",
    "plt.plot(cauchy_f_dist, label = 'Cauchy CDF distribution')\n",
    "\n",
    "plt.legend()"
   ]
  },
  {
   "cell_type": "markdown",
   "id": "1f417950",
   "metadata": {},
   "source": [
    "- If the corresponding p-value from our t-value is too low, we choose to __reject the null hypothesis $H_o$__, and say that our samples come from different populations who's means are different. This is a \"statistically significant\" result. \n",
    "\n",
    "\n",
    "- If the p-value is sufficiently high, we __fail to reject the null hypothesis $H_o$__, and say that there is a high enough chance that the samples came from populations with the same means. This is a \"statistically insignificant\" result. \n",
    "\n",
    "\n",
    "- The value at which significance occurs, $\\alpha$, and is most commonly 0.05.\n"
   ]
  },
  {
   "cell_type": "markdown",
   "id": "525f0c8b",
   "metadata": {},
   "source": [
    "Next, we can make a master function that uses all of the t-tests we just built:"
   ]
  },
  {
   "cell_type": "code",
   "execution_count": 67,
   "id": "b0ffedfa",
   "metadata": {},
   "outputs": [],
   "source": [
    "import scipy.stats as stats\n",
    "\n",
    "# function that allows us to evaluate the t distribution at a given t value and df\n",
    "def t_test(a, b, kind):\n",
    "    \n",
    "    if kind == 'one_sample': \n",
    "            t_val, df = t_value_1samp(a, b)\n",
    "            print (t_val, df)\n",
    "    elif kind  == 'independent': \n",
    "            t_val, df = independent_samples_t_test(a, b)\n",
    "    elif kind == 'paired': \n",
    "            t_val, df = independent_samples_t_test(a, b, equal_var=True)\n",
    "            \n",
    "    # cdf gives probability of a value at least as extreme as observed happening; for two-sided tests this is doubled\n",
    "    p_value = (1-stats.t.cdf(np.abs(t_val), df-1))  *2\n",
    "    \n",
    "    if p_value > .05:\n",
    "        return_string = \"T-value: \" + str(t_val) + \", P-value: \" + str(\n",
    "            p_value) + \", Fail to reject null hypothesis.\"\n",
    "    else:\n",
    "        return_string = \"T-value: \" + str(t_val) + \", P-value: \" + str(\n",
    "            round(p_value, 5)) + \", Reject null hypothesis.\"\n",
    "        \n",
    "    return return_string"
   ]
  },
  {
   "cell_type": "markdown",
   "id": "f5845584",
   "metadata": {},
   "source": [
    "The function accepts $t$ and $\\nu$ and returns a probability of the t value occuring if there truly was no difference between the the two sample means, or the single sample mean and one hypothesized mean. If we are intereted in knowing the p that the result is only < or >, we take the p value as is. Otherwise, if we are looking for any difference, we multiply it by 2. If the probability returned is too low, then we can reasonably assume that this means that the two means _are not truly different_. This is the core concept of statistical significance. The probability at which a non-significant difference becomes a significant one is most commonly 0.05. This means that if there is a less than 5 percent probability that the observed difference in means could have happened by chance, we can reasonably assume that the result didn't happen by chance. "
   ]
  },
  {
   "cell_type": "markdown",
   "id": "af7a4c3d",
   "metadata": {},
   "source": [
    "We can now implement the same t-test we perfomed earlier with our hypothesized return of a 7% yearly rate and the S&P 500, returning a p-value along with our t-statistic, using the one-sample t-test: "
   ]
  },
  {
   "cell_type": "code",
   "execution_count": 62,
   "id": "5ea4c846",
   "metadata": {},
   "outputs": [
    {
     "name": "stdout",
     "output_type": "stream",
     "text": [
      "0.6951326058625775 478\n"
     ]
    },
    {
     "data": {
      "text/plain": [
       "'T-value: 0.6951326058625775, P-value: 0.48731068213829354, Fail to reject null hypothesis.'"
      ]
     },
     "execution_count": 62,
     "metadata": {},
     "output_type": "execute_result"
    }
   ],
   "source": [
    "hypothesized_rate = 1.07 **(1/12) - 1\n",
    "t_test(sp500, hypothesized_rate, 'one_sample')"
   ]
  },
  {
   "cell_type": "code",
   "execution_count": 63,
   "id": "1645d22e",
   "metadata": {},
   "outputs": [
    {
     "data": {
      "text/plain": [
       "Ttest_1sampResult(statistic=0.6951326058625774, pvalue=0.4873099743022996)"
      ]
     },
     "execution_count": 63,
     "metadata": {},
     "output_type": "execute_result"
    }
   ],
   "source": [
    "stats.ttest_1samp(sp500, hypothesized_rate)"
   ]
  },
  {
   "cell_type": "markdown",
   "id": "bd492ee9",
   "metadata": {},
   "source": [
    "However, if we change the hypothesized monthly rate to be a yearly return of 15%, we get a p-value that implies the S&P 500 would not have had a high chance at an 8% yearly return with the expected amount of randomness."
   ]
  },
  {
   "cell_type": "code",
   "execution_count": 64,
   "id": "10a9c9d0",
   "metadata": {},
   "outputs": [
    {
     "name": "stdout",
     "output_type": "stream",
     "text": [
      "-2.2984965100278765 478\n"
     ]
    },
    {
     "data": {
      "text/plain": [
       "'T-value: -2.2984965100278765, P-value: 0.02197, Reject null hypothesis.'"
      ]
     },
     "execution_count": 64,
     "metadata": {},
     "output_type": "execute_result"
    }
   ],
   "source": [
    "hypothesized_rate = 1.15 **(1/12) - 1\n",
    "t_test(sp500, hypothesized_rate, 'one_sample')"
   ]
  },
  {
   "cell_type": "code",
   "execution_count": 65,
   "id": "88c5c6f6",
   "metadata": {},
   "outputs": [
    {
     "data": {
      "text/plain": [
       "Ttest_1sampResult(statistic=-2.298496510027876, pvalue=0.021964234877264725)"
      ]
     },
     "execution_count": 65,
     "metadata": {},
     "output_type": "execute_result"
    }
   ],
   "source": [
    "stats.ttest_1samp(sp500, hypothesized_rate)"
   ]
  },
  {
   "cell_type": "markdown",
   "id": "ce97fd89",
   "metadata": {},
   "source": [
    "As well as the independent-samples t-test comparing PRGFX to the S&P 500: "
   ]
  },
  {
   "cell_type": "code",
   "execution_count": 68,
   "id": "3bfd3d9b",
   "metadata": {},
   "outputs": [
    {
     "data": {
      "text/plain": [
       "'T-value: -0.02122479354788479, P-value: 0.9830663363445329, Fail to reject null hypothesis.'"
      ]
     },
     "execution_count": 68,
     "metadata": {},
     "output_type": "execute_result"
    }
   ],
   "source": [
    "t_test(sp500, prgfx, 'independent')"
   ]
  },
  {
   "cell_type": "code",
   "execution_count": 69,
   "id": "8b23559b",
   "metadata": {},
   "outputs": [
    {
     "data": {
      "text/plain": [
       "Ttest_indResult(statistic=-0.021202626655625133, pvalue=0.983088443367469)"
      ]
     },
     "execution_count": 69,
     "metadata": {},
     "output_type": "execute_result"
    }
   ],
   "source": [
    "stats.ttest_ind(sp500, prgfx)"
   ]
  },
  {
   "cell_type": "markdown",
   "id": "0864e4be",
   "metadata": {},
   "source": [
    "## Confidence Intervals\n",
    "\n",
    "The confidence interval gives us the range of values that have a $1-\\alpha$ probability of containing the population mean, based off of our sample mean. Confidence intervals, as hypothesis tests do, make use of the standard error of the mean of a sample. For a sample with mean $\\bar{x}$, the confidence interval lower and upper bounds, respectively, are found by these formulas: \n",
    "<h3 align=\"center\">\n",
    "    <font size=\"4\">\n",
    "        $ CI = {\\bar{x} - t_{\\frac{\\alpha}{2}}\\frac{s}{\\sqrt{n}}, \\bar{x} + t_{\\frac{\\alpha}{2}}\\frac{s}{\\sqrt{n}}}$\n",
    "    </font>\n",
    "    </h3> \n",
    "- Where $t_{\\frac{\\alpha}{2}}$ is the $1-\\frac{\\alpha}{2}$ quantile of the $t_{n-1}$ distribution\n",
    "\n",
    "This function can be easily built in code using the _percent point function_ in Scipy. This function gives the percentage of the t distribution behind a given point. This is also known as the quintile. We first make a function to return the quintile in a t distribution associated with a given df and alpha level, and then make a function to make confidence interval for passed data: "
   ]
  },
  {
   "cell_type": "code",
   "execution_count": 70,
   "id": "afc66a09",
   "metadata": {},
   "outputs": [],
   "source": [
    "def t_quintile(df, alpha):\n",
    "    q = (1.0+alpha)/2\n",
    "    a = stats.t.ppf(q, df)\n",
    "    return a"
   ]
  },
  {
   "cell_type": "markdown",
   "id": "2cdab2af",
   "metadata": {},
   "source": [
    "We can see what this returns for a t-distribution with degrees of freedom in the S&P 500's data and an alpha value of 0.05: "
   ]
  },
  {
   "cell_type": "code",
   "execution_count": 71,
   "id": "20e4edc9",
   "metadata": {},
   "outputs": [
    {
     "data": {
      "text/plain": [
       "0.06273964329541434"
      ]
     },
     "execution_count": 71,
     "metadata": {},
     "output_type": "execute_result"
    }
   ],
   "source": [
    "t_quintile(len(sp500), 0.05)"
   ]
  },
  {
   "cell_type": "markdown",
   "id": "1c99ca33",
   "metadata": {},
   "source": [
    "Now we make a function that is passed an array of data and an alpha value and returns a confidence interval: "
   ]
  },
  {
   "cell_type": "code",
   "execution_count": 72,
   "id": "f5f8b303",
   "metadata": {},
   "outputs": [],
   "source": [
    "def confidence_interval(data, alpha):\n",
    "    n = len(data)\n",
    "    df = n - 1\n",
    "    x_bar = np.mean(data)\n",
    "    SE = np.std(data) / np.sqrt(n)\n",
    "    CI_quintile = t_quintile(df, alpha)\n",
    "    CI = x_bar - CI_quintile * SE, x_bar + CI_quintile * SE\n",
    "    return CI"
   ]
  },
  {
   "cell_type": "code",
   "execution_count": 73,
   "id": "caa41133",
   "metadata": {},
   "outputs": [
    {
     "data": {
      "text/plain": [
       "(0.006934593241426297, 0.007188368119346408)"
      ]
     },
     "execution_count": 73,
     "metadata": {},
     "output_type": "execute_result"
    }
   ],
   "source": [
    "sp500_CI = confidence_interval(sp500, 0.05)\n",
    "sp500_CI"
   ]
  },
  {
   "cell_type": "markdown",
   "id": "c0c8ff24",
   "metadata": {},
   "source": [
    "This equates to a yearly return CI of: "
   ]
  },
  {
   "cell_type": "code",
   "execution_count": 74,
   "id": "6bf24cb5",
   "metadata": {},
   "outputs": [],
   "source": [
    "sp500_yearly_CI = (1 + sp500_CI[0]) ** 12, (1 + sp500_CI[1]) ** 12"
   ]
  },
  {
   "cell_type": "code",
   "execution_count": 75,
   "id": "e4f2895e",
   "metadata": {},
   "outputs": [
    {
     "data": {
      "text/plain": [
       "(1.0864634873490415, 1.0897538656572028)"
      ]
     },
     "execution_count": 75,
     "metadata": {},
     "output_type": "execute_result"
    }
   ],
   "source": [
    "sp500_yearly_CI"
   ]
  },
  {
   "cell_type": "markdown",
   "id": "b7843f5b",
   "metadata": {},
   "source": [
    "We can say with 95% confidence that the true s&P 500 monthly return, not due to randomness, was somewhere between these two values. "
   ]
  },
  {
   "cell_type": "markdown",
   "id": "968ed428",
   "metadata": {},
   "source": [
    "### The Link Between Hypothesis Testing and Confidence Intervals"
   ]
  },
  {
   "cell_type": "markdown",
   "id": "7aacd3f1",
   "metadata": {},
   "source": [
    "By now, it may seem obvious that these two concepts are heavily related. Both use the standard error of the sample mean as an expected error region to make inferences about a parameter, and are given an alpha level $\\alpha$ that governs our confidence in the result. Hypothesis testing requires a second value, either a hypothesized value or another sample mean, to compare to. Confidence intervals require a single array of data for which error bars can be formed. The error bars from a confidence interval give a plausible range of values that our population parameter could take. \n",
    "\n",
    "The link between the two methods is that hypothesis testing also draws error bars for each of it's passed values, and if the error bar regions overlap, we fail to reject $H_o$ and if they do not overlap we fail to reject $H_o$. We are almost doing the same statistical test, just using it a little bit differently. \n",
    "\n",
    "For example, we can anlyze the error bars for the mean monthly return of the S&P 500 and PRGFX: "
   ]
  },
  {
   "cell_type": "code",
   "execution_count": 76,
   "id": "a66dcde3",
   "metadata": {},
   "outputs": [
    {
     "name": "stdout",
     "output_type": "stream",
     "text": [
      "SP500 CI:  (0.006934593241426297, 0.007188368119346408) \n",
      "PRGFX CI (0.006987422808917903, 0.007262033932075546)\n"
     ]
    }
   ],
   "source": [
    "prgfx_CI = confidence_interval(prgfx, 0.05)\n",
    "sp500_CI = confidence_interval(sp500, 0.05)\n",
    "print(\"SP500 CI: \", sp500_CI,\"\\nPRGFX CI\",prgfx_CI)"
   ]
  },
  {
   "cell_type": "code",
   "execution_count": 77,
   "id": "e5cea501",
   "metadata": {},
   "outputs": [
    {
     "data": {
      "text/plain": [
       "479"
      ]
     },
     "execution_count": 77,
     "metadata": {},
     "output_type": "execute_result"
    }
   ],
   "source": [
    "len(sp500)"
   ]
  },
  {
   "cell_type": "code",
   "execution_count": 78,
   "id": "4f3a20e6",
   "metadata": {},
   "outputs": [
    {
     "data": {
      "text/plain": [
       "<bound method NDFrame.rank of AFMFX      0.008467\n",
       "AGTHX      0.008708\n",
       "AIVSX      0.007065\n",
       "AKRSX      0.014000\n",
       "AMCFX      0.008927\n",
       "             ...   \n",
       "TWCUX      0.009303\n",
       "VAFAX      0.007559\n",
       "VWNFX      0.008301\n",
       "VWUSX      0.006566\n",
       "S&P 500    0.007061\n",
       "Length: 101, dtype: float64>"
      ]
     },
     "execution_count": 78,
     "metadata": {},
     "output_type": "execute_result"
    }
   ],
   "source": [
    "monthly_returns.mean().rank"
   ]
  },
  {
   "cell_type": "code",
   "execution_count": 79,
   "id": "4b3e9963",
   "metadata": {},
   "outputs": [
    {
     "data": {
      "text/plain": [
       "<matplotlib.legend.Legend at 0x1eaec8c2ca0>"
      ]
     },
     "execution_count": 79,
     "metadata": {},
     "output_type": "execute_result"
    },
    {
     "data": {
      "image/png": "[encoded data removed]",
      "text/plain": [
       "<Figure size 720x720 with 1 Axes>"
      ]
     },
     "metadata": {
      "needs_background": "light"
     },
     "output_type": "display_data"
    }
   ],
   "source": [
    "fig, ax = plt.subplots(figsize = (10, 10))\n",
    "sp500.hist(ax=ax, label='S&P 500')\n",
    "prgfx.hist(ax=ax, label='PRGFX')\n",
    "ax.vlines(sp500.mean(), ymin = 0, ymax = 90)\n",
    "ax.vlines(prgfx.mean(), ymin = 0, ymax = 90)\n",
    "plt.legend()"
   ]
  },
  {
   "cell_type": "markdown",
   "id": "0b6909b6",
   "metadata": {},
   "source": [
    "We can create confidence intervals for each fund in our funds list: "
   ]
  },
  {
   "cell_type": "code",
   "execution_count": 80,
   "id": "e75a45ca",
   "metadata": {},
   "outputs": [],
   "source": [
    "monthly_returns_CIs = confidence_interval(monthly_returns, 0.05)"
   ]
  },
  {
   "cell_type": "code",
   "execution_count": 81,
   "id": "9d169c4a",
   "metadata": {},
   "outputs": [
    {
     "data": {
      "text/plain": [
       "2"
      ]
     },
     "execution_count": 81,
     "metadata": {},
     "output_type": "execute_result"
    }
   ],
   "source": [
    "len(monthly_returns_CIs)"
   ]
  },
  {
   "cell_type": "code",
   "execution_count": 82,
   "id": "748d725b",
   "metadata": {},
   "outputs": [
    {
     "data": {
      "text/plain": [
       "(0.006934725623701311, 0.007188235737071394)"
      ]
     },
     "execution_count": 82,
     "metadata": {},
     "output_type": "execute_result"
    }
   ],
   "source": [
    "monthly_returns_CIs[0][\"S&P 500\"], monthly_returns_CIs[1][\"S&P 500\"]"
   ]
  },
  {
   "cell_type": "code",
   "execution_count": 83,
   "id": "a16f9aa6",
   "metadata": {},
   "outputs": [
    {
     "data": {
      "text/plain": [
       "32.0"
      ]
     },
     "execution_count": 83,
     "metadata": {},
     "output_type": "execute_result"
    }
   ],
   "source": [
    " monthly_returns_CIs[1].rank()[\"S&P 500\"]"
   ]
  },
  {
   "cell_type": "code",
   "execution_count": 84,
   "id": "11483b92",
   "metadata": {},
   "outputs": [
    {
     "name": "stderr",
     "output_type": "stream",
     "text": [
      "No handles with labels found to put in legend.\n"
     ]
    },
    {
     "data": {
      "text/plain": [
       "<matplotlib.legend.Legend at 0x1eaecfa2280>"
      ]
     },
     "execution_count": 84,
     "metadata": {},
     "output_type": "execute_result"
    },
    {
     "data": {
      "image/png": "[encoded data removed]",
      "text/plain": [
       "<Figure size 1800x1008 with 1 Axes>"
      ]
     },
     "metadata": {
      "needs_background": "light"
     },
     "output_type": "display_data"
    }
   ],
   "source": [
    "fig, ax = plt.subplots(figsize = (25, 14))\n",
    "Y_axis = np.arange(len(monthly_returns_CIs[0]))\n",
    "\n",
    "ax.vlines(x = Y_axis, ymin = monthly_returns_CIs[0].sort_values(), ymax = monthly_returns_CIs[1].sort_values(), linewidth=10 )\n",
    "ax.vlines(x =  monthly_returns_CIs[1].rank()[\"S&P 500\"], \n",
    "          ymin =monthly_returns_CIs[0][\"S&P 500\"], \n",
    "          ymax = monthly_returns_CIs[1][\"S&P 500\" ], \n",
    "          color = \"C3\",\n",
    "          linewidth=12 )\n",
    "\n",
    "#ax.vlines(x = [sp500_CI[0],sp500_CI[1]], ymin = 0, ymax = len(monthly_returns_CIs[0]), label = \"S&P 500 CI\", color='r', linestyle=\"--\")\n",
    "ax.set_title(\"Various Mutual Fund's Confidence Intervals vs the S&P 500's Confidence Band\")\n",
    "ax.set_yticklabels([])\n",
    "ax.legend()"
   ]
  },
  {
   "cell_type": "code",
   "execution_count": 85,
   "id": "5b34e4d5",
   "metadata": {},
   "outputs": [],
   "source": [
    "yearly_close_data = close_data.resample(\"Y\").first()\n",
    "yearly_changes = yearly_close_data.pct_change()"
   ]
  },
  {
   "cell_type": "code",
   "execution_count": 86,
   "id": "e878b656",
   "metadata": {},
   "outputs": [],
   "source": [
    "yearly_return_CIs = confidence_interval(yearly_changes, 0.05)"
   ]
  },
  {
   "cell_type": "code",
   "execution_count": 87,
   "id": "8d01a843",
   "metadata": {},
   "outputs": [
    {
     "data": {
      "text/plain": [
       "<matplotlib.legend.Legend at 0x1eaecff1580>"
      ]
     },
     "execution_count": 87,
     "metadata": {},
     "output_type": "execute_result"
    },
    {
     "data": {
      "image/png": "[encoded data removed]",
      "text/plain": [
       "<Figure size 720x720 with 1 Axes>"
      ]
     },
     "metadata": {
      "needs_background": "light"
     },
     "output_type": "display_data"
    }
   ],
   "source": [
    "fig, ax = plt.subplots(figsize = (10, 10))\n",
    "Y_axis = np.arange(len(yearly_return_CIs[0]))\n",
    "\n",
    "ax.hlines(y = Y_axis, xmin = yearly_return_CIs[0].sort_values(), xmax = yearly_return_CIs[1].sort_values() )\n",
    "ax.vlines(x = [yearly_return_CIs[0][\"S&P 500\"],yearly_return_CIs[1][\"S&P 500\"]], ymin = 0, ymax = 100, label = \"S&P 500 CI\", color=\"r\", linestyle=\"--\")\n",
    "ax.set_title(\"Various Mutual Fund's Confidence Intervals vs the S&P 500's Confidence Band\")\n",
    "ax.set_xlim(0.05)\n",
    "ax.legend()"
   ]
  },
  {
   "cell_type": "markdown",
   "id": "5f36cea4",
   "metadata": {},
   "source": [
    "# ANOVA "
   ]
  },
  {
   "cell_type": "markdown",
   "id": "90589d09",
   "metadata": {},
   "source": [
    "While using T-tests and Z-tests to analyze means of groups, we were restricted to only being able to compare two groups at a time. What if we wanted to see of there was significant differences between more than two groups? The **ANOVA**, or **Analysis of Variance** techniques allow us to test the null hypothesis that there is no significant difference between $k$ (some integer larger than 2) groups. \n",
    "\n",
    "- $H_o$: $\\mu_1 = \\mu_2 = \\cdots = \\mu_k$\n",
    "- $H_a$: At least two of the means are not equal. \n",
    "\n",
    "#### Mutual Fund Categories\n",
    "For our motivating example, we will continue to use our mutual fund data, but we must be able to group our mutual funds into categories. Luckily, the dataset contains a column labeled \"Morningstar Category\", which is assigned by [Morningstar](http://im.mstar.com/im/newhomepage/Morningstar_Category_Definitions_US_June_2016.pdf) based off of a funds previous holdings statistics and tries to give investors information about a fund's risk and investment strategy. "
   ]
  },
  {
   "cell_type": "code",
   "execution_count": 88,
   "id": "13a620e9",
   "metadata": {},
   "outputs": [
    {
     "data": {
      "text/html": [
       "<div>\n",
       "<style scoped>\n",
       "    .dataframe tbody tr th:only-of-type {\n",
       "        vertical-align: middle;\n",
       "    }\n",
       "\n",
       "    .dataframe tbody tr th {\n",
       "        vertical-align: top;\n",
       "    }\n",
       "\n",
       "    .dataframe thead th {\n",
       "        text-align: right;\n",
       "    }\n",
       "</style>\n",
       "<table border=\"1\" class=\"dataframe\">\n",
       "  <thead>\n",
       "    <tr style=\"text-align: right;\">\n",
       "      <th></th>\n",
       "      <th>Symbol</th>\n",
       "      <th>Morningstar Category</th>\n",
       "    </tr>\n",
       "  </thead>\n",
       "  <tbody>\n",
       "    <tr>\n",
       "      <th>0</th>\n",
       "      <td>CWMAX</td>\n",
       "      <td>Large Blend</td>\n",
       "    </tr>\n",
       "    <tr>\n",
       "      <th>1</th>\n",
       "      <td>CWMCX</td>\n",
       "      <td>Large Blend</td>\n",
       "    </tr>\n",
       "    <tr>\n",
       "      <th>2</th>\n",
       "      <td>CWMEX</td>\n",
       "      <td>Large Blend</td>\n",
       "    </tr>\n",
       "    <tr>\n",
       "      <th>3</th>\n",
       "      <td>CWMFX</td>\n",
       "      <td>Large Blend</td>\n",
       "    </tr>\n",
       "    <tr>\n",
       "      <th>4</th>\n",
       "      <td>FCNTX</td>\n",
       "      <td>Large Growth</td>\n",
       "    </tr>\n",
       "    <tr>\n",
       "      <th>...</th>\n",
       "      <td>...</td>\n",
       "      <td>...</td>\n",
       "    </tr>\n",
       "    <tr>\n",
       "      <th>95</th>\n",
       "      <td>MSIGX</td>\n",
       "      <td>Large Blend</td>\n",
       "    </tr>\n",
       "    <tr>\n",
       "      <th>96</th>\n",
       "      <td>TWCGX</td>\n",
       "      <td>Large Growth</td>\n",
       "    </tr>\n",
       "    <tr>\n",
       "      <th>97</th>\n",
       "      <td>CGPAX</td>\n",
       "      <td>Large Growth</td>\n",
       "    </tr>\n",
       "    <tr>\n",
       "      <th>98</th>\n",
       "      <td>CGPCX</td>\n",
       "      <td>Large Growth</td>\n",
       "    </tr>\n",
       "    <tr>\n",
       "      <th>99</th>\n",
       "      <td>CGPEX</td>\n",
       "      <td>Large Growth</td>\n",
       "    </tr>\n",
       "  </tbody>\n",
       "</table>\n",
       "<p>100 rows × 2 columns</p>\n",
       "</div>"
      ],
      "text/plain": [
       "   Symbol Morningstar Category\n",
       "0   CWMAX          Large Blend\n",
       "1   CWMCX          Large Blend\n",
       "2   CWMEX          Large Blend\n",
       "3   CWMFX          Large Blend\n",
       "4   FCNTX         Large Growth\n",
       "..    ...                  ...\n",
       "95  MSIGX          Large Blend\n",
       "96  TWCGX         Large Growth\n",
       "97  CGPAX         Large Growth\n",
       "98  CGPCX         Large Growth\n",
       "99  CGPEX         Large Growth\n",
       "\n",
       "[100 rows x 2 columns]"
      ]
     },
     "execution_count": 88,
     "metadata": {},
     "output_type": "execute_result"
    }
   ],
   "source": [
    "mutual_fund_data[[\"Symbol\", \"Morningstar Category\"]]"
   ]
  },
  {
   "cell_type": "markdown",
   "id": "0f5dd2e1",
   "metadata": {},
   "source": [
    "We can check to see how many of each category of fund are in our data using the _.value_counts()_ method "
   ]
  },
  {
   "cell_type": "code",
   "execution_count": 89,
   "id": "499c43d8",
   "metadata": {},
   "outputs": [
    {
     "data": {
      "text/plain": [
       "Large Growth      51\n",
       "Large Value       20\n",
       "Large Blend       18\n",
       "Mid-Cap Growth     6\n",
       "Mid-Cap Value      2\n",
       "Mid-Cap Blend      1\n",
       "Small Value        1\n",
       "Health             1\n",
       "Name: Morningstar Category, dtype: int64"
      ]
     },
     "execution_count": 89,
     "metadata": {},
     "output_type": "execute_result"
    }
   ],
   "source": [
    "mutual_fund_data[\"Morningstar Category\"].value_counts()"
   ]
  },
  {
   "cell_type": "markdown",
   "id": "5fc0febb",
   "metadata": {},
   "source": [
    "For ANOVA and for T-test analysis, a sample size of only 2 is not large enough for us to make meaningful assumptions about the population from which the sample was drawn, so we choose to only include the fund categories that contain greater than 2 funds in our data. "
   ]
  },
  {
   "cell_type": "code",
   "execution_count": 90,
   "id": "51f4e240",
   "metadata": {},
   "outputs": [
    {
     "data": {
      "text/plain": [
       "Large Growth       True\n",
       "Large Value        True\n",
       "Large Blend        True\n",
       "Mid-Cap Growth     True\n",
       "Mid-Cap Value     False\n",
       "Mid-Cap Blend     False\n",
       "Small Value       False\n",
       "Health            False\n",
       "Name: Morningstar Category, dtype: bool"
      ]
     },
     "execution_count": 90,
     "metadata": {},
     "output_type": "execute_result"
    }
   ],
   "source": [
    "# identify fund categories containing > 2 funds in our data\n",
    "fund_types = mutual_fund_data[\"Morningstar Category\"].value_counts() > 2\n",
    "fund_types"
   ]
  },
  {
   "cell_type": "markdown",
   "id": "4365ee1f",
   "metadata": {},
   "source": [
    "Create variable _relevant_fund_types_ to store the four fund types we will be analyzing:"
   ]
  },
  {
   "cell_type": "code",
   "execution_count": 91,
   "id": "95526e6c",
   "metadata": {},
   "outputs": [
    {
     "data": {
      "text/plain": [
       "Large Growth      True\n",
       "Large Value       True\n",
       "Large Blend       True\n",
       "Mid-Cap Growth    True\n",
       "Name: Morningstar Category, dtype: bool"
      ]
     },
     "execution_count": 91,
     "metadata": {},
     "output_type": "execute_result"
    }
   ],
   "source": [
    "# pull fund types for which fund_types has value of true \n",
    "relevant_fund_types = fund_types[fund_types]\n",
    "relevant_fund_types"
   ]
  },
  {
   "cell_type": "markdown",
   "id": "af080b0d",
   "metadata": {},
   "source": [
    "Next, identify the fund symbols in our _mutual_fund_data_ that will be used in the analysis. This will leave us with all but 6 of the funds and 94 rows of data instead of 100: "
   ]
  },
  {
   "cell_type": "code",
   "execution_count": 92,
   "id": "2b0c1c63",
   "metadata": {},
   "outputs": [
    {
     "data": {
      "text/html": [
       "<div>\n",
       "<style scoped>\n",
       "    .dataframe tbody tr th:only-of-type {\n",
       "        vertical-align: middle;\n",
       "    }\n",
       "\n",
       "    .dataframe tbody tr th {\n",
       "        vertical-align: top;\n",
       "    }\n",
       "\n",
       "    .dataframe thead th {\n",
       "        text-align: right;\n",
       "    }\n",
       "</style>\n",
       "<table border=\"1\" class=\"dataframe\">\n",
       "  <thead>\n",
       "    <tr style=\"text-align: right;\">\n",
       "      <th></th>\n",
       "      <th>Symbol</th>\n",
       "      <th>Name</th>\n",
       "      <th>Morningstar Category</th>\n",
       "      <th>Market cap</th>\n",
       "      <th>Fees</th>\n",
       "    </tr>\n",
       "  </thead>\n",
       "  <tbody>\n",
       "    <tr>\n",
       "      <th>0</th>\n",
       "      <td>CWMAX</td>\n",
       "      <td>American Funds Washington Mutual Investors Fun...</td>\n",
       "      <td>Large Blend</td>\n",
       "      <td>$113,300,000,000</td>\n",
       "      <td>0.63%</td>\n",
       "    </tr>\n",
       "    <tr>\n",
       "      <th>1</th>\n",
       "      <td>CWMCX</td>\n",
       "      <td>American Funds Washington Mutual Investors Fun...</td>\n",
       "      <td>Large Blend</td>\n",
       "      <td>$113,300,000,000</td>\n",
       "      <td>1.40%</td>\n",
       "    </tr>\n",
       "    <tr>\n",
       "      <th>2</th>\n",
       "      <td>CWMEX</td>\n",
       "      <td>American Funds Washington Mutual Investors Fun...</td>\n",
       "      <td>Large Blend</td>\n",
       "      <td>$113,300,000,000</td>\n",
       "      <td>0.87%</td>\n",
       "    </tr>\n",
       "    <tr>\n",
       "      <th>3</th>\n",
       "      <td>CWMFX</td>\n",
       "      <td>American Funds Washington Mutual Investors Fun...</td>\n",
       "      <td>Large Blend</td>\n",
       "      <td>$113,300,000,000</td>\n",
       "      <td>0.40%</td>\n",
       "    </tr>\n",
       "    <tr>\n",
       "      <th>4</th>\n",
       "      <td>FCNTX</td>\n",
       "      <td>Fidelity Contrafund Fund</td>\n",
       "      <td>Large Growth</td>\n",
       "      <td>$112,728,420,000</td>\n",
       "      <td>0.74%</td>\n",
       "    </tr>\n",
       "    <tr>\n",
       "      <th>...</th>\n",
       "      <td>...</td>\n",
       "      <td>...</td>\n",
       "      <td>...</td>\n",
       "      <td>...</td>\n",
       "      <td>...</td>\n",
       "    </tr>\n",
       "    <tr>\n",
       "      <th>95</th>\n",
       "      <td>MSIGX</td>\n",
       "      <td>Invesco Main Street Fund Class A</td>\n",
       "      <td>Large Blend</td>\n",
       "      <td>$9,044,490,000</td>\n",
       "      <td>0.92%</td>\n",
       "    </tr>\n",
       "    <tr>\n",
       "      <th>96</th>\n",
       "      <td>TWCGX</td>\n",
       "      <td>American Century Growth Fund Investor Class</td>\n",
       "      <td>Large Growth</td>\n",
       "      <td>$8,853,810,000</td>\n",
       "      <td>0.98%</td>\n",
       "    </tr>\n",
       "    <tr>\n",
       "      <th>97</th>\n",
       "      <td>CGPAX</td>\n",
       "      <td>American Funds Growth Portfolio Class 529-A</td>\n",
       "      <td>Large Growth</td>\n",
       "      <td>$8,800,000,000</td>\n",
       "      <td>0.80%</td>\n",
       "    </tr>\n",
       "    <tr>\n",
       "      <th>98</th>\n",
       "      <td>CGPCX</td>\n",
       "      <td>American Funds Growth Portfolio Class 529-C</td>\n",
       "      <td>Large Growth</td>\n",
       "      <td>$8,800,000,000</td>\n",
       "      <td>1.56%</td>\n",
       "    </tr>\n",
       "    <tr>\n",
       "      <th>99</th>\n",
       "      <td>CGPEX</td>\n",
       "      <td>American Funds Growth Portfolio Class 529-E</td>\n",
       "      <td>Large Growth</td>\n",
       "      <td>$8,800,000,000</td>\n",
       "      <td>1.00%</td>\n",
       "    </tr>\n",
       "  </tbody>\n",
       "</table>\n",
       "<p>95 rows × 5 columns</p>\n",
       "</div>"
      ],
      "text/plain": [
       "   Symbol                                               Name  \\\n",
       "0   CWMAX  American Funds Washington Mutual Investors Fun...   \n",
       "1   CWMCX  American Funds Washington Mutual Investors Fun...   \n",
       "2   CWMEX  American Funds Washington Mutual Investors Fun...   \n",
       "3   CWMFX  American Funds Washington Mutual Investors Fun...   \n",
       "4   FCNTX                           Fidelity Contrafund Fund   \n",
       "..    ...                                                ...   \n",
       "95  MSIGX                   Invesco Main Street Fund Class A   \n",
       "96  TWCGX        American Century Growth Fund Investor Class   \n",
       "97  CGPAX        American Funds Growth Portfolio Class 529-A   \n",
       "98  CGPCX        American Funds Growth Portfolio Class 529-C   \n",
       "99  CGPEX        American Funds Growth Portfolio Class 529-E   \n",
       "\n",
       "   Morningstar Category        Market cap   Fees  \n",
       "0           Large Blend  $113,300,000,000  0.63%  \n",
       "1           Large Blend  $113,300,000,000  1.40%  \n",
       "2           Large Blend  $113,300,000,000  0.87%  \n",
       "3           Large Blend  $113,300,000,000  0.40%  \n",
       "4          Large Growth  $112,728,420,000  0.74%  \n",
       "..                  ...               ...    ...  \n",
       "95          Large Blend    $9,044,490,000  0.92%  \n",
       "96         Large Growth    $8,853,810,000  0.98%  \n",
       "97         Large Growth    $8,800,000,000  0.80%  \n",
       "98         Large Growth    $8,800,000,000  1.56%  \n",
       "99         Large Growth    $8,800,000,000  1.00%  \n",
       "\n",
       "[95 rows x 5 columns]"
      ]
     },
     "execution_count": 92,
     "metadata": {},
     "output_type": "execute_result"
    }
   ],
   "source": [
    "# pull relevant funds, should kick out only 6 from the dataset\n",
    "relevant_funds = mutual_fund_data[mutual_fund_data[\"Morningstar Category\"].isin(relevant_fund_types.index)]\n",
    "relevant_funds"
   ]
  },
  {
   "cell_type": "markdown",
   "id": "83a84728",
   "metadata": {},
   "source": [
    "Next, we need to pull all of the monthly return data for the _relevant_funds_. First, we create a dictionary with the fund symbols in _relevant_funds_: "
   ]
  },
  {
   "cell_type": "code",
   "execution_count": 93,
   "id": "57a05812",
   "metadata": {},
   "outputs": [],
   "source": [
    "relevant_fund_type_names = {}\n",
    "for fund_type in relevant_fund_types.index:\n",
    "    relevant_fund_type_names[fund_type] = relevant_funds[\"Symbol\"][relevant_funds[\"Morningstar Category\"] == fund_type]"
   ]
  },
  {
   "cell_type": "code",
   "execution_count": 94,
   "id": "5917eacd",
   "metadata": {},
   "outputs": [
    {
     "name": "stdout",
     "output_type": "stream",
     "text": [
      "4     FCNTX\n",
      "5     AGTHX\n",
      "8     AMCFX\n",
      "9     CAFAX\n",
      "10    CAFCX\n",
      "Name: Symbol, dtype: object\n",
      "15    AFMFX\n",
      "16    AMRFX\n",
      "17    CMLAX\n",
      "18    CMLCX\n",
      "19    CMLEX\n",
      "Name: Symbol, dtype: object\n",
      "0    CWMAX\n",
      "1    CWMCX\n",
      "2    CWMEX\n",
      "3    CWMFX\n",
      "6    AWSHX\n",
      "Name: Symbol, dtype: object\n",
      "54    PRNHX\n",
      "55    RPMGX\n",
      "65    PCBIX\n",
      "82    ERASX\n",
      "83    ERSMX\n",
      "Name: Symbol, dtype: object\n"
     ]
    }
   ],
   "source": [
    "for key in relevant_fund_type_names: \n",
    "    print(relevant_fund_type_names[key].head())"
   ]
  },
  {
   "cell_type": "markdown",
   "id": "bc23a88b",
   "metadata": {},
   "source": [
    "These symbols are only useful to us insofaras they allow us to pull the monthly returns for them. Our ANOVA analysis only cares about the _categorical_ returns, not the individual funds returns. Hence, we will create a dictionary that combines all of the monthly returns for each fund in a category and treats them as equivalent, because fund type category is the dependent variable of interest for this analysis."
   ]
  },
  {
   "cell_type": "code",
   "execution_count": 95,
   "id": "e22f9418",
   "metadata": {},
   "outputs": [],
   "source": [
    "#create dictionary to store all returns for each category\n",
    "fund_type_returns = {}\n",
    "\n",
    "#iterate through fund_type_names dictionary we just created to access the names of each fund in each category\n",
    "for key in relevant_fund_type_names.keys():\n",
    "    # store key as fund type and value as a list containing all monthly returns for the fund type\n",
    "    fund_type_returns[key] = []\n",
    "    for val in relevant_fund_type_names[key]:\n",
    "        #use .extend() method to add monthly returns to the current list, disregarding the fund's symbol \n",
    "        fund_type_returns[key].extend(monthly_returns[val].dropna())"
   ]
  },
  {
   "cell_type": "code",
   "execution_count": 96,
   "id": "d78d507b",
   "metadata": {},
   "outputs": [
    {
     "name": "stdout",
     "output_type": "stream",
     "text": [
      "Large Growth: 0.008365247464866672\n",
      "Large Value: 0.0070251390423733805\n",
      "Large Blend: 0.00744147275402335\n",
      "Mid-Cap Growth: 0.009292539863041929\n"
     ]
    },
    {
     "data": {
      "text/plain": [
       "[None, None, None, None]"
      ]
     },
     "execution_count": 96,
     "metadata": {},
     "output_type": "execute_result"
    }
   ],
   "source": [
    "[print(f\"{key}: {np.mean(fund_type_returns[key])}\") for key in fund_type_returns]"
   ]
  },
  {
   "cell_type": "markdown",
   "id": "6a1a10e3",
   "metadata": {},
   "source": [
    "We have successfuly wrangled and prepped the data and can begin our ANOVA analysis. "
   ]
  },
  {
   "cell_type": "markdown",
   "id": "07a7d1f6",
   "metadata": {},
   "source": [
    "### Assumptions needed for ANOVA\n",
    "There are three assumptions that must be met in order to carry out an ANOVA test: \n",
    "\n",
    "1. The experimental errors of the data are normally distributed\n",
    "2. Homoscedasticity - the variances of your factors are all roughly the same (and at least follow the same distribution)\n",
    "3. Samples are independent - Selection of one sample had no effect on any other sample"
   ]
  },
  {
   "cell_type": "markdown",
   "id": "94a5eb2c",
   "metadata": {},
   "source": [
    "A quick and easy way to check the distributions of our categorical variables is with histograms: "
   ]
  },
  {
   "cell_type": "code",
   "execution_count": 97,
   "id": "b276e19b",
   "metadata": {},
   "outputs": [
    {
     "data": {
      "image/png": "[encoded data removed]",
      "text/plain": [
       "<Figure size 1152x288 with 4 Axes>"
      ]
     },
     "metadata": {
      "needs_background": "light"
     },
     "output_type": "display_data"
    }
   ],
   "source": [
    "fig, axs = plt.subplots(1, 4 , figsize = (16, 4))\n",
    "for num, key in enumerate(fund_type_returns): \n",
    "    axs[num].hist(fund_type_returns[key], bins = 50)\n",
    "    axs[num].set_title(key)\n",
    "    axs[num].set_yticks([])"
   ]
  },
  {
   "cell_type": "markdown",
   "id": "0209ee3e",
   "metadata": {},
   "source": [
    "It is obvious that our variables are all normally distributed, which is a core assumption of ANOVA. "
   ]
  },
  {
   "cell_type": "markdown",
   "id": "af5deac4",
   "metadata": {},
   "source": [
    "## F-Statistic\n",
    "The distribution used for the hypothesis test is a new one. It is called the F distribution, named after Sir Ronald Fisher, an English statistician. The F-statistic is a ratio. There are two sets of degrees of freedom; one for the numerator and one for the denominator. \n",
    "\n",
    "The F distribution is derived from the t-distribution. The values of the F distribution are squares of the\n",
    "corresponding values of the t-distribution. One-Way ANOVA expands the t-test for comparing more than two groups.\n",
    "The scope of that derivation is beyond the level of this textbook. \n",
    "\n",
    "To calculate the F ratio, two estimates of the variance are made:\n",
    "\n",
    "1. **Variance between samples**: An estimate of $\\sigma^2$ that is the variance of the sample means multiplied by n (when the sample sizes are the same.). If the samples are different sizes, the variance between samples is weighted to account for the different sample sizes. The variance is also called **variation due to treatment or explained variation.**\n",
    "\n",
    "2. **Variance within samples**: An estimate of $\\sigma^2$ that is the average of the sample variances (also known as a pooled variance). When the sample sizes are different, the variance within samples is weighted. The variance is also called **the variation due to error or unexplained variation.**\n",
    "\n",
    "- $SS_b$ = the sum of squares that represents the variation among the different samples\n",
    "\n",
    "- $SS_w$ = the sum of squares that represents the variation within samples that is due to chance.\n",
    "\n",
    "To find a \"sum of squares\" means to add together squared quantities that, in some cases, may be weighted. We used sum of squares to calculate the sample variance and the sample standard deviation. \n",
    "\n",
    "MS means \"mean square.\" $MS_b$ is the variance between groups, and $MS_w$ is the variance within groups. These measurements are the total sum of squares of their variances divided by the degrees of freedomom of the measure to give a mean value. \n",
    "\n",
    "#### Caluculating the F-Statistic\n",
    "\n",
    "#### Counting Statistics\n",
    "In order to accurately calculate the _Mean sum of squares_ we need to have denominator to divide the _total sum of squares_ by. For the sum of squares between groups, this is one minus the number of groups, and for the sum of squares within groups, this is the total number of observations minus the number of groups.\n",
    "\n",
    "- $k$ = the number of different groups\n",
    "- $n_j$ = the size of the $j^{th}$ group\n",
    "- $N$ = total number of all the values combined (total sample size: $\\sum{n_j}$)\n",
    "- $df$'s for the numerator(between samples): $df_b = k – 1$\n",
    "- $df$'s for the denominator($df$'s within samples): $df_w = k – 1$ \n",
    "\n",
    "These counting measures can be packaged into one function and demonstrated with our mutual fund categories: "
   ]
  },
  {
   "cell_type": "code",
   "execution_count": 98,
   "id": "f50f0c64",
   "metadata": {},
   "outputs": [],
   "source": [
    "def get_anova_counts(*args):\n",
    "    k = len(args)\n",
    "    N = 0\n",
    "    for arg in args:\n",
    "        N += len(arg)\n",
    "    dfbn = k - 1\n",
    "    dfwn = N - k\n",
    "\n",
    "    return k, N, dfbn, dfwn"
   ]
  },
  {
   "cell_type": "code",
   "execution_count": 99,
   "id": "070f92f0",
   "metadata": {},
   "outputs": [
    {
     "data": {
      "text/plain": [
       "(4, 23029, 3, 23025)"
      ]
     },
     "execution_count": 99,
     "metadata": {},
     "output_type": "execute_result"
    }
   ],
   "source": [
    "get_anova_counts(fund_type_returns[\"Large Growth\"],\n",
    "                 fund_type_returns['Large Value'],\n",
    "                 fund_type_returns['Large Blend'],\n",
    "                 fund_type_returns['Mid-Cap Growth'])"
   ]
  },
  {
   "cell_type": "markdown",
   "id": "113de081",
   "metadata": {},
   "source": [
    "Our data has 4 groups with 23079 total observations. \n",
    "\n",
    "#### Sum of Squares Between Groups\n",
    "- Explained variation: sum of squares representing variation among the different samples:\n",
    "\n",
    "    - $SS_{b} = \\sum_{j = 1}^{k}{n_j(\\bar{x_j} - \\bar{x})^2}$\n",
    "    \n",
    "    \n",
    "This measures the _total_ variation between the samples. For each group passed, the mean of all values is subtracted from the mean of the group, and that value is squared, then multiplied by the size of each group, because the measure must be scaled to the size of the group to capture the total sum of squares. "
   ]
  },
  {
   "cell_type": "code",
   "execution_count": 100,
   "id": "4a643434",
   "metadata": {},
   "outputs": [],
   "source": [
    "def SSB(*args):\n",
    "    ssb = 0\n",
    "    alldata = np.concatenate(args)\n",
    "\n",
    "    grand_mean = np.mean(alldata)\n",
    "\n",
    "    for arg in args:\n",
    "        group_mean = np.mean(arg)\n",
    "\n",
    "        n = len(arg)\n",
    "        val = n * (group_mean - grand_mean)**2\n",
    "\n",
    "        ssb += val\n",
    "\n",
    "    return ssb"
   ]
  },
  {
   "cell_type": "code",
   "execution_count": 101,
   "id": "93f2e137",
   "metadata": {},
   "outputs": [
    {
     "data": {
      "text/plain": [
       "0.009954617918101715"
      ]
     },
     "execution_count": 101,
     "metadata": {},
     "output_type": "execute_result"
    }
   ],
   "source": [
    "SSB(fund_type_returns[\"Large Growth\"], fund_type_returns['Large Value'],\n",
    "    fund_type_returns['Large Blend'], fund_type_returns['Mid-Cap Growth'])"
   ]
  },
  {
   "cell_type": "markdown",
   "id": "7ef3b422",
   "metadata": {},
   "source": [
    "- Unexplained variation: sum of squares representing variation within samples:\n",
    "\n",
    "    - $SS_w = \\sum_{j = 1}^{k}{\\sum_{i = 1}^{n_j}{(x_i - \\bar{x_j})^2}}$\n",
    "    \n",
    "This measure adds up the squared difference between all observations in a group and that individual group's mean. This function will iterate once for each individual observation in the groups, much more than SSB which only iterates once for each group. "
   ]
  },
  {
   "cell_type": "code",
   "execution_count": 102,
   "id": "4e72a75d",
   "metadata": {},
   "outputs": [],
   "source": [
    "def SSW(*args):\n",
    "    ssw = 0\n",
    "    for arg in args: \n",
    "        group_mean = np.mean(arg)\n",
    "        val = 0 \n",
    "        for i in arg:\n",
    "            val += np.sum(i - group_mean)**2\n",
    "        ssw += val\n",
    "    return ssw"
   ]
  },
  {
   "cell_type": "code",
   "execution_count": 103,
   "id": "f7278d75",
   "metadata": {},
   "outputs": [
    {
     "data": {
      "text/plain": [
       "52.85505285021034"
      ]
     },
     "execution_count": 103,
     "metadata": {},
     "output_type": "execute_result"
    }
   ],
   "source": [
    "SSW(fund_type_returns[\"Large Growth\"],\n",
    "               fund_type_returns['Large Value'],\n",
    "               fund_type_returns['Large Blend'],\n",
    "               fund_type_returns['Mid-Cap Growth'])"
   ]
  },
  {
   "cell_type": "markdown",
   "id": "2c887527",
   "metadata": {},
   "source": [
    " - Total variation across the dataset: \n",
    "\n",
    "    - $SS_t = SS_b + SS_w$\n",
    "    \n",
    "This is a measure of the total sum of squares in the dataset. Simply an addition of SSB and SSW. "
   ]
  },
  {
   "cell_type": "code",
   "execution_count": 104,
   "id": "1b314f5a",
   "metadata": {},
   "outputs": [],
   "source": [
    "def get_sum_square_stats(*args): \n",
    "    ssw = SSW(*args)\n",
    "    ssb = SSB(*args)\n",
    "    sst = ssb + ssw\n",
    "    return ssw, ssb, sst"
   ]
  },
  {
   "cell_type": "code",
   "execution_count": 105,
   "id": "5c11acb4",
   "metadata": {},
   "outputs": [
    {
     "data": {
      "text/plain": [
       "(52.85505285021034, 0.009954617918101715, 52.86500746812845)"
      ]
     },
     "execution_count": 105,
     "metadata": {},
     "output_type": "execute_result"
    }
   ],
   "source": [
    "get_sum_square_stats(fund_type_returns[\"Large Growth\"],\n",
    "               fund_type_returns['Large Value'],\n",
    "               fund_type_returns['Large Blend'],\n",
    "               fund_type_returns['Mid-Cap Growth'])"
   ]
  },
  {
   "cell_type": "markdown",
   "id": "2fabe040",
   "metadata": {},
   "source": [
    "#### Mean Sum of Squares \n",
    "\n",
    "For the F-statistic and by extension the ANOVA test, the _mean_ sum of squares with and between of are greater interest than the total sum of squares. Dividing each total member by the appropriate degrees of freedom allows us to compare ratios, and determine the true observed difference in variance. \n",
    "\n",
    "- Mean square (variance estimate) explained by the different groups:\n",
    "$MS_b = \\frac{SS_b}{df_b} = \\frac{SS_b}{k-1}$\n",
    "- Mean square (variance estimate) that is due to chance (unexplained): $MS_w = \\frac{SS_w}{df_w} = \\frac{SS_w}{n - k}$\n",
    "\n",
    "The one-way ANOVA test depends on the fact that $MS_b$ can be influenced by population differences among means of the several groups. Since $MS_w$ compares values of each group to its own group mean, the fact that group means might\n",
    "be different does not affect $MS_w$. The null hypothesis says that all groups are samples from populations having the same normal distribution. The alternate\n",
    "hypothesis says that at least two of the sample groups come from populations with different normal distributions. If the null hypothesis is true, $MS_b$ and $MS_w$ should both estimate the same value. \n",
    "\n",
    "Finally, we arrive at the **F-Statistic**, which will function for us as the T-Statistic did earlier this chapter, as an input into one minus its cumulative density function to recieve a p-value telling us the likelihood of its occurence if our null hypothesis was true. \n",
    "\n",
    "- $ F = \\frac{MS_b}{MS_w}$\n",
    "\n",
    "With a density function:\n",
    "<h3 align=\"center\">\n",
    "    <font size=\"5\">\n",
    "        $ f(x, df_1, df_2) = \\frac{df_2^{df_2/2} df_1^{df_1/2} x^{df_1 / 2-1}}\n",
    "                        {(df_2+df_1 x)^{(df_1+df_2)/2}\n",
    "                         \\beta(df_1/2, df_2/2)}$\n",
    "    </font>\n",
    "    </h3> \n"
   ]
  },
  {
   "cell_type": "markdown",
   "id": "23b72b2d",
   "metadata": {},
   "source": [
    "\n",
    "where $df_1$ and $df_2$ are the\n",
    "shape parameters and\n",
    "$\\beta$ is the beta function.  The formula for the beta function\n",
    "is\n",
    "<ul>\n",
    "$B(a, b) = \\int_0^1 t^{a-1}(1-t)^{b-1}dt\n",
    "        = \\frac{\\Gamma(a)\\Gamma(b)}{\\Gamma(a+b)}$,\n",
    " \n",
    "<p>where <span class=\"math notranslate nohighlight\">\\(\\Gamma\\)</span> is the gamma function.</p>\n",
    "    \n",
    "These funtions could be implemented manually using basic math symbols, but for our purposes, importing them from Scipy will be much more pragmatic.\n",
    "    \n",
    "We create the last accessory function in our ANOVA analysis called _finish_anova_. This models the survival function of the F-distribution(1 - CDF), which returns the p-value in the same way the survival function of t-distribution gave us a p-value. "
   ]
  },
  {
   "cell_type": "code",
   "execution_count": 106,
   "id": "93309540",
   "metadata": {},
   "outputs": [],
   "source": [
    "from scipy.stats import f as f_dist\n",
    "def finish_anova(f, dfwn, dfbn): \n",
    "    # use scipy to plug f-value into f distribution to return p-value\n",
    "     p_value =  1 - f_dist.cdf(f, dfwn, dfbn)\n",
    "    \n",
    "     if p_value > .05:\n",
    "        return_string = \"F-value: \" + str(f) + \", P-value: \" + str(\n",
    "            p_value) + \", Fail to reject null hypothesis.\"\n",
    "     else:\n",
    "        return_string = \"F-value: \" + str(f) + \", P-value: \" + str(\n",
    "            round(p_value, 5)) + \", Reject null hypothesis.\"\n",
    "\n",
    "     return return_string"
   ]
  },
  {
   "cell_type": "markdown",
   "id": "3d1d8e64",
   "metadata": {},
   "source": [
    "The user-called funtion _anova_ will accept a variable number of arguments and perform an ANOVA test. We use the _get_anova_counts_ function, the _get_sum_square_stats_ function, and use the returned values to calculate MSB, MSW, and f. We then send it off to _finish_anova_ for our p-value and a packaged message displaying the result. "
   ]
  },
  {
   "cell_type": "code",
   "execution_count": 107,
   "id": "9337b967",
   "metadata": {},
   "outputs": [],
   "source": [
    "# use *args command to accept variable number of arguments\n",
    "def anova(*args):\n",
    "\n",
    "    k, N, dfbn, dfwn  = get_anova_counts(*args)\n",
    "    \n",
    "    ssw, ssb, sst = get_sum_square_stats(*args)\n",
    "\n",
    "    msb = ssb / dfbn\n",
    "    msw = ssw / dfwn\n",
    "    f = msb / msw\n",
    "\n",
    "    return finish_anova(f, dfbn, dfwn)"
   ]
  },
  {
   "cell_type": "markdown",
   "id": "06cb4774",
   "metadata": {},
   "source": [
    "Finally, we can test the hypothesis that fund category influences growth. "
   ]
  },
  {
   "cell_type": "code",
   "execution_count": 108,
   "id": "21b32b10",
   "metadata": {},
   "outputs": [
    {
     "data": {
      "text/plain": [
       "'F-value: 1.4454945819078224, P-value: 0.2273774269235469, Fail to reject null hypothesis.'"
      ]
     },
     "execution_count": 108,
     "metadata": {},
     "output_type": "execute_result"
    }
   ],
   "source": [
    "anova(fund_type_returns[\"Large Growth\"],\n",
    "      fund_type_returns['Large Value'],\n",
    "      fund_type_returns['Large Blend'],\n",
    "      fund_type_returns['Mid-Cap Growth'])"
   ]
  },
  {
   "cell_type": "markdown",
   "id": "8f9b892b",
   "metadata": {},
   "source": [
    "Compare to equivalent SciPy function: "
   ]
  },
  {
   "cell_type": "code",
   "execution_count": 109,
   "id": "22ad1c50",
   "metadata": {},
   "outputs": [
    {
     "data": {
      "text/plain": [
       "F_onewayResult(statistic=1.4454945819078189, pvalue=0.22737742692356472)"
      ]
     },
     "execution_count": 109,
     "metadata": {},
     "output_type": "execute_result"
    }
   ],
   "source": [
    "stats.f_oneway(fund_type_returns[\"Large Growth\"],\n",
    "               fund_type_returns['Large Value'],\n",
    "               fund_type_returns['Large Blend'],\n",
    "               fund_type_returns['Mid-Cap Growth'])"
   ]
  },
  {
   "cell_type": "markdown",
   "id": "48f87372",
   "metadata": {},
   "source": [
    "These results suggest that from 1980 to 2020, one type of fund perfomed significantly differently than th either funds. One issue with the ANOVA is that it does not tell us which fund that was. However, there are various post-hoc tests we can do to find the outlier.\n",
    "\n",
    "##  Multiple Comparisons Procedure \n",
    "\n",
    "The first would be just to print the means, and see which one is highest. There are several hazards we can run into here(i.e., don't know error bars) but it gives an idea as to which fund may have caused the significant result. "
   ]
  },
  {
   "cell_type": "code",
   "execution_count": 110,
   "id": "e4aa59b8",
   "metadata": {},
   "outputs": [
    {
     "name": "stdout",
     "output_type": "stream",
     "text": [
      "Large Growth mean: 0.008365247464866672\n",
      "Large Value mean: 0.0070251390423733805\n",
      "Large Blend mean: 0.00744147275402335\n",
      "Mid-Cap Growth mean: 0.009292539863041929\n"
     ]
    }
   ],
   "source": [
    "fund_types_list = [\"Large Growth\", \"Large Value\", \"Large Blend\", \"Mid-Cap Growth\"]\n",
    "for ftype in fund_types_list: \n",
    "    print(ftype+\" mean: \"+(str)(np.mean(fund_type_returns[ftype])))"
   ]
  },
  {
   "cell_type": "markdown",
   "id": "ddf0f089",
   "metadata": {},
   "source": [
    "Mid-Cap Growth had the highest group mean.\n",
    "\n",
    "### Bonferroni Correction\n",
    "A more robust test would be to run t-tests on each pair of groups to find which ones exhibit significant differences from each other. But we run into a problem if we use the same $\\alpha$ value of 0.05 for these tests, as the likelihood of having an erroneous conclusion increases quickly as we perform multiple tests. For instance, we have 4 groups of funds, and there are 6 unique pairs for which t-tests can be run. For this \"family\" of 6 comparisons, the familywise error rate becomes $(1 + 0.05)^6 - 1 = 0.34$. More generally, if there are $m$ comparisons perfomed with a confidence value of $1 - \\alpha$ per comparison, the familywise error rate is $1 - (1 - \\alpha)^m$. \n",
    "\n",
    "One way to solve this issue is to alter the per-comparison $\\alpha$ to be $\\frac{\\alpha}{m}$. This is known as the __Bonferroni Correction__. This makes the familywise error rate reflect the desired confidence level. \n",
    "\n",
    "First, we show results with no Bonferroni Correction: "
   ]
  },
  {
   "cell_type": "code",
   "execution_count": 111,
   "id": "70b5f1b2",
   "metadata": {},
   "outputs": [],
   "source": [
    "for ftype1 in fund_types_list: \n",
    "    for ftype2 in fund_types_list: \n",
    "        result = t_test(fund_type_returns[ftype1], fund_type_returns[ftype2], \"independent\")\n",
    "        scipy_result = stats.ttest_ind(fund_type_returns[ftype1], fund_type_returns[ftype2])\n",
    "        if(\"Reject\" in result):\n",
    "            print(\"\\nftype1: \" + ftype1 + \"\\nftype2: \" + ftype2 + \"\\n\" + result, scipy_result) "
   ]
  },
  {
   "cell_type": "markdown",
   "id": "09082805",
   "metadata": {},
   "source": [
    "As we can see, none of the p-values are below $0.05 / 6 = 0.0833$, and we conclude that no two fund types had statistically different returns with the new $\\alpha$, but there was a difference between the fund types in aggregate."
   ]
  }
 ],
 "metadata": {
  "kernelspec": {
   "display_name": "Python 3",
   "language": "python",
   "name": "python3"
  },
  "language_info": {
   "codemirror_mode": {
    "name": "ipython",
    "version": 3
   },
   "file_extension": ".py",
   "mimetype": "text/x-python",
   "name": "python",
   "nbconvert_exporter": "python",
   "pygments_lexer": "ipython3",
   "version": "3.8.8"
  }
 },
 "nbformat": 4,
 "nbformat_minor": 5
}
