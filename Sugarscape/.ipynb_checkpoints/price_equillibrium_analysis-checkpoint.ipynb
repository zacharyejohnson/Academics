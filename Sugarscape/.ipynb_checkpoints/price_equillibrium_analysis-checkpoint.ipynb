{
 "cells": [
  {
   "cell_type": "code",
   "execution_count": 15,
   "id": "818c9950",
   "metadata": {},
   "outputs": [],
   "source": [
    "import pandas as pd \n",
    "import numpy as np \n",
    "import os \n",
    "import seaborn as sb\n",
    "from matplotlib import pyplot as plt"
   ]
  },
  {
   "cell_type": "markdown",
   "id": "2ee3ae8b",
   "metadata": {},
   "source": [
    "#### This notebook is used to analyze sugarscape price equillibrium with different agent types"
   ]
  },
  {
   "cell_type": "code",
   "execution_count": 4,
   "id": "2dac20bc",
   "metadata": {},
   "outputs": [
    {
     "data": {
      "text/plain": [
       "['basic-arbitrageur', 'basic-optimizer-arbitrageur', 'optimizer-arbitrageur']"
      ]
     },
     "execution_count": 4,
     "metadata": {},
     "output_type": "execute_result"
    }
   ],
   "source": [
    "os.listdir(\"parquet\")"
   ]
  },
  {
   "cell_type": "markdown",
   "id": "e8dcadad",
   "metadata": {},
   "source": [
    "#### Replicate these variables from the GUI.py file. Could be called from this notebook but there would be too many print statements. Choose which variables to save in cols. "
   ]
  },
  {
   "cell_type": "code",
   "execution_count": 9,
   "id": "58b328b7",
   "metadata": {},
   "outputs": [],
   "source": [
    "model_attributes = [\"population\", \"total_exchanges\", \"total_agents_created\", \"total_avg_price\", \"runtime\", \"water_avg_price\", \"sugar_avg_price\", \"tech_eff_capital\",\n",
    "                      #\"num_basicherders\", \"num_arbitrageurherders\", \"num_basicbasics\", \"num_arbitrageurbasics\", \n",
    "                               \"bb_res_demand\", \"bh_res_demand\", \"ab_res_demand\", \"ah_res_demand\"]\n",
    "\n",
    "runs = 20\n",
    "\n",
    "cols = [\"population\", \"tech_eff_capital\", \"total_avg_price\", \"runtime\", \"water_avg_price\", \"sugar_avg_price\"]"
   ]
  },
  {
   "cell_type": "markdown",
   "id": "ecc19411",
   "metadata": {},
   "source": [
    "#### This code gets all of the run data for the selected cols"
   ]
  },
  {
   "cell_type": "code",
   "execution_count": 10,
   "id": "32179130",
   "metadata": {},
   "outputs": [],
   "source": [
    "breeds = os.listdir('parquet')\n",
    "data_by_breeds = {}\n",
    "for primary_breed_set in breeds:\n",
    "    data_by_breeds[primary_breed_set] = {}\n",
    "    for attr in cols: \n",
    "        data_by_breeds[primary_breed_set][attr] = {}\n",
    "        for run in range(runs): \n",
    "            data_by_breeds[primary_breed_set][attr][run] = pd.read_parquet(\"parquet/\" + primary_breed_set + \"/\" + attr + \"/\" + str(run) + \".parquet\")[attr]"
   ]
  },
  {
   "cell_type": "markdown",
   "id": "a0fa3c8f",
   "metadata": {},
   "source": [
    "#### This code pulls the final price - the equillibrium - from each run "
   ]
  },
  {
   "cell_type": "code",
   "execution_count": 11,
   "id": "56ddef74",
   "metadata": {},
   "outputs": [],
   "source": [
    "price_data = {}\n",
    "for breed_set in breeds: \n",
    "    price_data[breed_set] = []\n",
    "    for run in range(runs): \n",
    "        price_data[breed_set].append(data_by_breeds[breed_set][\"total_avg_price\"][run][len(data_by_breeds[breed_set][\"total_avg_price\"][run]) - 1])"
   ]
  },
  {
   "cell_type": "markdown",
   "id": "a1516a1d",
   "metadata": {},
   "source": [
    "#### This code gets the standard deviation of the price equillibriums by breed set"
   ]
  },
  {
   "cell_type": "code",
   "execution_count": 12,
   "id": "45a79fd0",
   "metadata": {},
   "outputs": [
    {
     "name": "stdout",
     "output_type": "stream",
     "text": [
      "basic-arbitrageur: 0.11259928719189366\n",
      "basic-optimizer-arbitrageur: 0.04395595126767214\n",
      "optimizer-arbitrageur: 0.003437493354462932\n"
     ]
    }
   ],
   "source": [
    "for breeds in price_data.keys(): \n",
    "    print(breeds + \": \" + str(np.std(price_data[breeds])))"
   ]
  },
  {
   "cell_type": "code",
   "execution_count": 32,
   "id": "76171af4",
   "metadata": {},
   "outputs": [
    {
     "data": {
      "image/png": "[encoded data removed]",
      "text/plain": [
       "<Figure size 1000x500 with 1 Axes>"
      ]
     },
     "metadata": {},
     "output_type": "display_data"
    }
   ],
   "source": [
    "fig, ax = plt.subplots(figsize = (10, 5))\n",
    "for breeds in price_data.keys(): \n",
    "    sb.histplot(price_data[breeds], ax=ax)\n",
    "    \n",
    "\n"
   ]
  },
  {
   "cell_type": "markdown",
   "id": "e06cfcc7",
   "metadata": {},
   "source": [
    "With current implementation, the spread in price equillibriums is significantly smaller with just optimizer agents."
   ]
  }
 ],
 "metadata": {
  "kernelspec": {
   "display_name": "Python 3 (ipykernel)",
   "language": "python",
   "name": "python3"
  },
  "language_info": {
   "codemirror_mode": {
    "name": "ipython",
    "version": 3
   },
   "file_extension": ".py",
   "mimetype": "text/x-python",
   "name": "python",
   "nbconvert_exporter": "python",
   "pygments_lexer": "ipython3",
   "version": "3.9.13"
  }
 },
 "nbformat": 4,
 "nbformat_minor": 5
}
